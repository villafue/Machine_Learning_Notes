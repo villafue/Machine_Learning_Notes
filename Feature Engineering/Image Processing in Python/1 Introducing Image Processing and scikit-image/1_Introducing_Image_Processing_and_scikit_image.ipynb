{
  "nbformat": 4,
  "nbformat_minor": 0,
  "metadata": {
    "colab": {
      "name": "1 Introducing Image Processing and scikit-image.ipynb",
      "provenance": [],
      "authorship_tag": "ABX9TyMvAdMr9UA+BOQcOshBJExe",
      "include_colab_link": true
    },
    "kernelspec": {
      "name": "python3",
      "display_name": "Python 3"
    }
  },
  "cells": [
    {
      "cell_type": "markdown",
      "metadata": {
        "id": "view-in-github",
        "colab_type": "text"
      },
      "source": [
        "<a href=\"https://colab.research.google.com/github/villafue/Machine_Learning_Notes/blob/master/Feature%20Engineering/Image%20Processing%20in%20Python/1%20Introducing%20Image%20Processing%20and%20scikit-image/1_Introducing_Image_Processing_and_scikit_image.ipynb\" target=\"_parent\"><img src=\"https://colab.research.google.com/assets/colab-badge.svg\" alt=\"Open In Colab\"/></a>"
      ]
    },
    {
      "cell_type": "markdown",
      "metadata": {
        "id": "rnnte3mblw3r"
      },
      "source": [
        "# Introducing Image Processing and scikit-image\r\n",
        "\r\n",
        "Jump into digital image structures and learn to process them! Extract data, transform and analyze images using NumPy and Scikit-image. With just a few lines of code, you will convert RGB images to grayscale, get data from them, obtain histograms containing very useful information, and separate objects from the background!"
      ]
    },
    {
      "cell_type": "code",
      "metadata": {
        "id": "ICpILOTHJWtr"
      },
      "source": [
        ""
      ],
      "execution_count": null,
      "outputs": []
    }
  ]
}