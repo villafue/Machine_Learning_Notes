{
  "nbformat": 4,
  "nbformat_minor": 0,
  "metadata": {
    "colab": {
      "name": "2 Dealing with Messy Data.ipynb",
      "provenance": [],
      "authorship_tag": "ABX9TyMM9Obw/PZZSZjRm4LJEq4s",
      "include_colab_link": true
    },
    "kernelspec": {
      "name": "python3",
      "display_name": "Python 3"
    }
  },
  "cells": [
    {
      "cell_type": "markdown",
      "metadata": {
        "id": "view-in-github",
        "colab_type": "text"
      },
      "source": [
        "<a href=\"https://colab.research.google.com/github/villafue/Machine_Learning_Notes/blob/master/Feature%20Engineering/Feature%20Engineering%20for%20Machine%20Learning%20in%20Python/2%20Dealing%20with%20Messy%20Data/2%20Dealing%20with%20Messy%20Data.ipynb\" target=\"_parent\"><img src=\"https://colab.research.google.com/assets/colab-badge.svg\" alt=\"Open In Colab\"/></a>"
      ]
    },
    {
      "cell_type": "markdown",
      "metadata": {
        "id": "8rbrxZR5FtVv"
      },
      "source": [
        "# Dealing with Messy Data\r\n",
        "\r\n",
        "This chapter introduces you to the reality of messy and incomplete data. You will learn how to find where your data has missing values and explore multiple approaches on how to deal with them. You will also use string manipulation techniques to deal with unwanted characters in your dataset."
      ]
    },
    {
      "cell_type": "markdown",
      "metadata": {
        "id": "yyx7BHVeFvRb"
      },
      "source": [
        "# 1. Why do missing values exist?\r\n",
        "\r\n",
        "In the first chapter, we looked at the different types of data one may find when analyzing data. In this lesson, we will explore the concept of messy and missing values, how to find them, and once identified, how to deal with them.\r\n",
        "\r\n",
        "2. How gaps in data occur\r\n",
        "While in an ideal world every data set you come across would be perfectly complete and contain no gaps, unfortunately, this is rarely the case. Real world data often has noise or omissions. This can stem from many sources, for example: Data not being collected properly (paper surveys not being filled out fully). Collection and management errors (someone transcribing the data making a mistake). Data intentionally being omitted (people may want to skip the age box in an online form). Or gaps could be created due to transformations of the data (average of a field with missing data). This list is far from comprehensive.\r\n",
        "\r\n",
        "3. Why we care?\r\n",
        "You may wonder why are we discussing this? Does missing data even matter? Yes, it does, and it is extremely important to identify and deal with missing data. Many machine learning models cannot work with missing values, for example if you were performing linear regression, you would need a value for every row and column used in your data set. Missing data may be indicative of a problem in your data pipeline. If data is consistently missing in a certain column, you should investigate as to why this is the case. Missing data may provide information in itself. For example, if the number of children of a person is missing they may have no children.\r\n",
        "\r\n",
        "4. Missing value discovery\r\n",
        "You can use the info() method to have a preliminary look at how complete the data set is. Right from the get go you can see that the StackOverflowJobsRecommend, Gender, and RawSalary columns are highly underpopulated and we should examine where these missing values occur. This list output is useful but becomes limited with larger datasets that have missing values scattered all over their features.\r\n",
        "\r\n",
        "5. Finding missing values\r\n",
        "To find where these missing values exist, you can use the isnull() method as shown here. All cells where missing values exist are shown as True.\r\n",
        "\r\n",
        "6. Finding missing values\r\n",
        "You can also count the number of missing values in a specific column by chaining the isnull() and sum() methods as shown here.\r\n",
        "\r\n",
        "7. Finding non-missing values\r\n",
        "The inverse (or the non missing values) can also be found using the notnull() method. Here, all missing values are shown as False. Note that you can call the isnull() and notnull() methods on both the DataFrame as a whole, and on each of it's individual columns.\r\n",
        "\r\n",
        "8. Go ahead and find missing values!\r\n",
        "It's time for you to find missing values in the Stackoverflow data!"
      ]
    },
    {
      "cell_type": "markdown",
      "metadata": {
        "id": "8VR13GTdFyGp"
      },
      "source": [
        "# How sparse is my data?\r\n",
        "\r\n",
        "Most data sets contain missing values, often represented as NaN (Not a Number). If you are working with Pandas you can easily check how many missing values exist in each column.\r\n",
        "\r\n",
        "Let's find out how many of the developers taking the survey chose to enter their age (found in the Age column of so_survey_df) and their gender (Gender column of so_survey_df).\r\n",
        "\r\n",
        "Instructions\r\n",
        "\r\n",
        "1. Subset the DataFrame to only include the 'Age' and 'Gender' columns.\r\n",
        "\r\n",
        "2. Print the number of non-missing values in both columns."
      ]
    },
    {
      "cell_type": "code",
      "metadata": {
        "id": "AknxYUwxFq4n"
      },
      "source": [
        ""
      ],
      "execution_count": null,
      "outputs": []
    },
    {
      "cell_type": "code",
      "metadata": {
        "id": "_EmZbU1xFs8j"
      },
      "source": [
        ""
      ],
      "execution_count": null,
      "outputs": []
    }
  ]
}