{
  "nbformat": 4,
  "nbformat_minor": 0,
  "metadata": {
    "colab": {
      "name": "4 Dealing with Text Data.ipynb",
      "provenance": [],
      "authorship_tag": "ABX9TyPiJ+Tx8cqlThs+7Yf56Af1",
      "include_colab_link": true
    },
    "kernelspec": {
      "name": "python3",
      "display_name": "Python 3"
    }
  },
  "cells": [
    {
      "cell_type": "markdown",
      "metadata": {
        "id": "view-in-github",
        "colab_type": "text"
      },
      "source": [
        "<a href=\"https://colab.research.google.com/github/villafue/Machine_Learning_Notes/blob/master/Feature%20Engineering/Feature%20Engineering%20for%20Machine%20Learning%20in%20Python/4%20Dealing%20with%20Text%20Data/4_Dealing_with_Text_Data.ipynb\" target=\"_parent\"><img src=\"https://colab.research.google.com/assets/colab-badge.svg\" alt=\"Open In Colab\"/></a>"
      ]
    },
    {
      "cell_type": "markdown",
      "metadata": {
        "id": "6Ee__mtOLlQj"
      },
      "source": [
        "# Dealing with Text Data\r\n",
        "\r\n",
        "Finally, in this chapter, you will work with unstructured text data, understanding ways in which you can engineer columnar features out of a text corpus. You will compare how different approaches may impact how much context is being extracted from a text, and how to balance the need for context, without too many features being created."
      ]
    },
    {
      "cell_type": "markdown",
      "metadata": {
        "id": "4dE_lpvkLq6c"
      },
      "source": [
        ""
      ]
    },
    {
      "cell_type": "code",
      "metadata": {
        "id": "6U1fzKBuLe-u"
      },
      "source": [
        ""
      ],
      "execution_count": null,
      "outputs": []
    }
  ]
}