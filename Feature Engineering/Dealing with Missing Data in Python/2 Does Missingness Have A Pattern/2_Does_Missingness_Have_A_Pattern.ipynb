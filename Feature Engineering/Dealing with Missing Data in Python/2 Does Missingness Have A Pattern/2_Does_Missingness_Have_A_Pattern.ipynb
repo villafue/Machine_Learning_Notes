{
  "nbformat": 4,
  "nbformat_minor": 0,
  "metadata": {
    "colab": {
      "name": "2 Does Missingness Have A Pattern.ipynb",
      "provenance": [],
      "authorship_tag": "ABX9TyMq+sNEGHkXLCCj6DEYtlfH",
      "include_colab_link": true
    },
    "kernelspec": {
      "name": "python3",
      "display_name": "Python 3"
    }
  },
  "cells": [
    {
      "cell_type": "markdown",
      "metadata": {
        "id": "view-in-github",
        "colab_type": "text"
      },
      "source": [
        "<a href=\"https://colab.research.google.com/github/villafue/Machine_Learning_Notes/blob/master/Feature%20Engineering/Dealing%20with%20Missing%20Data%20in%20Python/2%20Does%20Missingness%20Have%20A%20Pattern/2_Does_Missingness_Have_A_Pattern.ipynb\" target=\"_parent\"><img src=\"https://colab.research.google.com/assets/colab-badge.svg\" alt=\"Open In Colab\"/></a>"
      ]
    },
    {
      "cell_type": "markdown",
      "metadata": {
        "id": "D1YXDTtTpFT5"
      },
      "source": [
        "# Does Missingness Have A Pattern?\r\n",
        "\r\n",
        "Analyzing the type of missingness in your dataset is a very important step towards treating missing values. In this chapter, you'll learn in detail how to establish patterns in your missing and non-missing data, and how to appropriately treat the missingness using simple techniques such as listwise deletion."
      ]
    },
    {
      "cell_type": "markdown",
      "metadata": {
        "id": "xEby9DjjpE7K"
      },
      "source": [
        "# Is the data missing at random?\r\n",
        "\r\n",
        "1. Is the data missing at random?\r\n",
        "Welcome back to the course! Is data missing at random or does it have a pattern? Turns out missingness has a pattern, and often for a good reason! Let's explore some of the possible reasons for missing data.\r\n",
        "\r\n",
        "2. Possible reasons for missing data\r\n",
        "One of the obvious reasons is that data is simply missing at random. Now, the other reasons might be that the missingness is dependent on another variable. Or due to missingness of the same variables or other variables. These are a few of the reasons why data might be missing.\r\n",
        "\r\n",
        "3. Types of missingness\r\n",
        "You can group the missingness patterns into 3 broad categories. They are: Missing Completely at Random, Missing at Random, and Missing Not at Random. Identifying the missingness type helps narrow down the methodologies that you can use for treating missing data. Let's understand each one in detail with an example.\r\n",
        "\r\n",
        "4. Missing Completely at Random(MCAR)\r\n",
        "Missing completely at random. It implies that missingness has no relationship between any values observed or missing. What does this mean? Consider you have a class of students. There are a few students absent on any given day. The students are absent just randomly for their specific reasons. This is missing completely at random. Let's analyze the same with the diabetes data which contains the lab test observations of patients.\r\n",
        "\r\n",
        "5. MCAR - An example\r\n",
        "Plotting the missingness matrix plot, you can observe that the 'Glucose' column has values missing at random and does not have any correlation as no clear pattern exists. The correlation here implies the dependency of missing values on another variable present or absent. This is missing completely at random or MCAR. The column 'BMI' can also be categorized as MCAR since only a few values are missing even though they appear to be slightly correlated with 'Diastolic_BP'.\r\n",
        "\r\n",
        "6. Missing at Random(MAR)\r\n",
        "The next category is Missing at random. From the definition, \"there is a systematic relationship between missingness and other observed data but not the missing data\". Consider the attendance in a classroom of students during winter where many students are absent due to the bad weather. Although this might be at random, the hidden cause might be that students sitting closer might have contracted a fever. Missing at random means that there might exist a relationship with another variable. Here the attendance is slightly correlated to the season of the year. It's important here to note that missingness is dependent only on the observed values and not the missing values for MAR.\r\n",
        "\r\n",
        "7. MAR - An example\r\n",
        "From the missingness plot, find that there are many missing values in the column 'Diastolic_BP'. This is a typical case of MAR, as there might be a reason for missingness that cannot be directly observed.\r\n",
        "\r\n",
        "8. Missing not at Random(MNAR)\r\n",
        "Lastly, the case Missing Not at Random. From the definition, there is a relationship between missingness and its values. For instance, in our class of students, it is Sally's birthday. Sally and many of her friends are absent to attend her birthday party. This is not at all random as Sally and only her friends are absent.\r\n",
        "\r\n",
        "9. MNAR - An example\r\n",
        "In the missingness summary of diabetes data, there is a strong correlation between the missingness of 'Skin_Fold' and 'Serum_Insulin' which is easily interpretable by sorting the DataFrame on 'Skin_Fold'.\r\n",
        "\r\n",
        "10. Summary\r\n",
        "So, what have we learned so far? We have understood the possible reasons for missingness. You can categorize them into Missing Completely at Random, Missing at Random or Missing Not at Random. We explored how to detect missing value patterns by performing operations on the variables. Then visualizing them. We now know how to map and justify the missingness pattern.\r\n",
        "\r\n",
        "11. Let's practice!\r\n",
        "Now, let's practice!"
      ]
    },
    {
      "cell_type": "markdown",
      "metadata": {
        "id": "2Zj_vbfIteV9"
      },
      "source": [
        "# Guess the missingness type\r\n",
        "\r\n",
        "Analyzing the type of missingness helps you to deduce the best ways you can deal with missing data. The Pima Indians diabetes dataset is very popularly known for having missing data. Pima Indians is an ethnic group of people who are more prone to having diabetes. The dataset contains several lab tests conducted with members of this community.\r\n",
        "\r\n",
        "In the video lesson, you learned the 3 types of missingness patterns. In this exercise you'll first visualize the missingness summary and then identify the types of missingness the DataFrame contains.\r\n",
        "\r\n",
        "The DataFrame has already been loaded to you as diabetes.\r\n",
        "\r\n",
        "1. Note that we've used a proprietary display() function instead of plt.show() to make it easier for you to view the output."
      ]
    },
    {
      "cell_type": "code",
      "metadata": {
        "id": "fniPKkEOoe5A"
      },
      "source": [
        ""
      ],
      "execution_count": null,
      "outputs": []
    }
  ]
}