{
  "nbformat": 4,
  "nbformat_minor": 0,
  "metadata": {
    "colab": {
      "name": "4 Advanced Imputation Techniques.ipynb",
      "provenance": [],
      "authorship_tag": "ABX9TyO8Q6elw7hNrDn98UTif/nD",
      "include_colab_link": true
    },
    "kernelspec": {
      "name": "python3",
      "display_name": "Python 3"
    }
  },
  "cells": [
    {
      "cell_type": "markdown",
      "metadata": {
        "id": "view-in-github",
        "colab_type": "text"
      },
      "source": [
        "<a href=\"https://colab.research.google.com/github/villafue/Machine_Learning_Notes/blob/master/Feature%20Engineering/Dealing%20with%20Missing%20Data%20in%20Python/4%20Advanced%20Imputation%20Techniques/4_Advanced_Imputation_Techniques.ipynb\" target=\"_parent\"><img src=\"https://colab.research.google.com/assets/colab-badge.svg\" alt=\"Open In Colab\"/></a>"
      ]
    },
    {
      "cell_type": "markdown",
      "metadata": {
        "id": "Uw6yNFADjoww"
      },
      "source": [
        "# Advanced Imputation Techniques\r\n",
        "\r\n",
        "Finally, go beyond simple imputation techniques and make the most of your dataset by using advanced imputation techniques that rely on machine learning models, to be able to accurately impute and evaluate your missing data. You will be using methods such as KNN and MICE in order to get the most out of your missing data!\r\n"
      ]
    },
    {
      "cell_type": "markdown",
      "metadata": {
        "id": "UXiogqGLki7z"
      },
      "source": [
        "# Imputing using fancyimpute\r\n",
        "\r\n",
        "1. Imputing using fancyimpute\r\n",
        "Welcome back to the course. In the previous chapter, we discussed imputation techniques on a variety of data types. In this chapter, we will continue by learning advanced imputation techniques with the 'fancyimpute' package.\r\n",
        "\r\n",
        "2. fancyimpute package\r\n",
        "'fancyimpute' is a package containing several advanced imputation techniques that use machine learning algorithms to impute missing values. In the previous lessons, we used imputation techniques like mean, median and mode imputations or interpolation. In these techniques, only the respective column was utilized for computing and imputing missing values. In contrast, the advanced imputation techniques use other columns as well to predict the missing values and impute them. Think of it as fitting a machine learning model to predict the missing values in a column using the remaining columns.\r\n",
        "\r\n",
        "3. Fancyimpute imputation techniques\r\n",
        "In this lesson, we will learn two very important techniques, namely, KNN or K Nearest Neighbor imputation and MICE or Multiple Imputation by Chained Equations imputation.\r\n",
        "\r\n",
        "4. K-Nearest Neighbor Imputation\r\n",
        "The KNN imputation technique uses the K-Nearest Neighbor algorithm for predicting the missing values. The KNN algorithm finds the most similar data points using all the non-missing features for a data point and calculates the average of these similar points to fill the missing feature. Here, K specifies the number of similar or nearest points to consider.\r\n",
        "\r\n",
        "5. K-Nearest Neighbor Imputation\r\n",
        "Let's use the diabetes DataFrame to impute the missing values. We can import the 'KNN()' function from fancyimpute. As before, we first create a copy 'diabetes_knn' for imputing the diabetes DataFrame in order to compare later on. Next we use the 'knn_imputer' to impute the 'diabetes' DataFrame with the '.fit_transform()' method.\r\n",
        "\r\n",
        "6. Multiple Imputations by Chained Equations (MICE)\r\n",
        "The MICE imputation is a very robust and complex model for imputing missing values. It imputes using multiple regressions over the data and takes an average value for filling in the missing feature for a data point.\r\n",
        "\r\n",
        "7. Multiple Imputations by Chained Equations(MICE)\r\n",
        "The MICE function is called 'IterativeImputer' in the fancyimpute package as it performs multiple imputations on the data. We can impute the diabetes DataFrame as we did previously by creating a copy and then imputing.\r\n",
        "\r\n",
        "8. Summary\r\n",
        "In this lesson, we learned to use machine learning techniques for imputing with KNN and MICE techniques. While KNN finds most similar points to impute missing values, MICE performs multiple regressions on the data to impute. MICE is a very robust model for imputing missing values.\r\n",
        "\r\n",
        "9. Let's practice!\r\n",
        "It's now time for you to put these concepts to practice!"
      ]
    },
    {
      "cell_type": "markdown",
      "metadata": {
        "id": "fQLEOBkrk_tQ"
      },
      "source": [
        "# KNN imputation\r\n",
        "\r\n",
        "Datasets always have features which are correlated. Hence, it becomes important to consider them as a factor for imputing missing values. Machine learning models use features in the DataFrame to find correlations and patterns and predict a selected feature.\r\n",
        "\r\n",
        "One of the simplest and most efficient models is the K Nearest Neighbors. It finds 'K' points most similar to the existing data points to impute missing values.\r\n",
        "\r\n",
        "In this exercise, the diabetes DataFrame has already been loaded for you. Use the fancyimpute package to impute the missing values in the diabetes DataFrame.\r\n",
        "\r\n",
        "Instructions\r\n",
        "\r\n",
        "1. Import KNN from fancyimpute.\r\n",
        "\r\n",
        "2. Copy diabetes to diabetes_knn_imputed.\r\n",
        "\r\n",
        "3. Create a KNN() object and assign it to knn_imputer.\r\n",
        "\r\n",
        "4. Impute the diabetes_knn_imputed DataFrame."
      ]
    },
    {
      "cell_type": "code",
      "metadata": {
        "id": "aF97r2Cwjhkc"
      },
      "source": [
        "# Import KNN from fancyimpute\r\n",
        "from fancyimpute import KNN\r\n",
        "\r\n",
        "# Copy diabetes to diabetes_knn_imputed\r\n",
        "diabetes_knn_imputed = diabetes.copy(deep=True)\r\n",
        "\r\n",
        "# Initialize KNN\r\n",
        "knn_imputer = KNN()\r\n",
        "\r\n",
        "# Impute using fit_tranform on diabetes_knn_imputed\r\n",
        "diabetes_knn_imputed.iloc[:, :] = knn_imputer.fit_transform(diabetes_knn_imputed)\r\n",
        "'''\r\n",
        "<script.py> output:\r\n",
        "    Imputing row 1/768 with 1 missing, elapsed time: 0.136\r\n",
        "    Imputing row 101/768 with 2 missing, elapsed time: 0.140\r\n",
        "    Imputing row 201/768 with 1 missing, elapsed time: 0.143\r\n",
        "    Imputing row 301/768 with 3 missing, elapsed time: 0.147\r\n",
        "    Imputing row 401/768 with 2 missing, elapsed time: 0.149\r\n",
        "    Imputing row 501/768 with 0 missing, elapsed time: 0.152\r\n",
        "    Imputing row 601/768 with 1 missing, elapsed time: 0.154\r\n",
        "    Imputing row 701/768 with 0 missing, elapsed time: 0.157\r\n",
        "'''"
      ],
      "execution_count": null,
      "outputs": []
    },
    {
      "cell_type": "markdown",
      "metadata": {
        "id": "AGIJPOWKjn10"
      },
      "source": [
        "Conclusion\r\n",
        "\r\n",
        "Congratulations! Now you know how to impute missing values using KNN!"
      ]
    },
    {
      "cell_type": "markdown",
      "metadata": {
        "id": "yHyL3Wobn8zc"
      },
      "source": [
        "# MICE imputation\r\n",
        "\r\n",
        "The fancyimpute package offers various robust machine learning models for imputing missing values. You can explore the complete list of imputers from the detailed documentation. Here, we will use IterativeImputer or popularly called MICE for imputing missing values.\r\n",
        "\r\n",
        "The IterativeImputer performs multiple regressions on random samples of the data and aggregates for imputing the missing values. You will use the diabetes DataFrame for performing this imputation.\r\n",
        "\r\n",
        "Instructions\r\n",
        "\r\n",
        "1. Import IterativeImputer from fancyimpute.\r\n",
        "\r\n",
        "2. Copy diabetes to diabetes_mice_imputed.\r\n",
        "\r\n",
        "3. Create an IterativeImputer() object and assign it to mice_imputer.\r\n",
        "\r\n",
        "4. Impute the diabetes DataFrame."
      ]
    },
    {
      "cell_type": "code",
      "metadata": {
        "id": "Ea0iDJEBp_zN"
      },
      "source": [
        "# Import IterativeImputer from fancyimpute\r\n",
        "from fancyimpute import IterativeImputer\r\n",
        "\r\n",
        "# Copy diabetes to diabetes_mice_imputed\r\n",
        "diabetes_mice_imputed = diabetes.copy(deep=True)\r\n",
        "\r\n",
        "# Initialize IterativeImputer\r\n",
        "mice_imputer = IterativeImputer()\r\n",
        "\r\n",
        "# Impute using fit_tranform on diabetes\r\n",
        "diabetes_mice_imputed.iloc[:, :] = mice_imputer.fit_transform(diabetes)"
      ],
      "execution_count": null,
      "outputs": []
    },
    {
      "cell_type": "markdown",
      "metadata": {
        "id": "75pYomhWqA18"
      },
      "source": [
        "Conclusion\r\n",
        "\r\n",
        "Congratulations! You've learned the advanced techniques to impute missing values. At the end of this chapter, you'll learn to evaluate the accuracy of these imputation techniques!"
      ]
    },
    {
      "cell_type": "markdown",
      "metadata": {
        "id": "ML0AZ2jGqFxQ"
      },
      "source": [
        "# Imputing categorical values\r\n",
        "\r\n",
        "1. Imputing categorical values\r\n",
        "In the previous lessons, you have learned to impute missing values for numerical and time-series data. In this lesson, you will learn to impute Categorical data.\r\n",
        "\r\n",
        "2. Complexity with categorical values\r\n",
        "The complexity with categorical data is that they are usually strings. Hence, imputations cannot be applied on them. The categorical values must first be converted or encoded to numeric values and then imputed.\r\n",
        "\r\n",
        "3. Conversion techniques\r\n",
        "For converting the categories to numeric values, we need to encode the categories. We either opt for ordinal encoder or one-hot encoder. From the table, you can clearly observe that one-hot encoding creates a column for each category and values are 1 only for the respective category and the rest are 0. Ordinal encoding on the other hand, assigns a value to each category. While one-hot encoder is apter, we will use ordinal encoder for simplicity.\r\n",
        "\r\n",
        "4. Imputation techniques\r\n",
        "Next, the simplest way to impute is to simply fill in the most frequent value. We have already covered how to do this in the 2nd chapter. However, we want to have a more robust approach, so we will therefore use the KNN imputer from fancyimpute to impute the missing values. Let's perform the two operations - encoding and imputing with a dataset.\r\n",
        "\r\n",
        "5. Users profile data\r\n",
        "We will use a new dataset 'users', which contains the customer interests and preferences recorded by a restaurant. This dataset contains only categorical values.\r\n",
        "\r\n",
        "6. Ordinal Encoding\r\n",
        "In our first step, we will convert the categorical values to numerical values. We will import OrdinalEncoder from sklearn.preprocessing. The downside of this function is that it cannot handle NaNs. Therefore we need to skip the NaNs and then convert the categorical values. For this, we first select a column say 'ambience' from the DataFrame 'users' and select the non-null values. Next, we perform reshaping to (-1, 1) so that the column can be fit and transformed by the Ordinal encoder 'ambience_ord_enc'. Lastly, we replace the categorical values in the column 'ambience' to ordinal values in the 'users' DataFrame.\r\n",
        "\r\n",
        "7. Ordinal Encoding\r\n",
        "We can create a more generalized form for conversion by looping over the columns. Here, you must observe that we are also creating a unique encoder for each column and storing them using a dictionary 'ordinal_enc_dict'. This will help us to later convert them back to their respective categories.\r\n",
        "\r\n",
        "8. Imputing with KNN\r\n",
        "Our next step would be to impute the DataFrame users. For this we can create a copy users_KNN_imputed so that it can be used for comparison. We will use the KNN imputer from fancyimpute as before to fit and impute the data. Additionally, we also round the values as with 'np.round' as the imputed values need to be whole numbers and not decimal numbers. Our last step is to convert back the ordinal values to its labels using the method 'inverse_transform' with respective encoders and columns.\r\n",
        "\r\n",
        "9. Summary\r\n",
        "To summarize, the 3 steps in imputing missing categorical values include converting the non-missing categorical values to ordinal or numerical values, imputing the ordinal DataFrame and lastly converting back to categorical values.\r\n",
        "\r\n",
        "10. Let's practice!\r\n",
        "Now that you have followed the 3 steps to impute missing categorical values, its time for you to practice!"
      ]
    },
    {
      "cell_type": "markdown",
      "metadata": {
        "id": "OZ3anqpNqSv2"
      },
      "source": [
        "# Ordinal encoding of a categorical column\r\n",
        "\r\n",
        "Imputing categorical values involves a few additional steps over imputing numerical values. You need to first convert them to numerical values as statistical operations cannot be performed on strings.\r\n",
        "\r\n",
        "You will use the user profile dataset which contains customer preferences and choices recorded by a restaurant. It contains only categorical features. In this exercise, you will convert the categorical column 'ambience' to a numerical one using OrdinalEncoder from sklearn. The DataFrame has been loaded for you as users. The function OrdinalEncoder() has also been loaded.\r\n",
        "\r\n",
        "Instructions\r\n",
        "\r\n",
        "1. Create the ordinal encoder object and assign it to ambience_ord_enc.\r\n",
        "\r\n",
        "2. Select the non-missing values of the 'ambience' column in users.\r\n",
        "\r\n",
        "3. Reshape ambience_not_null to shape (-1, 1).\r\n",
        "\r\n",
        "4. Replace the non-missing values of ambience with its encoded values."
      ]
    },
    {
      "cell_type": "code",
      "metadata": {
        "id": "XRtcjzdYs_hj"
      },
      "source": [
        "# Create Ordinal encoder\r\n",
        "ambience_ord_enc = OrdinalEncoder()\r\n",
        "\r\n",
        "# Select non-null values of ambience column in users\r\n",
        "ambience = users['ambience']\r\n",
        "ambience_not_null = ambience[ambience.notnull()]\r\n",
        "\r\n",
        "# Reshape ambience_not_null to shape (-1, 1)\r\n",
        "reshaped_vals = ambience_not_null.values.reshape(-1, 1)\r\n",
        "\r\n",
        "# Ordinally encode reshaped_vals\r\n",
        "encoded_vals = ambience_ord_enc.fit_transform(reshaped_vals)\r\n",
        "\r\n",
        "# Assign back encoded values to non-null values of ambience in users\r\n",
        "users.loc[ambience.notnull(), 'ambience'] = np.squeeze(encoded_vals)\r\n",
        "\r\n",
        "'''\r\n",
        "Conclusion: Ace! Now you know how to impute categorical values!\r\n",
        "'''"
      ],
      "execution_count": null,
      "outputs": []
    },
    {
      "cell_type": "markdown",
      "metadata": {
        "id": "mynse8ewtGRH"
      },
      "source": [
        "# Ordinal encoding of a DataFrame\r\n",
        "\r\n",
        "Categorical features can be encoded using two techniques namely, one-hot encoding and ordinal encoding. In one-hot encoding, each category becomes a column and the respective category column for each row is 1 and the others 0. In ordinal encoding, the categories are mapped to integer values starting from 0 to number of categories.\r\n",
        "\r\n",
        "In this exercise, you will loop over all the columns in the users DataFrame to ordinally encode the categories. You will also store an encoder for each column in a dictionary ordinal_enc_dict so that the encoded columns can be converted back to the original categories.\r\n",
        "\r\n",
        "Instructions\r\n",
        "\r\n",
        "1. Define an empty dictionary ordinal_enc_dict.\r\n",
        "\r\n",
        "2. Create an Ordinal Encoder object for each column.\r\n",
        "\r\n",
        "3. Select non-null values of column in users and encode them.\r\n",
        "\r\n",
        "4. Assign back the encoded values to non-null values of each column (col_name) in users."
      ]
    },
    {
      "cell_type": "code",
      "metadata": {
        "id": "N6pipLCAvCs5"
      },
      "source": [
        "# Create an empty dictionary ordinal_enc_dict\r\n",
        "ordinal_enc_dict = {}\r\n",
        "\r\n",
        "for col_name in users:\r\n",
        "    # Create Ordinal encoder for col\r\n",
        "    ordinal_enc_dict[col_name] = OrdinalEncoder()\r\n",
        "    col = users[col_name]\r\n",
        "    \r\n",
        "    # Select non-null values of col\r\n",
        "    col_not_null = col[col.notnull()]\r\n",
        "    reshaped_vals = col_not_null.values.reshape(-1, 1)\r\n",
        "    encoded_vals = ordinal_enc_dict[col_name].fit_transform(reshaped_vals)\r\n",
        "    \r\n",
        "    # Store the values to non-null values of the column in users\r\n",
        "    users.loc[col.notnull(), col_name] = np.squeeze(encoded_vals)"
      ],
      "execution_count": null,
      "outputs": []
    },
    {
      "cell_type": "markdown",
      "metadata": {
        "id": "cB1qMOX2vE24"
      },
      "source": [
        "Conclusion\r\n",
        "\r\n",
        "Awesome! Using this for loop, you're now able to automate encoding all categorical columns in the DataFrame!"
      ]
    },
    {
      "cell_type": "markdown",
      "metadata": {
        "id": "pgrkZ7_2vKaA"
      },
      "source": [
        "# KNN imputation of categorical values\r\n",
        "\r\n",
        "Once all the categorical columns in the DataFrame have been converted to ordinal values, the DataFrame can be imputed. Imputing using statistical models like K-Nearest Neighbors provides better imputations.\r\n",
        "\r\n",
        "In this exercise, you'll use the KNN() function from fancyimpute to impute the missing values. Lastly, you will also convert the ordinal values back to their respective categories using the ordinal encoder's .inverse_transform() method. Remember, each column's encoder object is present in the ordinal_enc_dict dictionary. The KNN() function and the ordinally encoded DataFrame users has already been imported for you.\r\n",
        "\r\n",
        "Instructions\r\n",
        "\r\n",
        "1. Initialize the KNN() imputer.\r\n",
        "\r\n",
        "2. Impute the users DataFrame and round the results.\r\n",
        "\r\n",
        "3. Iterate over columns in users and perform .inverse_tranform() on the ordinally encoded columns."
      ]
    },
    {
      "cell_type": "code",
      "metadata": {
        "id": "9P9XbKvPxdJP"
      },
      "source": [
        "# Create KNN imputer\r\n",
        "KNN_imputer = KNN()\r\n",
        "\r\n",
        "# Impute and round the users DataFrame\r\n",
        "users.iloc[:, :] = np.round(KNN_imputer.fit_transform(users))\r\n",
        "\r\n",
        "# Loop over the column names in users\r\n",
        "for col_name in users:\r\n",
        "    \r\n",
        "    # Reshape the data\r\n",
        "    reshaped = users[col_name].values.reshape(-1, 1)\r\n",
        "    \r\n",
        "    # Perform inverse transform of the ordinally encoded columns\r\n",
        "    users[col_name] = ordinal_enc_dict[col_name].inverse_transform(reshaped)\r\n",
        "\r\n",
        "'''\r\n",
        "<script.py> output:\r\n",
        "    Imputing row 1/138 with 0 missing, elapsed time: 0.005\r\n",
        "    Imputing row 101/138 with 0 missing, elapsed time: 0.006\r\n",
        "'''"
      ],
      "execution_count": null,
      "outputs": []
    },
    {
      "cell_type": "markdown",
      "metadata": {
        "id": "Oruy_K9pxnhn"
      },
      "source": [
        "Conclusion\r\n",
        "\r\n",
        "Yeah! You're now able to convert categorical values to numerical ones, impute them using machine learning, and then re-convert them to categorical ones!"
      ]
    },
    {
      "cell_type": "markdown",
      "metadata": {
        "id": "W29OQFtvxt-D"
      },
      "source": [
        "# Evaluation of different imputation techniques\r\n",
        "\r\n",
        "1. Evaluation of different imputation techniques\r\n",
        "Welcome to the last lesson of the course! In data science, we usually impute missing data in order to improve model performance and decrease bias.\r\n",
        "\r\n",
        "2. Evaluation techniques\r\n",
        "A good way to measure the quality of imputations is to look at how a machine learning model performs against each imputation. In this lesson, we will use a simple linear regression on the various imputations we had done earlier. Another way to analyze the performance of different imputations is to observe their density plots and see which one most resembles the shape of the original data.\r\n",
        "\r\n",
        "3. Fit a linear model for statistical summary\r\n",
        "To perform linear regression, we will use the statsmodels package as it produces various statistical summaries. We will use the 'diabetes' DataFrame for comparing imputations. We can first create the complete case 'diabetes_cc' by dropping the rows with missing values. This will be the baseline model to compare against other imputations. We set 'X = sm.add_constant()' to add a constant or in other words intercept to the input diabetes_cc.iloc[:, :-1] which excludes the target column 'Class'. Next we define the target variable y as diabetes_cc['Class'] and use 'sm.OLS()' on y and X values. We apply the '.fit()' method to train the linear model.\r\n",
        "\r\n",
        "4. Statistical summary\r\n",
        "A detailed summary of the trained model can be obtained using 'lm.summary()'. The adjusted R-squared and the coefficients in specific can be used to evaluate the model performance.\r\n",
        "\r\n",
        "5. R-squared and Coefficients\r\n",
        "While the R-squared measures the accuracy of the machine learning model, the coefficients explain the weights of different features in the data. The higher the R-squared the better the model. We can get the R-Squared and coefficients of the model with the attributes 'lm.rsquared_adj' and 'lm.params' respectively.\r\n",
        "\r\n",
        "6. Fit linear model on different imputed DataFrames\r\n",
        "Similarly we repeat the steps for the other imputed DataFrames namely, diabetes_mean_imputed, diabetes_knn_imputed and diabetes_mice_imputed and compare each of their R-squares and coefficients. We add a constant as before to define the input X. y remains the same for all the imputations and hence defined only once. We fit each of the imputations diabetes_mean_imputed, diabetes_knn_imputed and diabetes_mice_imputed to the linear models lm_mean, lm_KNN and lm_MICE respectively.\r\n",
        "\r\n",
        "7. Comparing R-squared of different imputations\r\n",
        "We can compare all the R-squares by creating a temporary DataFrame for cleanly printing the R-squared values of each of the imputed DataFrame as well as the complete case. We will define each column as one imputation, that is \"Complete\", \"Mean Imp.\", \"KNN Imp.\" and \"MICE Imp.\". You will observe that mean imputation has the least R-squared as it imputes the same mean value throughout a column. The complete case has the highest R-squared as half the rows with missing values have been dropped for fitting the linear model.\r\n",
        "\r\n",
        "8. Comparing coefficients of different imputations\r\n",
        "We can similarly compare the coefficients of each of the imputations using the '.params' attribute. The columns Glucose, Diastolic_BP, Skin_Fold, Serum_Insulin and BMI show that the imputed values add more weight to reinforce these features in the imputations.\r\n",
        "\r\n",
        "9. Comparing density plots\r\n",
        "We can compare the density plots of the imputations to check which imputation most resembles the original dataset and does not introduce a bias. To do this, we can use the '.plot()' method on the 'Skin_Fold' column and set 'kind' equal to 'kde'.\r\n",
        "\r\n",
        "10. Comparing density plots\r\n",
        "You will observe that the mean imputation is completely out of shape as compared to the other imputations. The KNN and MICE imputations are much more identical to the base DataFrame with the peak of MICE imputation being slightly shifted!\r\n",
        "\r\n",
        "11. Summary\r\n",
        "In this chapter, you learned to apply a linear model from statsmodels package and compare the prediction results of the imputed DataFrames. You lastly learned to graphically compare their density plots.\r\n",
        "\r\n",
        "12. Let's practice!\r\n",
        "Now let's practice!"
      ]
    },
    {
      "cell_type": "markdown",
      "metadata": {
        "id": "EeMRB3Xk1SOe"
      },
      "source": [
        "# Analyze the summary of linear model\r\n",
        "\r\n",
        "Analyzing the performance of the different imputed models is one of the most significant tasks in dealing with missing data. It determines, the type of imputed DataFrame you can rely upon. For analysis, you can fit a linear regression model on the imputed DataFrame and check for various parameters that impact the selection of the imputation type.\r\n",
        "\r\n",
        "In this exercise, you have already been loaded with the DataFrame diabetes_cc which is the complete case of diabetes DataFrame. The complete case acts as a base for comparison against other imputed DataFrames. You will use the package statsmodels.api loaded as sm for creating a linear regression model and generating summaries.\r\n",
        "\r\n",
        "Instructions\r\n",
        "\r\n",
        "1.  Set all features in the DataFrame diabetes_cc as X by adding a constant, while excluding and setting the 'Class' column as y.\r\n",
        "\r\n",
        "2. Print the summary of the linear model lm.\r\n",
        "\r\n",
        "3. Print the adjusted R-squared score of linear model lm.\r\n",
        "\r\n",
        "4. Print the .params of the linear model."
      ]
    },
    {
      "cell_type": "code",
      "metadata": {
        "id": "l4hTJu6S2Ij1"
      },
      "source": [
        "# Add constant to X and set X & y values to fit linear model\r\n",
        "X = sm.add_constant(diabetes_cc.iloc[:, :-1])\r\n",
        "y = diabetes_cc['Class']\r\n",
        "lm = sm.OLS(y, X).fit()\r\n",
        "\r\n",
        "# Print summary of lm\r\n",
        "print('\\nSummary: ', lm.summary())\r\n",
        "\r\n",
        "# Print R squared score of lm\r\n",
        "print('\\nAdjusted R-squared score: ', lm.rsquared_adj)\r\n",
        "\r\n",
        "# Print the params of lm\r\n",
        "print('\\nCoefficcients:\\n', lm.params)\r\n",
        "'''\r\n",
        "<script.py> output:\r\n",
        "    \r\n",
        "    Summary:                              OLS Regression Results                            \r\n",
        "    ==============================================================================\r\n",
        "    Dep. Variable:                  Class   R-squared:                       0.346\r\n",
        "    Model:                            OLS   Adj. R-squared:                  0.332\r\n",
        "    Method:                 Least Squares   F-statistic:                     25.30\r\n",
        "    Date:                Sun, 20 Dec 2020   Prob (F-statistic):           2.65e-31\r\n",
        "    Time:                        01:51:42   Log-Likelihood:                -177.76\r\n",
        "    No. Observations:                 392   AIC:                             373.5\r\n",
        "    Df Residuals:                     383   BIC:                             409.3\r\n",
        "    Df Model:                           8                                         \r\n",
        "    Covariance Type:            nonrobust                                         \r\n",
        "    =====================================================================================\r\n",
        "                            coef    std err          t      P>|t|      [0.025      0.975]\r\n",
        "    -------------------------------------------------------------------------------------\r\n",
        "    const                -1.1027      0.144     -7.681      0.000      -1.385      -0.820\r\n",
        "    Pregnant              0.0130      0.008      1.549      0.122      -0.003       0.029\r\n",
        "    Glucose               0.0064      0.001      7.855      0.000       0.005       0.008\r\n",
        "    Diastolic_BP       5.465e-05      0.002      0.032      0.975      -0.003       0.003\r\n",
        "    Skin_Fold             0.0017      0.003      0.665      0.506      -0.003       0.007\r\n",
        "    Serum_Insulin        -0.0001      0.000     -0.603      0.547      -0.001       0.000\r\n",
        "    BMI                   0.0093      0.004      2.391      0.017       0.002       0.017\r\n",
        "    Diabetes_Pedigree     0.1572      0.058      2.708      0.007       0.043       0.271\r\n",
        "    Age                   0.0059      0.003      2.109      0.036       0.000       0.011\r\n",
        "    ==============================================================================\r\n",
        "    Omnibus:                        9.511   Durbin-Watson:                   1.920\r\n",
        "    Prob(Omnibus):                  0.009   Jarque-Bera (JB):                9.387\r\n",
        "    Skew:                           0.344   Prob(JB):                      0.00916\r\n",
        "    Kurtosis:                       2.682   Cond. No.                     1.77e+03\r\n",
        "    ==============================================================================\r\n",
        "    \r\n",
        "    Warnings:\r\n",
        "    [1] Standard Errors assume that the covariance matrix of the errors is correctly specified.\r\n",
        "    [2] The condition number is large, 1.77e+03. This might indicate that there are\r\n",
        "    strong multicollinearity or other numerical problems.\r\n",
        "    \r\n",
        "    Adjusted R-squared score:  0.33210805003287613\r\n",
        "    \r\n",
        "    Coefficcients:\r\n",
        "     const               -1.102677\r\n",
        "    Pregnant             0.012953\r\n",
        "    Glucose              0.006409\r\n",
        "    Diastolic_BP         0.000055\r\n",
        "    Skin_Fold            0.001678\r\n",
        "    Serum_Insulin       -0.000123\r\n",
        "    BMI                  0.009325\r\n",
        "    Diabetes_Pedigree    0.157192\r\n",
        "    Age                  0.005878\r\n",
        "    dtype: float64\r\n",
        "'''"
      ],
      "execution_count": null,
      "outputs": []
    },
    {
      "cell_type": "markdown",
      "metadata": {
        "id": "fqJDJYPq2RTU"
      },
      "source": [
        "Conclusion\r\n",
        "\r\n",
        "Great job! You have taken your initial steps in analyzing the imputations!"
      ]
    },
    {
      "cell_type": "markdown",
      "metadata": {
        "id": "KbRnJs6n2Wz-"
      },
      "source": [
        "# Comparing R-squared and coefficients\r\n",
        "\r\n",
        "During the analysis of imputed DataFrames on a linear model, the R-squared score which explains the accuracy and the coefficients which explains the model itself can act as some of the important characteristics to check for the quality of imputation.\r\n",
        "\r\n",
        "In this exercise, you will compare the adjusted R-squared and the coefficients of the linear regressions belonging to the mean, KNN and MICE imputed DataFrames against the baseline linear model diabetes_cc respectively. Their linear models have already been loaded for you as lm, lm_mean, lm_KNN and lm_MICE for making the comparisons.\r\n",
        "\r\n",
        "Instructions\r\n",
        "\r\n",
        "1. Create the r_squared DataFrame by mapping each model's adjusted R-squared to the imputation name.\r\n",
        "\r\n",
        "2. Create the coeff DataFrame by mapping each model's coefficients to the imputation name.\r\n",
        "\r\n",
        "3. Select the best imputation based on the R-squared score."
      ]
    },
    {
      "cell_type": "code",
      "metadata": {
        "id": "aDaRXwv-3EVX"
      },
      "source": [
        "# Store the Adj. R-squared scores of the linear models\r\n",
        "r_squared = pd.DataFrame({'Complete Case': lm.rsquared_adj, \r\n",
        "                          'Mean Imputation': lm_mean.rsquared_adj, \r\n",
        "                          'KNN Imputation': lm_KNN.rsquared_adj, \r\n",
        "                          'MICE Imputation': lm_MICE.rsquared_adj}, \r\n",
        "                         index=['Adj. R-squared'])\r\n",
        "\r\n",
        "print(r_squared)\r\n",
        "'''\r\n",
        "               Complete Case  Mean Imputation  KNN Imputation  MICE Imputation\r\n",
        "Adj. R-squared       0.332108         0.313781        0.316543         0.317679\r\n",
        "'''\r\n",
        "\r\n",
        "# Store the coefficients of the linear models\r\n",
        "coeff = pd.DataFrame({'Complete Case': lm.params, \r\n",
        "                          'Mean Imputation': lm_mean.params, \r\n",
        "                          'KNN Imputation': lm_KNN.params, \r\n",
        "                          'MICE Imputation': lm_MICE.params})\r\n",
        "\r\n",
        "print(coeff)\r\n",
        "'''\r\n",
        "                    Complete Case  Mean Imputation  KNN Imputation  MICE Imputation\r\n",
        "const                  -1.102677        -1.024005       -1.028035        -1.050023\r\n",
        "Pregnant                0.012953         0.020693        0.020047         0.020295\r\n",
        "Glucose                 0.006409         0.006467        0.006614         0.006871\r\n",
        "Diastolic_BP            0.000055        -0.001137       -0.001196        -0.001317\r\n",
        "Skin_Fold               0.001678         0.000193        0.001626         0.000807\r\n",
        "Serum_Insulin          -0.000123        -0.000090       -0.000147        -0.000227\r\n",
        "BMI                     0.009325         0.014376        0.013239         0.014203\r\n",
        "Diabetes_Pedigree       0.157192         0.129282        0.128038         0.129056\r\n",
        "Age                     0.005878         0.002092        0.002046         0.002097\r\n",
        "'''\r\n",
        "\r\n",
        "r_squares = {'Mean Imputation': lm_mean.rsquared_adj, \r\n",
        "             'KNN Imputation': lm_KNN.rsquared_adj, \r\n",
        "             'MICE Imputation': lm_MICE.rsquared_adj}\r\n",
        "\r\n",
        "# Select best R-squared\r\n",
        "best_imputation = max(r_squares, key=r_squares.get)\r\n",
        "\r\n",
        "print(\"The best imputation technique is: \", best_imputation)\r\n",
        "'''\r\n",
        "<script.py> output:\r\n",
        "    The best imputation technique is:  MICE Imputation\r\n",
        "'''"
      ],
      "execution_count": null,
      "outputs": []
    },
    {
      "cell_type": "markdown",
      "metadata": {
        "id": "mmmSY-Y64hVa"
      },
      "source": [
        "Conclusion\r\n",
        "\r\n",
        "Congratulations! You have performed a numerical analysis of the linear models of different imputations. You will next perform graphical analysis of the linear models!"
      ]
    },
    {
      "cell_type": "markdown",
      "metadata": {
        "id": "zlgTDx_g4oGQ"
      },
      "source": [
        "# Comparing density plots\r\n",
        "\r\n",
        "The different imputations that you have performed earlier can be graphically compared with their density plots to realize which dataset has the most similar distribution compared to the original dataset. You will also be able to interpret which dataset has a biased imputation.\r\n",
        "\r\n",
        "The DataFrames diabetes_cc, diabetes_mean_imputed, diabetes_knn_imputed and diabetes_mice_imputed have already been loaded for you to use along with matplotlib.pyplot as plt.\r\n",
        "\r\n",
        "Instructions\r\n",
        "\r\n",
        "1. Plot a density plot for the 'Skin_Fold' column for each DataFrame.\r\n",
        "\r\n",
        "2. Set the labels using the labels list.\r\n",
        "\r\n",
        "3. Set the label for the x-axis to 'Skin Fold'."
      ]
    },
    {
      "cell_type": "code",
      "metadata": {
        "id": "hgDfHObi5Qlo"
      },
      "source": [
        "# Plot graphs of imputed DataFrames and the complete case\r\n",
        "diabetes_cc['Skin_Fold'].plot(kind='kde', c='red', linewidth=3)\r\n",
        "diabetes_mean_imputed['Skin_Fold'].plot(kind='kde')\r\n",
        "diabetes_knn_imputed['Skin_Fold'].plot(kind='kde')\r\n",
        "diabetes_mice_imputed['Skin_Fold'].plot(kind='kde')\r\n",
        "\r\n",
        "# Create labels for the four DataFrames\r\n",
        "labels = ['Baseline (Complete Case)', 'Mean Imputation', 'KNN Imputation', 'MICE Imputation']\r\n",
        "plt.legend(labels)\r\n",
        "\r\n",
        "# Set the x-label as Skin Fold\r\n",
        "plt.xlabel('Skin Fold')\r\n",
        "\r\n",
        "plt.show()"
      ],
      "execution_count": null,
      "outputs": []
    },
    {
      "cell_type": "markdown",
      "metadata": {
        "id": "ZIvSC_QC5RqM"
      },
      "source": [
        "![image.png](data:image/png;base64,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)"
      ]
    },
    {
      "cell_type": "markdown",
      "metadata": {
        "id": "ql3n35-x5TjX"
      },
      "source": [
        "Conclusion\r\n",
        "\r\n",
        "Congratuations! You have now mastered the art of dealing with missing data!"
      ]
    },
    {
      "cell_type": "markdown",
      "metadata": {
        "id": "NbLXQoio5ZQN"
      },
      "source": [
        "# Conclusion\r\n",
        "\r\n",
        "1. Conclusion\r\n",
        "Congratulations! You have successfully completed the course. Let's have a small recap of what we learned in this course over the four chapters.\r\n",
        "\r\n",
        "2. Chapter 1\r\n",
        "We learned what are null values, detecting and replacing them with NaNs and analyzing the amount of missing data in the first chapter.\r\n",
        "\r\n",
        "3. Chapter 2\r\n",
        "We next went on to analyze the types of missingness in our data which can be either of MCAR, MAR or MNAR. We analyzed the correlations of missingness using heat maps and dendrograms. Likewise, we also visualized and learned how the missingness can vary against another variable. Lastly, in the second chapter we learned when and how to delete data.\r\n",
        "\r\n",
        "4. Chapter 3\r\n",
        "In the third chapter, we started by working with simple imputations techniques like filling in mean, median, mode or constant. We then explored how to treat missing values in time-series datasets and also graphically evaluated them.\r\n",
        "\r\n",
        "5. Chapter 4\r\n",
        "Finally in chapter 4, we were introduced to the advanced imputations techniques which use machine learning models like the KNN and MICE models. We also saw how we can impute categorical data. And we finished off by evaluating all the different imputations. With this you have acquainted yourself on how to efficiently deal with missing values!!\r\n",
        "\r\n",
        "6. Congratulations!!\r\n",
        "Congratulations and all the best!!"
      ]
    }
  ]
}