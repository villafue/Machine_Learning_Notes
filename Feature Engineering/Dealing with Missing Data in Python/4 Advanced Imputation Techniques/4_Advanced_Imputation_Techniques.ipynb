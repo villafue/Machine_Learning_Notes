{
  "nbformat": 4,
  "nbformat_minor": 0,
  "metadata": {
    "colab": {
      "name": "4 Advanced Imputation Techniques.ipynb",
      "provenance": [],
      "authorship_tag": "ABX9TyM/HlfHigLYhLmpJP1Rn6+3",
      "include_colab_link": true
    },
    "kernelspec": {
      "name": "python3",
      "display_name": "Python 3"
    }
  },
  "cells": [
    {
      "cell_type": "markdown",
      "metadata": {
        "id": "view-in-github",
        "colab_type": "text"
      },
      "source": [
        "<a href=\"https://colab.research.google.com/github/villafue/Machine_Learning_Notes/blob/master/Feature%20Engineering/Dealing%20with%20Missing%20Data%20in%20Python/4%20Advanced%20Imputation%20Techniques/4_Advanced_Imputation_Techniques.ipynb\" target=\"_parent\"><img src=\"https://colab.research.google.com/assets/colab-badge.svg\" alt=\"Open In Colab\"/></a>"
      ]
    },
    {
      "cell_type": "markdown",
      "metadata": {
        "id": "Uw6yNFADjoww"
      },
      "source": [
        "# Advanced Imputation Techniques\r\n",
        "\r\n",
        "Finally, go beyond simple imputation techniques and make the most of your dataset by using advanced imputation techniques that rely on machine learning models, to be able to accurately impute and evaluate your missing data. You will be using methods such as KNN and MICE in order to get the most out of your missing data!\r\n"
      ]
    },
    {
      "cell_type": "code",
      "metadata": {
        "id": "aF97r2Cwjhkc"
      },
      "source": [
        ""
      ],
      "execution_count": null,
      "outputs": []
    },
    {
      "cell_type": "markdown",
      "metadata": {
        "id": "AGIJPOWKjn10"
      },
      "source": [
        ""
      ]
    }
  ]
}