{
  "nbformat": 4,
  "nbformat_minor": 0,
  "metadata": {
    "colab": {
      "name": "1 The Problem With Missing Data.ipynb",
      "provenance": [],
      "authorship_tag": "ABX9TyNNsecGnNEO9PWAWX2Q01m2",
      "include_colab_link": true
    },
    "kernelspec": {
      "name": "python3",
      "display_name": "Python 3"
    }
  },
  "cells": [
    {
      "cell_type": "markdown",
      "metadata": {
        "id": "view-in-github",
        "colab_type": "text"
      },
      "source": [
        "<a href=\"https://colab.research.google.com/github/villafue/Machine_Learning_Notes/blob/master/Feature%20Engineering/Dealing%20with%20Missing%20Data%20in%20Python/1%20The%20Problem%20With%20Missing%20Data/1_The_Problem_With_Missing_Data.ipynb\" target=\"_parent\"><img src=\"https://colab.research.google.com/assets/colab-badge.svg\" alt=\"Open In Colab\"/></a>"
      ]
    },
    {
      "cell_type": "markdown",
      "metadata": {
        "id": "5k0P45cAgyyw"
      },
      "source": [
        "# The Problem With Missing Data\r\n",
        "\r\n",
        "Get familiar with missing data and how it impacts your analysis! Learn about different null value operations in your dataset, how to find missing data and summarizing missingness in your data."
      ]
    },
    {
      "cell_type": "markdown",
      "metadata": {
        "id": "z1nELqH1hRa-"
      },
      "source": [
        ""
      ]
    },
    {
      "cell_type": "code",
      "metadata": {
        "id": "XrHFIeatgxws"
      },
      "source": [
        ""
      ],
      "execution_count": null,
      "outputs": []
    }
  ]
}