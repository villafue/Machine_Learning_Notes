{
  "nbformat": 4,
  "nbformat_minor": 0,
  "metadata": {
    "kernelspec": {
      "display_name": "Python 3",
      "language": "python",
      "name": "python3"
    },
    "language_info": {
      "codemirror_mode": {
        "name": "ipython",
        "version": 3
      },
      "file_extension": ".py",
      "mimetype": "text/x-python",
      "name": "python",
      "nbconvert_exporter": "python",
      "pygments_lexer": "ipython3",
      "version": "3.7.4"
    },
    "toc": {
      "base_numbering": 1,
      "nav_menu": {},
      "number_sections": true,
      "sideBar": true,
      "skip_h1_title": false,
      "title_cell": "Table of Contents",
      "title_sidebar": "Contents",
      "toc_cell": false,
      "toc_position": {},
      "toc_section_display": true,
      "toc_window_display": false
    },
    "varInspector": {
      "cols": {
        "lenName": 16,
        "lenType": 16,
        "lenVar": 40
      },
      "kernels_config": {
        "python": {
          "delete_cmd_postfix": "",
          "delete_cmd_prefix": "del ",
          "library": "var_list.py",
          "varRefreshCmd": "print(var_dic_list())"
        },
        "r": {
          "delete_cmd_postfix": ") ",
          "delete_cmd_prefix": "rm(",
          "library": "var_list.r",
          "varRefreshCmd": "cat(var_dic_list()) "
        }
      },
      "types_to_exclude": [
        "module",
        "function",
        "builtin_function_or_method",
        "instance",
        "_Feature"
      ],
      "window_display": false
    },
    "colab": {
      "name": "Feature Engineering.ipynb",
      "provenance": [],
      "include_colab_link": true
    }
  },
  "cells": [
    {
      "cell_type": "markdown",
      "metadata": {
        "id": "view-in-github",
        "colab_type": "text"
      },
      "source": [
        "<a href=\"https://colab.research.google.com/github/villafue/Machine_Learning_Notes/blob/master/Feature%20Engineering/Automated%20Feature%20Engineering%20with%20Featuretools/Feature_Engineering.ipynb\" target=\"_parent\"><img src=\"https://colab.research.google.com/assets/colab-badge.svg\" alt=\"Open In Colab\"/></a>"
      ]
    },
    {
      "cell_type": "markdown",
      "metadata": {
        "id": "xtzDWCycFzhx"
      },
      "source": [
        "**Note**: This notebook has been adapted from the one [here](https://github.com/Featuretools/predict-customer-churn/blob/master/churn/3.%20Feature%20Engineering.ipynb) to remove any dependencies on AWS and S3 so as to just focus on the featuretools functionality without requireming you to make an AWS account and set up the `aws` cli. You should check out the full repo for some other cool notebooks and examples using Spark and Dask."
      ]
    },
    {
      "cell_type": "code",
      "metadata": {
        "id": "_pE3dvqvFzh3"
      },
      "source": [
        "# uncommecnt and run below to install required libraries if need to\n",
        "#!pip install -r requirements.txt"
      ],
      "execution_count": 1,
      "outputs": []
    },
    {
      "cell_type": "code",
      "metadata": {
        "colab": {
          "base_uri": "https://localhost:8080/"
        },
        "id": "1nokBcvNJ6C1",
        "outputId": "e83ee557-8a67-4f01-d826-8ffe2c644d66"
      },
      "source": [
        "!pip install featuretools"
      ],
      "execution_count": 2,
      "outputs": [
        {
          "output_type": "stream",
          "text": [
            "Collecting featuretools\n",
            "\u001b[?25l  Downloading https://files.pythonhosted.org/packages/b2/c5/70c9a2155f66fde7df8d70e5b72b4c4618c6948b568851f4402f3dc02677/featuretools-0.22.0-py3-none-any.whl (294kB)\n",
            "\u001b[K     |████████████████████████████████| 296kB 6.0MB/s \n",
            "\u001b[?25hRequirement already satisfied: numpy>=1.13.3 in /usr/local/lib/python3.6/dist-packages (from featuretools) (1.19.4)\n",
            "Requirement already satisfied: dask[dataframe]>=2.12.0 in /usr/local/lib/python3.6/dist-packages (from featuretools) (2.12.0)\n",
            "Requirement already satisfied: cloudpickle>=0.4.0 in /usr/local/lib/python3.6/dist-packages (from featuretools) (1.3.0)\n",
            "Requirement already satisfied: tqdm>=4.32.0 in /usr/local/lib/python3.6/dist-packages (from featuretools) (4.41.1)\n",
            "Requirement already satisfied: scipy>=0.13.3 in /usr/local/lib/python3.6/dist-packages (from featuretools) (1.4.1)\n",
            "Requirement already satisfied: click>=7.0.0 in /usr/local/lib/python3.6/dist-packages (from featuretools) (7.1.2)\n",
            "Requirement already satisfied: psutil>=5.4.8 in /usr/local/lib/python3.6/dist-packages (from featuretools) (5.4.8)\n",
            "Requirement already satisfied: pyyaml>=3.12 in /usr/local/lib/python3.6/dist-packages (from featuretools) (3.13)\n",
            "Requirement already satisfied: pandas!=1.1.0,!=1.1.1,<2.0.0,>=0.24.1 in /usr/local/lib/python3.6/dist-packages (from featuretools) (1.1.5)\n",
            "Collecting distributed>=2.12.0\n",
            "\u001b[?25l  Downloading https://files.pythonhosted.org/packages/b5/12/3c25bb53c9b508e6332b62c33a8806ec7a33c926d8e32e7e53df0b512b84/distributed-2020.12.0-py3-none-any.whl (669kB)\n",
            "\u001b[K     |████████████████████████████████| 675kB 8.3MB/s \n",
            "\u001b[?25hRequirement already satisfied: toolz>=0.7.3; extra == \"dataframe\" in /usr/local/lib/python3.6/dist-packages (from dask[dataframe]>=2.12.0->featuretools) (0.11.1)\n",
            "Collecting partd>=0.3.10; extra == \"dataframe\"\n",
            "  Downloading https://files.pythonhosted.org/packages/44/e1/68dbe731c9c067655bff1eca5b7d40c20ca4b23fd5ec9f3d17e201a6f36b/partd-1.1.0-py3-none-any.whl\n",
            "Collecting fsspec>=0.6.0; extra == \"dataframe\"\n",
            "\u001b[?25l  Downloading https://files.pythonhosted.org/packages/ec/80/72ac0982cc833945fada4b76c52f0f65435ba4d53bc9317d1c70b5f7e7d5/fsspec-0.8.5-py3-none-any.whl (98kB)\n",
            "\u001b[K     |████████████████████████████████| 102kB 6.9MB/s \n",
            "\u001b[?25hRequirement already satisfied: pytz>=2017.2 in /usr/local/lib/python3.6/dist-packages (from pandas!=1.1.0,!=1.1.1,<2.0.0,>=0.24.1->featuretools) (2018.9)\n",
            "Requirement already satisfied: python-dateutil>=2.7.3 in /usr/local/lib/python3.6/dist-packages (from pandas!=1.1.0,!=1.1.1,<2.0.0,>=0.24.1->featuretools) (2.8.1)\n",
            "Requirement already satisfied: setuptools in /usr/local/lib/python3.6/dist-packages (from distributed>=2.12.0->featuretools) (50.3.2)\n",
            "Requirement already satisfied: sortedcontainers!=2.0.0,!=2.0.1 in /usr/local/lib/python3.6/dist-packages (from distributed>=2.12.0->featuretools) (2.3.0)\n",
            "Requirement already satisfied: tornado>=5; python_version < \"3.8\" in /usr/local/lib/python3.6/dist-packages (from distributed>=2.12.0->featuretools) (5.1.1)\n",
            "Requirement already satisfied: msgpack>=0.6.0 in /usr/local/lib/python3.6/dist-packages (from distributed>=2.12.0->featuretools) (1.0.1)\n",
            "Collecting contextvars; python_version < \"3.7\"\n",
            "  Downloading https://files.pythonhosted.org/packages/83/96/55b82d9f13763be9d672622e1b8106c85acb83edd7cc2fa5bc67cd9877e9/contextvars-2.4.tar.gz\n",
            "Requirement already satisfied: tblib>=1.6.0 in /usr/local/lib/python3.6/dist-packages (from distributed>=2.12.0->featuretools) (1.7.0)\n",
            "Requirement already satisfied: zict>=0.1.3 in /usr/local/lib/python3.6/dist-packages (from distributed>=2.12.0->featuretools) (2.0.0)\n",
            "Collecting locket\n",
            "  Downloading https://files.pythonhosted.org/packages/d0/22/3c0f97614e0be8386542facb3a7dcfc2584f7b83608c02333bced641281c/locket-0.2.0.tar.gz\n",
            "Requirement already satisfied: six>=1.5 in /usr/local/lib/python3.6/dist-packages (from python-dateutil>=2.7.3->pandas!=1.1.0,!=1.1.1,<2.0.0,>=0.24.1->featuretools) (1.15.0)\n",
            "Collecting immutables>=0.9\n",
            "\u001b[?25l  Downloading https://files.pythonhosted.org/packages/99/e0/ea6fd4697120327d26773b5a84853f897a68e33d3f9376b00a8ff96e4f63/immutables-0.14-cp36-cp36m-manylinux1_x86_64.whl (98kB)\n",
            "\u001b[K     |████████████████████████████████| 102kB 6.3MB/s \n",
            "\u001b[?25hRequirement already satisfied: heapdict in /usr/local/lib/python3.6/dist-packages (from zict>=0.1.3->distributed>=2.12.0->featuretools) (1.0.1)\n",
            "Building wheels for collected packages: contextvars, locket\n",
            "  Building wheel for contextvars (setup.py) ... \u001b[?25l\u001b[?25hdone\n",
            "  Created wheel for contextvars: filename=contextvars-2.4-cp36-none-any.whl size=7667 sha256=0b46b6bc6848a7ca10351a40984921d601dd859680a2c1d3f294a5365d28d6f5\n",
            "  Stored in directory: /root/.cache/pip/wheels/a5/7d/68/1ebae2668bda2228686e3c1cf16f2c2384cea6e9334ad5f6de\n",
            "  Building wheel for locket (setup.py) ... \u001b[?25l\u001b[?25hdone\n",
            "  Created wheel for locket: filename=locket-0.2.0-cp36-none-any.whl size=4042 sha256=a6c03422cd8cbc22ae6043300bb1803a0868bfb9e18a24540f23b631f78dedd4\n",
            "  Stored in directory: /root/.cache/pip/wheels/26/1e/e8/4fa236ec931b1a0cdd61578e20d4934d7bf188858723b84698\n",
            "Successfully built contextvars locket\n",
            "\u001b[31mERROR: distributed 2020.12.0 has requirement cloudpickle>=1.5.0, but you'll have cloudpickle 1.3.0 which is incompatible.\u001b[0m\n",
            "\u001b[31mERROR: distributed 2020.12.0 has requirement dask>=2020.12.0, but you'll have dask 2.12.0 which is incompatible.\u001b[0m\n",
            "Installing collected packages: immutables, contextvars, distributed, featuretools, locket, partd, fsspec\n",
            "  Found existing installation: distributed 1.25.3\n",
            "    Uninstalling distributed-1.25.3:\n",
            "      Successfully uninstalled distributed-1.25.3\n",
            "Successfully installed contextvars-2.4 distributed-2020.12.0 featuretools-0.22.0 fsspec-0.8.5 immutables-0.14 locket-0.2.0 partd-1.1.0\n"
          ],
          "name": "stdout"
        }
      ]
    },
    {
      "cell_type": "markdown",
      "metadata": {
        "id": "KC2lvtEBFzh3"
      },
      "source": [
        "# Introduction: Automated Feature Engineering with Featuretools\n",
        "\n",
        "__Problem:__ we have a set of cutoff times and labels - in a label times table - and we need to build relevant features for each label using only data from before the cutoff time. Traditionally, we would do this by hand, a painstaking and error prone process that makes developing useable machine learning solutions extremely difficult. \n",
        "\n",
        "__Solution__: Use automated feature engineering as implemented in Featuretools to build hundreds or thousands of relevant features from a relational dataset with a reusable framework that also automatically filters the data based on the cutoff times. This approachs overcomes the limitations of manual feature engineering, letting us build better predictive models in a fraction of the time. \n",
        "\n",
        "The general process of feature engineering is shown below:\n",
        "\n",
        "![](https://github.com/springboard-curriculum/featuretools/blob/master/images/feature_engineering_process.png?raw=1)\n",
        "\n",
        "Currently, the only option for automated feature engineering using multiple related tables is [Featuretools](https://github.com/Featuretools/featuretools), an open-source Python library. \n",
        "\n",
        "![](https://github.com/springboard-curriculum/featuretools/blob/master/images/featuretools-logo.png?raw=1)\n",
        "\n",
        "In this notebook, we'll work with Featuretools to develop an automated feature engineering workflow for the customer churn dataset. The end outcome is a function that takes in a dataset and label times for customers and builds a feature matrix that can be used to train a machine learning model. Because we already partitioned the data into independent subsets (in `Partitioning Data`) we'll be able to apply this function to all of the partitions in parallel using Spark with PySpark.\n",
        "\n",
        "## Featuretools Resources\n",
        "\n",
        "We won't spend too much time on the basics of Featuretools here, so refer to the following sources for more information:\n",
        "\n",
        "* [Featuretools Documentation](https://docs.featuretools.com/)\n",
        "* [Featuretools GitHub](https://github.com/Featuretools/featuretools)\n",
        "* [Introductory tutorial on Featuretools](https://towardsdatascience.com/automated-feature-engineering-in-python-99baf11cc219)\n",
        "* [Why Automated Feature Engineering Will Change Machine Learning](https://towardsdatascience.com/why-automated-feature-engineering-will-change-the-way-you-do-machine-learning-5c15bf188b96)\n",
        "\n",
        "The basics are relatively easy to pick up, and if you're new, you can probably follow along with all the code here! Learning Featuretools requires only a few minutes and it can be applied to any relational dataset.\n",
        "\n",
        "\n",
        "With that in mind, let's get started."
      ]
    },
    {
      "cell_type": "code",
      "metadata": {
        "id": "b1hJXr1lFzh4"
      },
      "source": [
        "# Data science helpers\n",
        "import pandas as pd \n",
        "import numpy as np\n",
        "\n",
        "import featuretools as ft\n",
        "\n",
        "# Useful for showing multiple outputs\n",
        "from IPython.core.interactiveshell import InteractiveShell\n",
        "InteractiveShell.ast_node_interactivity = \"all\""
      ],
      "execution_count": 3,
      "outputs": []
    },
    {
      "cell_type": "code",
      "metadata": {
        "id": "OmXpYO-fFzh5"
      },
      "source": [
        "# Read in all data\n",
        "url = 'https://raw.githubusercontent.com/springboard-curriculum/featuretools/master/data/members.csv'\n",
        "members = pd.read_csv(url, \n",
        "                      parse_dates=['registration_init_time'], \n",
        "                      infer_datetime_format = True, \n",
        "                      dtype = {'gender': 'category'})\n",
        "\n",
        "url = 'https://raw.githubusercontent.com/springboard-curriculum/featuretools/master/data/transactions.csv'\n",
        "trans = pd.read_csv(url,\n",
        "                   parse_dates=['transaction_date', 'membership_expire_date'], \n",
        "                    infer_datetime_format = True)\n",
        "\n",
        "url = 'https://raw.githubusercontent.com/springboard-curriculum/featuretools/master/data/logs.csv'\n",
        "logs = pd.read_csv(url, parse_dates = ['date'])\n",
        "\n",
        "url = 'https://raw.githubusercontent.com/springboard-curriculum/featuretools/master/data/MS-31_labels.csv'\n",
        "cutoff_times = pd.read_csv(url, parse_dates = ['cutoff_time'])"
      ],
      "execution_count": 4,
      "outputs": []
    },
    {
      "cell_type": "markdown",
      "metadata": {
        "id": "JSL3VSVuFzh5"
      },
      "source": [
        "The 3 data tables are represented by the following schema. \n",
        "\n",
        "![](https://github.com/springboard-curriculum/featuretools/blob/master/images/data_schema.png?raw=1)\n",
        "\n",
        "This schema is all the domain knowledge needed to perform automated feature engineering in Featuretools."
      ]
    },
    {
      "cell_type": "markdown",
      "metadata": {
        "id": "YShd6gCqFzh6"
      },
      "source": [
        "# Define Entities and EntitySet\n",
        "\n",
        "The first step in using Featuretools is to make an `EntitySet` and add all the `entitys` - tables - to it. An EntitySet is a data structure that holds the tables and the relationships between them. This makes it easier to keep track of all the data in a problem with multiple relational tables."
      ]
    },
    {
      "cell_type": "code",
      "metadata": {
        "id": "Zi-Pl6meFzh6"
      },
      "source": [
        "import featuretools.variable_types as vtypes\n",
        "\n",
        "# Make empty entityset\n",
        "es = ft.EntitySet(id = 'customers')"
      ],
      "execution_count": 5,
      "outputs": []
    },
    {
      "cell_type": "code",
      "metadata": {
        "id": "mjAMDiqbh-Fr",
        "outputId": "34288a0e-eb34-4683-df97-32e7752a1f3e",
        "colab": {
          "base_uri": "https://localhost:8080/"
        }
      },
      "source": [
        "es"
      ],
      "execution_count": 6,
      "outputs": [
        {
          "output_type": "execute_result",
          "data": {
            "text/plain": [
              "Entityset: customers\n",
              "  Entities:\n",
              "  Relationships:\n",
              "    No relationships"
            ]
          },
          "metadata": {
            "tags": []
          },
          "execution_count": 6
        }
      ]
    },
    {
      "cell_type": "markdown",
      "metadata": {
        "id": "ooRY6CYPFzh6"
      },
      "source": [
        "## Entities\n",
        "\n",
        "When creating entities from a dataframe, we need to make sure to include:\n",
        "\n",
        "* The `index` if there is one or a name for the created index. This is a unique identifier for each observation.\n",
        "* `make_index = True` if there is no index, we need to supply a name under `index` and set this to `True`.\n",
        "* A `time_index` if present. This is the time at which the information in the row becomes known. Featuretools will use the `time_index` and the `cutoff_time` to make valid features for each label.\n",
        "* `variable_types`. In some cases our data will have variables for which we should specify the type. An example would be a boolean that is represented as a float. This prevents Featuretools from making features such as the `min` or `max` of a True/False varaibles.\n",
        "\n",
        "For this problem these are the only arguments we'll need. There are additional arguments that can be used as shown in [the documentation](https://docs.featuretools.com/api_reference.html#entityset-entity-relationship-variable-types). \n",
        "\n",
        "### Members Table\n",
        "\n",
        "The `members` table holds basic information about each customer. The important point for this table is to specify that the `city` and `registered_via` columns are discrete, categorical variables and not numerical and that `registration_init_time` is the `time_index`. The `msno` is the unique index identifying each customer. "
      ]
    },
    {
      "cell_type": "code",
      "metadata": {
        "id": "bhcRQMkmFzh7",
        "colab": {
          "base_uri": "https://localhost:8080/",
          "height": 195
        },
        "outputId": "c55c3c10-8214-4377-9c8f-d9f58d576415"
      },
      "source": [
        "members.head()"
      ],
      "execution_count": 7,
      "outputs": [
        {
          "output_type": "execute_result",
          "data": {
            "text/html": [
              "<div>\n",
              "<style scoped>\n",
              "    .dataframe tbody tr th:only-of-type {\n",
              "        vertical-align: middle;\n",
              "    }\n",
              "\n",
              "    .dataframe tbody tr th {\n",
              "        vertical-align: top;\n",
              "    }\n",
              "\n",
              "    .dataframe thead th {\n",
              "        text-align: right;\n",
              "    }\n",
              "</style>\n",
              "<table border=\"1\" class=\"dataframe\">\n",
              "  <thead>\n",
              "    <tr style=\"text-align: right;\">\n",
              "      <th></th>\n",
              "      <th>msno</th>\n",
              "      <th>city</th>\n",
              "      <th>bd</th>\n",
              "      <th>gender</th>\n",
              "      <th>registered_via</th>\n",
              "      <th>registration_init_time</th>\n",
              "    </tr>\n",
              "  </thead>\n",
              "  <tbody>\n",
              "    <tr>\n",
              "      <th>0</th>\n",
              "      <td>8hW4+CV3D1oNM0CIsA39YljsF8M3m7g1LAX6AQd3C8I=</td>\n",
              "      <td>4</td>\n",
              "      <td>24</td>\n",
              "      <td>male</td>\n",
              "      <td>3</td>\n",
              "      <td>2014-11-04</td>\n",
              "    </tr>\n",
              "    <tr>\n",
              "      <th>1</th>\n",
              "      <td>yhcODfebyTYezE6KAPklcV1us9zdOYJ+7eHS7f/xgoU=</td>\n",
              "      <td>8</td>\n",
              "      <td>37</td>\n",
              "      <td>male</td>\n",
              "      <td>9</td>\n",
              "      <td>2007-02-11</td>\n",
              "    </tr>\n",
              "    <tr>\n",
              "      <th>2</th>\n",
              "      <td>sBlgSL0AIq49XsmBQ2KceKZNUyIxT1BwSkN/xYQLGMc=</td>\n",
              "      <td>15</td>\n",
              "      <td>21</td>\n",
              "      <td>male</td>\n",
              "      <td>3</td>\n",
              "      <td>2013-02-08</td>\n",
              "    </tr>\n",
              "    <tr>\n",
              "      <th>3</th>\n",
              "      <td>Xy3Au8sZKlEeHBQ+C7ro8Ni3X/dxgrtmx0Tt+jqM1zY=</td>\n",
              "      <td>1</td>\n",
              "      <td>0</td>\n",
              "      <td>NaN</td>\n",
              "      <td>9</td>\n",
              "      <td>2015-02-01</td>\n",
              "    </tr>\n",
              "    <tr>\n",
              "      <th>4</th>\n",
              "      <td>NiCu2GVWgT5QZbI85oYRBEDqHUZbzz2azS48jvM+khg=</td>\n",
              "      <td>12</td>\n",
              "      <td>21</td>\n",
              "      <td>male</td>\n",
              "      <td>3</td>\n",
              "      <td>2015-02-12</td>\n",
              "    </tr>\n",
              "  </tbody>\n",
              "</table>\n",
              "</div>"
            ],
            "text/plain": [
              "                                           msno  ...  registration_init_time\n",
              "0  8hW4+CV3D1oNM0CIsA39YljsF8M3m7g1LAX6AQd3C8I=  ...              2014-11-04\n",
              "1  yhcODfebyTYezE6KAPklcV1us9zdOYJ+7eHS7f/xgoU=  ...              2007-02-11\n",
              "2  sBlgSL0AIq49XsmBQ2KceKZNUyIxT1BwSkN/xYQLGMc=  ...              2013-02-08\n",
              "3  Xy3Au8sZKlEeHBQ+C7ro8Ni3X/dxgrtmx0Tt+jqM1zY=  ...              2015-02-01\n",
              "4  NiCu2GVWgT5QZbI85oYRBEDqHUZbzz2azS48jvM+khg=  ...              2015-02-12\n",
              "\n",
              "[5 rows x 6 columns]"
            ]
          },
          "metadata": {
            "tags": []
          },
          "execution_count": 7
        }
      ]
    },
    {
      "cell_type": "code",
      "metadata": {
        "id": "I1m9mRBuFzh9",
        "colab": {
          "base_uri": "https://localhost:8080/"
        },
        "outputId": "7284b186-2e1d-440b-9ef4-620765a9bedc"
      },
      "source": [
        "members['msno'].is_unique"
      ],
      "execution_count": 8,
      "outputs": [
        {
          "output_type": "execute_result",
          "data": {
            "text/plain": [
              "True"
            ]
          },
          "metadata": {
            "tags": []
          },
          "execution_count": 8
        }
      ]
    },
    {
      "cell_type": "code",
      "metadata": {
        "id": "D4tnKxtmFzh9",
        "colab": {
          "base_uri": "https://localhost:8080/"
        },
        "outputId": "89478ccc-1a15-46a2-b4de-03195de4a611"
      },
      "source": [
        "# Create entity from members\n",
        "es.entity_from_dataframe(entity_id='members', dataframe=members,\n",
        "                         index = 'msno', time_index = 'registration_init_time', \n",
        "                         variable_types = {'city': vtypes.Categorical, \n",
        "                                           'registered_via': vtypes.Categorical})"
      ],
      "execution_count": 9,
      "outputs": [
        {
          "output_type": "execute_result",
          "data": {
            "text/plain": [
              "Entityset: customers\n",
              "  Entities:\n",
              "    members [Rows: 6658, Columns: 6]\n",
              "  Relationships:\n",
              "    No relationships"
            ]
          },
          "metadata": {
            "tags": []
          },
          "execution_count": 9
        }
      ]
    },
    {
      "cell_type": "markdown",
      "metadata": {
        "id": "4Yo6LttZFzh9"
      },
      "source": [
        "### Transactions Table\n",
        "\n",
        "The transactions table contains payments made by the customers. Each row records one payment. "
      ]
    },
    {
      "cell_type": "code",
      "metadata": {
        "id": "ZGh0StDZFzh-",
        "colab": {
          "base_uri": "https://localhost:8080/",
          "height": 215
        },
        "outputId": "f454219d-66de-4eaa-9fb7-b4edb4e0552e"
      },
      "source": [
        "trans.head()"
      ],
      "execution_count": 10,
      "outputs": [
        {
          "output_type": "execute_result",
          "data": {
            "text/html": [
              "<div>\n",
              "<style scoped>\n",
              "    .dataframe tbody tr th:only-of-type {\n",
              "        vertical-align: middle;\n",
              "    }\n",
              "\n",
              "    .dataframe tbody tr th {\n",
              "        vertical-align: top;\n",
              "    }\n",
              "\n",
              "    .dataframe thead th {\n",
              "        text-align: right;\n",
              "    }\n",
              "</style>\n",
              "<table border=\"1\" class=\"dataframe\">\n",
              "  <thead>\n",
              "    <tr style=\"text-align: right;\">\n",
              "      <th></th>\n",
              "      <th>msno</th>\n",
              "      <th>payment_method_id</th>\n",
              "      <th>payment_plan_days</th>\n",
              "      <th>plan_list_price</th>\n",
              "      <th>actual_amount_paid</th>\n",
              "      <th>is_auto_renew</th>\n",
              "      <th>transaction_date</th>\n",
              "      <th>membership_expire_date</th>\n",
              "      <th>is_cancel</th>\n",
              "    </tr>\n",
              "  </thead>\n",
              "  <tbody>\n",
              "    <tr>\n",
              "      <th>0</th>\n",
              "      <td>5F7G3pHKf5ijGQpoKuko0G7Jm3Bde6ktfPKBZySWoDI=</td>\n",
              "      <td>41</td>\n",
              "      <td>30</td>\n",
              "      <td>99</td>\n",
              "      <td>99</td>\n",
              "      <td>1</td>\n",
              "      <td>2017-02-10</td>\n",
              "      <td>2017-03-10</td>\n",
              "      <td>0</td>\n",
              "    </tr>\n",
              "    <tr>\n",
              "      <th>1</th>\n",
              "      <td>DQMPoCSc6EB39ytgnKCRsUIZnR6ZWSrHeDmX7nbxAKs=</td>\n",
              "      <td>41</td>\n",
              "      <td>30</td>\n",
              "      <td>149</td>\n",
              "      <td>149</td>\n",
              "      <td>1</td>\n",
              "      <td>2016-02-01</td>\n",
              "      <td>2016-03-02</td>\n",
              "      <td>0</td>\n",
              "    </tr>\n",
              "    <tr>\n",
              "      <th>2</th>\n",
              "      <td>Lrais3nsgqYwpfpSoyK3fHuPutf6cloTI5T5dQfs4lA=</td>\n",
              "      <td>38</td>\n",
              "      <td>30</td>\n",
              "      <td>149</td>\n",
              "      <td>149</td>\n",
              "      <td>0</td>\n",
              "      <td>2016-02-23</td>\n",
              "      <td>2016-04-23</td>\n",
              "      <td>0</td>\n",
              "    </tr>\n",
              "    <tr>\n",
              "      <th>3</th>\n",
              "      <td>ZPOjgxQw1/J7v5xgBJTCLXWuwq5Xmk33nO6AoUO1+mY=</td>\n",
              "      <td>41</td>\n",
              "      <td>30</td>\n",
              "      <td>149</td>\n",
              "      <td>119</td>\n",
              "      <td>1</td>\n",
              "      <td>2015-09-06</td>\n",
              "      <td>2016-08-01</td>\n",
              "      <td>0</td>\n",
              "    </tr>\n",
              "    <tr>\n",
              "      <th>4</th>\n",
              "      <td>MvR23u4bIiWM+U+VE1Mvw3qqdj/0Ixs1sf7avavjhRs=</td>\n",
              "      <td>38</td>\n",
              "      <td>30</td>\n",
              "      <td>149</td>\n",
              "      <td>149</td>\n",
              "      <td>0</td>\n",
              "      <td>2016-10-28</td>\n",
              "      <td>2016-11-27</td>\n",
              "      <td>0</td>\n",
              "    </tr>\n",
              "  </tbody>\n",
              "</table>\n",
              "</div>"
            ],
            "text/plain": [
              "                                           msno  ...  is_cancel\n",
              "0  5F7G3pHKf5ijGQpoKuko0G7Jm3Bde6ktfPKBZySWoDI=  ...          0\n",
              "1  DQMPoCSc6EB39ytgnKCRsUIZnR6ZWSrHeDmX7nbxAKs=  ...          0\n",
              "2  Lrais3nsgqYwpfpSoyK3fHuPutf6cloTI5T5dQfs4lA=  ...          0\n",
              "3  ZPOjgxQw1/J7v5xgBJTCLXWuwq5Xmk33nO6AoUO1+mY=  ...          0\n",
              "4  MvR23u4bIiWM+U+VE1Mvw3qqdj/0Ixs1sf7avavjhRs=  ...          0\n",
              "\n",
              "[5 rows x 9 columns]"
            ]
          },
          "metadata": {
            "tags": []
          },
          "execution_count": 10
        }
      ]
    },
    {
      "cell_type": "code",
      "metadata": {
        "id": "FxZUknX2Fzh-",
        "colab": {
          "base_uri": "https://localhost:8080/",
          "height": 386
        },
        "outputId": "562ce5f8-53a8-41d0-be1c-ee1fe97d68dd"
      },
      "source": [
        "import matplotlib.pyplot as plt\n",
        "%matplotlib inline\n",
        "plt.rcParams.update(plt.rcParamsDefault)\n",
        "%matplotlib inline\n",
        "plt.style.use(['seaborn-whitegrid'])\n",
        "# plt.style.use('fivethirtyeight')\n",
        "plt.rcParams['figure.figsize'] = (10, 6)\n",
        "\n",
        "trans.loc[trans['actual_amount_paid'] < 250, 'actual_amount_paid'].dropna().plot.hist(bins = 30);\n",
        "plt.title('Distribution of Actual Amount Paid');"
      ],
      "execution_count": 11,
      "outputs": [
        {
          "output_type": "display_data",
          "data": {
            "image/png": "[encoded data removed]",
            "text/plain": [
              "<Figure size 720x432 with 1 Axes>"
            ]
          },
          "metadata": {
            "tags": []
          }
        }
      ]
    },
    {
      "cell_type": "markdown",
      "metadata": {
        "id": "lveq1gQsFzh-"
      },
      "source": [
        "#### Domain Knowledge Features\n",
        "\n",
        "Before creating the entity from this dataframe, we can create a few new variables based on domain knowledge. Just because we are automatically going to make hundreds of features doesn't mean we can't use our own expertise. Featuretools will build on top of our knowledge by stacking more primitives on top of any variables that we define."
      ]
    },
    {
      "cell_type": "code",
      "metadata": {
        "id": "LZTSHJLoFzh_",
        "colab": {
          "base_uri": "https://localhost:8080/",
          "height": 386
        },
        "outputId": "5c7dcbfe-1c9a-4d00-9d27-64170ad15aa4"
      },
      "source": [
        "# Difference between listing price and price paid\n",
        "trans['price_difference'] = trans['plan_list_price'] - trans['actual_amount_paid']\n",
        "\n",
        "# Planned price per day\n",
        "trans['planned_daily_price'] = trans['plan_list_price'] / trans['payment_plan_days']\n",
        "\n",
        "# Actual price per day\n",
        "trans['daily_price'] = trans['actual_amount_paid'] / trans['payment_plan_days']\n",
        "\n",
        "trans.loc[trans['price_difference'] > 0, 'price_difference'].plot.hist(bins = 30, \n",
        "                                                                       figsize = (8, 6));\n",
        "plt.title('Dfiference between List Price and Price Paid');"
      ],
      "execution_count": 12,
      "outputs": [
        {
          "output_type": "display_data",
          "data": {
            "image/png": "[encoded data removed]",
            "text/plain": [
              "<Figure size 576x432 with 1 Axes>"
            ]
          },
          "metadata": {
            "tags": []
          }
        }
      ]
    },
    {
      "cell_type": "markdown",
      "metadata": {
        "id": "Lzy1y0KSFzh_"
      },
      "source": [
        "There is no `index` in this dataframe so we have to specify to make an index and pass in a name. There is a `time_index`, the time of the transaction, which will be critical when filtering data based on cutoff times to make features. Again, we also need to specify several variable types.\n",
        "\n",
        "There is one slight anomaly with the transactions where some membership expire dates are after the transactions date, so we will filter those out."
      ]
    },
    {
      "cell_type": "code",
      "metadata": {
        "id": "aU6icSS0Fzh_"
      },
      "source": [
        "# Filter anomalies\n",
        "trans = trans[trans['membership_expire_date'] > trans['transaction_date']]"
      ],
      "execution_count": 13,
      "outputs": []
    },
    {
      "cell_type": "code",
      "metadata": {
        "id": "mw-ukypxFzh_",
        "colab": {
          "base_uri": "https://localhost:8080/"
        },
        "outputId": "bb30466d-b186-43bb-e2c6-ba1e4d293e52"
      },
      "source": [
        "# Create entity from transactions\n",
        "es.entity_from_dataframe(entity_id='transactions', dataframe=trans,\n",
        "                         index = 'transactions_index', make_index = True,\n",
        "                         time_index = 'transaction_date', \n",
        "                         variable_types = {'payment_method_id': vtypes.Categorical, \n",
        "                                           'is_auto_renew': vtypes.Boolean, 'is_cancel': vtypes.Boolean})"
      ],
      "execution_count": 14,
      "outputs": [
        {
          "output_type": "execute_result",
          "data": {
            "text/plain": [
              "Entityset: customers\n",
              "  Entities:\n",
              "    members [Rows: 6658, Columns: 6]\n",
              "    transactions [Rows: 22329, Columns: 13]\n",
              "  Relationships:\n",
              "    No relationships"
            ]
          },
          "metadata": {
            "tags": []
          },
          "execution_count": 14
        }
      ]
    },
    {
      "cell_type": "markdown",
      "metadata": {
        "id": "7LJAY4DeFziA"
      },
      "source": [
        "### Logs\n",
        "\n",
        "The `logs` contain user listening behavior. As before we'll make a few domain knowledge columns before adding to the `EntitySet`. "
      ]
    },
    {
      "cell_type": "code",
      "metadata": {
        "id": "bzTWKMiBFziA",
        "colab": {
          "base_uri": "https://localhost:8080/",
          "height": 195
        },
        "outputId": "cec0b84a-5c65-49ad-9719-0c8d11a45125"
      },
      "source": [
        "logs.head()"
      ],
      "execution_count": 15,
      "outputs": [
        {
          "output_type": "execute_result",
          "data": {
            "text/html": [
              "<div>\n",
              "<style scoped>\n",
              "    .dataframe tbody tr th:only-of-type {\n",
              "        vertical-align: middle;\n",
              "    }\n",
              "\n",
              "    .dataframe tbody tr th {\n",
              "        vertical-align: top;\n",
              "    }\n",
              "\n",
              "    .dataframe thead th {\n",
              "        text-align: right;\n",
              "    }\n",
              "</style>\n",
              "<table border=\"1\" class=\"dataframe\">\n",
              "  <thead>\n",
              "    <tr style=\"text-align: right;\">\n",
              "      <th></th>\n",
              "      <th>msno</th>\n",
              "      <th>date</th>\n",
              "      <th>num_25</th>\n",
              "      <th>num_50</th>\n",
              "      <th>num_75</th>\n",
              "      <th>num_985</th>\n",
              "      <th>num_100</th>\n",
              "      <th>num_unq</th>\n",
              "      <th>total_secs</th>\n",
              "    </tr>\n",
              "  </thead>\n",
              "  <tbody>\n",
              "    <tr>\n",
              "      <th>0</th>\n",
              "      <td>6+/V1NwBbqjBOCvRSDueeJZ58F4DY7h7fG6fSZtHaAE=</td>\n",
              "      <td>2017-03-04</td>\n",
              "      <td>29</td>\n",
              "      <td>28</td>\n",
              "      <td>18</td>\n",
              "      <td>11</td>\n",
              "      <td>111</td>\n",
              "      <td>79</td>\n",
              "      <td>34727.142</td>\n",
              "    </tr>\n",
              "    <tr>\n",
              "      <th>1</th>\n",
              "      <td>E2aBGFTKR6jzp+1knh7JOOF39gLuu+CoZMWaAL/DA0M=</td>\n",
              "      <td>2017-03-27</td>\n",
              "      <td>1</td>\n",
              "      <td>0</td>\n",
              "      <td>2</td>\n",
              "      <td>0</td>\n",
              "      <td>184</td>\n",
              "      <td>173</td>\n",
              "      <td>33408.719</td>\n",
              "    </tr>\n",
              "    <tr>\n",
              "      <th>2</th>\n",
              "      <td>g7exJzakJlHXwzUydnShY5w24WXSwJyS6QqgoFeyr7g=</td>\n",
              "      <td>2017-03-15</td>\n",
              "      <td>0</td>\n",
              "      <td>0</td>\n",
              "      <td>0</td>\n",
              "      <td>0</td>\n",
              "      <td>21</td>\n",
              "      <td>21</td>\n",
              "      <td>4951.000</td>\n",
              "    </tr>\n",
              "    <tr>\n",
              "      <th>3</th>\n",
              "      <td>X+i9OmM3P42cETt5gPkOnz8vXGViQL5/M/NMiMQ+Olc=</td>\n",
              "      <td>2017-03-13</td>\n",
              "      <td>3</td>\n",
              "      <td>1</td>\n",
              "      <td>0</td>\n",
              "      <td>0</td>\n",
              "      <td>33</td>\n",
              "      <td>27</td>\n",
              "      <td>8755.599</td>\n",
              "    </tr>\n",
              "    <tr>\n",
              "      <th>4</th>\n",
              "      <td>tbl8blAVl6j4A8zW1Gnyg78Hc0LAQzzcYesmzgJ7ofs=</td>\n",
              "      <td>2017-03-27</td>\n",
              "      <td>6</td>\n",
              "      <td>5</td>\n",
              "      <td>0</td>\n",
              "      <td>0</td>\n",
              "      <td>2</td>\n",
              "      <td>6</td>\n",
              "      <td>1035.853</td>\n",
              "    </tr>\n",
              "  </tbody>\n",
              "</table>\n",
              "</div>"
            ],
            "text/plain": [
              "                                           msno       date  ...  num_unq  total_secs\n",
              "0  6+/V1NwBbqjBOCvRSDueeJZ58F4DY7h7fG6fSZtHaAE= 2017-03-04  ...       79   34727.142\n",
              "1  E2aBGFTKR6jzp+1knh7JOOF39gLuu+CoZMWaAL/DA0M= 2017-03-27  ...      173   33408.719\n",
              "2  g7exJzakJlHXwzUydnShY5w24WXSwJyS6QqgoFeyr7g= 2017-03-15  ...       21    4951.000\n",
              "3  X+i9OmM3P42cETt5gPkOnz8vXGViQL5/M/NMiMQ+Olc= 2017-03-13  ...       27    8755.599\n",
              "4  tbl8blAVl6j4A8zW1Gnyg78Hc0LAQzzcYesmzgJ7ofs= 2017-03-27  ...        6    1035.853\n",
              "\n",
              "[5 rows x 9 columns]"
            ]
          },
          "metadata": {
            "tags": []
          },
          "execution_count": 15
        }
      ]
    },
    {
      "cell_type": "code",
      "metadata": {
        "id": "w6lwSPloFziA",
        "colab": {
          "base_uri": "https://localhost:8080/",
          "height": 400
        },
        "outputId": "e869a49c-aa31-48cd-efd8-9ef586fcabcc"
      },
      "source": [
        "# Make a few features by hand\n",
        "logs['total'] = logs[['num_25', 'num_50', 'num_75', 'num_985', 'num_100']].sum(axis = 1)\n",
        "logs['percent_100'] = logs['num_100'] / logs['total']\n",
        "logs['percent_unique'] = logs['num_unq'] / logs['total']\n",
        "logs['seconds_per_song'] = logs['total_secs'] / logs['total'] \n",
        "\n",
        "import seaborn as sns\n",
        "\n",
        "sns.kdeplot(logs['total']);\n",
        "plt.title('Distribution of Total Number of Songs');"
      ],
      "execution_count": 16,
      "outputs": [
        {
          "output_type": "display_data",
          "data": {
            "image/png": "[encoded data removed]",
            "text/plain": [
              "<Figure size 720x432 with 1 Axes>"
            ]
          },
          "metadata": {
            "tags": []
          }
        }
      ]
    },
    {
      "cell_type": "code",
      "metadata": {
        "id": "pnLgb3vZFziB",
        "colab": {
          "base_uri": "https://localhost:8080/",
          "height": 400
        },
        "outputId": "9088826c-7412-4f28-9eb1-caef922a2108"
      },
      "source": [
        "sns.kdeplot(logs['percent_100']);\n",
        "plt.title('Distribution of Percentage of Songs Listened to Completion');"
      ],
      "execution_count": 17,
      "outputs": [
        {
          "output_type": "display_data",
          "data": {
            "image/png": "[encoded data removed]",
            "text/plain": [
              "<Figure size 720x432 with 1 Axes>"
            ]
          },
          "metadata": {
            "tags": []
          }
        }
      ]
    },
    {
      "cell_type": "markdown",
      "metadata": {
        "id": "9iRDHnsIFziB"
      },
      "source": [
        "There is `time_index` in the logs although no `index` present."
      ]
    },
    {
      "cell_type": "code",
      "metadata": {
        "id": "DM1izfT8FziB",
        "colab": {
          "base_uri": "https://localhost:8080/"
        },
        "outputId": "5b422921-7335-4f1e-8637-680b9e3518b2"
      },
      "source": [
        "es.entity_from_dataframe(entity_id='logs', dataframe=logs,\n",
        "                         index = 'logs_index', make_index = True,\n",
        "                         time_index = 'date')"
      ],
      "execution_count": 18,
      "outputs": [
        {
          "output_type": "execute_result",
          "data": {
            "text/plain": [
              "Entityset: customers\n",
              "  Entities:\n",
              "    members [Rows: 6658, Columns: 6]\n",
              "    transactions [Rows: 22329, Columns: 13]\n",
              "    logs [Rows: 424252, Columns: 14]\n",
              "  Relationships:\n",
              "    No relationships"
            ]
          },
          "metadata": {
            "tags": []
          },
          "execution_count": 18
        }
      ]
    },
    {
      "cell_type": "markdown",
      "metadata": {
        "id": "eQfsx_U8FziC"
      },
      "source": [
        "Making features by hand may seem counterintuitive if we are using automated feature engineering, but the benefits of doing this before using Featuretools is that these features can be stacked on top of to build deep features. Automated feature engineering will therefore take our existing hand-built features and extract more value from them by combining them with other features.\n",
        "\n",
        "Another method to improve the power of deep feature synthesis is through interesting values, which specify conditional statements used to build features."
      ]
    },
    {
      "cell_type": "markdown",
      "metadata": {
        "id": "cOmfHHvdFziC"
      },
      "source": [
        "### Interesting Values\n",
        "\n",
        "In order to create conditional features, we can set interesting values for existing columns in the data. The following code will be used to build features conditional on the value of `is_cancel` and `is_auto_renew` in the transactions data. The primitives used for the conditional features are specified as `where_primitives` in the call to Deep Feature Synthesis. For example, if we used a `mean` primitive along with the following interesting values, we will get a mean of transactions where the transaction was cancelled, as well as the mean of transactions where the transaction was not cancelled. "
      ]
    },
    {
      "cell_type": "code",
      "metadata": {
        "id": "OaoJyrZmFziC"
      },
      "source": [
        "es['transactions']['is_cancel'].interesting_values = [0, 1]\n",
        "es['transactions']['is_auto_renew'].interesting_values = [0, 1]"
      ],
      "execution_count": 19,
      "outputs": []
    },
    {
      "cell_type": "markdown",
      "metadata": {
        "id": "pl5QvxYFFziC"
      },
      "source": [
        "# Relationships\n",
        "\n",
        "Table relationships should be familiar to anyone who has worked with relational databases and the idea is the same in Featuretools. We use relationships to specify how examples in one table relate to examples in other tables. The entityset structure for this problem is fairly simple as there are only three entities with two relationships.  `members` is the parent of `logs` and `transactions`. In both relationships, the parent and child variable is `msno`, the customer id.\n",
        "\n",
        "The two relationships are: one linking `members` to `transactions` and one linking `members` to `logs`. The order for relationships in featuretools is parent variable, child variable."
      ]
    },
    {
      "cell_type": "code",
      "metadata": {
        "id": "GTgK0BU3FziC",
        "colab": {
          "base_uri": "https://localhost:8080/"
        },
        "outputId": "5d57aec5-1640-4ede-a188-ad3656268e0a"
      },
      "source": [
        "# Relationships (parent, child)\n",
        "r_member_transactions = ft.Relationship(es['members']['msno'], es['transactions']['msno'])\n",
        "r_member_logs = ft.Relationship(es['members']['msno'], es['logs']['msno'])\n",
        "\n",
        "es.add_relationships([r_member_transactions, r_member_logs])"
      ],
      "execution_count": 20,
      "outputs": [
        {
          "output_type": "execute_result",
          "data": {
            "text/plain": [
              "Entityset: customers\n",
              "  Entities:\n",
              "    members [Rows: 6658, Columns: 6]\n",
              "    transactions [Rows: 22329, Columns: 13]\n",
              "    logs [Rows: 424252, Columns: 14]\n",
              "  Relationships:\n",
              "    transactions.msno -> members.msno\n",
              "    logs.msno -> members.msno"
            ]
          },
          "metadata": {
            "tags": []
          },
          "execution_count": 20
        }
      ]
    },
    {
      "cell_type": "markdown",
      "metadata": {
        "id": "VZ7T3NqTFziC"
      },
      "source": [
        "### Cutoff Times\n",
        "\n",
        "`cutoff_times` are a critical piece of any time based machine learning problem. The label times dataframe has columns of member id, cutoff time, and label. __For each cutoff time, only data from before the cutoff time can be used to build features for that label.__ This is one of the greatest advantages of Featuretools compared to manual feature engineering: __Featuretools automatically filters our data based on the cutoff times to ensure that all the features are valid for machine learning.__ Normally, we would have to take extreme care to make sure all of our features are valid, but Featreutools is able to implement the filtering logic behind the scenes for us.\n",
        "\n",
        "All we have to do is make sure to pass in the correct label times for the prediction problem we want to solve."
      ]
    },
    {
      "cell_type": "code",
      "metadata": {
        "id": "L7vvRnFtFziD",
        "colab": {
          "base_uri": "https://localhost:8080/",
          "height": 195
        },
        "outputId": "33066611-9c49-479c-dd96-07664f052479"
      },
      "source": [
        "cutoff_times = cutoff_times.drop_duplicates(subset = ['msno', 'cutoff_time'])\n",
        "cutoff_times.head()"
      ],
      "execution_count": 21,
      "outputs": [
        {
          "output_type": "execute_result",
          "data": {
            "text/html": [
              "<div>\n",
              "<style scoped>\n",
              "    .dataframe tbody tr th:only-of-type {\n",
              "        vertical-align: middle;\n",
              "    }\n",
              "\n",
              "    .dataframe tbody tr th {\n",
              "        vertical-align: top;\n",
              "    }\n",
              "\n",
              "    .dataframe thead th {\n",
              "        text-align: right;\n",
              "    }\n",
              "</style>\n",
              "<table border=\"1\" class=\"dataframe\">\n",
              "  <thead>\n",
              "    <tr style=\"text-align: right;\">\n",
              "      <th></th>\n",
              "      <th>msno</th>\n",
              "      <th>cutoff_time</th>\n",
              "      <th>label</th>\n",
              "      <th>days_to_churn</th>\n",
              "      <th>churn_date</th>\n",
              "    </tr>\n",
              "  </thead>\n",
              "  <tbody>\n",
              "    <tr>\n",
              "      <th>0</th>\n",
              "      <td>++bK0FRJecXCogqXdjtO2Kyb3jq7uLM7qThTk+nN8tE=</td>\n",
              "      <td>2015-08-01</td>\n",
              "      <td>0.0</td>\n",
              "      <td>NaN</td>\n",
              "      <td>NaN</td>\n",
              "    </tr>\n",
              "    <tr>\n",
              "      <th>1</th>\n",
              "      <td>++bK0FRJecXCogqXdjtO2Kyb3jq7uLM7qThTk+nN8tE=</td>\n",
              "      <td>2015-09-01</td>\n",
              "      <td>0.0</td>\n",
              "      <td>NaN</td>\n",
              "      <td>NaN</td>\n",
              "    </tr>\n",
              "    <tr>\n",
              "      <th>2</th>\n",
              "      <td>++bK0FRJecXCogqXdjtO2Kyb3jq7uLM7qThTk+nN8tE=</td>\n",
              "      <td>2015-10-01</td>\n",
              "      <td>0.0</td>\n",
              "      <td>NaN</td>\n",
              "      <td>NaN</td>\n",
              "    </tr>\n",
              "    <tr>\n",
              "      <th>3</th>\n",
              "      <td>++bK0FRJecXCogqXdjtO2Kyb3jq7uLM7qThTk+nN8tE=</td>\n",
              "      <td>2015-11-01</td>\n",
              "      <td>0.0</td>\n",
              "      <td>NaN</td>\n",
              "      <td>NaN</td>\n",
              "    </tr>\n",
              "    <tr>\n",
              "      <th>4</th>\n",
              "      <td>++bK0FRJecXCogqXdjtO2Kyb3jq7uLM7qThTk+nN8tE=</td>\n",
              "      <td>2015-12-01</td>\n",
              "      <td>0.0</td>\n",
              "      <td>NaN</td>\n",
              "      <td>NaN</td>\n",
              "    </tr>\n",
              "  </tbody>\n",
              "</table>\n",
              "</div>"
            ],
            "text/plain": [
              "                                           msno  ... churn_date\n",
              "0  ++bK0FRJecXCogqXdjtO2Kyb3jq7uLM7qThTk+nN8tE=  ...        NaN\n",
              "1  ++bK0FRJecXCogqXdjtO2Kyb3jq7uLM7qThTk+nN8tE=  ...        NaN\n",
              "2  ++bK0FRJecXCogqXdjtO2Kyb3jq7uLM7qThTk+nN8tE=  ...        NaN\n",
              "3  ++bK0FRJecXCogqXdjtO2Kyb3jq7uLM7qThTk+nN8tE=  ...        NaN\n",
              "4  ++bK0FRJecXCogqXdjtO2Kyb3jq7uLM7qThTk+nN8tE=  ...        NaN\n",
              "\n",
              "[5 rows x 5 columns]"
            ]
          },
          "metadata": {
            "tags": []
          },
          "execution_count": 21
        }
      ]
    },
    {
      "cell_type": "markdown",
      "metadata": {
        "id": "DrhXyaNZFziD"
      },
      "source": [
        "# Deep Feature Synthesis\n",
        "\n",
        "With the entities and relationships fully defined, we are ready to run [Deep Feature Synthesis (DFS)](https://www.featurelabs.com/blog/deep-feature-synthesis/). This process applies feature engineering building blocks called [feature primitives](https://docs.featuretools.com/automated_feature_engineering/primitives.html) to a dataset to build hundreds of features. Feature primitives are basic operations of two types - transforms and aggregations - that stack to build deep features (for more information see the previous linked resources). These includes many operations that we would traditionally carry out by hand, but automated feature engineering saves us from having to implement these features one at a time. \n",
        "\n",
        "The call to `ft.dfs` needs the entityset which holds all the tables and relationships between them, the `target_entity` to make features for, the specific primitives, the maximum stacking of primitives (`max_depth`), the `cutoff_times`, and a number of optional parameters.\n",
        "\n",
        "To start, we'll use the default aggregation and transformation primitives as well as two `where_primitives` and see how many features this generates. To only generate the definitions of the features, we pass in `features_only = True`.\n",
        "\n",
        "For full details on Deep Feature Synthesis, take a look at [the documentation](https://docs.featuretools.com/api_reference.html#deep-feature-synthesis). "
      ]
    },
    {
      "cell_type": "code",
      "metadata": {
        "id": "ljIWZSXeFziD"
      },
      "source": [
        "feature_defs = ft.dfs(entityset=es, target_entity='members', \n",
        "                      cutoff_time = cutoff_times,\n",
        "                      where_primitives = ['sum', 'mean'],\n",
        "                      max_depth=2, features_only=True)"
      ],
      "execution_count": 22,
      "outputs": []
    },
    {
      "cell_type": "code",
      "metadata": {
        "id": "cR77CPiPFziD",
        "colab": {
          "base_uri": "https://localhost:8080/"
        },
        "outputId": "b6e592fa-7592-4989-c461-eae12f3f4736"
      },
      "source": [
        "print(f'This will generate {len(feature_defs)} features.')"
      ],
      "execution_count": 23,
      "outputs": [
        {
          "output_type": "stream",
          "text": [
            "This will generate 188 features.\n"
          ],
          "name": "stdout"
        }
      ]
    },
    {
      "cell_type": "code",
      "metadata": {
        "id": "8SwOG0ydFziD",
        "colab": {
          "base_uri": "https://localhost:8080/"
        },
        "outputId": "1154b85d-a15e-4501-8d2c-787b034a8907"
      },
      "source": [
        "import random; random.seed(42)\n",
        "\n",
        "random.sample(feature_defs, 10)"
      ],
      "execution_count": 24,
      "outputs": [
        {
          "output_type": "execute_result",
          "data": {
            "text/plain": [
              "[<Feature: SUM(transactions.daily_price WHERE is_auto_renew = 1)>,\n",
              " <Feature: SKEW(transactions.daily_price)>,\n",
              " <Feature: MAX(transactions.daily_price)>,\n",
              " <Feature: MIN(logs.num_50)>,\n",
              " <Feature: MEAN(logs.num_unq)>,\n",
              " <Feature: MEAN(logs.num_100)>,\n",
              " <Feature: STD(transactions.payment_plan_days)>,\n",
              " <Feature: PERCENT_TRUE(transactions.is_cancel)>,\n",
              " <Feature: SUM(transactions.planned_daily_price WHERE is_cancel = 0)>,\n",
              " <Feature: MEAN(transactions.price_difference WHERE is_auto_renew = 1)>]"
            ]
          },
          "metadata": {
            "tags": []
          },
          "execution_count": 24
        }
      ]
    },
    {
      "cell_type": "markdown",
      "metadata": {
        "id": "r-ejamYhFziE"
      },
      "source": [
        "We can see that Featuretools has built almost 200 features automatically for us using the table relationships and feature primitives. If built by hand, each of these features would require minutes of work, totaling many hours to build 188 features. Moreover, although the features are not necessarily intuitive, they are easy to explain in natural language because they are simple operations stacked on top of each other."
      ]
    },
    {
      "cell_type": "markdown",
      "metadata": {
        "id": "VsTub24CFziE"
      },
      "source": [
        "## Specify Primitives \n",
        "\n",
        "Now we'll do a call to `ft.dfs` specifying the primitives to use. Often, these will depend on the problem and can involve domain knowledge. The best way to choose primitives is by trying out a variety and seeing which perform the best. Like many operations in machine learning, choosing primitives is still largely an empirical, rather than theoretical, practice."
      ]
    },
    {
      "cell_type": "markdown",
      "metadata": {
        "id": "PZVAyuzIFziE"
      },
      "source": [
        "### Aggregation Primitives"
      ]
    },
    {
      "cell_type": "code",
      "metadata": {
        "id": "4JM2i0UiFziE",
        "colab": {
          "base_uri": "https://localhost:8080/",
          "height": 195
        },
        "outputId": "37c95602-9541-40ea-d5b1-fc34a9aa0efc"
      },
      "source": [
        "all_p = ft.list_primitives()\n",
        "trans_p = all_p.loc[all_p['type'] == 'transform'].copy()\n",
        "agg_p = all_p.loc[all_p['type'] == 'aggregation'].copy()\n",
        "\n",
        "pd.options.display.max_colwidth = 100\n",
        "agg_p.head()"
      ],
      "execution_count": 25,
      "outputs": [
        {
          "output_type": "execute_result",
          "data": {
            "text/html": [
              "<div>\n",
              "<style scoped>\n",
              "    .dataframe tbody tr th:only-of-type {\n",
              "        vertical-align: middle;\n",
              "    }\n",
              "\n",
              "    .dataframe tbody tr th {\n",
              "        vertical-align: top;\n",
              "    }\n",
              "\n",
              "    .dataframe thead th {\n",
              "        text-align: right;\n",
              "    }\n",
              "</style>\n",
              "<table border=\"1\" class=\"dataframe\">\n",
              "  <thead>\n",
              "    <tr style=\"text-align: right;\">\n",
              "      <th></th>\n",
              "      <th>name</th>\n",
              "      <th>type</th>\n",
              "      <th>dask_compatible</th>\n",
              "      <th>koalas_compatible</th>\n",
              "      <th>description</th>\n",
              "    </tr>\n",
              "  </thead>\n",
              "  <tbody>\n",
              "    <tr>\n",
              "      <th>0</th>\n",
              "      <td>n_most_common</td>\n",
              "      <td>aggregation</td>\n",
              "      <td>False</td>\n",
              "      <td>False</td>\n",
              "      <td>Determines the `n` most common elements.</td>\n",
              "    </tr>\n",
              "    <tr>\n",
              "      <th>1</th>\n",
              "      <td>num_true</td>\n",
              "      <td>aggregation</td>\n",
              "      <td>True</td>\n",
              "      <td>False</td>\n",
              "      <td>Counts the number of `True` values.</td>\n",
              "    </tr>\n",
              "    <tr>\n",
              "      <th>2</th>\n",
              "      <td>entropy</td>\n",
              "      <td>aggregation</td>\n",
              "      <td>False</td>\n",
              "      <td>False</td>\n",
              "      <td>Calculates the entropy for a categorical variable</td>\n",
              "    </tr>\n",
              "    <tr>\n",
              "      <th>3</th>\n",
              "      <td>max</td>\n",
              "      <td>aggregation</td>\n",
              "      <td>True</td>\n",
              "      <td>True</td>\n",
              "      <td>Calculates the highest value, ignoring `NaN` values.</td>\n",
              "    </tr>\n",
              "    <tr>\n",
              "      <th>4</th>\n",
              "      <td>mode</td>\n",
              "      <td>aggregation</td>\n",
              "      <td>False</td>\n",
              "      <td>False</td>\n",
              "      <td>Determines the most commonly repeated value.</td>\n",
              "    </tr>\n",
              "  </tbody>\n",
              "</table>\n",
              "</div>"
            ],
            "text/plain": [
              "            name  ...                                           description\n",
              "0  n_most_common  ...              Determines the `n` most common elements.\n",
              "1       num_true  ...                   Counts the number of `True` values.\n",
              "2        entropy  ...     Calculates the entropy for a categorical variable\n",
              "3            max  ...  Calculates the highest value, ignoring `NaN` values.\n",
              "4           mode  ...          Determines the most commonly repeated value.\n",
              "\n",
              "[5 rows x 5 columns]"
            ]
          },
          "metadata": {
            "tags": []
          },
          "execution_count": 25
        }
      ]
    },
    {
      "cell_type": "code",
      "metadata": {
        "id": "OBvKddTSFziE"
      },
      "source": [
        "# Specify aggregation primitives\n",
        "agg_primitives = ['sum', 'time_since_last', 'avg_time_between', 'all', 'mode', 'num_unique', 'min', 'last', \n",
        "                  'mean', 'percent_true', 'max', 'std', 'count']"
      ],
      "execution_count": 47,
      "outputs": []
    },
    {
      "cell_type": "markdown",
      "metadata": {
        "id": "bAmhD8qJFziF"
      },
      "source": [
        "## Transform Primitives"
      ]
    },
    {
      "cell_type": "code",
      "metadata": {
        "id": "70b_mF5HFziF",
        "colab": {
          "base_uri": "https://localhost:8080/",
          "height": 195
        },
        "outputId": "f45f3ed1-3d4a-4741-f06e-ef7ab2a2defb"
      },
      "source": [
        "trans_p.tail()"
      ],
      "execution_count": 27,
      "outputs": [
        {
          "output_type": "execute_result",
          "data": {
            "text/html": [
              "<div>\n",
              "<style scoped>\n",
              "    .dataframe tbody tr th:only-of-type {\n",
              "        vertical-align: middle;\n",
              "    }\n",
              "\n",
              "    .dataframe tbody tr th {\n",
              "        vertical-align: top;\n",
              "    }\n",
              "\n",
              "    .dataframe thead th {\n",
              "        text-align: right;\n",
              "    }\n",
              "</style>\n",
              "<table border=\"1\" class=\"dataframe\">\n",
              "  <thead>\n",
              "    <tr style=\"text-align: right;\">\n",
              "      <th></th>\n",
              "      <th>name</th>\n",
              "      <th>type</th>\n",
              "      <th>dask_compatible</th>\n",
              "      <th>koalas_compatible</th>\n",
              "      <th>description</th>\n",
              "    </tr>\n",
              "  </thead>\n",
              "  <tbody>\n",
              "    <tr>\n",
              "      <th>74</th>\n",
              "      <td>age</td>\n",
              "      <td>transform</td>\n",
              "      <td>True</td>\n",
              "      <td>False</td>\n",
              "      <td>Calculates the age in years as a floating point number given a</td>\n",
              "    </tr>\n",
              "    <tr>\n",
              "      <th>75</th>\n",
              "      <td>less_than_equal_to_scalar</td>\n",
              "      <td>transform</td>\n",
              "      <td>True</td>\n",
              "      <td>True</td>\n",
              "      <td>Determines if values are less than or equal to a given scalar.</td>\n",
              "    </tr>\n",
              "    <tr>\n",
              "      <th>76</th>\n",
              "      <td>minute</td>\n",
              "      <td>transform</td>\n",
              "      <td>True</td>\n",
              "      <td>True</td>\n",
              "      <td>Determines the minutes value of a datetime.</td>\n",
              "    </tr>\n",
              "    <tr>\n",
              "      <th>77</th>\n",
              "      <td>modulo_numeric_scalar</td>\n",
              "      <td>transform</td>\n",
              "      <td>True</td>\n",
              "      <td>True</td>\n",
              "      <td>Return the modulo of each element in the list by a scalar.</td>\n",
              "    </tr>\n",
              "    <tr>\n",
              "      <th>78</th>\n",
              "      <td>divide_by_feature</td>\n",
              "      <td>transform</td>\n",
              "      <td>True</td>\n",
              "      <td>True</td>\n",
              "      <td>Divide a scalar by each value in the list.</td>\n",
              "    </tr>\n",
              "  </tbody>\n",
              "</table>\n",
              "</div>"
            ],
            "text/plain": [
              "                         name  ...                                                     description\n",
              "74                        age  ...  Calculates the age in years as a floating point number given a\n",
              "75  less_than_equal_to_scalar  ...  Determines if values are less than or equal to a given scalar.\n",
              "76                     minute  ...                     Determines the minutes value of a datetime.\n",
              "77      modulo_numeric_scalar  ...      Return the modulo of each element in the list by a scalar.\n",
              "78          divide_by_feature  ...                      Divide a scalar by each value in the list.\n",
              "\n",
              "[5 rows x 5 columns]"
            ]
          },
          "metadata": {
            "tags": []
          },
          "execution_count": 27
        }
      ]
    },
    {
      "cell_type": "code",
      "metadata": {
        "id": "8tFwJ9KsFziF"
      },
      "source": [
        "# Specify transformation primitives\n",
        "trans_primitives = ['weekend', 'cum_sum', 'day', 'month', 'diff', 'time_since_previous']"
      ],
      "execution_count": 45,
      "outputs": []
    },
    {
      "cell_type": "markdown",
      "metadata": {
        "id": "xNtVofS8FziF"
      },
      "source": [
        "### Where Primitives\n",
        "\n",
        "These primitives are applied to the `interesting_values` to build conditional features. "
      ]
    },
    {
      "cell_type": "code",
      "metadata": {
        "id": "mxxuJMH-FziF"
      },
      "source": [
        "# Specify where primitives\n",
        "where_primitives = ['sum', 'mean', 'percent_true', 'all', 'any']"
      ],
      "execution_count": 46,
      "outputs": []
    },
    {
      "cell_type": "markdown",
      "metadata": {
        "id": "bVa3L79QFziF"
      },
      "source": [
        "## Custom Primitives\n",
        "\n",
        "[Custom primitives](https://docs.featuretools.com/automated_feature_engineering/primitives.html#defining-custom-primitives) are one of the most powerful options in Featuretools. We use custom primitives to write our own functions based on domain knowledge and then pass them to `dfs` like any other primitives. Featuretools will then stack our custom primitives with the other primitives, again, in effect, amplifying our domain knowledge.\n",
        "\n",
        "For this problem, I wrote a custom primitive that calculates the sum of a value in the month prior to the cutoff time. This is actually a primitive I [wrote for another problem](https://github.com/Featuretools/Automated-Manual-Comparison/tree/master/Retail%20Spending) but I can apply it to this problem because primitives are data agnostic. That's one of the benefits of feature primitives: they can work for any problem and writing a custom primitive will pay off many times over."
      ]
    },
    {
      "cell_type": "code",
      "metadata": {
        "id": "4oD6yxW9FziF"
      },
      "source": [
        "from featuretools.primitives import make_agg_primitive\n",
        "\n",
        "def total_previous_month(numeric, datetime, time):\n",
        "    \"\"\"Return total of `numeric` column in the month prior to `time`.\"\"\"\n",
        "    df = pd.DataFrame({'value': numeric, 'date': datetime})\n",
        "    previous_month = time.month - 1\n",
        "    year = time.year\n",
        "   \n",
        "    # Handle January\n",
        "    if previous_month == 0:\n",
        "        previous_month = 12\n",
        "        year = time.year - 1\n",
        "        \n",
        "    # Filter data and sum up total\n",
        "    df = df[(df['date'].dt.month == previous_month) & (df['date'].dt.year == year)]\n",
        "    total = df['value'].sum()\n",
        "    \n",
        "    return total"
      ],
      "execution_count": 30,
      "outputs": []
    },
    {
      "cell_type": "code",
      "metadata": {
        "id": "pGLDO1elFziG",
        "colab": {
          "base_uri": "https://localhost:8080/",
          "height": 295
        },
        "outputId": "644da5bd-bd18-44db-85ee-fee13029a2e3"
      },
      "source": [
        "numeric = [10, 12, 14, 15, 19, 22, 9, 8, 8, 11]\n",
        "dates = pd.date_range('2018-01-01', '2018-03-01', periods = len(numeric))\n",
        "pd.DataFrame({'value': numeric, 'date': dates}).head(6)\n",
        "total_previous_month(numeric, dates, pd.datetime(2018, 2, 1))"
      ],
      "execution_count": 31,
      "outputs": [
        {
          "output_type": "execute_result",
          "data": {
            "text/html": [
              "<div>\n",
              "<style scoped>\n",
              "    .dataframe tbody tr th:only-of-type {\n",
              "        vertical-align: middle;\n",
              "    }\n",
              "\n",
              "    .dataframe tbody tr th {\n",
              "        vertical-align: top;\n",
              "    }\n",
              "\n",
              "    .dataframe thead th {\n",
              "        text-align: right;\n",
              "    }\n",
              "</style>\n",
              "<table border=\"1\" class=\"dataframe\">\n",
              "  <thead>\n",
              "    <tr style=\"text-align: right;\">\n",
              "      <th></th>\n",
              "      <th>value</th>\n",
              "      <th>date</th>\n",
              "    </tr>\n",
              "  </thead>\n",
              "  <tbody>\n",
              "    <tr>\n",
              "      <th>0</th>\n",
              "      <td>10</td>\n",
              "      <td>2018-01-01 00:00:00</td>\n",
              "    </tr>\n",
              "    <tr>\n",
              "      <th>1</th>\n",
              "      <td>12</td>\n",
              "      <td>2018-01-07 13:20:00</td>\n",
              "    </tr>\n",
              "    <tr>\n",
              "      <th>2</th>\n",
              "      <td>14</td>\n",
              "      <td>2018-01-14 02:40:00</td>\n",
              "    </tr>\n",
              "    <tr>\n",
              "      <th>3</th>\n",
              "      <td>15</td>\n",
              "      <td>2018-01-20 16:00:00</td>\n",
              "    </tr>\n",
              "    <tr>\n",
              "      <th>4</th>\n",
              "      <td>19</td>\n",
              "      <td>2018-01-27 05:20:00</td>\n",
              "    </tr>\n",
              "    <tr>\n",
              "      <th>5</th>\n",
              "      <td>22</td>\n",
              "      <td>2018-02-02 18:40:00</td>\n",
              "    </tr>\n",
              "  </tbody>\n",
              "</table>\n",
              "</div>"
            ],
            "text/plain": [
              "   value                date\n",
              "0     10 2018-01-01 00:00:00\n",
              "1     12 2018-01-07 13:20:00\n",
              "2     14 2018-01-14 02:40:00\n",
              "3     15 2018-01-20 16:00:00\n",
              "4     19 2018-01-27 05:20:00\n",
              "5     22 2018-02-02 18:40:00"
            ]
          },
          "metadata": {
            "tags": []
          },
          "execution_count": 31
        },
        {
          "output_type": "stream",
          "text": [
            "/usr/local/lib/python3.6/dist-packages/ipykernel_launcher.py:4: FutureWarning: The pandas.datetime class is deprecated and will be removed from pandas in a future version. Import from datetime instead.\n",
            "  after removing the cwd from sys.path.\n"
          ],
          "name": "stderr"
        },
        {
          "output_type": "execute_result",
          "data": {
            "text/plain": [
              "70"
            ]
          },
          "metadata": {
            "tags": []
          },
          "execution_count": 31
        }
      ]
    },
    {
      "cell_type": "code",
      "metadata": {
        "id": "6MvE6ANjFziG",
        "colab": {
          "base_uri": "https://localhost:8080/",
          "height": 295
        },
        "outputId": "731bd739-6d73-4d70-840d-c56ff63482b2"
      },
      "source": [
        "numeric = [10, 12, 14, 5, 7, 8]\n",
        "dates = pd.date_range('2018-01-01', '2018-03-01', periods = len(numeric))\n",
        "pd.DataFrame({'value': numeric, 'date': dates}).head(6)\n",
        "total_previous_month(numeric, dates, pd.datetime(2018, 3, 1))"
      ],
      "execution_count": 32,
      "outputs": [
        {
          "output_type": "execute_result",
          "data": {
            "text/html": [
              "<div>\n",
              "<style scoped>\n",
              "    .dataframe tbody tr th:only-of-type {\n",
              "        vertical-align: middle;\n",
              "    }\n",
              "\n",
              "    .dataframe tbody tr th {\n",
              "        vertical-align: top;\n",
              "    }\n",
              "\n",
              "    .dataframe thead th {\n",
              "        text-align: right;\n",
              "    }\n",
              "</style>\n",
              "<table border=\"1\" class=\"dataframe\">\n",
              "  <thead>\n",
              "    <tr style=\"text-align: right;\">\n",
              "      <th></th>\n",
              "      <th>value</th>\n",
              "      <th>date</th>\n",
              "    </tr>\n",
              "  </thead>\n",
              "  <tbody>\n",
              "    <tr>\n",
              "      <th>0</th>\n",
              "      <td>10</td>\n",
              "      <td>2018-01-01 00:00:00</td>\n",
              "    </tr>\n",
              "    <tr>\n",
              "      <th>1</th>\n",
              "      <td>12</td>\n",
              "      <td>2018-01-12 19:12:00</td>\n",
              "    </tr>\n",
              "    <tr>\n",
              "      <th>2</th>\n",
              "      <td>14</td>\n",
              "      <td>2018-01-24 14:24:00</td>\n",
              "    </tr>\n",
              "    <tr>\n",
              "      <th>3</th>\n",
              "      <td>5</td>\n",
              "      <td>2018-02-05 09:36:00</td>\n",
              "    </tr>\n",
              "    <tr>\n",
              "      <th>4</th>\n",
              "      <td>7</td>\n",
              "      <td>2018-02-17 04:48:00</td>\n",
              "    </tr>\n",
              "    <tr>\n",
              "      <th>5</th>\n",
              "      <td>8</td>\n",
              "      <td>2018-03-01 00:00:00</td>\n",
              "    </tr>\n",
              "  </tbody>\n",
              "</table>\n",
              "</div>"
            ],
            "text/plain": [
              "   value                date\n",
              "0     10 2018-01-01 00:00:00\n",
              "1     12 2018-01-12 19:12:00\n",
              "2     14 2018-01-24 14:24:00\n",
              "3      5 2018-02-05 09:36:00\n",
              "4      7 2018-02-17 04:48:00\n",
              "5      8 2018-03-01 00:00:00"
            ]
          },
          "metadata": {
            "tags": []
          },
          "execution_count": 32
        },
        {
          "output_type": "stream",
          "text": [
            "/usr/local/lib/python3.6/dist-packages/ipykernel_launcher.py:4: FutureWarning: The pandas.datetime class is deprecated and will be removed from pandas in a future version. Import from datetime instead.\n",
            "  after removing the cwd from sys.path.\n"
          ],
          "name": "stderr"
        },
        {
          "output_type": "execute_result",
          "data": {
            "text/plain": [
              "12"
            ]
          },
          "metadata": {
            "tags": []
          },
          "execution_count": 32
        }
      ]
    },
    {
      "cell_type": "markdown",
      "metadata": {
        "id": "e9DrPXoNFziG"
      },
      "source": [
        "### Custom Primitive Implementation\n",
        "\n",
        "Making a custom primitive is simple: first we define a function (`total_previous_month`) and then we `make_agg_primitive` with `input_type[s]`, a `return_type`, and whether or not the primitive requires the `cutoff_time` through `uses_calc_time`. \n",
        "\n",
        "This primitive is an aggregation primitive because it takes in multiple numbers - transactions for the previous month - and returns a single number - the total of the transactions. "
      ]
    },
    {
      "cell_type": "code",
      "metadata": {
        "id": "pSRAwjTfFziG"
      },
      "source": [
        "# Takes in a number and outputs a number\n",
        "total_previous = make_agg_primitive(total_previous_month, input_types = [ft.variable_types.Numeric,\n",
        "                                                                         ft.variable_types.Datetime],\n",
        "                                    return_type = ft.variable_types.Numeric, \n",
        "                                    uses_calc_time = True)"
      ],
      "execution_count": 33,
      "outputs": []
    },
    {
      "cell_type": "markdown",
      "metadata": {
        "id": "SDCJYAkkFziG"
      },
      "source": [
        "Now just have to pass this in as another aggregation primitive for Featuretools to use it in calculations.\n",
        "\n",
        "\n",
        "The second custom primitive finds the time since a previous true value. This is originally intended for the `is_cancel` variable in the `transactions` dataframe, but it can work for any Boolean variable. It simply finds the time between True examples."
      ]
    },
    {
      "cell_type": "code",
      "metadata": {
        "id": "fPal-6tXFziH"
      },
      "source": [
        "def time_since_true(boolean, datetime):\n",
        "    \"\"\"Calculate time since previous true value\"\"\"\n",
        "    \n",
        "    if np.any(np.array(list(boolean)) == 1):\n",
        "        # Create dataframe sorted from oldest to newest \n",
        "        df = pd.DataFrame({'value': boolean, 'date': datetime}).\\\n",
        "                sort_values('date', ascending = False).reset_index()\n",
        "\n",
        "        older_date = None\n",
        "\n",
        "        # Iterate through each date in reverse order\n",
        "        for date in df.loc[df['value'] == 1, 'date']:\n",
        "\n",
        "            # If there was no older true value\n",
        "            if older_date == None:\n",
        "                # Subset to times on or after true\n",
        "                times_after_idx = df.loc[df['date'] >= date].index\n",
        "\n",
        "            else:\n",
        "                # Subset to times on or after true but before previous true\n",
        "                times_after_idx = df.loc[(df['date'] >= date) & (df['date'] < older_date)].index\n",
        "            older_date = date\n",
        "            # Calculate time since previous true\n",
        "            df.loc[times_after_idx, 'time_since_previous'] = (df.loc[times_after_idx, 'date'] - date).dt.total_seconds()\n",
        "\n",
        "        return list(df['time_since_previous'])[::-1]\n",
        "    \n",
        "    # Handle case with no true values\n",
        "    else:\n",
        "        return [np.nan for _ in range(len(boolean))]"
      ],
      "execution_count": 34,
      "outputs": []
    },
    {
      "cell_type": "code",
      "metadata": {
        "id": "EN8gAGtVFziH",
        "colab": {
          "base_uri": "https://localhost:8080/"
        },
        "outputId": "ae5e571f-477c-4608-84ba-5f0e685eeca6"
      },
      "source": [
        "booleans = []\n",
        "dates = []\n",
        "df = pd.DataFrame({'value': booleans, 'date': dates})\n",
        "time_since_true(df['value'], df['date'])"
      ],
      "execution_count": 35,
      "outputs": [
        {
          "output_type": "execute_result",
          "data": {
            "text/plain": [
              "[]"
            ]
          },
          "metadata": {
            "tags": []
          },
          "execution_count": 35
        }
      ]
    },
    {
      "cell_type": "code",
      "metadata": {
        "id": "LRPByOSrFziH",
        "colab": {
          "base_uri": "https://localhost:8080/"
        },
        "outputId": "a6bb65e5-129c-4695-e285-b893e2190c63"
      },
      "source": [
        "booleans = [1, 0, 0, 0, 0, 1, 1, 1, 0, 0, 0]\n",
        "dates = pd.date_range('2018-01-01', '2018-03-01', periods = len(booleans))\n",
        "df = pd.DataFrame({'value': booleans, 'date': dates})\n",
        "time_since_true(df['value'], df['date'])"
      ],
      "execution_count": 36,
      "outputs": [
        {
          "output_type": "execute_result",
          "data": {
            "text/plain": [
              "[0.0,\n",
              " 509760.00000000006,\n",
              " 1019520.0000000001,\n",
              " 1529280.0,\n",
              " 2039040.0000000002,\n",
              " 0.0,\n",
              " 0.0,\n",
              " 0.0,\n",
              " 509760.00000000006,\n",
              " 1019520.0000000001,\n",
              " 1529280.0]"
            ]
          },
          "metadata": {
            "tags": []
          },
          "execution_count": 36
        }
      ]
    },
    {
      "cell_type": "code",
      "metadata": {
        "id": "a7_74rFXFziH",
        "colab": {
          "base_uri": "https://localhost:8080/"
        },
        "outputId": "b3e9ad4c-7c64-452e-a986-f44481cee239"
      },
      "source": [
        "booleans = [1, 0, 0]\n",
        "dates = pd.date_range('2018-01-01', '2018-03-01', periods = len(booleans))\n",
        "time_since_true(booleans, dates)"
      ],
      "execution_count": 37,
      "outputs": [
        {
          "output_type": "execute_result",
          "data": {
            "text/plain": [
              "[0.0, 2548800.0, 5097600.0]"
            ]
          },
          "metadata": {
            "tags": []
          },
          "execution_count": 37
        }
      ]
    },
    {
      "cell_type": "code",
      "metadata": {
        "id": "uw6D-DxYFziH",
        "colab": {
          "base_uri": "https://localhost:8080/"
        },
        "outputId": "47975cbf-3da7-4563-b025-4e71974aaf0f"
      },
      "source": [
        "booleans = [0, 0]\n",
        "dates = pd.date_range('2018-01-01', '2018-03-01', periods = len(booleans))\n",
        "time_since_true(booleans, dates)"
      ],
      "execution_count": 38,
      "outputs": [
        {
          "output_type": "execute_result",
          "data": {
            "text/plain": [
              "[nan, nan]"
            ]
          },
          "metadata": {
            "tags": []
          },
          "execution_count": 38
        }
      ]
    },
    {
      "cell_type": "markdown",
      "metadata": {
        "id": "I1tlHueoFziI"
      },
      "source": [
        "This is a transformation primitive since it acts on multiple columns in the same table. The returned list is the same length as the original column."
      ]
    },
    {
      "cell_type": "code",
      "metadata": {
        "id": "XKmGNeR_FziI"
      },
      "source": [
        "from featuretools.primitives import make_trans_primitive\n",
        "\n",
        "# Specify the inputs and return\n",
        "time_since = make_trans_primitive(time_since_true, \n",
        "                                  input_types = [vtypes.Boolean, vtypes.Datetime],\n",
        "                                  return_type = vtypes.Numeric)"
      ],
      "execution_count": 39,
      "outputs": []
    },
    {
      "cell_type": "markdown",
      "metadata": {
        "id": "OxdrMX2sFziI"
      },
      "source": [
        "Let's add the two custom primitives to the respective lists. In the final version of feature engineering, I did not use the `time_since` primitive. I ran into problems with the implementation but would encourage anyone to try and fix it or build their own custom primitive[s]."
      ]
    },
    {
      "cell_type": "code",
      "metadata": {
        "id": "b_KFWE7wFziI"
      },
      "source": [
        "agg_primitives.append(total_previous)\n",
        "# trans_primitives.append(time_since)"
      ],
      "execution_count": 40,
      "outputs": []
    },
    {
      "cell_type": "markdown",
      "metadata": {
        "id": "ZqIcl3ECFziI"
      },
      "source": [
        "## Deep Feature Synthesis with Specified Primitives\n",
        "\n",
        "We'll again run Deep Feature Synthesis to make the feature definitions this time using the selected primitives and the custom primitives. "
      ]
    },
    {
      "cell_type": "code",
      "metadata": {
        "id": "aJ1LWQZ7FziI",
        "colab": {
          "base_uri": "https://localhost:8080/",
          "height": 337
        },
        "outputId": "3a511bf4-0d9b-4358-b11e-530a72eed173"
      },
      "source": [
        "feature_defs = ft.dfs(entityset=es, target_entity='members', \n",
        "                      cutoff_time = cutoff_times, \n",
        "                      agg_primitives = agg_primitives,\n",
        "                      trans_primitives = trans_primitives,\n",
        "                      where_primitives = where_primitives,\n",
        "                      chunk_size = len(cutoff_times), \n",
        "                      cutoff_time_in_index = True,\n",
        "                      max_depth = 2, features_only = True)"
      ],
      "execution_count": 44,
      "outputs": [
        {
          "output_type": "error",
          "ename": "ValueError",
          "evalue": "ignored",
          "traceback": [
            "\u001b[0;31m---------------------------------------------------------------------------\u001b[0m",
            "\u001b[0;31mValueError\u001b[0m                                Traceback (most recent call last)",
            "\u001b[0;32m<ipython-input-44-ae858fd28392>\u001b[0m in \u001b[0;36m<module>\u001b[0;34m()\u001b[0m\n\u001b[1;32m      6\u001b[0m                       \u001b[0mchunk_size\u001b[0m \u001b[0;34m=\u001b[0m \u001b[0mlen\u001b[0m\u001b[0;34m(\u001b[0m\u001b[0mcutoff_times\u001b[0m\u001b[0;34m)\u001b[0m\u001b[0;34m,\u001b[0m\u001b[0;34m\u001b[0m\u001b[0;34m\u001b[0m\u001b[0m\n\u001b[1;32m      7\u001b[0m                       \u001b[0mcutoff_time_in_index\u001b[0m \u001b[0;34m=\u001b[0m \u001b[0;32mTrue\u001b[0m\u001b[0;34m,\u001b[0m\u001b[0;34m\u001b[0m\u001b[0;34m\u001b[0m\u001b[0m\n\u001b[0;32m----> 8\u001b[0;31m                       max_depth = 2, features_only = False)\n\u001b[0m",
            "\u001b[0;32m/usr/local/lib/python3.6/dist-packages/featuretools/utils/entry_point.py\u001b[0m in \u001b[0;36mfunction_wrapper\u001b[0;34m(*args, **kwargs)\u001b[0m\n\u001b[1;32m     38\u001b[0m                     ep.on_error(error=e,\n\u001b[1;32m     39\u001b[0m                                 runtime=runtime)\n\u001b[0;32m---> 40\u001b[0;31m                 \u001b[0;32mraise\u001b[0m \u001b[0me\u001b[0m\u001b[0;34m\u001b[0m\u001b[0;34m\u001b[0m\u001b[0m\n\u001b[0m\u001b[1;32m     41\u001b[0m \u001b[0;34m\u001b[0m\u001b[0m\n\u001b[1;32m     42\u001b[0m             \u001b[0;31m# send return value\u001b[0m\u001b[0;34m\u001b[0m\u001b[0;34m\u001b[0m\u001b[0;34m\u001b[0m\u001b[0m\n",
            "\u001b[0;32m/usr/local/lib/python3.6/dist-packages/featuretools/utils/entry_point.py\u001b[0m in \u001b[0;36mfunction_wrapper\u001b[0;34m(*args, **kwargs)\u001b[0m\n\u001b[1;32m     30\u001b[0m                 \u001b[0;31m# call function\u001b[0m\u001b[0;34m\u001b[0m\u001b[0;34m\u001b[0m\u001b[0;34m\u001b[0m\u001b[0m\n\u001b[1;32m     31\u001b[0m                 \u001b[0mstart\u001b[0m \u001b[0;34m=\u001b[0m \u001b[0mtime\u001b[0m\u001b[0;34m.\u001b[0m\u001b[0mtime\u001b[0m\u001b[0;34m(\u001b[0m\u001b[0;34m)\u001b[0m\u001b[0;34m\u001b[0m\u001b[0;34m\u001b[0m\u001b[0m\n\u001b[0;32m---> 32\u001b[0;31m                 \u001b[0mreturn_value\u001b[0m \u001b[0;34m=\u001b[0m \u001b[0mfunc\u001b[0m\u001b[0;34m(\u001b[0m\u001b[0;34m*\u001b[0m\u001b[0margs\u001b[0m\u001b[0;34m,\u001b[0m \u001b[0;34m**\u001b[0m\u001b[0mkwargs\u001b[0m\u001b[0;34m)\u001b[0m\u001b[0;34m\u001b[0m\u001b[0;34m\u001b[0m\u001b[0m\n\u001b[0m\u001b[1;32m     33\u001b[0m                 \u001b[0mruntime\u001b[0m \u001b[0;34m=\u001b[0m \u001b[0mtime\u001b[0m\u001b[0;34m.\u001b[0m\u001b[0mtime\u001b[0m\u001b[0;34m(\u001b[0m\u001b[0;34m)\u001b[0m \u001b[0;34m-\u001b[0m \u001b[0mstart\u001b[0m\u001b[0;34m\u001b[0m\u001b[0;34m\u001b[0m\u001b[0m\n\u001b[1;32m     34\u001b[0m             \u001b[0;32mexcept\u001b[0m \u001b[0mException\u001b[0m \u001b[0;32mas\u001b[0m \u001b[0me\u001b[0m\u001b[0;34m:\u001b[0m\u001b[0;34m\u001b[0m\u001b[0;34m\u001b[0m\u001b[0m\n",
            "\u001b[0;32m/usr/local/lib/python3.6/dist-packages/featuretools/synthesis/dfs.py\u001b[0m in \u001b[0;36mdfs\u001b[0;34m(entities, relationships, entityset, target_entity, cutoff_time, instance_ids, agg_primitives, trans_primitives, groupby_trans_primitives, allowed_paths, max_depth, ignore_entities, ignore_variables, primitive_options, seed_features, drop_contains, drop_exact, where_primitives, max_features, cutoff_time_in_index, save_progress, features_only, training_window, approximate, chunk_size, n_jobs, dask_kwargs, verbose, return_variable_types, progress_callback, include_cutoff_time)\u001b[0m\n\u001b[1;32m    257\u001b[0m                                       \u001b[0mprimitive_options\u001b[0m\u001b[0;34m=\u001b[0m\u001b[0mprimitive_options\u001b[0m\u001b[0;34m,\u001b[0m\u001b[0;34m\u001b[0m\u001b[0;34m\u001b[0m\u001b[0m\n\u001b[1;32m    258\u001b[0m                                       \u001b[0mmax_features\u001b[0m\u001b[0;34m=\u001b[0m\u001b[0mmax_features\u001b[0m\u001b[0;34m,\u001b[0m\u001b[0;34m\u001b[0m\u001b[0;34m\u001b[0m\u001b[0m\n\u001b[0;32m--> 259\u001b[0;31m                                       seed_features=seed_features)\n\u001b[0m\u001b[1;32m    260\u001b[0m \u001b[0;34m\u001b[0m\u001b[0m\n\u001b[1;32m    261\u001b[0m     features = dfs_object.build_features(\n",
            "\u001b[0;32m/usr/local/lib/python3.6/dist-packages/featuretools/synthesis/deep_feature_synthesis.py\u001b[0m in \u001b[0;36m__init__\u001b[0;34m(self, target_entity_id, entityset, agg_primitives, trans_primitives, where_primitives, groupby_trans_primitives, max_depth, max_features, allowed_paths, ignore_entities, ignore_variables, primitive_options, seed_features, drop_contains, drop_exact, where_stacking_limit)\u001b[0m\n\u001b[1;32m    211\u001b[0m         \u001b[0mself\u001b[0m\u001b[0;34m.\u001b[0m\u001b[0mtrans_primitives\u001b[0m \u001b[0;34m=\u001b[0m \u001b[0;34m[\u001b[0m\u001b[0;34m]\u001b[0m\u001b[0;34m\u001b[0m\u001b[0;34m\u001b[0m\u001b[0m\n\u001b[1;32m    212\u001b[0m         \u001b[0;32mfor\u001b[0m \u001b[0mt\u001b[0m \u001b[0;32min\u001b[0m \u001b[0mtrans_primitives\u001b[0m\u001b[0;34m:\u001b[0m\u001b[0;34m\u001b[0m\u001b[0;34m\u001b[0m\u001b[0m\n\u001b[0;32m--> 213\u001b[0;31m             \u001b[0mt\u001b[0m \u001b[0;34m=\u001b[0m \u001b[0mcheck_trans_primitive\u001b[0m\u001b[0;34m(\u001b[0m\u001b[0mt\u001b[0m\u001b[0;34m)\u001b[0m\u001b[0;34m\u001b[0m\u001b[0;34m\u001b[0m\u001b[0m\n\u001b[0m\u001b[1;32m    214\u001b[0m             \u001b[0mself\u001b[0m\u001b[0;34m.\u001b[0m\u001b[0mtrans_primitives\u001b[0m\u001b[0;34m.\u001b[0m\u001b[0mappend\u001b[0m\u001b[0;34m(\u001b[0m\u001b[0mt\u001b[0m\u001b[0;34m)\u001b[0m\u001b[0;34m\u001b[0m\u001b[0;34m\u001b[0m\u001b[0m\n\u001b[1;32m    215\u001b[0m         \u001b[0mself\u001b[0m\u001b[0;34m.\u001b[0m\u001b[0mtrans_primitives\u001b[0m\u001b[0;34m.\u001b[0m\u001b[0msort\u001b[0m\u001b[0;34m(\u001b[0m\u001b[0;34m)\u001b[0m\u001b[0;34m\u001b[0m\u001b[0;34m\u001b[0m\u001b[0m\n",
            "\u001b[0;32m/usr/local/lib/python3.6/dist-packages/featuretools/synthesis/deep_feature_synthesis.py\u001b[0m in \u001b[0;36mcheck_trans_primitive\u001b[0;34m(primitive)\u001b[0m\n\u001b[1;32m    927\u001b[0m             raise ValueError(\"Unknown transform primitive {}. \".format(primitive),\n\u001b[1;32m    928\u001b[0m                              \u001b[0;34m\"Call ft.primitives.list_primitives() to get\"\u001b[0m\u001b[0;34m,\u001b[0m\u001b[0;34m\u001b[0m\u001b[0;34m\u001b[0m\u001b[0m\n\u001b[0;32m--> 929\u001b[0;31m                              \" a list of available primitives\")\n\u001b[0m\u001b[1;32m    930\u001b[0m         \u001b[0mprimitive\u001b[0m \u001b[0;34m=\u001b[0m \u001b[0mtrans_prim_dict\u001b[0m\u001b[0;34m[\u001b[0m\u001b[0mprimitive\u001b[0m\u001b[0;34m.\u001b[0m\u001b[0mlower\u001b[0m\u001b[0;34m(\u001b[0m\u001b[0;34m)\u001b[0m\u001b[0;34m]\u001b[0m\u001b[0;34m\u001b[0m\u001b[0;34m\u001b[0m\u001b[0m\n\u001b[1;32m    931\u001b[0m     \u001b[0mprimitive\u001b[0m \u001b[0;34m=\u001b[0m \u001b[0mhandle_primitive\u001b[0m\u001b[0;34m(\u001b[0m\u001b[0mprimitive\u001b[0m\u001b[0;34m)\u001b[0m\u001b[0;34m\u001b[0m\u001b[0;34m\u001b[0m\u001b[0m\n",
            "\u001b[0;31mValueError\u001b[0m: ('Unknown transform primitive weekend. ', 'Call ft.primitives.list_primitives() to get', ' a list of available primitives')"
          ]
        }
      ]
    },
    {
      "cell_type": "code",
      "metadata": {
        "id": "cqnaCS8zFziI",
        "colab": {
          "base_uri": "https://localhost:8080/"
        },
        "outputId": "f8564bd5-f257-4427-d298-253f2bdcd664"
      },
      "source": [
        "print(f'This will generate {len(feature_defs)} features.')"
      ],
      "execution_count": 43,
      "outputs": [
        {
          "output_type": "stream",
          "text": [
            "This will generate 188 features.\n"
          ],
          "name": "stdout"
        }
      ]
    },
    {
      "cell_type": "code",
      "metadata": {
        "id": "VBj5qCl2FziJ",
        "colab": {
          "base_uri": "https://localhost:8080/"
        },
        "outputId": "63184636-4103-4cbd-b944-4e161cc7e0a1"
      },
      "source": [
        "random.sample(feature_defs, 15)"
      ],
      "execution_count": 48,
      "outputs": [
        {
          "output_type": "execute_result",
          "data": {
            "text/plain": [
              "[<Feature: MIN(transactions.price_difference)>,\n",
              " <Feature: NUM_UNIQUE(transactions.MONTH(transaction_date))>,\n",
              " <Feature: SUM(logs.percent_unique)>,\n",
              " <Feature: MAX(transactions.plan_list_price)>,\n",
              " <Feature: MAX(transactions.payment_plan_days)>,\n",
              " <Feature: MODE(transactions.payment_method_id)>,\n",
              " <Feature: MAX(logs.total)>,\n",
              " <Feature: MEAN(logs.num_50)>,\n",
              " <Feature: MEAN(transactions.plan_list_price WHERE is_cancel = 0)>,\n",
              " <Feature: NUM_UNIQUE(transactions.YEAR(membership_expire_date))>,\n",
              " <Feature: MAX(transactions.daily_price)>,\n",
              " <Feature: MODE(transactions.MONTH(transaction_date))>,\n",
              " <Feature: MAX(logs.num_985)>,\n",
              " <Feature: MODE(logs.YEAR(date))>,\n",
              " <Feature: SUM(transactions.payment_plan_days WHERE is_cancel = 1)>]"
            ]
          },
          "metadata": {
            "tags": []
          },
          "execution_count": 48
        }
      ]
    },
    {
      "cell_type": "markdown",
      "metadata": {
        "id": "XyFRYNgFFziJ"
      },
      "source": [
        "We can see that our custom primitive `TOTAL_PREVIOUS_MONTH` has been applied to create more features. The benefit of custom primitives are that they can be used to encode specific domain knowledge into the feature engineering process. Moreover, we don't get just the custom primitive itself, we also get features that are stacked on top of the primitive."
      ]
    },
    {
      "cell_type": "markdown",
      "metadata": {
        "id": "dO7kTG2oFziJ"
      },
      "source": [
        "# Run Deep Feature Synthesis\n",
        "\n",
        "Once we're happy with the features that will be generated, we can run deep feature synthesis to make the actual features. We need to change `feature_only` to `False` and then we're good to go."
      ]
    },
    {
      "cell_type": "code",
      "metadata": {
        "id": "FqS1_IuzFziK",
        "colab": {
          "base_uri": "https://localhost:8080/",
          "height": 370
        },
        "outputId": "0eedb472-d509-4577-9a5e-b41f83f1ad03"
      },
      "source": [
        "from timeit import default_timer as timer\n",
        "\n",
        "start = timer()\n",
        "feature_matrix, feature_defs = ft.dfs(entityset=es, target_entity='members', \n",
        "                                      cutoff_time = cutoff_times, \n",
        "                                      agg_primitives = agg_primitives,\n",
        "                                      trans_primitives = trans_primitives,\n",
        "                                      where_primitives = where_primitives,\n",
        "                                      max_depth = 2, features_only = False,\n",
        "                                      verbose = 1, chunk_size = 1000,  \n",
        "                                      n_jobs = -1,\n",
        "                                      cutoff_time_in_index = True)\n",
        "end = timer()\n",
        "print(f'{round(end - start)} seconds elapsed.')"
      ],
      "execution_count": 49,
      "outputs": [
        {
          "output_type": "error",
          "ename": "ValueError",
          "evalue": "ignored",
          "traceback": [
            "\u001b[0;31m---------------------------------------------------------------------------\u001b[0m",
            "\u001b[0;31mValueError\u001b[0m                                Traceback (most recent call last)",
            "\u001b[0;32m<ipython-input-49-edb9d55e2d77>\u001b[0m in \u001b[0;36m<module>\u001b[0;34m()\u001b[0m\n\u001b[1;32m     10\u001b[0m                                       \u001b[0mverbose\u001b[0m \u001b[0;34m=\u001b[0m \u001b[0;36m1\u001b[0m\u001b[0;34m,\u001b[0m \u001b[0mchunk_size\u001b[0m \u001b[0;34m=\u001b[0m \u001b[0;36m1000\u001b[0m\u001b[0;34m,\u001b[0m\u001b[0;34m\u001b[0m\u001b[0;34m\u001b[0m\u001b[0m\n\u001b[1;32m     11\u001b[0m                                       \u001b[0mn_jobs\u001b[0m \u001b[0;34m=\u001b[0m \u001b[0;34m-\u001b[0m\u001b[0;36m1\u001b[0m\u001b[0;34m,\u001b[0m\u001b[0;34m\u001b[0m\u001b[0;34m\u001b[0m\u001b[0m\n\u001b[0;32m---> 12\u001b[0;31m                                       cutoff_time_in_index = True)\n\u001b[0m\u001b[1;32m     13\u001b[0m \u001b[0mend\u001b[0m \u001b[0;34m=\u001b[0m \u001b[0mtimer\u001b[0m\u001b[0;34m(\u001b[0m\u001b[0;34m)\u001b[0m\u001b[0;34m\u001b[0m\u001b[0;34m\u001b[0m\u001b[0m\n\u001b[1;32m     14\u001b[0m \u001b[0mprint\u001b[0m\u001b[0;34m(\u001b[0m\u001b[0;34mf'{round(end - start)} seconds elapsed.'\u001b[0m\u001b[0;34m)\u001b[0m\u001b[0;34m\u001b[0m\u001b[0;34m\u001b[0m\u001b[0m\n",
            "\u001b[0;32m/usr/local/lib/python3.6/dist-packages/featuretools/utils/entry_point.py\u001b[0m in \u001b[0;36mfunction_wrapper\u001b[0;34m(*args, **kwargs)\u001b[0m\n\u001b[1;32m     38\u001b[0m                     ep.on_error(error=e,\n\u001b[1;32m     39\u001b[0m                                 runtime=runtime)\n\u001b[0;32m---> 40\u001b[0;31m                 \u001b[0;32mraise\u001b[0m \u001b[0me\u001b[0m\u001b[0;34m\u001b[0m\u001b[0;34m\u001b[0m\u001b[0m\n\u001b[0m\u001b[1;32m     41\u001b[0m \u001b[0;34m\u001b[0m\u001b[0m\n\u001b[1;32m     42\u001b[0m             \u001b[0;31m# send return value\u001b[0m\u001b[0;34m\u001b[0m\u001b[0;34m\u001b[0m\u001b[0;34m\u001b[0m\u001b[0m\n",
            "\u001b[0;32m/usr/local/lib/python3.6/dist-packages/featuretools/utils/entry_point.py\u001b[0m in \u001b[0;36mfunction_wrapper\u001b[0;34m(*args, **kwargs)\u001b[0m\n\u001b[1;32m     30\u001b[0m                 \u001b[0;31m# call function\u001b[0m\u001b[0;34m\u001b[0m\u001b[0;34m\u001b[0m\u001b[0;34m\u001b[0m\u001b[0m\n\u001b[1;32m     31\u001b[0m                 \u001b[0mstart\u001b[0m \u001b[0;34m=\u001b[0m \u001b[0mtime\u001b[0m\u001b[0;34m.\u001b[0m\u001b[0mtime\u001b[0m\u001b[0;34m(\u001b[0m\u001b[0;34m)\u001b[0m\u001b[0;34m\u001b[0m\u001b[0;34m\u001b[0m\u001b[0m\n\u001b[0;32m---> 32\u001b[0;31m                 \u001b[0mreturn_value\u001b[0m \u001b[0;34m=\u001b[0m \u001b[0mfunc\u001b[0m\u001b[0;34m(\u001b[0m\u001b[0;34m*\u001b[0m\u001b[0margs\u001b[0m\u001b[0;34m,\u001b[0m \u001b[0;34m**\u001b[0m\u001b[0mkwargs\u001b[0m\u001b[0;34m)\u001b[0m\u001b[0;34m\u001b[0m\u001b[0;34m\u001b[0m\u001b[0m\n\u001b[0m\u001b[1;32m     33\u001b[0m                 \u001b[0mruntime\u001b[0m \u001b[0;34m=\u001b[0m \u001b[0mtime\u001b[0m\u001b[0;34m.\u001b[0m\u001b[0mtime\u001b[0m\u001b[0;34m(\u001b[0m\u001b[0;34m)\u001b[0m \u001b[0;34m-\u001b[0m \u001b[0mstart\u001b[0m\u001b[0;34m\u001b[0m\u001b[0;34m\u001b[0m\u001b[0m\n\u001b[1;32m     34\u001b[0m             \u001b[0;32mexcept\u001b[0m \u001b[0mException\u001b[0m \u001b[0;32mas\u001b[0m \u001b[0me\u001b[0m\u001b[0;34m:\u001b[0m\u001b[0;34m\u001b[0m\u001b[0;34m\u001b[0m\u001b[0m\n",
            "\u001b[0;32m/usr/local/lib/python3.6/dist-packages/featuretools/synthesis/dfs.py\u001b[0m in \u001b[0;36mdfs\u001b[0;34m(entities, relationships, entityset, target_entity, cutoff_time, instance_ids, agg_primitives, trans_primitives, groupby_trans_primitives, allowed_paths, max_depth, ignore_entities, ignore_variables, primitive_options, seed_features, drop_contains, drop_exact, where_primitives, max_features, cutoff_time_in_index, save_progress, features_only, training_window, approximate, chunk_size, n_jobs, dask_kwargs, verbose, return_variable_types, progress_callback, include_cutoff_time)\u001b[0m\n\u001b[1;32m    257\u001b[0m                                       \u001b[0mprimitive_options\u001b[0m\u001b[0;34m=\u001b[0m\u001b[0mprimitive_options\u001b[0m\u001b[0;34m,\u001b[0m\u001b[0;34m\u001b[0m\u001b[0;34m\u001b[0m\u001b[0m\n\u001b[1;32m    258\u001b[0m                                       \u001b[0mmax_features\u001b[0m\u001b[0;34m=\u001b[0m\u001b[0mmax_features\u001b[0m\u001b[0;34m,\u001b[0m\u001b[0;34m\u001b[0m\u001b[0;34m\u001b[0m\u001b[0m\n\u001b[0;32m--> 259\u001b[0;31m                                       seed_features=seed_features)\n\u001b[0m\u001b[1;32m    260\u001b[0m \u001b[0;34m\u001b[0m\u001b[0m\n\u001b[1;32m    261\u001b[0m     features = dfs_object.build_features(\n",
            "\u001b[0;32m/usr/local/lib/python3.6/dist-packages/featuretools/synthesis/deep_feature_synthesis.py\u001b[0m in \u001b[0;36m__init__\u001b[0;34m(self, target_entity_id, entityset, agg_primitives, trans_primitives, where_primitives, groupby_trans_primitives, max_depth, max_features, allowed_paths, ignore_entities, ignore_variables, primitive_options, seed_features, drop_contains, drop_exact, where_stacking_limit)\u001b[0m\n\u001b[1;32m    211\u001b[0m         \u001b[0mself\u001b[0m\u001b[0;34m.\u001b[0m\u001b[0mtrans_primitives\u001b[0m \u001b[0;34m=\u001b[0m \u001b[0;34m[\u001b[0m\u001b[0;34m]\u001b[0m\u001b[0;34m\u001b[0m\u001b[0;34m\u001b[0m\u001b[0m\n\u001b[1;32m    212\u001b[0m         \u001b[0;32mfor\u001b[0m \u001b[0mt\u001b[0m \u001b[0;32min\u001b[0m \u001b[0mtrans_primitives\u001b[0m\u001b[0;34m:\u001b[0m\u001b[0;34m\u001b[0m\u001b[0;34m\u001b[0m\u001b[0m\n\u001b[0;32m--> 213\u001b[0;31m             \u001b[0mt\u001b[0m \u001b[0;34m=\u001b[0m \u001b[0mcheck_trans_primitive\u001b[0m\u001b[0;34m(\u001b[0m\u001b[0mt\u001b[0m\u001b[0;34m)\u001b[0m\u001b[0;34m\u001b[0m\u001b[0;34m\u001b[0m\u001b[0m\n\u001b[0m\u001b[1;32m    214\u001b[0m             \u001b[0mself\u001b[0m\u001b[0;34m.\u001b[0m\u001b[0mtrans_primitives\u001b[0m\u001b[0;34m.\u001b[0m\u001b[0mappend\u001b[0m\u001b[0;34m(\u001b[0m\u001b[0mt\u001b[0m\u001b[0;34m)\u001b[0m\u001b[0;34m\u001b[0m\u001b[0;34m\u001b[0m\u001b[0m\n\u001b[1;32m    215\u001b[0m         \u001b[0mself\u001b[0m\u001b[0;34m.\u001b[0m\u001b[0mtrans_primitives\u001b[0m\u001b[0;34m.\u001b[0m\u001b[0msort\u001b[0m\u001b[0;34m(\u001b[0m\u001b[0;34m)\u001b[0m\u001b[0;34m\u001b[0m\u001b[0;34m\u001b[0m\u001b[0m\n",
            "\u001b[0;32m/usr/local/lib/python3.6/dist-packages/featuretools/synthesis/deep_feature_synthesis.py\u001b[0m in \u001b[0;36mcheck_trans_primitive\u001b[0;34m(primitive)\u001b[0m\n\u001b[1;32m    927\u001b[0m             raise ValueError(\"Unknown transform primitive {}. \".format(primitive),\n\u001b[1;32m    928\u001b[0m                              \u001b[0;34m\"Call ft.primitives.list_primitives() to get\"\u001b[0m\u001b[0;34m,\u001b[0m\u001b[0;34m\u001b[0m\u001b[0;34m\u001b[0m\u001b[0m\n\u001b[0;32m--> 929\u001b[0;31m                              \" a list of available primitives\")\n\u001b[0m\u001b[1;32m    930\u001b[0m         \u001b[0mprimitive\u001b[0m \u001b[0;34m=\u001b[0m \u001b[0mtrans_prim_dict\u001b[0m\u001b[0;34m[\u001b[0m\u001b[0mprimitive\u001b[0m\u001b[0;34m.\u001b[0m\u001b[0mlower\u001b[0m\u001b[0;34m(\u001b[0m\u001b[0;34m)\u001b[0m\u001b[0;34m]\u001b[0m\u001b[0;34m\u001b[0m\u001b[0;34m\u001b[0m\u001b[0m\n\u001b[1;32m    931\u001b[0m     \u001b[0mprimitive\u001b[0m \u001b[0;34m=\u001b[0m \u001b[0mhandle_primitive\u001b[0m\u001b[0;34m(\u001b[0m\u001b[0mprimitive\u001b[0m\u001b[0;34m)\u001b[0m\u001b[0;34m\u001b[0m\u001b[0;34m\u001b[0m\u001b[0m\n",
            "\u001b[0;31mValueError\u001b[0m: ('Unknown transform primitive weekend. ', 'Call ft.primitives.list_primitives() to get', ' a list of available primitives')"
          ]
        }
      ]
    },
    {
      "cell_type": "markdown",
      "metadata": {
        "id": "EwkEoBfDFziK"
      },
      "source": [
        "The `chunk_size` is a parameter that may need to be adjusted to optimize the calculation. I suggest playing around with this parameter to find the optimal value. Generally I've found that a large value makes the calculation proceed quicker although it depends on the machine in use and the number of unique cutoff times. "
      ]
    },
    {
      "cell_type": "code",
      "metadata": {
        "id": "NgTfBL8sFziK"
      },
      "source": [
        "feature_matrix.head()"
      ],
      "execution_count": null,
      "outputs": []
    },
    {
      "cell_type": "markdown",
      "metadata": {
        "id": "4zHd46IUFziM"
      },
      "source": [
        "We can save these feature definitions as a binary file which will allow us to make the same exact features for another entityset of the same format. This is useful when we have multiple partitions and we want to make the same features for each. Instead of remaking the feature definitions, we pass in the same feature definitions to a call to `calculate_feature_matrix`."
      ]
    },
    {
      "cell_type": "code",
      "metadata": {
        "id": "ATXsI5MjFziM"
      },
      "source": [
        "ft.save_features(feature_defs, './data/churn/features.txt')"
      ],
      "execution_count": null,
      "outputs": []
    },
    {
      "cell_type": "code",
      "metadata": {
        "id": "SK6L118tFziM"
      },
      "source": [
        "feature_matrix.loc[feature_matrix['SUM(logs.num_100)'] < 10000, 'SUM(logs.num_100)'].plot.hist();\n",
        "plt.title('Sum of Number of Songs Listened to 100 %');"
      ],
      "execution_count": null,
      "outputs": []
    },
    {
      "cell_type": "code",
      "metadata": {
        "id": "dokyEH8tFziN"
      },
      "source": [
        "feature_matrix['TOTAL_PREVIOUS_MONTH(logs.num_unq, date)'].plot.hist()\n",
        "plt.title('Number of Unique Songs Listened to in Past Month');"
      ],
      "execution_count": null,
      "outputs": []
    },
    {
      "cell_type": "code",
      "metadata": {
        "id": "znl6-sKIFziN"
      },
      "source": [
        "feature_matrix['TOTAL_PREVIOUS_MONTH(logs.num_unq, date)'].describe()"
      ],
      "execution_count": null,
      "outputs": []
    },
    {
      "cell_type": "code",
      "metadata": {
        "id": "jbhoYLjZFziN"
      },
      "source": [
        "plt.figure(figsize = (6, 8))\n",
        "sns.boxplot(y = feature_matrix['TOTAL_PREVIOUS_MONTH(logs.num_unq, date)']);"
      ],
      "execution_count": null,
      "outputs": []
    },
    {
      "cell_type": "code",
      "metadata": {
        "id": "P-PP2xVEFziN"
      },
      "source": [
        "feature_defs = ft.load_features('./data/churn/features.txt')\n",
        "print(f'There are {len(feature_defs)} features.')"
      ],
      "execution_count": null,
      "outputs": []
    },
    {
      "cell_type": "markdown",
      "metadata": {
        "id": "n-o5-CSVFziO"
      },
      "source": [
        "# Conclusions\n",
        "\n",
        "Automated feature engineering is a significant improvement over manual feature engineering in terms of both time and modeling performance. In this notebook, we implemented an automated feature engineering workflow with Featuretools for the customer churn problem. Given customer data and label times, we can now calculate a feature matrix with several hundred relevant features for predicting customer churn while ensuring that our features are made with valid data for each cutoff time. \n",
        "\n",
        "Along the way, we implemented a number of Featuretools concepts:\n",
        "\n",
        "1. An entityset and entities\n",
        "2. Relationships between entities\n",
        "3. Cutoff times\n",
        "4. Feature primitives\n",
        "5. Custom primitives\n",
        "6. Deep feature synthesis\n",
        "\n",
        "These concepts will serve us well in future machine learning projects that we can tackle with automated feature engineering.\n",
        "\n",
        "## Next Steps\n",
        "\n",
        "Although we often hear that \"data is the fuel of machine learning\", data is not exactly a fuel but more like crude oil. _Features_ are the refined product that we feed into a machine learning model to make accurate predictions. After performing prediction engineering and automated feature engineering, the next step is to use these features in a predictive model to estimate the _label_ using the _features_. \n",
        "\n",
        "Generating hundreds of features automatically is impressive, but if those features cannot allow a model to learn our prediction problem then they are not mcuch help! The next step is to use our features and labeled historical examples to train a machine learning model to make predictions of customer churn. We'll make sure to test our model using a hold-out testing set to estimate performance on new data. Then, after validating our model, we can use it on new examples by passing the data through the feature engineering process. \n",
        "\n",
        "\n",
        "If you want to see how to parallelize feature engineering in Spark, see the `Feature Engineering on Spark` notebook. Otherwise, the next notebook is `Modeling`, where we develop a machine learning model to predict churn using the historical labeled examples and the automatically engineered features."
      ]
    },
    {
      "cell_type": "code",
      "metadata": {
        "id": "QXnmqW2kFziO"
      },
      "source": [
        ""
      ],
      "execution_count": null,
      "outputs": []
    }
  ]
}