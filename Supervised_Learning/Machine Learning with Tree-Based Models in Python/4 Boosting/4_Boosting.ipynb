{
  "nbformat": 4,
  "nbformat_minor": 0,
  "metadata": {
    "colab": {
      "name": "4 Boosting.ipynb",
      "provenance": [],
      "authorship_tag": "ABX9TyNudYkPqQxesiNYDMfLCw6T",
      "include_colab_link": true
    },
    "kernelspec": {
      "name": "python3",
      "display_name": "Python 3"
    }
  },
  "cells": [
    {
      "cell_type": "markdown",
      "metadata": {
        "id": "view-in-github",
        "colab_type": "text"
      },
      "source": [
        "<a href=\"https://colab.research.google.com/github/villafue/Machine_Learning_Notes/blob/master/Supervised_Learning/Machine%20Learning%20with%20Tree-Based%20Models%20in%20Python/4%20Boosting/4_Boosting.ipynb\" target=\"_parent\"><img src=\"https://colab.research.google.com/assets/colab-badge.svg\" alt=\"Open In Colab\"/></a>"
      ]
    },
    {
      "cell_type": "markdown",
      "metadata": {
        "id": "sOrP9RRtVgzm"
      },
      "source": [
        "# Boosting\r\n",
        "\r\n",
        "Boosting refers to an ensemble method in which several models are trained sequentially with each model learning from the errors of its predecessors. In this chapter, you'll be introduced to the two boosting methods of AdaBoost and Gradient Boosting."
      ]
    },
    {
      "cell_type": "markdown",
      "metadata": {
        "id": "ERoI-u66Vlhs"
      },
      "source": [
        "# Adaboost\r\n",
        "\r\n",
        "1. AdaBoost\r\n",
        "Boosting refers to an ensemble method in which many predictors are trained and each predictor learns from the errors of its predecessor.\r\n",
        "\r\n",
        "2. Boosting\r\n",
        "More formally, in boosting many weak learners are combined to form a strong learner. A weak learner is a model doing slightly better than random guessing. For example, a decision tree with a maximum-depth of one, known as a decision-stump, is a weak learner.\r\n",
        "\r\n",
        "3. Boosting\r\n",
        "In boosting, an ensemble of predictors are trained sequentially and each predictor tries to correct the errors made by its predecessor. The two boosting methods you'll explore in this course are AdaBoost and Gradient Boosting.\r\n",
        "\r\n",
        "4. Adaboost\r\n",
        "AdaBoost stands for Adaptive Boosting. In AdaBoost, each predictor pays more attention to the instances wrongly predicted by its predecessor by constantly changing the weights of training instances. Furthermore, each predictor is assigned a coefficient alpha that weighs its contribution in the ensemble's final prediction. Alpha depends on the predictor's training error.\r\n",
        "\r\n",
        "5. AdaBoost: Training\r\n",
        "As shown in the diagram, there are N predictors in total. First, predictor1 is trained on the initial dataset (X,y), and the training error for predictor1 is determined. This error can then be used to determine alpha1 which is predictor1's coefficient. Alpha1 is then used to determine the weights W(2) of the training instances for predictor2. Notice how the incorrectly predicted instances shown in green acquire higher weights. When the weighted instances are used to train predictor2, this predictor is forced to pay more attention to the incorrectly predicted instances. This process is repeated sequentially, until the N predictors forming the ensemble are trained.\r\n",
        "\r\n",
        "6. Learning Rate\r\n",
        "An important paramter used in training is the learning rate, eta. Eta is a number between 0 and 1; it is used to shrink the coefficient alpha of a trained predictor. It's important to note that there's a tradeoff between eta and the number of estimators. A smaller value of eta should be compensated by a greater number of estimators.\r\n",
        "\r\n",
        "7. AdaBoost: Prediction\r\n",
        "Once all the predictors in the ensemble are trained, the label of a new instance can be predicted depending on the nature of the problem. For classification, each predictor predicts the label of the new instance and the ensemble's prediction is obtained by weighted majority voting. For regression, the same procedure is applied and the ensemble's prediction is obtained by performing a weighted average. It's important to note that individual predictors need not to be CARTs. However CARTs are used most of the time in boosting because of their high variance.\r\n",
        "\r\n",
        "8. AdaBoost Classification in sklearn (Breast Cancer dataset)\r\n",
        "Alright, let's fit an AdaBoostClassifier to the breast cancer dataset and evaluate its ROC-AUC score. Note that the dataset is already loaded. After importing AdaBoostClassifier, DecisionTreeClassifier, roc_auc_score, and train_test_split, split the data into 70%-train and 30%-test as shown here.\r\n",
        "\r\n",
        "9. AdaBoost Classification in sklearn (Breast Cancer dataset)\r\n",
        "Now instantiate a DecisionTreeClassifier with the parameter max_depth set to 1. After that, instantiate an AdaBoostClassifier called adb_clf consisting of 100 decision-stumps. This can be done by setting the parameters base_estimator to dt and n_estimators to 100. Then, fit adb_clf to the training set and predict the probability of obtaining the positive class in the test set as shown here. This enables you to evaluate the ROC-AUC score of adb_clf by calling the function roc_auc_score and passing the parameters y_test and y_pred_proba.\r\n",
        "\r\n",
        "10. AdaBoost Classification in sklearn (Breast Cancer dataset)\r\n",
        "Finally, you can print the result which shows that the AdaBoostClassifier achieves a ROC-AUC score of about 0-dot-99.\r\n",
        "\r\n",
        "11. Let's practice!\r\n",
        "Now it's your turn."
      ]
    },
    {
      "cell_type": "markdown",
      "metadata": {
        "id": "QkXXvCUr8Ia0"
      },
      "source": [
        "# Define the AdaBoost classifier\r\n",
        "\r\n",
        "In the following exercises you'll revisit the [Indian Liver Patient](https://www.kaggle.com/uciml/indian-liver-patient-records) dataset which was introduced in a previous chapter. Your task is to predict whether a patient suffers from a liver disease using 10 features including Albumin, age and gender. However, this time, you'll be training an AdaBoost ensemble to perform the classification task. In addition, given that this dataset is imbalanced, you'll be using the ROC AUC score as a metric instead of accuracy.\r\n",
        "\r\n",
        "As a first step, you'll start by instantiating an AdaBoost classifier.\r\n",
        "\r\n",
        "Instructions\r\n",
        "\r\n",
        "1. Import AdaBoostClassifier from sklearn.ensemble.\r\n",
        "\r\n",
        "2. Instantiate a DecisionTreeClassifier with max_depth set to 2.\r\n",
        "\r\n",
        "3. Instantiate an AdaBoostClassifier consisting of 180 trees and setting the base_estimator to dt."
      ]
    },
    {
      "cell_type": "code",
      "metadata": {
        "id": "wl0nSFxjU7xe"
      },
      "source": [
        "# Import DecisionTreeClassifier\r\n",
        "from sklearn.tree import DecisionTreeClassifier\r\n",
        "\r\n",
        "# Import AdaBoostClassifier\r\n",
        "from sklearn.ensemble import AdaBoostClassifier\r\n",
        "\r\n",
        "# Instantiate dt\r\n",
        "dt = DecisionTreeClassifier(max_depth=2, random_state=1)\r\n",
        "\r\n",
        "# Instantiate ada\r\n",
        "ada = AdaBoostClassifier(base_estimator=dt, n_estimators=180, random_state=1)"
      ],
      "execution_count": null,
      "outputs": []
    },
    {
      "cell_type": "markdown",
      "metadata": {
        "id": "xeleQau7VguA"
      },
      "source": [
        "Conclusion\r\n",
        "\r\n",
        "Well done! Next comes training ada and evaluating the probability of obtaining the positive class in the test set."
      ]
    },
    {
      "cell_type": "markdown",
      "metadata": {
        "id": "oOQ4ABse9l71"
      },
      "source": [
        "# Train the AdaBoost classifier\r\n",
        "\r\n",
        "Now that you've instantiated the AdaBoost classifier ada, it's time train it. You will also predict the probabilities of obtaining the positive class in the test set. This can be done as follows:\r\n",
        "\r\n",
        "Once the classifier ada is trained, call the .predict_proba() method by passing X_test as a parameter and extract these probabilities by slicing all the values in the second column as follows:\r\n",
        "\r\n",
        "`ada.predict_proba(X_test)[:,1]`\r\n",
        "\r\n",
        "The Indian Liver dataset is processed for you and split into 80% train and 20% test. Feature matrices X_train and X_test, as well as the arrays of labels y_train and y_test are available in your workspace. In addition, we have also loaded the instantiated model ada from the previous exercise.\r\n",
        "\r\n",
        "Instructions\r\n",
        "\r\n",
        "1. Fit ada to the training set.\r\n",
        "\r\n",
        "2. Evaluate the probabilities of obtaining the positive class in the test set."
      ]
    },
    {
      "cell_type": "code",
      "metadata": {
        "id": "zyyypL6s-x13"
      },
      "source": [
        "# Fit ada to the training set\r\n",
        "ada.fit(X_train, y_train)\r\n",
        "\r\n",
        "# Compute the probabilities of obtaining the positive class\r\n",
        "y_pred_proba = ada.predict_proba(X_test)[:,1]"
      ],
      "execution_count": null,
      "outputs": []
    },
    {
      "cell_type": "markdown",
      "metadata": {
        "id": "p8op8Af1-z0h"
      },
      "source": [
        "Conclusion\r\n",
        "\r\n",
        "Great work! Next, you'll evaluate ada's ROC AUC score."
      ]
    },
    {
      "cell_type": "markdown",
      "metadata": {
        "id": "2dFrGiLl-3v3"
      },
      "source": [
        "# Evaluate the AdaBoost classifier\r\n",
        "\r\n",
        "Now that you're done training ada and predicting the probabilities of obtaining the positive class in the test set, it's time to evaluate ada's ROC AUC score. Recall that the ROC AUC score of a binary classifier can be determined using the roc_auc_score() function from sklearn.metrics.\r\n",
        "\r\n",
        "The arrays y_test and y_pred_proba that you computed in the previous exercise are available in your workspace.\r\n",
        "\r\n",
        "Instructions\r\n",
        "\r\n",
        "1. Import roc_auc_score from sklearn.metrics.\r\n",
        "\r\n",
        "2. Compute ada's test set ROC AUC score, assign it to ada_roc_auc, and print it out."
      ]
    },
    {
      "cell_type": "code",
      "metadata": {
        "id": "Hp_ZaSvX_qk2"
      },
      "source": [
        "# Import roc_auc_score\r\n",
        "from sklearn.metrics import roc_auc_score\r\n",
        "\r\n",
        "# Evaluate test-set roc_auc_score\r\n",
        "ada_roc_auc = roc_auc_score(y_test, y_pred_proba)\r\n",
        "\r\n",
        "# Print roc_auc_score\r\n",
        "print('ROC AUC score: {:.2f}'.format(ada_roc_auc))\r\n",
        "\r\n",
        "'''\r\n",
        "<script.py> output:\r\n",
        "    ROC AUC score: 0.71\r\n",
        "'''"
      ],
      "execution_count": null,
      "outputs": []
    },
    {
      "cell_type": "markdown",
      "metadata": {
        "id": "f6dPmd71_y9L"
      },
      "source": [
        "Conclusion\r\n",
        "\r\n",
        "Not bad! This untuned AdaBoost classifier achieved a ROC AUC score of 0.71!"
      ]
    },
    {
      "cell_type": "markdown",
      "metadata": {
        "id": "oa-60dd9BGkh"
      },
      "source": [
        "# Define the GB regressor\r\n",
        "\r\n",
        "You'll now revisit the [Bike Sharing Demand](https://www.kaggle.com/c/bike-sharing-demand) dataset that was introduced in the previous chapter. Recall that your task is to predict the bike rental demand using historical weather data from the Capital Bikeshare program in Washington, D.C.. For this purpose, you'll be using a gradient boosting regressor.\r\n",
        "\r\n",
        "As a first step, you'll start by instantiating a gradient boosting regressor which you will train in the next exercise.\r\n",
        "\r\n",
        "Instructions\r\n",
        "\r\n",
        "1. Import GradientBoostingRegressor from sklearn.ensemble.\r\n",
        "\r\n",
        "2. Instantiate a gradient boosting regressor by setting the parameters:\r\n",
        "\r\n",
        " - max_depth to 4\r\n",
        "\r\n",
        " - n_estimators to 200"
      ]
    },
    {
      "cell_type": "code",
      "metadata": {
        "id": "rmA-tmmLB4Rg"
      },
      "source": [
        "# Import GradientBoostingRegressor\r\n",
        "from sklearn.ensemble import GradientBoostingRegressor\r\n",
        "\r\n",
        "# Instantiate gb\r\n",
        "gb = GradientBoostingRegressor(max_depth=4, \r\n",
        "            n_estimators=200,\r\n",
        "            random_state=2)"
      ],
      "execution_count": null,
      "outputs": []
    },
    {
      "cell_type": "markdown",
      "metadata": {
        "id": "VocRIGIpB3eY"
      },
      "source": [
        "Conclusion\r\n",
        "\r\n",
        "Awesome! Time to train the regressor and predict test set labels"
      ]
    },
    {
      "cell_type": "markdown",
      "metadata": {
        "id": "nrhpbAGdB7ox"
      },
      "source": [
        "# Train the GB regressor\r\n",
        "You'll now train the gradient boosting regressor gb that you instantiated in the previous exercise and predict test set labels.\r\n",
        "\r\n",
        "The dataset is split into 80% train and 20% test. Feature matrices X_train and X_test, as well as the arrays y_train and y_test are available in your workspace. In addition, we have also loaded the model instance gb that you defined in the previous exercise.\r\n",
        "\r\n",
        "Instructions\r\n",
        "\r\n",
        "1. Fit gb to the training set.\r\n",
        "\r\n",
        "2. Predict the test set labels and assign the result to y_pred."
      ]
    },
    {
      "cell_type": "code",
      "metadata": {
        "id": "NGCaqc9TDtoF"
      },
      "source": [
        "# Fit gb to the training set\r\n",
        "gb.fit(X_train, y_train)\r\n",
        "\r\n",
        "# Predict test set labels\r\n",
        "y_pred = gb.predict(X_test)"
      ],
      "execution_count": null,
      "outputs": []
    },
    {
      "cell_type": "markdown",
      "metadata": {
        "id": "Xq8nFliNDv7Q"
      },
      "source": [
        "Conclusion\r\n",
        "\r\n",
        "Great work! Time to evaluate the test set RMSE!"
      ]
    },
    {
      "cell_type": "markdown",
      "metadata": {
        "id": "PbL-PH4QEHhr"
      },
      "source": [
        "# Evaluate the GB regressor\r\n",
        "\r\n",
        "Now that the test set predictions are available, you can use them to evaluate the test set Root Mean Squared Error (RMSE) of gb.\r\n",
        "\r\n",
        "y_test and predictions y_pred are available in your workspace.\r\n",
        "\r\n",
        "Instructions\r\n",
        "\r\n",
        "1. Import mean_squared_error from sklearn.metrics as MSE.\r\n",
        "\r\n",
        "2. Compute the test set MSE and assign it to mse_test.\r\n",
        "\r\n",
        "3. Compute the test set RMSE and assign it to rmse_test."
      ]
    },
    {
      "cell_type": "code",
      "metadata": {
        "id": "HJ_x9ImcEjlP"
      },
      "source": [
        "# Import mean_squared_error as MSE\r\n",
        "from sklearn.metrics import mean_squared_error as MSE\r\n",
        "\r\n",
        "# Compute MSE\r\n",
        "mse_test = MSE(y_test, y_pred)\r\n",
        "\r\n",
        "# Compute RMSE\r\n",
        "rmse_test = mse_test**(1/2)\r\n",
        "\r\n",
        "# Print RMSE\r\n",
        "print('Test set RMSE of gb: {:.3f}'.format(rmse_test))\r\n",
        "\r\n",
        "'''\r\n",
        "<script.py> output:\r\n",
        "    Test set RMSE of gb: 52.065\r\n",
        "'''"
      ],
      "execution_count": null,
      "outputs": []
    },
    {
      "cell_type": "markdown",
      "metadata": {
        "id": "9_wXJTN4EkJn"
      },
      "source": [
        "# Stochastic Gradient Boosting (SGB)\r\n",
        "\r\n",
        "1. Stochastic Gradient Boosting (SGB)\r\n",
        "2. Gradient Boosting: Cons\r\n",
        "Gradient boosting involves an exhaustive search procedure. Each tree in the ensemble is trained to find the best split-points and the best features. This procedure may lead to CARTs that use the same split-points and possibly the same features.\r\n",
        "\r\n",
        "3. Stochastic Gradient Boosting\r\n",
        "To mitigate these effects, you can use an algorithm known as stochastic gradient boosting. In stochastic gradient boosting, each CART is trained on a random subset of the training data. This subset is sampled without replacement. Furthermore, at the level of each node, features are sampled without replacement when choosing the best split-points. As a result, this creates further diversity in the ensemble and the net effect is adding more variance to the ensemble of trees.\r\n",
        "\r\n",
        "4. Stochastic Gradient Boosting: Training\r\n",
        "Let's take a closer look at the training procedure used in stochastic gradient boosting by examining the diagram shown on this slide. First, instead of providing all the training instances to a tree, only a fraction of these instances are provided through sampling without replacement. The sampled data is then used for training a tree. However, not all features are considered when a split is made. Instead, only a certain randomly sampled fraction of these features are used for this purpose. Once a tree is trained, predictions are made and the residual errors can be computed. These residual errors are multiplied by the learning rate eta and are fed to the next tree in the ensemble. This procedure is repeated sequentially until all the trees in the ensemble are trained. The prediction procedure for a new instance in stochastic gradient boosting is similar to that of gradient boosting.\r\n",
        "\r\n",
        "5. Stochastic Gradient Boosting in sklearn (auto dataset)\r\n",
        "Alright, now it's time to put this into practice. As in the last video, we'll be dealing with the auto-dataset which is already loaded. Perform the same imports that were introduced in the previous lesson and split the data.\r\n",
        "\r\n",
        "6. Stochastic Gradient Boosting in sklearn (auto dataset)\r\n",
        "Now define a stochastic-gradient-boosting-regressor named sgbt consisting of 300 decision-stumps. This can be done by setting the parameters max_depth to 1 and n_estimators to 300. Here, the parameter subsample was set to 0-dot-8 in order for each tree to sample 80% of the data for training. Finally, the parameter max_features was set to 0-dot-2 so that each tree uses 20% of available features to perform the best-split. Once done, fit sgbt to the training set and predict the test set labels.\r\n",
        "\r\n",
        "7. Stochastic Gradient Boosting in sklearn (auto dataset)\r\n",
        "Finally, compute the test set RMSE and print it. The result shows that sgbt achieves a test set RMSE of 3-dot-95.\r\n",
        "\r\n",
        "8. Let's practice!\r\n",
        "Now let's try some examples."
      ]
    },
    {
      "cell_type": "markdown",
      "metadata": {
        "id": "ULTGsE_yzldE"
      },
      "source": [
        "# Regression with SGB\r\n",
        "\r\n",
        "As in the exercises from the previous lesson, you'll be working with the [Bike Sharing Demand](https://www.kaggle.com/c/bike-sharing-demand) dataset. In the following set of exercises, you'll solve this bike count regression problem using stochastic gradient boosting.\r\n",
        "\r\n",
        "Instructions\r\n",
        "\r\n",
        "1. Instantiate a Stochastic Gradient Boosting Regressor (SGBR) and set:\r\n",
        "\r\n",
        " - max_depth to 4 and n_estimators to 200,\r\n",
        "\r\n",
        " - subsample to 0.9, and\r\n",
        "\r\n",
        " - max_features to 0.75."
      ]
    },
    {
      "cell_type": "code",
      "metadata": {
        "id": "KnmGB73i1laB"
      },
      "source": [
        "# Import GradientBoostingRegressor\r\n",
        "from sklearn.ensemble import GradientBoostingRegressor\r\n",
        "\r\n",
        "# Instantiate sgbr\r\n",
        "sgbr = GradientBoostingRegressor(max_depth=4, \r\n",
        "            subsample=0.9,\r\n",
        "            max_features=0.75,\r\n",
        "            n_estimators=200,                                \r\n",
        "            random_state=2)"
      ],
      "execution_count": null,
      "outputs": []
    },
    {
      "cell_type": "markdown",
      "metadata": {
        "id": "e40F9aHj1ouI"
      },
      "source": [
        "# Train the SGB regressor\r\n",
        "\r\n",
        "In this exercise, you'll train the SGBR sgbr instantiated in the previous exercise and predict the test set labels.\r\n",
        "\r\n",
        "The bike sharing demand dataset is already loaded processed for you; it is split into 80% train and 20% test. The feature matrices X_train and X_test, the arrays of labels y_train and y_test, and the model instance sgbr that you defined in the previous exercise are available in your workspace.\r\n",
        "\r\n",
        "Instructions\r\n",
        "\r\n",
        "1. Fit sgbr to the training set.\r\n",
        "\r\n",
        "2. Predict the test set labels and assign the results to y_pred."
      ]
    },
    {
      "cell_type": "code",
      "metadata": {
        "id": "D3D06l7m13mK"
      },
      "source": [
        "# Fit sgbr to the training set\r\n",
        "sgbr.fit(X_train, y_train)\r\n",
        "\r\n",
        "# Predict test set labels\r\n",
        "y_pred = sgbr.predict(X_test)"
      ],
      "execution_count": null,
      "outputs": []
    },
    {
      "cell_type": "markdown",
      "metadata": {
        "id": "wk7UmnMN15gc"
      },
      "source": [
        "# Evaluate the SGB regressor\r\n",
        "\r\n",
        "You have prepared the ground to determine the test set RMSE of sgbr which you shall evaluate in this exercise.\r\n",
        "\r\n",
        "y_pred and y_test are available in your workspace.\r\n",
        "\r\n",
        "Instructions\r\n",
        "\r\n",
        "1. Import mean_squared_error as MSE from sklearn.metrics.\r\n",
        "\r\n",
        "2. Compute test set MSE and assign the result to mse_test.\r\n",
        "\r\n",
        "3. Compute test set RMSE and assign the result to rmse_test."
      ]
    },
    {
      "cell_type": "code",
      "metadata": {
        "id": "hh-8TiQc2Twn"
      },
      "source": [
        "# Import mean_squared_error as MSE\r\n",
        "from sklearn.metrics import mean_squared_error as MSE\r\n",
        "\r\n",
        "# Compute test set MSE\r\n",
        "mse_test = MSE(y_test, y_pred)\r\n",
        "\r\n",
        "# Compute test set RMSE\r\n",
        "rmse_test = mse_test**(1/2)\r\n",
        "\r\n",
        "# Print rmse_test\r\n",
        "print('Test set RMSE of sgbr: {:.3f}'.format(rmse_test))\r\n",
        "\r\n",
        "'''\r\n",
        "<script.py> output:\r\n",
        "    Test set RMSE of sgbr: 49.979\r\n",
        "'''"
      ],
      "execution_count": null,
      "outputs": []
    },
    {
      "cell_type": "markdown",
      "metadata": {
        "id": "XnRVFMoR2U6E"
      },
      "source": [
        "Conclusion\r\n",
        "\r\n",
        "The stochastic gradient boosting regressor achieves a lower test set RMSE than the gradient boosting regressor (which was 52.065)!"
      ]
    }
  ]
}