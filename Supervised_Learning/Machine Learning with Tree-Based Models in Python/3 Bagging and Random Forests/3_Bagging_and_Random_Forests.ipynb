{
  "nbformat": 4,
  "nbformat_minor": 0,
  "metadata": {
    "colab": {
      "name": "3 Bagging and Random Forests.ipynb",
      "provenance": [],
      "authorship_tag": "ABX9TyMa5wTQt7wu8uXFX8e0wbZ3",
      "include_colab_link": true
    },
    "kernelspec": {
      "name": "python3",
      "display_name": "Python 3"
    }
  },
  "cells": [
    {
      "cell_type": "markdown",
      "metadata": {
        "id": "view-in-github",
        "colab_type": "text"
      },
      "source": [
        "<a href=\"https://colab.research.google.com/github/villafue/Machine_Learning_Notes/blob/master/Supervised_Learning/Machine%20Learning%20with%20Tree-Based%20Models%20in%20Python/3%20Bagging%20and%20Random%20Forests/3_Bagging_and_Random_Forests.ipynb\" target=\"_parent\"><img src=\"https://colab.research.google.com/assets/colab-badge.svg\" alt=\"Open In Colab\"/></a>"
      ]
    },
    {
      "cell_type": "markdown",
      "metadata": {
        "id": "h-9tvUwR546B"
      },
      "source": [
        "# Bagging and Random Forests\r\n",
        "\r\n",
        "Bagging is an ensemble method involving training the same algorithm many times using different subsets sampled from the training data. In this chapter, you'll understand how bagging can be used to create a tree ensemble. You'll also learn how the random forests algorithm can lead to further ensemble diversity through randomization at the level of each split in the trees forming the ensemble.\r\n"
      ]
    },
    {
      "cell_type": "markdown",
      "metadata": {
        "id": "QByJcNd76hZY"
      },
      "source": [
        "# 1. Bagging\r\n",
        "Welcome back! In this video, you'll be introduced to an ensemble method known as Bootstrap aggregation or Bagging.\r\n",
        "\r\n",
        "2. Ensemble Methods\r\n",
        "In the last chapter, you learned that the Voting Classifier is an ensemble of models that are fit to the same training set using different algorithms. You also saw that the final predictions were obtained by majority voting. In Bagging, the ensemble is formed by models that use the same training algorithm. However, these models are not trained on the entire training set. Instead, each model is trained on a different subset of the data.\r\n",
        "\r\n",
        "3. Bagging\r\n",
        "In fact, bagging stands for bootstrap aggregation. Its name refers to the fact that it uses a technique known as the bootstrap. Overall, Bagging has the effect of reducing the variance of individual models in the ensemble.\r\n",
        "\r\n",
        "4. Bootstrap\r\n",
        "Let's first try to understand what the bootstrap method is. Consider the case where you have 3 balls labeled A, B, and C. A bootstrap sample is a sample drawn from this with replacement. By replacement, we mean that any ball can be drawn many times. For example, in the first bootstrap sample shown in the diagram here, B was drawn 3 times in a raw. In the second bootstrap sample, A was drawn two times while B was drawn once, and so on. You may now ask how bootstraping can help us produce an ensemble.\r\n",
        "\r\n",
        "5. Bagging: Training\r\n",
        "In fact, in the training phase, bagging consists of drawing N different bootstrap samples from the training set. As shown in the diagram here, each of these bootstrap samples are then used to train N models that use the same algorithm .\r\n",
        "\r\n",
        "6. Bagging: Prediction\r\n",
        "When a new instance is fed to the different models forming the bagging ensemble, each model outputs its prediction. The meta model collects these predictions and outputs a final prediction depending on the nature of the problem.\r\n",
        "\r\n",
        "7. Bagging: Classification & Regression\r\n",
        "In classification, the final prediction is obtained by majority voting. The corresponding classifier in scikit-learn is BaggingClassifier. In regression, the final prediction is the average of the predictions made by the individual models forming the ensemble. The corresponding regressor in scikit-learn is BaggingRegressor.\r\n",
        "\r\n",
        "8. Bagging Classifier in sklearn (Breast-Cancer dataset)\r\n",
        "Great! Now that you understand how Bagging works, let's train a BaggingClassifier in scikit-learn on the breast cancer dataset. Note that the dataset is already loaded. First import BaggingClassifier, DecisionTreeClassifier, accuracy_score and train_test_split and then split the data into 70%-train and 30%-test as shown here.\r\n",
        "\r\n",
        "9. Bagging Classifier in sklearn (Breast-Cancer dataset)\r\n",
        "Now, instantiate a classification tree dt with the parameters max_depth set to 4 and min_samples_leaf set to 0-dot-16. You can then instantiate a BaggingClassifier bc that consists of 300 classification trees dt. This can be done by setting the parameters base_estimator to dt and n_estimators to 300. In addition, set the paramter n_jobs to -1 so that all CPU cores are used in computation. Once you are done, fit bc to the training set, predict the test set labels and finally, evaluate the test set accuracy. The output shows that a BaggingClassifier achieves a test set accuracy of 93-dot-6%. Training the classification tree dt, which is the base estimator here, to the same training set would lead to a test set accuracy of 88-dot-9%. The result highlights how bagging outperforms the base estimator dt.\r\n",
        "\r\n",
        "10. Let's practice!\r\n",
        "Alright, now it's your time to practice."
      ]
    },
    {
      "cell_type": "markdown",
      "metadata": {
        "id": "nmI4R1Hb7WFk"
      },
      "source": [
        "# Define the bagging classifier\r\n",
        "\r\n",
        "In the following exercises you'll work with the Indian Liver Patient dataset from the UCI machine learning repository. Your task is to predict whether a patient suffers from a liver disease using 10 features including Albumin, age and gender. You'll do so using a Bagging Classifier.\r\n",
        "\r\n",
        "Instructions\r\n",
        "\r\n",
        "1. Import DecisionTreeClassifier from sklearn.tree and BaggingClassifier from sklearn.ensemble.\r\n",
        "\r\n",
        "2. Instantiate a DecisionTreeClassifier called dt.\r\n",
        "\r\n",
        "3. Instantiate a BaggingClassifier called bc consisting of 50 trees."
      ]
    },
    {
      "cell_type": "code",
      "metadata": {
        "id": "YJ8SgPUs5zi1"
      },
      "source": [
        "# Import DecisionTreeClassifier\r\n",
        "from sklearn.tree import DecisionTreeClassifier\r\n",
        "\r\n",
        "# Import BaggingClassifier\r\n",
        "from sklearn.ensemble import BaggingClassifier\r\n",
        "\r\n",
        "# Instantiate dt\r\n",
        "dt = DecisionTreeClassifier(random_state=1)\r\n",
        "\r\n",
        "# Instantiate bc\r\n",
        "bc = BaggingClassifier(base_estimator=dt, n_estimators=50, random_state=1)"
      ],
      "execution_count": null,
      "outputs": []
    },
    {
      "cell_type": "markdown",
      "metadata": {
        "id": "MfjLInK454sj"
      },
      "source": [
        "Conclusion\r\n",
        "\r\n",
        "Great! In the following exercise, you'll train bc and evaluate its test set performance."
      ]
    },
    {
      "cell_type": "markdown",
      "metadata": {
        "id": "GxDiMLmB9FLa"
      },
      "source": [
        "# Evaluate Bagging performance\r\n",
        "\r\n",
        "Now that you instantiated the bagging classifier, it's time to train it and evaluate its test set accuracy.\r\n",
        "\r\n",
        "The Indian Liver Patient dataset is processed for you and split into 80% train and 20% test. The feature matrices X_train and X_test, as well as the arrays of labels y_train and y_test are available in your workspace. In addition, we have also loaded the bagging classifier bc that you instantiated in the previous exercise and the function accuracy_score() from sklearn.metrics.\r\n",
        "\r\n",
        "Instructions\r\n",
        "\r\n",
        "1. Fit bc to the training set.\r\n",
        "\r\n",
        "2. Predict the test set labels and assign the result to y_pred.\r\n",
        "\r\n",
        "3. Determine bc's test set accuracy."
      ]
    },
    {
      "cell_type": "code",
      "metadata": {
        "id": "N5RhsAVw-Bsi"
      },
      "source": [
        "# Fit bc to the training set\r\n",
        "bc.fit(X_train, y_train)\r\n",
        "\r\n",
        "# Predict test set labels\r\n",
        "y_pred = bc.predict(X_test)\r\n",
        "\r\n",
        "# Evaluate acc_test\r\n",
        "acc_test = accuracy_score(y_test, y_pred)\r\n",
        "print('Test set accuracy of bc: {:.2f}'.format(acc_test)) \r\n",
        "\r\n",
        "'''\r\n",
        "<script.py> output:\r\n",
        "    Test set accuracy of bc: 0.71\r\n",
        "'''"
      ],
      "execution_count": null,
      "outputs": []
    },
    {
      "cell_type": "markdown",
      "metadata": {
        "id": "XrwfeKCV-H8z"
      },
      "source": [
        "Conclusion\r\n",
        "\r\n",
        "Great work! A single tree dt would have achieved an accuracy of 63% which is 8% lower than bc's accuracy!"
      ]
    },
    {
      "cell_type": "markdown",
      "metadata": {
        "id": "izfYzS7u_Cco"
      },
      "source": [
        "# Out of Bag Evaluation\r\n",
        "\r\n",
        "1. Out Of Bag Evaluation\r\n",
        "You will now learn about Out-of-bag evaluation.\r\n",
        "\r\n",
        "2. Bagging\r\n",
        "Recall that in bagging, some instances may be sampled several times for one model. On the other hand, other instance may not be sampled at all.\r\n",
        "\r\n",
        "3. Out Of Bag (OOB) instances\r\n",
        "On average, for each model, 63% of the training instances are sampled. The remaining 37% that are not sampled constitute what is known as the Out-of-bag or OOB instances. Since OOB instances are not seen by a model during training, these can be used to estimate the performance of the ensemble without the need for cross-validation. This technique is known as OOB-evaluation.\r\n",
        "\r\n",
        "4. OOB Evaluation\r\n",
        "To understand OOB-evaluation more concretely, take a look at this diagram. Here, for each model, the bootstrap instances are shown in blue while the OOB-instances are shown in red. Each of the N models constituting the ensemble is then trained on its corresponding bootstrap samples and evaluated on the OOB instances. This leads to the obtainment of N OOB scores labeled OOB1 to OOBN. The OOB-score of the bagging ensemble is evaluated as the average of these N OOB scores as shown by the formula on top.\r\n",
        "\r\n",
        "5. OOB Evaluation in sklearn (Breast Cancer Dataset)\r\n",
        "Alright! Now it's time to see OOB-evaluation in action. Again, we'll be classifying cancerous cells as malignant or benign from the breast cancer dataset which is already loaded. After importing BaggingClassifier, DecisionTreeClassifier, accuracy_score and train_test_split, split the dataset in a stratified way into 70%-train and 30%-test by setting the parameter stratify to y.\r\n",
        "\r\n",
        "6. OOB Evaluation in sklearn (Breast Cancer Dataset)\r\n",
        "Now, first instantiate a classification tree dt with a maximum-depth of 4 and a minimum percentage of samples per leaf equal to 16%. Then instantiate a BaggingClassifier called bc that consists of 300 classification trees. This can be done by setting the parameters n_estimators to 300 and base_estimator to dt. Importantly, set the parameter oob_score to True in order to evaluate the OOB-accuracy of bc after training. Note that in scikit-learn, the OOB-score corresponds to the accuracy for classifiers and the r-squared score for regressors. Now fit bc to the training set and predict the test set labels.\r\n",
        "\r\n",
        "7. OOB Evaluation in sklearn (Breast Cancer Dataset)\r\n",
        "Assign the test set accuracy to test_accuracy. Finally, evaluate the OOB-accuracy of bc by extracting the attribute oob_score_ from the trained instance; assign the result to oob_accuracy and print out the results. The test-set accuracy is about 93.6% and the OOB-accuracy is about 92.5%. The two obtained accuracies are pretty close though not exactly equal. These results highlight how OOB-evaluation can be an efficient technique to obtain a performance estimate of a bagged-ensemble on unseen data without performing cross-validation.\r\n",
        "\r\n",
        "8. Let's practice!\r\n",
        "Now let's try some examples."
      ]
    },
    {
      "cell_type": "markdown",
      "metadata": {
        "id": "_GoACMaLC9os"
      },
      "source": [
        "# Prepare the ground\r\n",
        "\r\n",
        "In the following exercises, you'll compare the OOB accuracy to the test set accuracy of a bagging classifier trained on the Indian Liver Patient dataset.\r\n",
        "\r\n",
        "In sklearn, you can evaluate the OOB accuracy of an ensemble classifier by setting the parameter oob_score to True during instantiation. After training the classifier, the OOB accuracy can be obtained by accessing the .oob_score_ attribute from the corresponding instance.\r\n",
        "\r\n",
        "In your environment, we have made available the class DecisionTreeClassifier from sklearn.tree.\r\n",
        "\r\n",
        "Instructions\r\n",
        "\r\n",
        "1. Import BaggingClassifier from sklearn.ensemble.\r\n",
        "\r\n",
        "2. Instantiate a DecisionTreeClassifier with min_samples_leaf set to 8.\r\n",
        "\r\n",
        "3. Instantiate a BaggingClassifier consisting of 50 trees and set oob_score to True."
      ]
    },
    {
      "cell_type": "code",
      "metadata": {
        "id": "n1dWaA7-C6nQ"
      },
      "source": [
        "# Import DecisionTreeClassifier\r\n",
        "from sklearn.tree import DecisionTreeClassifier\r\n",
        "\r\n",
        "# Import BaggingClassifier\r\n",
        "from sklearn.ensemble import BaggingClassifier\r\n",
        "\r\n",
        "# Instantiate dt\r\n",
        "dt = DecisionTreeClassifier(min_samples_leaf=8, random_state=1)\r\n",
        "\r\n",
        "# Instantiate bc\r\n",
        "bc = BaggingClassifier(base_estimator=dt, \r\n",
        "            n_estimators=50,\r\n",
        "            oob_score=True,\r\n",
        "            random_state=1)"
      ],
      "execution_count": null,
      "outputs": []
    },
    {
      "cell_type": "markdown",
      "metadata": {
        "id": "bxsHXo3YDw7K"
      },
      "source": [
        "Conclusion\r\n",
        "\r\n",
        "Great! In the following exercise, you'll train bc and compare its test set accuracy to its OOB accuracy."
      ]
    },
    {
      "cell_type": "markdown",
      "metadata": {
        "id": "fTg5K24BE9tD"
      },
      "source": [
        "# OOB Score vs Test Set Score\r\n",
        "\r\n",
        "Now that you instantiated bc, you will fit it to the training set and evaluate its test set and OOB accuracies.\r\n",
        "\r\n",
        "The dataset is processed for you and split into 80% train and 20% test. The feature matrices X_train and X_test, as well as the arrays of labels y_train and y_test are available in your workspace. In addition, we have also loaded the classifier bc instantiated in the previous exercise and the function accuracy_score() from sklearn.metrics.\r\n",
        "\r\n",
        "Instructions\r\n",
        "100 XP\r\n",
        "Fit bc to the training set and predict the test set labels and assign the results to y_pred.\r\n",
        "\r\n",
        "Evaluate the test set accuracy acc_test by calling accuracy_score.\r\n",
        "\r\n",
        "Evaluate bc's OOB accuracy acc_oob by extracting the attribute oob_score_ from bc."
      ]
    },
    {
      "cell_type": "code",
      "metadata": {
        "id": "lt2yVw6qFt99"
      },
      "source": [
        "# Fit bc to the training set \r\n",
        "bc.fit(X_train, y_train)\r\n",
        "\r\n",
        "# Predict test set labels\r\n",
        "y_pred = bc.predict(X_test)\r\n",
        "\r\n",
        "# Evaluate test set accuracy\r\n",
        "acc_test = accuracy_score(y_test, y_pred)\r\n",
        "\r\n",
        "# Evaluate OOB accuracy\r\n",
        "acc_oob = bc.oob_score_\r\n",
        "\r\n",
        "# Print acc_test and acc_oob\r\n",
        "print('Test set accuracy: {:.3f}, OOB accuracy: {:.3f}'.format(acc_test, acc_oob))\r\n",
        "\r\n",
        "'''\r\n",
        "<script.py> output:\r\n",
        "    Test set accuracy: 0.698, OOB accuracy: 0.704\r\n",
        "'''"
      ],
      "execution_count": null,
      "outputs": []
    },
    {
      "cell_type": "markdown",
      "metadata": {
        "id": "MceWwFhdFy45"
      },
      "source": [
        "Conclusion\r\n",
        "\r\n",
        "Great work! The test set accuracy and the OOB accuracy of bc are both roughly equal to 70%!"
      ]
    },
    {
      "cell_type": "markdown",
      "metadata": {
        "id": "4usRXHkGF1Qn"
      },
      "source": [
        "# Random Forests (RF)\r\n",
        "\r\n",
        ". Random Forests\r\n",
        "You will now learn about another ensemble learning method known as Random Forests.\r\n",
        "\r\n",
        "2. Bagging\r\n",
        "Recall that in bagging the base estimator could be any model including a decision tree, logistic regression or even a neural network. Each estimator is trained on a distinct bootstrap sample drawn from the training set using all available features.\r\n",
        "\r\n",
        "3. Further Diversity with Random Forests\r\n",
        "Random Forests is an ensemble method that uses a decision tree as a base estimator. In Random Forests, each estimator is trained on a different bootstrap sample having the same size as the training set. Random forests introduces further randomization than bagging when training each of the base estimators. When each tree is trained, only d features can be sampled at each node without replacement, where d is a number smaller than the total number of features.\r\n",
        "\r\n",
        "4. Random Forests: Training\r\n",
        "The diagram here shows the training procedure for random forests. Notice how each tree forming the ensemble is trained on a different bootstrap sample from the training set. In addition, when a tree is trained, at each node, only d features are sampled from all features without replacement. The node is then split using the sampled feature that maximizes information gain. In scikit-learn d defaults to the square-root of the number of features. For example, if there are 100 features, only 10 features are sampled at each node.\r\n",
        "\r\n",
        "5. Random Forests: Prediction\r\n",
        "Once trained, predictions can be made on new instances. When a new instance is fed to the different base estimators, each of them outputs a prediction. The predictions are then collected by the random forests meta-classifier and a final prediction is made depending on the nature of the problem.\r\n",
        "\r\n",
        "6. Random Forests: Classification & Regression\r\n",
        "For classification, the final prediction is made by majority voting. The corresponding scikit-learn class is RandomForestClassifier. For regression, the final prediction is the average of all the labels predicted by the base estimators. The corresponding scikit-learn class is RandomForestRegressor. In general, Random Forests achieves a lower variance than individual trees.\r\n",
        "\r\n",
        "7. Random Forests Regressor in sklearn (auto dataset)\r\n",
        "Alright, now it's time to put all this into practice. Here, you'll train a random forests regressor to the auto-dataset which you were introduced to in previous chapters. Note that the dataset is already loaded. After importing RandomForestRegressor, train_test_split and mean_squared_error as MSE, split the dataset into 70%-train and 30%-test as shown here.\r\n",
        "\r\n",
        "8. Random Forests Regressor in sklearn (auto dataset)\r\n",
        "Then instantiate a RandomForestRegressor consisting of 400 regression trees. This can be done by setting n_estimators to 400. In addition, set min_samples_leaf to 0-dot-12 so that each leaf contains at least 12% of the data used in training. You can now fit rf to the training set and predict the test set labels. Finally, print the test set RMSE. The result shows that rf achieves a test set RMSE of 3-dot-98; this error is smaller than that achieved by a single regression tree which is 4-dot-43.\r\n",
        "\r\n",
        "9. Feature Importance\r\n",
        "When a tree based method is trained, the predictive power of a feature or its importance can be assessed. In scikit-learn, feature importance is assessed by measuring how much the tree nodes use a particular feature to reduce impurity. Note that the importance of a feature is expressed as a percentage indicating the weight of that feature in training and prediction. Once you train a tree-based model in scikit-learn, the features importances can be accessed by extracting the feature_importance_ attribute from the model.\r\n",
        "\r\n",
        "10. Feature Importance in sklearn\r\n",
        "To visualize the importance of features as assessed by rf, you can create a pandas series of the features importances as shown here and then sort this series and make a horiztonal-barplot.\r\n",
        "\r\n",
        "11. Feature Importance in sklearn\r\n",
        "The results show that, according to rf, displ, size, weight and hp are the most predictive features.\r\n",
        "\r\n",
        "12. Let's practice!\r\n",
        "Now let's try some examples."
      ]
    },
    {
      "cell_type": "markdown",
      "metadata": {
        "id": "SJ8VLQ0aP6dj"
      },
      "source": [
        "# Train an RF regressor\r\n",
        "\r\n",
        "In the following exercises you'll predict bike rental demand in the Capital Bikeshare program in Washington, D.C using historical weather data from the [Bike Sharing Demand](https://www.kaggle.com/c/bike-sharing-demand) dataset available through Kaggle. For this purpose, you will be using the random forests algorithm. As a first step, you'll define a random forests regressor and fit it to the training set.\r\n",
        "\r\n",
        "The dataset is processed for you and split into 80% train and 20% test. The features matrix X_train and the array y_train are available in your workspace.\r\n",
        "\r\n",
        "Instructions\r\n",
        "\r\n",
        "1. Import RandomForestRegressor from sklearn.ensemble.\r\n",
        "\r\n",
        "2. Instantiate a RandomForestRegressor called rf consisting of 25 trees.\r\n",
        "\r\n",
        "3. Fit rf to the training set."
      ]
    },
    {
      "cell_type": "code",
      "metadata": {
        "id": "CKaqxsdPQ93b"
      },
      "source": [
        "# Import RandomForestRegressor\r\n",
        "from sklearn.ensemble import RandomForestRegressor\r\n",
        "\r\n",
        "# Instantiate rf\r\n",
        "rf = RandomForestRegressor(n_estimators=25,\r\n",
        "            random_state=2)\r\n",
        "            \r\n",
        "# Fit rf to the training set    \r\n",
        "rf.fit(X_train, y_train) "
      ],
      "execution_count": null,
      "outputs": []
    },
    {
      "cell_type": "markdown",
      "metadata": {
        "id": "H4o1d61cQ-9x"
      },
      "source": [
        "Conclusion\r\n",
        "\r\n",
        "Great work! Next comes the test set RMSE evaluation part."
      ]
    },
    {
      "cell_type": "markdown",
      "metadata": {
        "id": "jPKdV1UORD21"
      },
      "source": [
        "# Evaluate the RF regressor\r\n",
        "\r\n",
        "You'll now evaluate the test set RMSE of the random forests regressor rf that you trained in the previous exercise.\r\n",
        "\r\n",
        "The dataset is processed for you and split into 80% train and 20% test. The features matrix X_test, as well as the array y_test are available in your workspace. In addition, we have also loaded the model rf that you trained in the previous exercise.\r\n",
        "\r\n",
        "Instructions\r\n",
        "\r\n",
        "1. Import mean_squared_error from sklearn.metrics as MSE.\r\n",
        "\r\n",
        "2. Predict the test set labels and assign the result to y_pred.\r\n",
        "\r\n",
        "3. Compute the test set RMSE and assign it to rmse_test."
      ]
    },
    {
      "cell_type": "code",
      "metadata": {
        "id": "XcgW9Tu0RrQV"
      },
      "source": [
        "# Import mean_squared_error as MSE\r\n",
        "from sklearn.metrics import mean_squared_error as MSE\r\n",
        "\r\n",
        "# Predict the test set labels\r\n",
        "y_pred = rf.predict(X_test)\r\n",
        "\r\n",
        "# Evaluate the test set RMSE\r\n",
        "rmse_test = MSE(y_test, y_pred)**(1/2)\r\n",
        "\r\n",
        "# Print rmse_test\r\n",
        "print('Test set RMSE of rf: {:.2f}'.format(rmse_test))\r\n",
        "\r\n",
        "'''\r\n",
        "<script.py> output:\r\n",
        "    Test set RMSE of rf: 51.97\r\n",
        "'''"
      ],
      "execution_count": null,
      "outputs": []
    },
    {
      "cell_type": "markdown",
      "metadata": {
        "id": "tfRRUrxyRv36"
      },
      "source": [
        "Great work! You can try training a single CART on the same dataset. The test set RMSE achieved by rf is significantly smaller than that achieved by a single CART!"
      ]
    },
    {
      "cell_type": "markdown",
      "metadata": {
        "id": "cOq3hqyCR0Dh"
      },
      "source": [
        "# Visualizing features importances\r\n",
        "\r\n",
        "In this exercise, you'll determine which features were the most predictive according to the random forests regressor rf that you trained in a previous exercise.\r\n",
        "\r\n",
        "For this purpose, you'll draw a horizontal barplot of the feature importance as assessed by rf. Fortunately, this can be done easily thanks to plotting capabilities of pandas.\r\n",
        "\r\n",
        "We have created a pandas.Series object called importances containing the feature names as index and their importances as values. In addition, matplotlib.pyplot is available as plt and pandas as pd.\r\n",
        "\r\n",
        "Instructions\r\n",
        "\r\n",
        "1. Call the .sort_values() method on importances and assign the result to importances_sorted.\r\n",
        "\r\n",
        "2. Call the .plot() method on importances_sorted and set the arguments:\r\n",
        "\r\n",
        " - kind to 'barh'\r\n",
        " - color to 'lightgreen'"
      ]
    },
    {
      "cell_type": "code",
      "metadata": {
        "id": "nscK4qR_SIXK"
      },
      "source": [
        "# Create a pd.Series of features importances\r\n",
        "importances = pd.Series(data=rf.feature_importances_,\r\n",
        "                        index= X_train.columns)\r\n",
        "\r\n",
        "# Sort importances\r\n",
        "importances_sorted = importances.sort_values()\r\n",
        "\r\n",
        "# Draw a horizontal barplot of importances_sorted\r\n",
        "importances_sorted.plot(kind ='barh', color='lightgreen')\r\n",
        "plt.title('Features Importances')\r\n",
        "plt.show()"
      ],
      "execution_count": null,
      "outputs": []
    },
    {
      "cell_type": "markdown",
      "metadata": {
        "id": "uTqD3YisS3n4"
      },
      "source": [
        "![image.png](data:image/png;base64,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)\r\n",
        "\r\n",
        "Conclusion\r\n",
        "\r\n",
        "Apparently, hr and workingday are the most important features according to rf. The importances of these two features add up to more than 90%!"
      ]
    }
  ]
}