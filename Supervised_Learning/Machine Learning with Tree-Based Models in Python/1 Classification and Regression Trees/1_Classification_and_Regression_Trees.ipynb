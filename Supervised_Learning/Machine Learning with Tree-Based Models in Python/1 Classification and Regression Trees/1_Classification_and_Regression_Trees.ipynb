{
  "nbformat": 4,
  "nbformat_minor": 0,
  "metadata": {
    "colab": {
      "name": "1 Classification and Regression Trees.ipynb",
      "provenance": [],
      "authorship_tag": "ABX9TyM6aCEfKX018BY7WZyGaQ/W",
      "include_colab_link": true
    },
    "kernelspec": {
      "name": "python3",
      "display_name": "Python 3"
    }
  },
  "cells": [
    {
      "cell_type": "markdown",
      "metadata": {
        "id": "view-in-github",
        "colab_type": "text"
      },
      "source": [
        "<a href=\"https://colab.research.google.com/github/villafue/Machine_Learning_Notes/blob/master/Supervised_Learning/Machine%20Learning%20with%20Tree-Based%20Models%20in%20Python/1%20Classification%20and%20Regression%20Trees/1_Classification_and_Regression_Trees.ipynb\" target=\"_parent\"><img src=\"https://colab.research.google.com/assets/colab-badge.svg\" alt=\"Open In Colab\"/></a>"
      ]
    },
    {
      "cell_type": "markdown",
      "metadata": {
        "id": "W3ogTrSr0PCj"
      },
      "source": [
        "Classification and Regression Trees\r\n",
        "\r\n",
        "Classification and Regression Trees (CART) are a set of supervised learning models used for problems involving classification and regression. In this chapter, you'll be introduced to the CART algorithm."
      ]
    },
    {
      "cell_type": "markdown",
      "metadata": {
        "id": "sZaGTQmf0Yax"
      },
      "source": [
        "# Decision tree for classification\r\n",
        "\r\n",
        "1. Decision-Tree for Classification\r\n",
        "Hi! My name is Elie Kawerk, I'm a Data Scientist and I'll be your instructor. In this course, you'll be learning about tree-based models for classification and regression.\r\n",
        "\r\n",
        "2. Course Overview\r\n",
        "In chapter 1, you'll be introduced to a set of supervised learning models known as Classification-And-Regression-Tree or CART. In chapter 2, you'll understand the notions of bias-variance trade-off and model ensembling. Chapter 3 introduces you to Bagging and Random Forests. Chapter 4 deals with boosting, specifically with AdaBoost and Gradient Boosting. Finally in chapter 5, you'll understand how to get the most out of your models through hyperparameter-tuning.\r\n",
        "\r\n",
        "3. Classification-tree\r\n",
        "Given a labeled dataset, a classification tree learns a sequence of if-else questions about individual features in order to infer the labels. In contrast to linear models, trees are able to capture non-linear relationships between features and labels. In addition, trees don't require the features to be on the same scale through standardization for example.\r\n",
        "\r\n",
        "4. Breast Cancer Dataset in 2D\r\n",
        "To understand trees more concretely, we'll try to predict whether a tumor is malignant or benign in the Wisconsin Breast Cancer dataset using only 2 features. The figure here shows a scatterplot of two cancerous cell features with malignant-tumors in blue and benign-tumors in red.\r\n",
        "\r\n",
        "5. Decision-tree Diagram\r\n",
        "When a classification tree is trained on this dataset, the tree learns a sequence of if-else questions with each question involving one feature and one split-point. Take a look at the tree diagram here. At the top, the tree asks whether the concave-points mean of an instance is <= 0-point-051. If it is, the instance traverses the True branch; otherwise, it traverses the False branch. Similarly, the instance keeps traversing the internal branches until it reaches an end. The label of the instance is then predicted to be that of the prevailing class at that end. The maximum number of branches separating the top from an extreme-end is known as the maximum depth which is equal to 2 here.\r\n",
        "\r\n",
        "6. Classification-tree in scikit-learn\r\n",
        "Now that you know what a classification tree is, let's fit one with scikit-learn. First, import DecisionTreeClassifier from sklearn.tree as shown in line 1. Also, import the functions train_test_split() from sklearn.model_selection and accuracy_score() from sklearn.metrics. In order to obtain an unbiased estimate of a model's performance, you must evaluate it on an unseen test set. To do so, first split the data into 80% train and 20% test using train_test_split(). Set the parameter stratify to y in order for the train and test sets to have the same proportion of class labels as the unsplit dataset. You can now use DecisionTreeClassifier() to instantiate a tree classifier, dt with a maximum depth of 2 by setting the parameter max_depth to 2. Note that the parameter random_state is set to 1 for reproducibility.\r\n",
        "\r\n",
        "7. Classification-tree in scikit-learn\r\n",
        "Then call the fit method on dt and pass X_train and y_train. To predict the labels of the test-set, call the predict method on dt. Finally print the accuracy of the test set using accuracy_score(). To understand the tree's predictions more concretely, let's see how it classifies instances in the feature-space.\r\n",
        "\r\n",
        "8. Decision Regions\r\n",
        "A classification-model divides the feature-space into regions where all instances in one region are assigned to only one class-label. These regions are known as decision-regions. Decision-regions are separated by surfaces called decision-boundaries. The figure here shows the decision-regions of a linear-classifier. Note how the boundary is a straight-line.\r\n",
        "\r\n",
        "9. Decision Regions: CART vs. Linear Model\r\n",
        "In contrast, as shown here on the right, a classification-tree produces rectangular decision-regions in the feature-space. This happens because at each split made by the tree, only one feature is involved.\r\n",
        "\r\n",
        "10. Let's practice!\r\n",
        "Now let's practice!"
      ]
    },
    {
      "cell_type": "markdown",
      "metadata": {
        "id": "T_jd0jy11dFd"
      },
      "source": [
        "# Train your first classification tree\r\n",
        "\r\n",
        "In this exercise you'll work with the [Wisconsin Breast Cancer Dataset](https://www.kaggle.com/uciml/breast-cancer-wisconsin-data) from the UCI machine learning repository. You'll predict whether a tumor is malignant or benign based on two features: the mean radius of the tumor (radius_mean) and its mean number of concave points (concave points_mean).\r\n",
        "\r\n",
        "The dataset is already loaded in your workspace and is split into 80% train and 20% test. The feature matrices are assigned to X_train and X_test, while the arrays of labels are assigned to y_train and y_test where class 1 corresponds to a malignant tumor and class 0 corresponds to a benign tumor. To obtain reproducible results, we also defined a variable called SEED which is set to 1.\r\n",
        "\r\n",
        "Instructions\r\n",
        "\r\n",
        "1. Import DecisionTreeClassifier from sklearn.tree.\r\n",
        "\r\n",
        "2. Instantiate a DecisionTreeClassifier dt of maximum depth equal to 6.\r\n",
        "\r\n",
        "3. Fit dt to the training set.\r\n",
        "\r\n",
        "4. Predict the test set labels and assign the result to y_pred."
      ]
    },
    {
      "cell_type": "code",
      "metadata": {
        "id": "tYf2r_sr0J26"
      },
      "source": [
        "# Import DecisionTreeClassifier from sklearn.tree\r\n",
        "from sklearn.tree import DecisionTreeClassifier\r\n",
        "\r\n",
        "# Instantiate a DecisionTreeClassifier 'dt' with a maximum depth of 6\r\n",
        "dt = DecisionTreeClassifier(max_depth=6, random_state=SEED)\r\n",
        "\r\n",
        "# Fit dt to the training set\r\n",
        "dt.fit(X_train, y_train)\r\n",
        "\r\n",
        "# Predict test set labels\r\n",
        "y_pred = dt.predict(X_test)\r\n",
        "print(y_pred[0:5])\r\n",
        "\r\n",
        "'''\r\n",
        "<script.py> output:\r\n",
        "    [0 0 0 1 0]\r\n",
        "'''"
      ],
      "execution_count": null,
      "outputs": []
    },
    {
      "cell_type": "markdown",
      "metadata": {
        "id": "s-5msAhs5zTY"
      },
      "source": [
        "Conclusion:\r\n",
        "\r\n",
        "Awesome! You've just trained your first classification tree! You can see the first five predictions made by the fitted tree on the test set in the console. In the next exercise, you'll evaluate the tree's performance on the entire test set."
      ]
    },
    {
      "cell_type": "markdown",
      "metadata": {
        "id": "UpE3D2N652tx"
      },
      "source": [
        "# Evaluate the classification tree\r\n",
        "\r\n",
        "Now that you've fit your first classification tree, it's time to evaluate its performance on the test set. You'll do so using the accuracy metric which corresponds to the fraction of correct predictions made on the test set.\r\n",
        "\r\n",
        "The trained model dt from the previous exercise is loaded in your workspace along with the test set features matrix X_test and the array of labels y_test.\r\n",
        "\r\n",
        "Instructions\r\n",
        "\r\n",
        "1. Import the function accuracy_score from sklearn.metrics.\r\n",
        "\r\n",
        "2. Predict the test set labels and assign the obtained array to y_pred.\r\n",
        "\r\n",
        "3. Evaluate the test set accuracy score of dt by calling accuracy_score() and assign the value to acc."
      ]
    },
    {
      "cell_type": "code",
      "metadata": {
        "id": "HTGCjdEZ6Uep"
      },
      "source": [
        "# Import accuracy_score\r\n",
        "from sklearn.metrics import accuracy_score\r\n",
        "\r\n",
        "# Predict test set labels\r\n",
        "y_pred = dt.predict(X_test)\r\n",
        "\r\n",
        "# Compute test set accuracy  \r\n",
        "acc = accuracy_score(y_test, y_pred)\r\n",
        "print(\"Test set accuracy: {:.2f}\".format(acc))\r\n",
        "\r\n",
        "'''\r\n",
        "<script.py> output:\r\n",
        "    Test set accuracy: 0.89\r\n",
        "'''"
      ],
      "execution_count": null,
      "outputs": []
    },
    {
      "cell_type": "markdown",
      "metadata": {
        "id": "8XmYUJ3J6Yir"
      },
      "source": [
        "ConclusionL:\r\n",
        "\r\n",
        "Not bad! Using only two features, your tree was able to achieve an accuracy of 89%!"
      ]
    },
    {
      "cell_type": "markdown",
      "metadata": {
        "id": "F88woE4y6k2x"
      },
      "source": [
        "# Logistic regression vs classification tree\r\n",
        "\r\n",
        "A classification tree divides the feature space into rectangular regions. In contrast, a linear model such as logistic regression produces only a single linear decision boundary dividing the feature space into two decision regions.\r\n",
        "\r\n",
        "We have written a custom function called `plot_labeled_decision_regions()` that you can use to plot the decision regions of a list containing two trained classifiers. You can type `help(plot_labeled_decision_regions)` in the IPython shell to learn more about this function.\r\n",
        "\r\n",
        "X_train, X_test, y_train, y_test, the model dt that you've trained in an earlier exercise , as well as the function plot_labeled_decision_regions() are available in your workspace.\r\n",
        "\r\n",
        "Instructions\r\n",
        "\r\n",
        "1. Import LogisticRegression from sklearn.linear_model.\r\n",
        "\r\n",
        "2. Instantiate a LogisticRegression model and assign it to logreg.\r\n",
        "\r\n",
        "3. Fit logreg to the training set.\r\n",
        "\r\n",
        "4. Review the plot generated by plot_labeled_decision_regions()."
      ]
    },
    {
      "cell_type": "code",
      "metadata": {
        "id": "_TcInivv63Vt"
      },
      "source": [
        "'''\r\n",
        "In [2]:\r\n",
        "help(plot_labeled_decision_regions)\r\n",
        "Help on function plot_labeled_decision_regions in module __main__:\r\n",
        "\r\n",
        "plot_labeled_decision_regions(X, y, models)\r\n",
        "    Function producing a scatter plot of the instances contained \r\n",
        "    in the 2D dataset (X,y) along with the decision \r\n",
        "    regions of two trained classification models contained in the\r\n",
        "    list 'models'.\r\n",
        "            \r\n",
        "    Parameters\r\n",
        "    ----------\r\n",
        "    X: pandas DataFrame corresponding to two numerical features \r\n",
        "    y: pandas Series corresponding the class labels\r\n",
        "    models: list containing two trained classifiers\r\n",
        "'''\r\n",
        "\r\n",
        "# Import LogisticRegression from sklearn.linear_model\r\n",
        "from sklearn.linear_model import  LogisticRegression\r\n",
        "\r\n",
        "# Instatiate logreg\r\n",
        "logreg = LogisticRegression(random_state=1)\r\n",
        "\r\n",
        "# Fit logreg to the training set\r\n",
        "logreg.fit(X_train, y_train)\r\n",
        "\r\n",
        "# Define a list called clfs containing the two classifiers logreg and dt\r\n",
        "clfs = [logreg, dt]\r\n",
        "\r\n",
        "# Review the decision regions of the two classifiers\r\n",
        "plot_labeled_decision_regions(X_test, y_test, clfs)"
      ],
      "execution_count": null,
      "outputs": []
    },
    {
      "cell_type": "markdown",
      "metadata": {
        "id": "oNq8QG0V7clQ"
      },
      "source": [
        "![image.png](data:image/png;base64,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)\r\n",
        "\r\n",
        "Conclusion\r\n",
        "\r\n",
        "Great work! Notice how the decision boundary produced by logistic regression is linear while the boundaries produced by the classification tree divide the feature space into rectangular regions."
      ]
    },
    {
      "cell_type": "markdown",
      "metadata": {
        "id": "BdO7mjs37lz0"
      },
      "source": [
        "# Classification tree Learning\r\n",
        "\r\n",
        "1. Classification-Tree Learning\r\n",
        "Welcome back! In this video, you'll examine how a classification-tree learns from data.\r\n",
        "\r\n",
        "2. Building Blocks of a Decision-Tree\r\n",
        "Let's first start by defining some terms. A decision-tree is a data-structure consisting of a hierarchy of individual units called nodes. A node is a point that involves either a question or a prediction.\r\n",
        "\r\n",
        "3. Building Blocks of a Decision-Tree\r\n",
        "The root is the node at which the decision-tree starts growing. It has no parent node and involves a question that gives rise to 2 children nodes through two branches. An internal node is a node that has a parent. It also involves a question that gives rise to 2 children nodes. Finally, a node that has no children is called a leaf. A leaf has one parent node and involves no questions. It's where a prediction is made. Recall that when a classification tree is trained on a labeled dataset, the tree learns patterns from the features in such a way to produce the purest leafs. In other words the tree is trained in such a way so that, in each leaf, one class-label is predominant.\r\n",
        "\r\n",
        "4. Prediction\r\n",
        "In the tree diagram shown here, consider the case where an instance traverses the tree to reach the leaf on the left. In this leaf, there are 257 instances classified as benign and 7 instances classified as malignant. As a result, the tree's prediction for this instance would be: 'benign'. In order to understand how a classification tree produces the purest leafs possible, let's first define the concept of information gain.\r\n",
        "\r\n",
        "5. Information Gain (IG)\r\n",
        "The nodes of a classification tree are grown recursively; in other words, the obtention of an internal node or a leaf depends on the state of its predecessors. To produce the purest leafs possible, at each node, a tree asks a question involving one feature f and a split-point sp. But how does it know which feature and which split-point to pick? It does so by maximizing Information gain! The tree considers that every node contains information and aims at maximizing the Information Gain obtained after each split. Consider the case where a node with N samples is split into a left-node with Nleft samples and a right-node with Nright samples.\r\n",
        "\r\n",
        "6. Information Gain (IG)\r\n",
        "The information gain for such split is given by the formula shown here. A question that you may have in mind here is: 'What criterion is used to measure the impurity of a node?' Well, there are different criteria you can use among which are the gini-index and entropy. Now that you know what is Information gain, let's describe how a classification tree learns.\r\n",
        "\r\n",
        "7. Classification-Tree Learning\r\n",
        "When an unconstrained tree is trained, the nodes are grown recursively. In other words, a node exists based on the state of its predecessors. At a non-leaf node, the data is split based on feature f and split-point sp in such a way to maximize information gain. If the information gain obtained by splitting a node is null, the node is declared a leaf. Keep in mind that these rules are for unconstrained trees. If you constrain the maximum depth of a tree to 2 for example, all nodes having a depth of 2 will be declared leafs even if the information gain obtained by splitting such nodes is not null.\r\n",
        "\r\n",
        "8. Information Criterion in scikit-learn (Breast Cancer dataset)\r\n",
        "Revisiting the 2D breast-cancer dataset from the previous lesson, you can set the information criterion of dt to the gini-index by setting the criterion parameter to 'gini' as shown on the last line here.\r\n",
        "\r\n",
        "9. Information Criterion in scikit-learn\r\n",
        "Now fit dt to the training set and predict the test set labels. Then determine dt's test set accuracy which evaluates to about 92%.\r\n",
        "\r\n",
        "10. Let's practice!\r\n",
        "Now it's your turn to practice."
      ]
    },
    {
      "cell_type": "markdown",
      "metadata": {
        "id": "DGoLjUy-8r8l"
      },
      "source": [
        "# Growing a classification tree\r\n",
        "\r\n",
        "In the video, you saw that the growth of an unconstrained classification tree followed a few simple rules. Which of the following is not one of these rules?\r\n",
        "\r\n",
        "Possible Answers\r\n",
        "\r\n",
        "- The existence of a node depends on the state of its predecessors.\r\n",
        " - Incorrect! Since nodes are grown recursively, the existence of a node does depend on the state of its predecessors.\r\n",
        "\r\n",
        "- The impurity of a node can be determined using different criteria such as entropy and the gini-index.\r\n",
        " - Not quite true! The impurity of a node can be measured not only using entropy or the gini-index but also with other criteria such as the misclassification rate.\r\n",
        "\r\n",
        "- When the information gain resulting from splitting a node is null, the node is declared as a leaf.\r\n",
        " - Not quite true! When a split results in a zero information gain, the tree isn't learning patterns anymore and the node is declared as a leaf.\r\n",
        "\r\n",
        "- When an internal node is split, the split is performed in such a way so that information gain is minimized.\r\n",
        " - Absolutely so! It's quite the contrary! Actually, splitting an internal node always involves maximizing information gain!\r\n"
      ]
    },
    {
      "cell_type": "markdown",
      "metadata": {
        "id": "ZblHe24_-eNK"
      },
      "source": [
        "# Using entropy as a criterion\r\n",
        "\r\n",
        "In this exercise, you'll train a classification tree on the Wisconsin Breast Cancer dataset using entropy as an information criterion. You'll do so using all the 30 features in the dataset, which is split into 80% train and 20% test.\r\n",
        "\r\n",
        "X_train as well as the array of labels y_train are available in your workspace.\r\n",
        "\r\n",
        "Instructions\r\n",
        "\r\n",
        "1. Import DecisionTreeClassifier from sklearn.tree.\r\n",
        "\r\n",
        "2. Instantiate a DecisionTreeClassifier dt_entropy with a maximum depth of 8.\r\n",
        "\r\n",
        "3. Set the information criterion to 'entropy'.\r\n",
        "\r\n",
        "4. Fit dt_entropy on the training set."
      ]
    },
    {
      "cell_type": "code",
      "metadata": {
        "id": "1sIzZyvA_GeP"
      },
      "source": [
        "# Import DecisionTreeClassifier from sklearn.tree\r\n",
        "from sklearn.tree import DecisionTreeClassifier\r\n",
        "\r\n",
        "# Instantiate dt_entropy, set 'entropy' as the information criterion\r\n",
        "dt_entropy = DecisionTreeClassifier(max_depth=8, criterion='entropy', random_state=1)\r\n",
        "\r\n",
        "# Fit dt_entropy to the training set\r\n",
        "dt_entropy.fit(X_train, y_train)"
      ],
      "execution_count": null,
      "outputs": []
    },
    {
      "cell_type": "markdown",
      "metadata": {
        "id": "lyBoCuHq_IAV"
      },
      "source": [
        "Conclusion\r\n",
        "\r\n",
        "Wonderful! In the next exercise, you'll compare the accuracy of dt_entropy to the accuracy of a another tree trained using the gini-index as the information criterion."
      ]
    },
    {
      "cell_type": "markdown",
      "metadata": {
        "id": "y2-lRTii_Mur"
      },
      "source": [
        "# Entropy vs Gini index\r\n",
        "\r\n",
        "In this exercise you'll compare the test set accuracy of dt_entropy to the accuracy of another tree named dt_gini. The tree dt_gini was trained on the same dataset using the same parameters except for the information criterion which was set to the gini index using the keyword 'gini'.\r\n",
        "\r\n",
        "X_test, y_test, dt_entropy, as well as accuracy_gini which corresponds to the test set accuracy achieved by dt_gini are available in your workspace.\r\n",
        "\r\n",
        "Instructions\r\n",
        "\r\n",
        "1. Import accuracy_score from sklearn.metrics.\r\n",
        "\r\n",
        "2. Predict the test set labels of dt_entropy and assign the result to y_pred.\r\n",
        "\r\n",
        "3. Evaluate the test set accuracy of dt_entropy and assign the result to accuracy_entropy.\r\n",
        "\r\n",
        "4. Review accuracy_entropy and accuracy_gini."
      ]
    },
    {
      "cell_type": "code",
      "metadata": {
        "id": "-xaNiqfMAo52"
      },
      "source": [
        "# Import accuracy_score from sklearn.metrics\r\n",
        "from sklearn.metrics import accuracy_score\r\n",
        "\r\n",
        "# Use dt_entropy to predict test set labels\r\n",
        "y_pred = dt_entropy.predict(X_test)\r\n",
        "\r\n",
        "# Evaluate accuracy_entropy\r\n",
        "accuracy_entropy = accuracy_score(y_test, y_pred)\r\n",
        "\r\n",
        "# Print accuracy_entropy\r\n",
        "print('Accuracy achieved by using entropy: ', accuracy_entropy)\r\n",
        "\r\n",
        "# Print accuracy_gini\r\n",
        "print('Accuracy achieved by using the gini index: ', accuracy_gini)\r\n",
        "\r\n",
        "'''\r\n",
        "<script.py> output:\r\n",
        "    Accuracy achieved by using entropy:  0.929824561404\r\n",
        "    Accuracy achieved by using the gini index:  0.929824561404\r\n",
        "'''"
      ],
      "execution_count": null,
      "outputs": []
    },
    {
      "cell_type": "markdown",
      "metadata": {
        "id": "72xmXbBWAtYC"
      },
      "source": [
        "Conclusion\r\n",
        "\r\n",
        "Nice work! Notice how the two models achieve exactly the same accuracy. Most of the time, the gini index and entropy lead to the same results. The gini index is slightly faster to compute and is the default criterion used in the DecisionTreeClassifier model of scikit-learn."
      ]
    },
    {
      "cell_type": "markdown",
      "metadata": {
        "id": "O6n_z9wmAxwx"
      },
      "source": [
        "# Decision tree for regression\r\n",
        "\r\n",
        "1. Decision-Tree for Regression\r\n",
        "Welcome back! In this video, you'll learn how to train a decision tree for a regression problem. Recall that in regression, the target variable is continuous. In other words, the output of your model is a real value.\r\n",
        "\r\n",
        "2. Auto-mpg Dataset\r\n",
        "Let's motivate our discussion of regression by introducing the automobile miles-per-gallon dataset from the UCI Machine Learning Repository. This dataset consists of 6 features corresponding to the characteristics of a car and a continuous target variable labeled mpg which stands for miles-per-gallon. Our task is to predict the mpg consumption of a car given these six features. To simplify the problem, here the analysis is restricted to only one feature corresponding to the displacement of a car. This feature is denoted by displ.\r\n",
        "\r\n",
        "3. Auto-mpg with one feature\r\n",
        "A 2D scatter plot of mpg versus displ shows that the mpg-consumption decreases nonlinearly with displacement. Note that linear models such as linear regression would not be able to capture such a non-linear trend. Let's see how you can train a decision tree with scikit-learn to solve this regression problem.\r\n",
        "\r\n",
        "4. Regression-Tree in scikit-learn\r\n",
        "Note that the features X and the labels y are already loaded in the environment. First, import DecisionTreeRegressor from sklearn-dot-tree and the functions train_test_split() from sklearn-dot-model_selection and mean_squared_error as MSE() from sklearn-dot-metrics. Then, split the data into 80%-train and 20%-test using train_test_split. You can now instantiate the DecisionTreeRegressor() with a maximum depth of 4 by setting the parameter max_depth to 4. In addition, set the parameter min_sample_leaf to 0-dot-1 to impose a stopping condition in which each leaf has to contain at least 10% of the training data.\r\n",
        "\r\n",
        "5. Regression-Tree in scikit-learn\r\n",
        "Now fit dt to the training set and predict the test set labels. To obtain the root-mean-squared-error of your model on the test-set; proceed as follows: - first, evaluate the mean-squared error, - then, raise the obtained value to the power 1/2. Finally, print dt's test set rmse to obtain a value of 5-dot-1.\r\n",
        "\r\n",
        "6. Information Criterion for Regression-Tree\r\n",
        "Here, it's important to note that, when a regression tree is trained on a dataset, the impurity of a node is measured using the mean-squared error of the targets in that node. This means that the regression tree tries to find the splits that produce leafs where in each leaf the target values are on average, the closest possible to the mean-value of the labels in that particular leaf.\r\n",
        "\r\n",
        "7. Prediction\r\n",
        "As a new instance traverses the tree and reaches a certain leaf, its target-variable 'y' is computed as the average of the target-variables contained in that leaf as shown in this formula.\r\n",
        "\r\n",
        "8. Linear Regression vs. Regression-Tree\r\n",
        "To highlight the importance of the flexibility of regression trees, take a look at this figure. On the left we have a scatter plot of the data in blue along with the predictions of a linear regression model shown in black. The linear model fails to capture the non-linear trend exhibited by the data. On the right, we have the same scatter plot along with a red line corresponding to the predictions of the regression tree that you trained earlier. The regression tree shows a greater flexibility and is able to capture the non-linearity, though not fully. In the next chapter, you'll aggregate the predictions of a set of trees that are trained differently to obtain better results.\r\n",
        "\r\n",
        "9. Let's practice!\r\n",
        "Now it's your turn to practice."
      ]
    },
    {
      "cell_type": "markdown",
      "metadata": {
        "id": "5OgoCK5HAzSZ"
      },
      "source": [
        "# Train your first regression tree\r\n",
        "\r\n",
        "In this exercise, you'll train a regression tree to predict the mpg (miles per gallon) consumption of cars in the [auto-mpg dataset](https://www.kaggle.com/uciml/autompg-dataset) using all the six available features.\r\n",
        "\r\n",
        "The dataset is processed for you and is split to 80% train and 20% test. The features matrix X_train and the array y_train are available in your workspace.\r\n",
        "\r\n",
        "Instructions\r\n",
        "\r\n",
        "1. Import DecisionTreeRegressor from sklearn.tree.\r\n",
        "\r\n",
        "2. Instantiate a DecisionTreeRegressor dt with maximum depth 8 and min_samples_leaf set to 0.13.\r\n",
        "\r\n",
        "3. Fit dt to the training set."
      ]
    },
    {
      "cell_type": "code",
      "metadata": {
        "id": "2evos6xzFQtW"
      },
      "source": [
        "# Import DecisionTreeRegressor from sklearn.tree\r\n",
        "from sklearn.tree import DecisionTreeRegressor\r\n",
        "\r\n",
        "# Instantiate dt\r\n",
        "dt = DecisionTreeRegressor(max_depth=8,\r\n",
        "             min_samples_leaf=0.13,\r\n",
        "            random_state=3)\r\n",
        "\r\n",
        "# Fit dt to the training set\r\n",
        "dt.fit(X_train, y_train)"
      ],
      "execution_count": null,
      "outputs": []
    },
    {
      "cell_type": "markdown",
      "metadata": {
        "id": "C3MVVCuFFRZF"
      },
      "source": [
        "Conclusion\r\n",
        "\r\n",
        "Great work! In the next exercise, you'll evaluate dt's performance on the test set."
      ]
    },
    {
      "cell_type": "markdown",
      "metadata": {
        "id": "xHodTkmHFWJM"
      },
      "source": [
        "# Evaluate the regression tree\r\n",
        "\r\n",
        "In this exercise, you will evaluate the test set performance of dt using the Root Mean Squared Error (RMSE) metric. The RMSE of a model measures, on average, how much the model's predictions differ from the actual labels. The RMSE of a model can be obtained by computing the square root of the model's Mean Squared Error (MSE).\r\n",
        "\r\n",
        "The features matrix X_test, the array y_test, as well as the decision tree regressor dt that you trained in the previous exercise are available in your workspace.\r\n",
        "\r\n",
        "Instructions\r\n",
        "\r\n",
        "1. Import the function mean_squared_error as MSE from sklearn.metrics.\r\n",
        "\r\n",
        "2. Predict the test set labels and assign the output to y_pred.\r\n",
        "\r\n",
        "3. Compute the test set MSE by calling MSE and assign the result to mse_dt.\r\n",
        "\r\n",
        "4. Compute the test set RMSE and assign it to rmse_dt."
      ]
    },
    {
      "cell_type": "code",
      "metadata": {
        "id": "BpKOw4n8GS9Z"
      },
      "source": [
        "# Import mean_squared_error from sklearn.metrics as MSE\r\n",
        "from sklearn.metrics import mean_squared_error as MSE\r\n",
        "\r\n",
        "# Compute y_pred\r\n",
        "y_pred = dt.predict(X_test)\r\n",
        "\r\n",
        "# Compute mse_dt\r\n",
        "mse_dt = MSE(y_test, y_pred)\r\n",
        "\r\n",
        "# Compute rmse_dt\r\n",
        "rmse_dt = mse_dt**(1/2)\r\n",
        "\r\n",
        "# Print rmse_dt\r\n",
        "print(\"Test set RMSE of dt: {:.2f}\".format(rmse_dt))\r\n",
        "\r\n",
        "'''\r\n",
        "<script.py> output:\r\n",
        "    Test set RMSE of dt: 4.37\r\n",
        "'''"
      ],
      "execution_count": null,
      "outputs": []
    },
    {
      "cell_type": "markdown",
      "metadata": {
        "id": "K_v4gnplGY5d"
      },
      "source": [
        "Conclusion\r\n",
        "\r\n",
        "Great work! In the next exercise, you'll compare the test-set RMSE of dt to that of a linear regression model trained on the same dataset."
      ]
    },
    {
      "cell_type": "markdown",
      "metadata": {
        "id": "GvzhzWfMGfVO"
      },
      "source": [
        "# Linear regression vs regression tree\r\n",
        "\r\n",
        "In this exercise, you'll compare the test set RMSE of dt to that achieved by a linear regression model. We have already instantiated a linear regression model lr and trained it on the same dataset as dt.\r\n",
        "\r\n",
        "The features matrix X_test, the array of labels y_test, the trained linear regression model lr, mean_squared_error function which was imported under the alias MSE and rmse_dt from the previous exercise are available in your workspace.\r\n",
        "\r\n",
        "Instructions\r\n",
        "\r\n",
        "1. Predict test set labels using the linear regression model (lr) and assign the result to y_pred_lr.\r\n",
        "\r\n",
        "2. Compute the test set MSE and assign the result to mse_lr.\r\n",
        "\r\n",
        "3. Compute the test set RMSE and assign the result to rmse_lr."
      ]
    },
    {
      "cell_type": "code",
      "metadata": {
        "id": "B8k-os4OG-Pn"
      },
      "source": [
        "# Predict test set labels \r\n",
        "y_pred_lr = lr.predict(X_test)\r\n",
        "\r\n",
        "# Compute mse_lr\r\n",
        "mse_lr = MSE(y_test, y_pred_lr)\r\n",
        "\r\n",
        "# Compute rmse_lr\r\n",
        "rmse_lr = mse_lr**(1/2)\r\n",
        "\r\n",
        "# Print rmse_lr\r\n",
        "print('Linear Regression test set RMSE: {:.2f}'.format(rmse_lr))\r\n",
        "\r\n",
        "# Print rmse_dt\r\n",
        "print('Regression Tree test set RMSE: {:.2f}'.format(rmse_dt))\r\n",
        "\r\n",
        "'''\r\n",
        "<script.py> output:\r\n",
        "    Linear Regression test set RMSE: 5.10\r\n",
        "    Regression Tree test set RMSE: 4.37\r\n",
        "'''"
      ],
      "execution_count": null,
      "outputs": []
    },
    {
      "cell_type": "markdown",
      "metadata": {
        "id": "Zpx8rY-RHGnC"
      },
      "source": [
        "Conclusion\r\n",
        "\r\n",
        "Awesome! You're on your way to master decision trees."
      ]
    }
  ]
}