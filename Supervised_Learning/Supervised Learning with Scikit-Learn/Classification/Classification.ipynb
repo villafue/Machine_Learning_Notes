{
  "nbformat": 4,
  "nbformat_minor": 0,
  "metadata": {
    "colab": {
      "name": "Supervised Learning with SciKit-Learn",
      "provenance": [],
      "authorship_tag": "ABX9TyOcBdicewF61D+IZ8CBZqDD",
      "include_colab_link": true
    },
    "kernelspec": {
      "name": "python3",
      "display_name": "Python 3"
    }
  },
  "cells": [
    {
      "cell_type": "markdown",
      "metadata": {
        "id": "view-in-github",
        "colab_type": "text"
      },
      "source": [
        "<a href=\"https://colab.research.google.com/github/villafue/Machine_Learning_Notes/blob/master/Supervised_Learning/Supervised%20Learning%20with%20Scikit-Learn/Classification/Classification.ipynb\" target=\"_parent\"><img src=\"https://colab.research.google.com/assets/colab-badge.svg\" alt=\"Open In Colab\"/></a>"
      ]
    },
    {
      "cell_type": "markdown",
      "metadata": {
        "id": "j_mc-Bxknygk",
        "colab_type": "text"
      },
      "source": [
        "# Which of these is a classification problem?\n",
        "\n",
        "Once you decide to leverage supervised machine learning to solve a new problem, you need to identify whether your problem is better suited to classification or regression. This exercise will help you develop your intuition for distinguishing between the two.\n",
        "\n",
        "Provided below are 4 example applications of machine learning. Which of them is a supervised classification problem?\n",
        "\n",
        "1. Using labeled financial data to predict whether the value of a stock will go up or go down next week.\n",
        "\n",
        "  - Correct: Exactly! In this example, there are two discrete, qualitative outcomes: the stock market going up, and the stock market going down. This can be represented using a binary variable, and is an application perfectly suited for classification.\n",
        "\n",
        "2. Using labeled housing price data to predict the price of a new house based on various features.\n",
        "\n",
        "  - Incorrect. The price of a house is a quantitative variable. This is not a classification problem\n",
        "\n",
        "3. Using unlabeled data to cluster the students of an online education company into different categories based on their learning styles.\n",
        "\n",
        "  - Incorrect. When using unlabeled data, we enter the territory of unsupervised learning\n",
        "\n",
        "4. Using labeled financial data to predict what the value of a stock will be next week.\n",
        "\n",
        "  - Incorrect. The value of a stock is a quantitative value. This is not a classification problem\n"
      ]
    },
    {
      "cell_type": "markdown",
      "metadata": {
        "id": "O6ZxA8EGpRnW",
        "colab_type": "text"
      },
      "source": [
        "# Numerical EDA\n",
        "In this chapter, you'll be working with a dataset obtained from the UCI Machine Learning Repository consisting of votes made by US House of Representatives Congressmen. Your goal will be to predict their party affiliation ('Democrat' or 'Republican') based on how they voted on certain key issues. Here, it's worth noting that we have preprocessed this dataset to deal with missing values. This is so that your focus can be directed towards understanding how to train and evaluate supervised learning models. Once you have mastered these fundamentals, you will be introduced to preprocessing techniques in Chapter 4 and have the chance to apply them there yourself - including on this very same dataset!\n",
        "\n",
        "Before thinking about what supervised learning models you can apply to this, however, you need to perform Exploratory data analysis (EDA) in order to understand the structure of the data. For a refresher on the importance of EDA, check out the first two chapters of Statistical Thinking in Python (Part 1)."
      ]
    },
    {
      "cell_type": "markdown",
      "metadata": {
        "id": "6IW2ZhmBtUza",
        "colab_type": "text"
      },
      "source": [
        "# Visual EDA\n",
        "The Numerical EDA you did in the previous exercise gave you some very important information, such as the names and data types of the columns, and the dimensions of the DataFrame. Following this with some visual EDA will give you an even better understanding of the data. In the video, Hugo used the scatter_matrix() function on the Iris data for this purpose. However, you may have noticed in the previous exercise that all the features in this dataset are binary; that is, they are either 0 or 1. So a different type of plot would be more useful here, such as Seaborn's countplot.\n",
        "\n",
        "Given on the right is a countplot of the 'education' bill, generated from the following code:\n",
        "\n",
        "plt.figure()\n",
        "sns.countplot(x='education', hue='party', data=df, palette='RdBu')\n",
        "plt.xticks([0,1], ['No', 'Yes'])\n",
        "plt.show()\n",
        "\n",
        "In sns.countplot(), we specify the x-axis data to be 'education', and hue to be 'party'. Recall that 'party' is also our target variable. So the resulting plot shows the difference in voting behavior between the two parties for the 'education' bill, with each party colored differently. We manually specified the color to be 'RdBu', as the Republican party has been traditionally associated with red, and the Democratic party with blue.\n",
        "\n",
        "It seems like Democrats voted resoundingly against this bill, compared to Republicans. This is the kind of information that our machine learning model will seek to learn when we try to predict party affiliation solely based on voting behavior. An expert in U.S politics may be able to predict this without machine learning, but probably not instantaneously - and certainly not if we are dealing with hundreds of samples!\n",
        "\n",
        "In the IPython Shell, explore the voting behavior further by generating countplots for the 'satellite' and 'missile' bills, and answer the following question: Of these two bills, for which ones do Democrats vote resoundingly in favor of, compared to Republicans? Be sure to begin your plotting statements for each figure with plt.figure() so that a new figure will be set up. Otherwise, your plots will be overlayed onto the same figure."
      ]
    },
    {
      "cell_type": "markdown",
      "metadata": {
        "id": "j8Rcl7EE3SZL",
        "colab_type": "text"
      },
      "source": [
        "# k-Nearest Neighbors: Fit\n",
        "\n",
        "Having explored the Congressional voting records dataset, it is time now to build your first classifier. In this exercise, you will fit a k-Nearest Neighbors classifier to the voting dataset, which has once again been pre-loaded for you into a DataFrame df.\n",
        "\n",
        "In the video, Hugo discussed the importance of ensuring your data adheres to the format required by the scikit-learn API. The features need to be in an array where each column is a feature and each row a different observation or data point - in this case, a Congressman's voting record. The target needs to be a single column with the same number of observations as the feature data. We have done this for you in this exercise. Notice we named the feature array X and response variable y: This is in accordance with the common scikit-learn practice.\n",
        "\n",
        "Your job is to create an instance of a k-NN classifier with 6 neighbors (by specifying the n_neighbors parameter) and then fit it to the data. The data has been pre-loaded into a DataFrame called df.\n",
        "\n",
        "Instructions:\n",
        "\n",
        "Import KNeighborsClassifier from sklearn.neighbors.\n",
        "\n",
        "Create arrays X and y for the features and the target variable. Here this has been done for you. Note the use of .drop() to drop the target variable 'party' from the feature array X as well as the use of the .values attribute to ensure X and y are NumPy arrays. Without using .values, X and y are a DataFrame and Series respectively; the scikit-learn API will accept them in this form also as long as they are of the right shape.\n",
        "\n",
        "Instantiate a KNeighborsClassifier called knn with 6 neighbors by specifying the n_neighbors parameter.\n",
        "\n",
        "Fit the classifier to the data using the .fit() method.\n",
        "\n",
        "Conclusion:\n",
        "\n",
        "Excellent! Now that your k-NN classifier with 6 neighbors has been fit to the data, it can be used to predict the labels of new data points.\n"
      ]
    },
    {
      "cell_type": "code",
      "metadata": {
        "id": "-fXZmJh43jGF",
        "colab_type": "code",
        "colab": {}
      },
      "source": [
        "# Import KNeighborsClassifier from sklearn.neighbors\n",
        "from sklearn.neighbors import KNeighborsClassifier\n",
        "\n",
        "# Create arrays for the features and the response variable\n",
        "y = df['party'].values\n",
        "X = df.drop('party', axis=1).values\n",
        "\n",
        "# Create a k-NN classifier with 6 neighbors\n",
        "knn = KNeighborsClassifier(n_neighbors=6)\n",
        "\n",
        "# Fit the classifier to the data\n",
        "knn.fit(X, y)"
      ],
      "execution_count": null,
      "outputs": []
    },
    {
      "cell_type": "markdown",
      "metadata": {
        "id": "dZoil59A412L",
        "colab_type": "text"
      },
      "source": [
        "# k-Nearest Neighbors: Predict\n",
        "\n",
        "Having fit a k-NN classifier, you can now use it to predict the label of a new data point. However, there is no unlabeled data available since all of it was used to fit the model! You can still use the .predict() method on the X that was used to fit the model, but it is not a good indicator of the model's ability to generalize to new, unseen data.\n",
        "\n",
        "In the next video, Hugo will discuss a solution to this problem. For now, a random unlabeled data point has been generated and is available to you as X_new. You will use your classifier to predict the label for this new data point, as well as on the training data X that the model has already seen. Using .predict() on X_new will generate 1 prediction, while using it on X will generate 435 predictions: 1 for each sample.\n",
        "\n",
        "The DataFrame has been pre-loaded as df. This time, you will create the feature array X and target variable array y yourself.\n",
        "\n",
        "Instructions\n",
        "\n",
        "Create arrays for the features and the target variable from df. As a reminder, the target variable is 'party'.\n",
        "\n",
        "Instantiate a KNeighborsClassifier with 6 neighbors.\n",
        "\n",
        "Fit the classifier to the data.\n",
        "\n",
        "Predict the labels of the training data, X.\n",
        "\n",
        "Predict the label of the new data point X_new.\n",
        "\n",
        "Conclusion:\n",
        "\n",
        "Great work! Did your model predict 'democrat' or 'republican'? How sure can you be of its predictions? In other words, how can you measure its performance? This is what you will learn in the next video.\n",
        "\n"
      ]
    },
    {
      "cell_type": "markdown",
      "metadata": {
        "id": "aPYi_zVtF_ue",
        "colab_type": "text"
      },
      "source": [
        "# The digits recognition dataset\n",
        "\n",
        "Up until now, you have been performing binary classification, since the target variable had two possible outcomes. Hugo, however, got to perform multi-class classification in the videos, where the target variable could take on three possible outcomes. Why does he get to have all the fun?! In the following exercises, you'll be working with the MNIST digits recognition dataset, which has 10 classes, the digits 0 through 9! A reduced version of the MNIST dataset is one of scikit-learn's included datasets, and that is the one we will use in this exercise.\n",
        "\n",
        "Each sample in this scikit-learn dataset is an 8x8 image representing a handwritten digit. Each pixel is represented by an integer in the range 0 to 16, indicating varying levels of black. Recall that scikit-learn's built-in datasets are of type Bunch, which are dictionary-like objects. Helpfully for the MNIST dataset, scikit-learn provides an 'images' key in addition to the 'data' and 'target' keys that you have seen with the Iris data. Because it is a 2D array of the images corresponding to each sample, this 'images' key is useful for visualizing the images, as you'll see in this exercise (for more on plotting 2D arrays, see Chapter 2 of DataCamp's course on Data Visualization with Python). On the other hand, the 'data' key contains the feature array - that is, the images as a flattened array of 64 pixels.\n",
        "\n",
        "Notice that you can access the keys of these Bunch objects in two different ways: By using the . notation, as in digits.images, or the [] notation, as in digits['images'].\n",
        "\n",
        "For more on the MNIST data, check out this exercise in Part 1 of DataCamp's Importing Data in Python course. There, the full version of the MNIST dataset is used, in which the images are 28x28. It is a famous dataset in machine learning and computer vision, and frequently used as a benchmark to evaluate the performance of a new model.\n",
        "\n",
        "Instructions\n",
        "\n",
        "Import datasets from sklearn and matplotlib.pyplot as plt.\n",
        "\n",
        "Load the digits dataset using the .load_digits() method on datasets.\n",
        "\n",
        "Print the keys and DESCR of digits.\n",
        "\n",
        "Print the shape of images and data keys using the . notation.\n",
        "\n",
        "Display the 1011th image using plt.imshow(). This has been done for you, so hit 'Submit Answer' to see which handwritten digit this happens to be!\n",
        "\n",
        "Conclusion:\n",
        "\n",
        "Good job! It looks like the image in question corresponds to the digit '5'. Now, can you build a classifier that can make this prediction not only for this image, but for all the other ones in the dataset? You'll do so in the next exercise!"
      ]
    },
    {
      "cell_type": "code",
      "metadata": {
        "id": "6MIET4oCGloH",
        "colab_type": "code",
        "colab": {}
      },
      "source": [
        "# Import necessary modules\n",
        "from sklearn import datasets\n",
        "import matplotlib.pyplot as plt\n",
        "\n",
        "# Load the digits dataset: digits\n",
        "digits = datasets.load_digits()\n",
        "\n",
        "# Print the keys and DESCR of the dataset\n",
        "print(digits.keys())\n",
        "print(digits.DESCR)\n",
        "\n",
        "# Print the shape of the images and data keys\n",
        "print(digits.images.shape)\n",
        "print(digits.data.shape)\n",
        "\n",
        "# Display digit 1010\n",
        "plt.imshow(digits.images[1010], cmap=plt.cm.gray_r, interpolation='nearest')\n",
        "plt.show()\n",
        "\n",
        "'''\n",
        "<script.py> output:\n",
        "    dict_keys(['data', 'target', 'target_names', 'images', 'DESCR'])\n",
        "    Optical Recognition of Handwritten Digits Data Set\n",
        "    ===================================================\n",
        "    \n",
        "    Notes\n",
        "    -----\n",
        "    Data Set Characteristics:\n",
        "        :Number of Instances: 5620\n",
        "        :Number of Attributes: 64\n",
        "        :Attribute Information: 8x8 image of integer pixels in the range 0..16.\n",
        "        :Missing Attribute Values: None\n",
        "        :Creator: E. Alpaydin (alpaydin '@' boun.edu.tr)\n",
        "        :Date: July; 1998\n",
        "    \n",
        "    This is a copy of the test set of the UCI ML hand-written digits datasets\n",
        "    http://archive.ics.uci.edu/ml/datasets/Optical+Recognition+of+Handwritten+Digits\n",
        "    \n",
        "    The data set contains images of hand-written digits: 10 classes where\n",
        "    each class refers to a digit.\n",
        "    \n",
        "    Preprocessing programs made available by NIST were used to extract\n",
        "    normalized bitmaps of handwritten digits from a preprinted form. From a\n",
        "    total of 43 people, 30 contributed to the training set and different 13\n",
        "    to the test set. 32x32 bitmaps are divided into nonoverlapping blocks of\n",
        "    4x4 and the number of on pixels are counted in each block. This generates\n",
        "    an input matrix of 8x8 where each element is an integer in the range\n",
        "    0..16. This reduces dimensionality and gives invariance to small\n",
        "    distortions.\n",
        "    \n",
        "    For info on NIST preprocessing routines, see M. D. Garris, J. L. Blue, G.\n",
        "    T. Candela, D. L. Dimmick, J. Geist, P. J. Grother, S. A. Janet, and C.\n",
        "    L. Wilson, NIST Form-Based Handprint Recognition System, NISTIR 5469,\n",
        "    1994.\n",
        "    \n",
        "    References\n",
        "    ----------\n",
        "      - C. Kaynak (1995) Methods of Combining Multiple Classifiers and Their\n",
        "        Applications to Handwritten Digit Recognition, MSc Thesis, Institute of\n",
        "        Graduate Studies in Science and Engineering, Bogazici University.\n",
        "      - E. Alpaydin, C. Kaynak (1998) Cascading Classifiers, Kybernetika.\n",
        "      - Ken Tang and Ponnuthurai N. Suganthan and Xi Yao and A. Kai Qin.\n",
        "        Linear dimensionalityreduction using relevance weighted LDA. School of\n",
        "        Electrical and Electronic Engineering Nanyang Technological University.\n",
        "        2005.\n",
        "      - Claudio Gentile. A New Approximate Maximal Margin Classification\n",
        "        Algorithm. NIPS. 2000.\n",
        "    \n",
        "    (1797, 8, 8)\n",
        "    (1797, 64)\n",
        "'''\n"
      ],
      "execution_count": null,
      "outputs": []
    },
    {
      "cell_type": "markdown",
      "metadata": {
        "id": "7ayCEwugImPF",
        "colab_type": "text"
      },
      "source": [
        "# Train/Test Split + Fit/Predict/Accuracy\n",
        "\n",
        "Now that you have learned about the importance of splitting your data into training and test sets, it's time to practice doing this on the digits dataset! After creating arrays for the features and target variable, you will split them into training and test sets, fit a k-NN classifier to the training data, and then compute its accuracy using the .score() method.\n",
        "\n",
        "Instructions\n",
        "\n",
        "Import KNeighborsClassifier from sklearn.neighbors and train_test_split from sklearn.model_selection.\n",
        "\n",
        "Create an array for the features using digits.data and an array for the target using digits.target.\n",
        "\n",
        "Create stratified training and test sets using 0.2 for the size of the test set. Use a random state of 42. Stratify the split according to the labels so that they are distributed in the training and test sets as they are in the original dataset.\n",
        "\n",
        "Create a k-NN classifier with 7 neighbors and fit it to the training data.\n",
        "Compute and print the accuracy of the classifier's predictions using the .score() method.\n",
        "\n",
        "Conclusion:\n",
        "\n",
        "Excellent work! Incredibly, this out of the box k-NN classifier with 7 neighbors has learned from the training data and predicted the labels of the images in the test set with 98% accuracy, and it did so in less than a second! This is one illustration of how incredibly useful machine learning techniques can be."
      ]
    },
    {
      "cell_type": "code",
      "metadata": {
        "id": "VtSF7ty1O5u9",
        "colab_type": "code",
        "colab": {}
      },
      "source": [
        "# Import necessary modules\n",
        "from sklearn.neighbors import KNeighborsClassifier\n",
        "from sklearn.model_selection import train_test_split\n",
        "\n",
        "# Create feature and target arrays\n",
        "X = digits.data\n",
        "y = digits.target\n",
        "\n",
        "# Split into training and test set\n",
        "X_train, X_test, y_train, y_test = train_test_split(X, y, test_size = 0.2, random_state=42, stratify=y)\n",
        "\n",
        "# Create a k-NN classifier with 7 neighbors: knn\n",
        "knn = KNeighborsClassifier(n_neighbors=7)\n",
        "\n",
        "# Fit the classifier to the training data\n",
        "knn.fit(X_train, y_train)\n",
        "\n",
        "# Print the accuracy\n",
        "print(knn.score(X_test, y_test))\n",
        "\n",
        "'''\n",
        "<script.py> output:\n",
        "    0.9833333333333333\n",
        "'''"
      ],
      "execution_count": null,
      "outputs": []
    },
    {
      "cell_type": "markdown",
      "metadata": {
        "id": "CVqXNqldPIrn",
        "colab_type": "text"
      },
      "source": [
        "# Overfitting and underfitting\n",
        "Remember the model complexity curve that Hugo showed in the video? You will now construct such a curve for the digits dataset! In this exercise, you will compute and plot the training and testing accuracy scores for a variety of different neighbor values. By observing how the accuracy scores differ for the training and testing sets with different values of k, you will develop your intuition for overfitting and underfitting.\n",
        "\n",
        "The training and testing sets are available to you in the workspace as X_train, X_test, y_train, y_test. In addition, KNeighborsClassifier has been imported from sklearn.neighbors.\n",
        "\n",
        "Instructions\n",
        "\n",
        "Inside the for loop:\n",
        "\n",
        "Setup a k-NN classifier with the number of neighbors equal to k.\n",
        "\n",
        "Fit the classifier with k neighbors to the training data.\n",
        "\n",
        "Compute accuracy scores the training set and test set separately using the .score() method and assign the results to the train_accuracy and test_accuracy arrays respectively.\n",
        "\n",
        "Conclusion:\n",
        "\n",
        "Great work! It looks like the test accuracy is highest when using 3 and 5 neighbors. Using 8 neighbors or more seems to result in a simple model that underfits the data. Now that you've grasped the fundamentals of classification, you will learn about regression in the next chapter!"
      ]
    },
    {
      "cell_type": "code",
      "metadata": {
        "id": "T2NxA-i4RiNE",
        "colab_type": "code",
        "colab": {}
      },
      "source": [
        "# Setup arrays to store train and test accuracies\n",
        "neighbors = np.arange(1, 9)\n",
        "train_accuracy = np.empty(len(neighbors))\n",
        "test_accuracy = np.empty(len(neighbors))\n",
        "\n",
        "# Loop over different values of k\n",
        "for i, k in enumerate(neighbors):\n",
        "    # Setup a k-NN Classifier with k neighbors: knn\n",
        "    knn = KNeighborsClassifier(n_neighbors=k)\n",
        "\n",
        "    # Fit the classifier to the training data\n",
        "    knn.fit(X_train, y_train)\n",
        "    \n",
        "    #Compute accuracy on the training set\n",
        "    train_accuracy[i] = knn.score(X_train, y_train)\n",
        "\n",
        "    #Compute accuracy on the testing set\n",
        "    test_accuracy[i] = knn.score(X_test, y_test)\n",
        "\n",
        "# Generate plot\n",
        "plt.title('k-NN: Varying Number of Neighbors')\n",
        "plt.plot(neighbors, test_accuracy, label = 'Testing Accuracy')\n",
        "plt.plot(neighbors, train_accuracy, label = 'Training Accuracy')\n",
        "plt.legend()\n",
        "plt.xlabel('Number of Neighbors')\n",
        "plt.ylabel('Accuracy')\n",
        "plt.show()\n"
      ],
      "execution_count": null,
      "outputs": []
    }
  ]
}