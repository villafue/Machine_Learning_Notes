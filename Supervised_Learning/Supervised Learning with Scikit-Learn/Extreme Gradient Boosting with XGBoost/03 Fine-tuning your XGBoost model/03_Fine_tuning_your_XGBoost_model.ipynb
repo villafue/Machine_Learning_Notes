{
  "nbformat": 4,
  "nbformat_minor": 0,
  "metadata": {
    "colab": {
      "name": "3 Fine-tuning your XGBoost model.ipynb",
      "provenance": [],
      "authorship_tag": "ABX9TyPPUn0LAT4EJ3sk537nsHZo",
      "include_colab_link": true
    },
    "kernelspec": {
      "name": "python3",
      "display_name": "Python 3"
    }
  },
  "cells": [
    {
      "cell_type": "markdown",
      "metadata": {
        "id": "view-in-github",
        "colab_type": "text"
      },
      "source": [
        "<a href=\"https://colab.research.google.com/github/villafue/Machine_Learning_Notes/blob/master/Supervised_Learning/Supervised%20Learning%20with%20Scikit-Learn/Extreme%20Gradient%20Boosting%20with%20XGBoost/03%20Fine-tuning%20your%20XGBoost%20model/03_Fine_tuning_your_XGBoost_model.ipynb\" target=\"_parent\"><img src=\"https://colab.research.google.com/assets/colab-badge.svg\" alt=\"Open In Colab\"/></a>"
      ]
    },
    {
      "cell_type": "code",
      "metadata": {
        "id": "9ZGmQnn4WfuH"
      },
      "source": [
        ""
      ],
      "execution_count": null,
      "outputs": []
    }
  ]
}