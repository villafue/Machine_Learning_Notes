{
  "nbformat": 4,
  "nbformat_minor": 0,
  "metadata": {
    "colab": {
      "name": "Classification with XGBoost.ipynb",
      "provenance": [],
      "authorship_tag": "ABX9TyOenArt8vq4ocInK0Wl5/cH",
      "include_colab_link": true
    },
    "kernelspec": {
      "name": "python3",
      "display_name": "Python 3"
    }
  },
  "cells": [
    {
      "cell_type": "markdown",
      "metadata": {
        "id": "view-in-github",
        "colab_type": "text"
      },
      "source": [
        "<a href=\"https://colab.research.google.com/github/villafue/Machine_Learning_Notes/blob/master/Supervised_Learning/Supervised%20Learning%20with%20Scikit-Learn/Extreme%20Gradient%20Boosting%20with%20XGBoost/01%20Classification%20with%20XGBoost/01%20Classification_with_XGBoost.ipynb\" target=\"_parent\"><img src=\"https://colab.research.google.com/assets/colab-badge.svg\" alt=\"Open In Colab\"/></a>"
      ]
    },
    {
      "cell_type": "markdown",
      "metadata": {
        "id": "sPBVFUxcWzpw"
      },
      "source": [
        "# Classification with XGBoost\n",
        "\n",
        "This chapter will introduce you to the fundamental idea behind XGBoost—boosted learners. Once you understand how XGBoost works, you'll apply it to solve a common classification problem found in industry: predicting whether a customer will stop being a customer at some point in the future."
      ]
    },
    {
      "cell_type": "markdown",
      "metadata": {
        "id": "1tL_Y9fvaJZf"
      },
      "source": [
        "# Welcome to the course!\r\n",
        "\r\n",
        "1. Welcome to the course!\r\n",
        "Hi, my name is Sergey Fogelson and I'm the instructor for Datacamp's course on Gradient Boosted Trees With XGBoost. I'm a data scientist working in the media industry and have used XGBoost extensively on a variety of machine learning problems. I've created this course with DataCamp to help others quickly understand how to use this very popular implementation of gradient boosting. Let's get started.\r\n",
        "\r\n",
        "2. Before we get to XGBoost...\r\n",
        "In order to understand XGBoost, we need to have some handle on the broader topics of supervised classification, decision trees, and boosting, which we will cover throughout this chapter. To begin, let's briefly review what\r\n",
        "\r\n",
        "3. Supervised learning\r\n",
        "supervised learning is and the kinds of problems its methods can be applied to. At its core, supervised learning, which is the kind of learning problems that XGBoost can be applied to, relies on labeled data. That is, you have some understanding of the past behavior of the problem you're trying to solve or what you're trying to predict.\r\n",
        "\r\n",
        "4. Supervised learning example\r\n",
        "For example, assessing whether a specific image contains a person's face, is a classification problem. Here the training data are images converted into vectors of pixel values, and the labels are either 1 when the image contains a face or 0 when the image doesn't contain a face. Given this, there are two kinds of supervised learning problems that account for the vast majority of use-cases: classification problems and regression problems. We will only talk about classification problems here and leave regression to chapter 2.\r\n",
        "\r\n",
        "5. Supervised learning: Classification\r\n",
        "Classification problems involve predicting either binary or multi-class outcomes.\r\n",
        "\r\n",
        "6. Binary classification example\r\n",
        "For example, predicting whether a person will purchase an insurance package given some quote is a binary supervised learning problem,\r\n",
        "\r\n",
        "7. Multi-class classification example\r\n",
        "and predicting whether a picture contains one of several species of birds is a multi-class supervised learning problem. When dealing with binary supervised learning problems,\r\n",
        "\r\n",
        "8. AUC: Metric for binary classification models\r\n",
        "the AUC, or Area Under the Receiver Operating Characteristic Curve, is the most versatile and common evaluation metric used to judge the quality of a binary classification model. It is simply the probability that a randomly chosen positive data point will have a higher rank than a randomly chosen negative data point for your learning problem. So, a higher AUC means a more sensitive, better performing model. When dealing with multi-class classification problems,\r\n",
        "\r\n",
        "9. Accuracy score and confusion matrix\r\n",
        "it is common to use the accuracy score (higher is better) and to look at the overall confusion matrix to evaluate the quality of a model.\r\n",
        "\r\n",
        "10. Review\r\n",
        "Some common algorithms for classification problems include logistic regression and decision trees. If you want a deeper review, check out DataCamp's introductory course on supervised learning.\r\n",
        "\r\n",
        "11. Other supervised learning considerations\r\n",
        "All supervised learning problems, including classification problems, require that the data is structured as a table of feature vectors, where the features themselves (also called attributes or predictors) are either numeric or categorical. Furthermore, it is usually the case that numeric features are scaled to aid in either feature interpretation or to ensure that the model can be trained properly (for example, numerical feature scaling is essential to ensure properly trained support vector machine models). Categorical features are also almost always encoded before applying supervised learning algorithms, most commonly using one-hot encoding. Finally, other kinds of supervised learning problems exist, so I'll mention them here briefly.\r\n",
        "\r\n",
        "12. Ranking\r\n",
        "Ranking problems involve predicting an ordering on a set of choices (like google search suggestions),\r\n",
        "\r\n",
        "13. Recommendation\r\n",
        "and recommendation problems involve recommending an item or set of items to a user based on his/her consumption history and profile (like Netflix).\r\n",
        "\r\n",
        "14. Let's practice!\r\n",
        "Now that you've been reminded about the basics of classification problems, let's get to work!"
      ]
    },
    {
      "cell_type": "markdown",
      "metadata": {
        "id": "R9AjTAHqXfTB"
      },
      "source": [
        "# Which of these is a classification problem?\n",
        "Given below are 4 potential machine learning problems you might encounter in the wild. Pick the one that is a classification problem.\n",
        "\n",
        "Incorrect Answers:\n",
        "\n",
        "- Given past performance of stocks and various other financial data, predicting the exact price of a given stock (Google) tomorrow.\n",
        " - Not quite. This is an example of a regression problem, because we are predicting a continuous quantity.\n",
        "\n",
        "- Given a large dataset of user behaviors on a website, generating an informative segmentation of the users based on their behaviors.\n",
        " - There's nothing to predict here, this is an unsupervised (clustering) problem. Try again.\n",
        "\n",
        "- Given a user's past behavior on a video platform, presenting him/her with a series of recommended videos to watch next.\n",
        " - Incorrect. This problem involves ranking entities and returning the highest ranked ones (in order) to the user.\n",
        "\n",
        "Correct Answer:\n",
        "\n",
        "- Predicting whether a given user will click on an ad given the ad content and metadata associated with the user.\n",
        " - Well done! This is indeed a classification problem."
      ]
    },
    {
      "cell_type": "markdown",
      "metadata": {
        "id": "f_mmd_wMgY84"
      },
      "source": [
        "# Which of these is a binary classification problem?\n",
        "\n",
        "Great! A classification problem involves predicting the category a given data point belongs to out of a finite se- t of possible categories. Depending on how many possible categories there are to predict, a classification problem can be either binary or multi-class. Let's do another quick refresher here. Your job is to pick the binary classification problem out of the following list of supervised learning problems.\n",
        "\n",
        "Incorrect Answers:\n",
        "\n",
        "- Predicting the emotional valence of a sentence (Valence can be positive, negative, or neutral).\n",
        " - There are 3 categories to choose from here. Try again.\n",
        "\n",
        "- Recommending the most tax-efficient strategy for tax filing in an automated accounting system.\n",
        " - This smells like a recommendation problem, not a classification problem.\n",
        "\n",
        "- Given a list of symptoms, generating a rank-ordered list of most likely diseases.\n",
        " - Incorrect. This is a recommendation problem.\n",
        "\n",
        "Correct Answer:\n",
        "\n",
        "- Predicting whether a given image contains a cat.\n",
        "press\n",
        " - Correct! A binary classification problem involves picking between 2 choices.\n"
      ]
    },
    {
      "cell_type": "markdown",
      "metadata": {
        "id": "l7CVheP-cdzm"
      },
      "source": [
        "# Introducing XGBoost\r\n",
        "\r\n",
        "1. Introducing XGBoost\r\n",
        "Now let's talk about what you're actually here for, the hottest library in supervised machine learning, XGBoost.\r\n",
        "\r\n",
        "2. What is XGBoost?\r\n",
        "XGBoost is an incredibly popular machine learning library for good reason. It was developed originally as a C++ command-line application. After winning a popular machine learning competition, the package started being adopted within the ML community. As a result, bindings, or functions that tapped into the core C++ code, started appearing in a variety of other languages, including Python, R, Scala, and Julia. We will cover the Python API in this course.\r\n",
        "\r\n",
        "3. What makes XGBoost so popular?\r\n",
        "What makes XGBoost so popular? Its speed and performance. Because the core XGBoost algorithm is parallelizable, it can harness all of the processing power of modern multi-core computers. Furthermore, it is parallelizable onto GPU's and across networks of computers, making it feasible to train models on very large datasets on the order of hundreds of millions of training examples. However, XGBoost's speed isn't the package's real draw. Ultimately, a fast but poorly performing machine learning algorithm is not going to have wide adoption within the community. What makes XGBoost so popular is that it consistently outperforms almost all other single-algorithm methods in machine learning competitions and has been shown to achieve state-of-the-art performance on a variety of benchmark machine learning datasets. Here's an example of how we can use XGBoost using a classification problem.\r\n",
        "\r\n",
        "4. Using XGBoost: a quick example\r\n",
        "In lines 1-4, we import the libraries or functions we will be using, including xgboost, and the train/test/split function from scikit-learn. Remember, you always build a machine learning model using train/test splits of your data, where some portion of your data is used for training, and the remainder is held-out for testing to ensure that your model doesn't overfit and can generalize to unseen data. In lines 5 and 6 we load our data in from file and split the entire dataset into a matrix of samples by features, called X by convention, and a vector of target values, called y by convention. In line 7 we create our train/test split, keeping 20% of the data for testing. In line 8 we instantiate our xgboost classifier instance with some parameters that we will cover shortly. Lines 9 and 10 should appear familiar to you. XGBoost has a scikit-learn compatible api, and this is it! It uses the fit/predict pattern that you should have seen before, where we fit, or train, our algorithm on the training set, and then evaluate it by generating predictions using the test set and comparing our predictions to the actual target labels on the test set. Lines 11 and 12 evaluate the accuracy of the trained model on the test set and print the results to screen.\r\n",
        "\r\n",
        "5. Let's begin using XGBoost!\r\n",
        "Given that XGBoost is this popular, let's get to using it already!"
      ]
    },
    {
      "cell_type": "markdown",
      "metadata": {
        "id": "hsusXTMpJQ0B"
      },
      "source": [
        "# XGBoost: Fit/Predict\n",
        "It's time to create your first XGBoost model! As Sergey showed you in the video, you can use the scikit-learn .fit() / .predict() paradigm that you are already familiar to build your XGBoost models, as the xgboost library has a scikit-learn compatible API!\n",
        "\n",
        "Here, you'll be working with churn data. This dataset contains imaginary data from a ride-sharing app with user behaviors over their first month of app usage in a set of imaginary cities as well as whether they used the service 5 months after sign-up. It has been pre-loaded for you into a DataFrame called churn_data - explore it in the Shell!\n",
        "\n",
        "Your goal is to use the first month's worth of data to predict whether the app's users will remain users of the service at the 5 month mark. This is a typical setup for a churn prediction problem. To do this, you'll split the data into training and test sets, fit a small xgboost model on the training set, and evaluate its performance on the test set by computing its accuracy.\n",
        "\n",
        "pandas and numpy have been imported as pd and np, and train_test_split has been imported from sklearn.model_selection. Additionally, the arrays for the features and the target have been created as X and y.\n",
        "\n",
        "Instructions:\n",
        "\n",
        "- Import xgboost as xgb.\n",
        "- Create training and test sets such that 20% of the data is used for testing. Use a random_state of 123.\n",
        "- Instantiate an XGBoostClassifier as xg_cl using xgb.XGBClassifier(). Specify n_estimators to be 10 estimators and an objective of 'binary:logistic'. Do not worry about what this means just yet, you will learn about these parameters later in this course.\n",
        "- Fit xg_cl to the training set (X_train, y_train) using the .fit() method.\n",
        "- Predict the labels of the test set (X_test) using the .predict() method and hit 'Submit Answer' to print the accuracy.\n",
        "\n",
        "Conclusion:\n",
        "\n",
        "Well done! Your model has an accuracy of around 74%. In Chapter 3, you'll learn about ways to fine tune your XGBoost models. For now, let's refresh our memories on how decision trees work. See you in the next video!"
      ]
    },
    {
      "cell_type": "code",
      "metadata": {
        "id": "nyTjF5gqWUpt"
      },
      "source": [
        "# Import xgboost\n",
        "import xgboost as xgb\n",
        "\n",
        "# Create arrays for the features and the target: X, y\n",
        "X, y = churn_data.iloc[:,:-1], churn_data.iloc[:,-1]\n",
        "\n",
        "# Create the training and test sets\n",
        "X_train, X_test, y_train, y_test= train_test_split(X, y, test_size=0.20, random_state=123)\n",
        "\n",
        "# Instantiate the XGBClassifier: xg_cl\n",
        "xg_cl = xgb.XGBClassifier(objective='binary:logistic', n_estimators=10, seed=123)\n",
        "\n",
        "# Fit the classifier to the training set\n",
        "xg_cl.fit(X_train, y_train)\n",
        "\n",
        "# Predict the labels of the test set: preds\n",
        "preds = xg_cl.predict(X_test)\n",
        "\n",
        "# Compute the accuracy: accuracy\n",
        "accuracy = float(np.sum(preds==y_test))/y_test.shape[0]\n",
        "print(\"accuracy: %f\" % (accuracy))\n",
        "\n",
        "'''\n",
        "<script.py> output:\n",
        "    accuracy: 0.743300\n",
        "'''"
      ],
      "execution_count": null,
      "outputs": []
    },
    {
      "cell_type": "markdown",
      "metadata": {
        "id": "iDd-wP3SnMp-"
      },
      "source": [
        "# What is a decision tree?\r\n",
        "\r\n",
        "1. What is a decision tree?\r\n",
        "Because XGBoost is usually used with trees as base learners, we need to understand what an individual decision tree is, and how it works.\r\n",
        "\r\n",
        "2. Visualizing a decision tree\r\n",
        "Here is an example decision tree. As you can see, it has a single question that is being asked at each decision node, and only 2 possible choices, at the very bottom of each decision tree, there is a single possible decision. In this example decision tree for whether to purchase a vehicle, the first question you ask is whether it has been road-tested. If it hasn't, you immediately decide not to buy, otherwise, you continue asking questions, such as what the vehicle's mileage is, and, if its age is old or recent. At bottom, every possible decision will eventually lead to a choice, some taking many fewer questions to get to those choices than others.\r\n",
        "\r\n",
        "1 https://www.ibm.com/support/knowledgecenter/en/SS3RA7_15.0.0/ com.ibm.spss.modeler.help/nodes_treebuilding.htm\r\n",
        "3. Decision trees as base learners\r\n",
        "The concept of a base learner will be covered more extensively later, but for now, just think of any individual learning algorithm in an ensemble algorithm as a base learner. This is important because XGBoost itself is an ensemble learning method in that it uses the outputs of many models for a final prediction. Anyway, as you saw in the previous slide, a decision tree is a learning method that involves a tree-like graph to model either a continuous or categorical choice given some data. It is composed of a series of binary decisions (yes/no or true/false questions) that when answered in succession ultimately yield a prediction about the data at hand (these predictions happen at the leaves of the tree).\r\n",
        "\r\n",
        "4. Decision trees and CART\r\n",
        "Decision trees are constructed iteratively (that is, one binary decision at a time) until some stopping criterion is met (the depth of the tree reaches some pre-defined maximum value, for example). During construction, the tree is built one split at a time, and the way that a split is selected (that is, what feature to split on and where in the feature's range of values to split) can vary, but involves choosing a split point that segregates the target values better (puts each target category into buckets that are increasingly dominated by just one category) until all (or nearly all) values within a given split are exclusively of one category or another. Using this process, each leaf of the decision tree will have a single category in the majority, or should be exclusively of one category.\r\n",
        "\r\n",
        "5. Individual decision trees tend to overfit\r\n",
        "Individual decision trees in general are low-bias, high-variance learning models.\r\n",
        "\r\n",
        "1 http://scott.fortmann-roe.com/docs/BiasVariance.html\r\n",
        "6. Individual decision trees tend to overfit\r\n",
        "That is, they are very good at learning relationships within any data you train them on, but they tend to overfit the data you use to train them on and usually generalize to new data poorly. XGBoost uses a slightly different kind of a decision tree,\r\n",
        "\r\n",
        "1 http://scott.fortmann-roe.com/docs/BiasVariance.html\r\n",
        "7. CART: Classification and Regression Trees\r\n",
        "called a classification and regression tree, or CART. Whereas for the decision trees described above the leaf nodes always contain decision values, CART trees contain a real-valued score in each leaf, regardless of whether they are used for classification or regression. The real-valued scores can then be thresholded to convert into categories for classification problems if necessary.\r\n",
        "\r\n",
        "8. Let's work with some decision trees!\r\n",
        "Awesome, let's get to working with some decision trees!"
      ]
    },
    {
      "cell_type": "markdown",
      "metadata": {
        "id": "3smJ0cxgRTOp"
      },
      "source": [
        "# Decision trees\n",
        "Your task in this exercise is to make a simple decision tree using scikit-learn's DecisionTreeClassifier on the breast cancer dataset that comes pre-loaded with scikit-learn.\n",
        "\n",
        "This dataset contains numeric measurements of various dimensions of individual tumors (such as perimeter and texture) from breast biopsies and a single outcome value (the tumor is either malignant, or benign).\n",
        "\n",
        "We've preloaded the dataset of samples (measurements) into X and the target values per tumor into y. Now, you have to split the complete dataset into training and testing sets, and then train a DecisionTreeClassifier. You'll specify a parameter called max_depth. Many other parameters can be modified within this model, and you can check all of them out here.\n",
        "\n",
        "Instructions\n",
        "\n",
        "- Import:\n",
        " - train_test_split from sklearn.model_selection.\n",
        " - DecisionTreeClassifier from sklearn.tree.\n",
        "- Create training and test sets such that 20% of the data is used for testing. Use a random_state of 123.\n",
        "- Instantiate a DecisionTreeClassifier called dt_clf_4 with a max_depth of 4. This parameter specifies the maximum number of successive split points you can have before reaching a leaf node.\n",
        "- Fit the classifier to the training set and predict the labels of the test set.\n",
        "\n",
        "Conclusion:\n",
        "\n",
        "Great work! It's now time to learn about what gives XGBoost its state-of-the-art performance: Boosting."
      ]
    },
    {
      "cell_type": "code",
      "metadata": {
        "id": "JdbwUcWL7smi"
      },
      "source": [
        "# Import the necessary modules\n",
        "from sklearn.model_selection import train_test_split\n",
        "from sklearn.tree import DecisionTreeClassifier\n",
        "\n",
        "# Create the training and test sets\n",
        "X_train, X_test, y_train, y_test = train_test_split(X, y, test_size=0.20, random_state=123)\n",
        "\n",
        "# Instantiate the classifier: dt_clf_4\n",
        "dt_clf_4 = DecisionTreeClassifier(max_depth=4)\n",
        "\n",
        "# Fit the classifier to the training set\n",
        "dt_clf_4.fit(X_train, y_train)\n",
        "\n",
        "# Predict the labels of the test set: y_pred_4\n",
        "y_pred_4 = dt_clf_4.predict(X_test)\n",
        "\n",
        "# Compute the accuracy of the predictions: accuracy\n",
        "accuracy = float(np.sum(y_pred_4==y_test))/y_test.shape[0]\n",
        "print(\"accuracy:\", accuracy)\n",
        "\n",
        "'''\n",
        "<script.py> output:\n",
        "    accuracy: 0.9649122807017544\n",
        "'''"
      ],
      "execution_count": null,
      "outputs": []
    },
    {
      "cell_type": "markdown",
      "metadata": {
        "id": "wc6ENR5opoPu"
      },
      "source": [
        "# What is Boosting?\r\n",
        "\r\n",
        "1. What is Boosting?\r\n",
        "Now that we've reviewed both supervised learning and the basics of decision trees, lets talk about the core concept that gives XGBoost its state-of-the-art performance, boosting.\r\n",
        "\r\n",
        "2. Boosting overview\r\n",
        "At bottom, boosting isn't really a specific machine learning algorithm, but a concept that can be applied to a set of machine learning models. So, its really a meta-algorithm. Specifically, it is an ensemble meta-algorithm primarily used to reduce any given single learner's variance and to convert many weak learners into an arbitrarily strong learner.\r\n",
        "\r\n",
        "3. Weak learners and strong learners\r\n",
        "A weak learner is any machine learning algorithm that is just slightly better than chance. So, a decision tree that can predict some outcome slightly more frequently than pure randomness would be considered a weak learner. The principal insight that allows XGBoost to work is the fact that you can use boosting to convert a collection of weak learners into a strong learner. Where a strong learner is any algorithm that can be tuned to achieve arbitrarily good performance for some supervised learning problem.\r\n",
        "\r\n",
        "4. How boosting is accomplished\r\n",
        "How is this accomplished? By iteratively learning a set of weak models on subsets of the data you have at hand, and weighting each of their predictions according to each weak learner's performance. You then combine all of the weak learners' predictions multiplied by their weights to obtain a single final weighted prediction that is much better than any of the individual predictions themselves. It's kind of incredible that this works as well as it does.\r\n",
        "\r\n",
        "5. Boosting example\r\n",
        "Here is a very basic example of boosting using 2 decision trees. This example comes from the XGBoost documentation and shows that given a specific example, each tree gives a different prediction score depending on the data it sees. The prediction scores for each possibility are summed across trees and the prediction is simply the sum of the scores across both trees. Here, you can see that whatever it was we were trying to predict, the little boy had a higher predicted score summed across both trees than the old man.\r\n",
        "\r\n",
        "1 https://xgboost.readthedocs.io/en/latest/model.html\r\n",
        "6. Model evaluation through cross-validation\r\n",
        "Since we will be working with XGBoost's learning API for model evaluation next, it's a good idea to briefly provide you with an example that shows how model evaluation using cross-validation works with XGBoost's learning API (which is different from the scikit-learn compatible API) as it has cross-validation capabilities baked in. As a refresher, cross-validation is a robust method for estimating the expected performance of a machine learning model on unseen data by generating many non-overlapping train/test splits on your training data and reporting the average test set performance across all data splits.\r\n",
        "\r\n",
        "7. Cross-validation in XGBoost example\r\n",
        "So, in lines 1 and 2 we import what we will be using. In line 3, we load in our example dataset. In line 4, we convert our dataset into an optimized data structure that the creators of XGBoost made that gives the package its lauded performance and efficiency gains called a DMatrix. In the previous exercise, the input datasets were converted into DMatrix data on the fly, but when we use the XGBoost cv object, which is part of XGBoost's learning api we have to first explicitly convert our data into a DMatrix. So, that's what we are doing here before we run our cross-validation. In line 5, we are creating a parameter dictionary to pass into our cross-validation. This is necessary because the cv method has no idea what kind of XGBoost model we are using and expects us to provide that information as a dictionary of appropriate key-value pairs. Our parameter dictionary here is bare-bones, only providing the objective function we would like to use and the maximum depth that every tree can grow to. In line 6, we call the cv method and pass in our DMatrix object storing all of our data, the parameter dictionary, the number of cross-validation folds, how many trees we want to build, what metric we want to compute, and whether we want our output to be stored as a pandas dataframe. In line 7 we simply convert our metrics into an accuracy and output the results to screen.\r\n",
        "\r\n",
        "8. Let's practice!\r\n",
        "Now it's your turn!\r\n"
      ]
    },
    {
      "cell_type": "markdown",
      "metadata": {
        "id": "M_YfKynr-dpA"
      },
      "source": [
        "# Measuring accuracy\n",
        "You'll now practice using XGBoost's learning API through its baked in cross-validation capabilities. As Sergey discussed in the previous video, XGBoost gets its lauded performance and efficiency gains by utilizing its own optimized data structure for datasets called a DMatrix.\n",
        "\n",
        "In the previous exercise, the input datasets were converted into DMatrix data on the fly, but when you use the xgboost cv object, you have to first explicitly convert your data into a DMatrix. So, that's what you will do here before running cross-validation on churn_data.\n",
        "\n",
        "Instructions\n",
        "\n",
        "- Create a DMatrix called churn_dmatrix from churn_data using xgb.DMatrix(). The features are available in X and the labels in y.\n",
        "- Perform 3-fold cross-validation by calling xgb.cv(). dtrain is your churn_dmatrix, params is your parameter dictionary, nfold is the number of cross-validation folds (3), num_boost_round is the number of trees we want to build (5), metrics is the metric you want to compute (this will be \"error\", which we will convert to an accuracy)\n",
        "\n",
        "Conclusion\n",
        "\n",
        "Nice work. cv_results stores the training and test mean and standard deviation of the error per boosting round (tree built) as a DataFrame. From cv_results, the final round 'test-error-mean' is extracted and converted into an accuracy, where accuracy is 1-error. The final accuracy of around 75% is an improvement from earlier!"
      ]
    },
    {
      "cell_type": "code",
      "metadata": {
        "id": "m3DftFW9DlmQ"
      },
      "source": [
        "# Create arrays for the features and the target: X, y\n",
        "X, y = churn_data.iloc[:,:-1], churn_data.iloc[:,-1]\n",
        "\n",
        "# Create the DMatrix from X and y: churn_dmatrix\n",
        "churn_dmatrix = xgb.DMatrix(data=X, label=y)\n",
        "\n",
        "# Create the parameter dictionary: params\n",
        "params = {\"objective\":\"reg:logistic\", \"max_depth\":3}\n",
        "\n",
        "# Perform cross-validation: cv_results\n",
        "cv_results = xgb.cv(dtrain=churn_dmatrix, params=params, \n",
        "                  nfold=3, num_boost_round=5, \n",
        "                  metrics=\"error\", as_pandas=True, seed=123)\n",
        "\n",
        "# Print cv_results\n",
        "print(cv_results)\n",
        "\n",
        "# Print the accuracy\n",
        "print(((1-cv_results[\"test-error-mean\"]).iloc[-1]))\n",
        "\n",
        "'''\n",
        "<script.py> output:\n",
        "       train-error-mean  train-error-std  test-error-mean  test-error-std\n",
        "    0           0.28232         0.002366          0.28378        0.001932\n",
        "    1           0.26951         0.001855          0.27190        0.001932\n",
        "    2           0.25605         0.003213          0.25798        0.003963\n",
        "    3           0.25090         0.001845          0.25434        0.003827\n",
        "    4           0.24654         0.001981          0.24852        0.000934\n",
        "    0.75148\n",
        "'''"
      ],
      "execution_count": null,
      "outputs": []
    },
    {
      "cell_type": "markdown",
      "metadata": {
        "id": "brf6QnYPDu7r"
      },
      "source": [
        "# Measuring AUC\n",
        "Now that you've used cross-validation to compute average out-of-sample accuracy (after converting from an error), it's very easy to compute any other metric you might be interested in. All you have to do is pass it (or a list of metrics) in as an argument to the metrics parameter of xgb.cv().\n",
        "\n",
        "Your job in this exercise is to compute another common metric used in binary classification - the area under the curve (\"auc\"). As before, churn_data is available in your workspace, along with the DMatrix churn_dmatrix and parameter dictionary params.\n",
        "\n",
        "Instructions\n",
        "\n",
        "- Perform 3-fold cross-validation with 5 boosting rounds and \"auc\" as your metric.\n",
        "- Print the \"test-auc-mean\" column of cv_results.\n",
        "\n",
        "Conclusion:\n",
        "\n",
        "Fantastic! An AUC of 0.84 is quite strong. As you have seen, XGBoost's learning API makes it very easy to compute any metric you may be interested in. In Chapter 3, you'll learn about techniques to fine-tune your XGBoost models to improve their performance even further. For now, it's time to learn a little about exactly when to use XGBoost."
      ]
    },
    {
      "cell_type": "code",
      "metadata": {
        "id": "jQ0d-mb7EFXD"
      },
      "source": [
        "# Perform cross_validation: cv_results\n",
        "cv_results = xgb.cv(dtrain=churn_dmatrix, params=params, \n",
        "                  nfold=3, num_boost_round=5, \n",
        "                  metrics=\"auc\", as_pandas=True, seed=123)\n",
        "\n",
        "# Print cv_results\n",
        "print(cv_results)\n",
        "\n",
        "# Print the AUC\n",
        "print((cv_results[\"test-auc-mean\"]).iloc[-1])\n",
        "\n",
        "'''\n",
        "<script.py> output:\n",
        "       train-auc-mean  train-auc-std  test-auc-mean  test-auc-std\n",
        "    0        0.768893       0.001544       0.767863      0.002820\n",
        "    1        0.790864       0.006758       0.789157      0.006846\n",
        "    2        0.815872       0.003900       0.814476      0.005997\n",
        "    3        0.822959       0.002018       0.821682      0.003912\n",
        "    4        0.827528       0.000769       0.826191      0.001937\n",
        "    0.826191\n",
        "'''"
      ],
      "execution_count": null,
      "outputs": []
    },
    {
      "cell_type": "markdown",
      "metadata": {
        "id": "9lHE9GOJ52HS"
      },
      "source": [
        "# When should I use XGBoost?\r\n",
        "\r\n",
        ". When should I use XGBoost?\r\n",
        "So, given everything we've said about XGBoost, when should (and shouldn't) you use it?\r\n",
        "\r\n",
        "2. When to use XGBoost\r\n",
        "Given that I've already talked a bit about when and where XGBoost shines, some of this shouldn't come as a surprise to you. You should consider using XGBoost for any supervised machine learning task that fits the following criteria: You have a large number of training examples. Although your definition of large can vary, I intend it to mean a dataset that has few features and at least 1000 examples. However, in general, as long as the number of features in your training set is smaller than the number of examples you have, you should be fine. Finally, XGBoost tends to do well when you have a mixture of categorical and numeric features, or when you have just numeric features.\r\n",
        "\r\n",
        "3. When to NOT use XGBoost\r\n",
        "When should you not use XGBoost? The most important kinds of problems where XGBoost is a suboptimal choice involve either those that have found success using other state-of-the-art algorithms or those that suffer from dataset size issues. Specifically, XGBoost is not ideally suited for image recognition, computer vision, or natural language processing and understanding problems, as those kinds of problems can be much better tackled using deep learning approaches. In terms of dataset size problems, XGBoost is not suitable when you have very small training sets ( less than 100 training examples) or when the number of training examples is significantly smaller than the number of features being used for training.\r\n",
        "\r\n",
        "4. Let's practice!\r\n",
        "Ok, let's finish off what you learned in chapter 1 with one last multiple choice question!"
      ]
    },
    {
      "cell_type": "markdown",
      "metadata": {
        "id": "kp4uU3muFzPi"
      },
      "source": [
        "# Using XGBoost\n",
        "XGBoost is a powerful library that scales very well to many samples and works for a variety of supervised learning problems. That said, as Sergey described in the video, you shouldn't always pick it as your default machine learning library when starting a new project, since there are some situations in which it is not the best option. In this exercise, your job is to consider the below examples and select the one which would be the best use of XGBoost.\n",
        "\n",
        "**Incorrect Answers**\n",
        "\n",
        "1. Visualizing the similarity between stocks by comparing the time series of their historical prices relative to each other.\n",
        "\n",
        " - This is an example of a clustering problem - there are no labels to learn from here.\n",
        "\n",
        "2. Predicting whether a person will develop cancer using genetic data with millions of genes, 23 examples of genomes of people that didn't develop cancer, 3 genomes of people who wound up getting cancer.\n",
        " - This would not be an ideal use of XGBoost as there are many more features than there are examples.\n",
        "\n",
        "3. Clustering documents into topics based on the terms used in them.\n",
        " - This is an example of a clustering problem. There are no targets and so you cannot use supervised learning.\n",
        "\n",
        "**Correct Answer**\n",
        "\n",
        "Predicting the likelihood that a given user will click an ad from a very large clickstream log with millions of users and their web interactions.\n",
        "\n",
        "**Conclusion**\n",
        "\n",
        "Correct! Way to end the chapter. Time to apply XGBoost to solve regression problems!"
      ]
    }
  ]
}