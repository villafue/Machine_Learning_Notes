{
  "nbformat": 4,
  "nbformat_minor": 0,
  "metadata": {
    "colab": {
      "name": "4 Using XGBoost in pipelines.ipynb",
      "provenance": [],
      "authorship_tag": "ABX9TyMVe2rBS7ylWUBNWtHYPNrl",
      "include_colab_link": true
    },
    "kernelspec": {
      "name": "python3",
      "display_name": "Python 3"
    }
  },
  "cells": [
    {
      "cell_type": "markdown",
      "metadata": {
        "id": "view-in-github",
        "colab_type": "text"
      },
      "source": [
        "<a href=\"https://colab.research.google.com/github/villafue/Machine_Learning_Notes/blob/master/Supervised_Learning/Supervised%20Learning%20with%20Scikit-Learn/Extreme%20Gradient%20Boosting%20with%20XGBoost/4%20Using%20XGBoost%20in%20pipelines/4_Using_XGBoost_in_pipelines.ipynb\" target=\"_parent\"><img src=\"https://colab.research.google.com/assets/colab-badge.svg\" alt=\"Open In Colab\"/></a>"
      ]
    },
    {
      "cell_type": "markdown",
      "metadata": {
        "id": "SSdhZnSmvvBV"
      },
      "source": [
        "# Using XGBoost in pipelines\r\n",
        "\r\n",
        "Take your XGBoost skills to the next level by incorporating your models into two end-to-end machine learning pipelines. You'll learn how to tune the most important XGBoost hyperparameters efficiently within a pipeline, and get an introduction to some more advanced preprocessing techniques."
      ]
    },
    {
      "cell_type": "markdown",
      "metadata": {
        "id": "9EJYOK_AwtVk"
      },
      "source": [
        "# Review of pipelines using sklearn\r\n",
        "\r\n",
        "1. Review of pipelines using sklearn\r\n",
        "Let's begin the final chapter in this course by reviewing how pipelines are used in scikit-learn. Refreshing our memory about how pipelines work will allow us to use XGBoost effectively in pipelines going forward. Before working through an example script using pipelines, lets briefly go over how they work.\r\n",
        "\r\n",
        "2. Pipeline review\r\n",
        "Pipelines in sklearn are objects that take a list of named tuples as input. The named tuples must always contain a string name as the first element in each tuple and any scikit-learn compatible transformer or estimator object as the second element. Each named tuple in the pipeline is called a step, and the list of transformations that are contained in the list are executed in order once some data is passed through the pipeline. This is done using the standard fit/predict paradigm that is standard in scikit-learn. Finally, where pipelines are really useful is that they can be used as input estimator objects into other scikit-learn objects themselves, the most useful of which are the cross_val_score method, which allows for efficient cross-validation and out of sample metric calculation, and the grid search and random search approaches for tuning hyperparameters.\r\n",
        "\r\n",
        "3. Scikit-learn pipeline example\r\n",
        "Now that we've talked about how pipelines work, lets seem them in action. In this example, we will use the Boston Housing dataset. As you've seen many times before, we first import all of the functionality we will need for the example. We will use a randomforestregressor model to predict housing prices, and will import pipeline from sklearn's pipeline submodule. In lines 2-4, we load in our data and create our X feature matrix and y target vector. Lines 5-6 are the ones that do the real work here. In line 5, we create our pipeline, which contains a standardscaler transformer followed by our RandomForestRegressor estimator. Line 6 takes the just created pipeline estimator as an input along with our X matrix and y vector and performs 10-fold cross-validation using the pipeline and the data and outputs the neg_mean_squared_error as an evaluation metric once per fold. As a brief aside, neg_mean_squared_error is scikit-learn's API-specific way of calculating the mean squared error in an API-compatible way. Negative mean squared errors don't actualy exist as all squares must be positive when working with real numbers.\r\n",
        "\r\n",
        "4. Scikit-learn pipeline example\r\n",
        "Thus, in lines 7 and 8 we simply take the absolute value of the scores, take each of their square roots, and compute their mean to get a root mean squared error across all 10 cross-validation folds. We can see that on average our prediction was off by about 4-point-5 units. In the following exercises, because we will be working with the Ames housing dataset, which is more complex than the Boston housing dataset,\r\n",
        "\r\n",
        "5. Preprocessing I: LabelEncoder and OneHotEncoder\r\n",
        "some additional preprocessing steps will be required. Specifically, we will do the same preprocessing steps in two different ways, only one of which can be done within a pipeline. The first approach involves using the LabelEncoder and OneHotEncoder classes of scikit-learn’s preprocessing submodule one after the other. LabelEncoder simply converts a categorical column of strings into integers that map onto those strings. OneHotEncoder takes a column of integers that are treated as categorical values, and encodes them as dummy variables, which you may already be familiar with. The problem with this 2-step method, however, is that it cannot currently be done within a pipeline. However, not all hope is lost. The second approach,\r\n",
        "\r\n",
        "6. Preprocessing II: DictVectorizer\r\n",
        "which involves using a dict-vectorizer, can accomplish both steps in one line of code.The DictVectorizer is a class found in scikit-learn’s feature extraction submodule, and is traditionally used in text processing pipelines by converting lists of feature mappings into vectors. Using pandas DataFrames, we don’t initially have such a list, however, if we explicitly convert a DataFrame into a list of dictionary entries, then we have exactly what we need. For more details on these classes, I encourage you to explore the scikit-learn documentation.\r\n",
        "\r\n",
        "7. Let's build pipelines!\r\n",
        "You will use both approaches in the next few exercises. I hope you have fun building pipelines!"
      ]
    },
    {
      "cell_type": "markdown",
      "metadata": {
        "id": "IYvOttjoy7fY"
      },
      "source": [
        "# Exploratory data analysis\r\n",
        "\r\n",
        "Before diving into the nitty gritty of pipelines and preprocessing, let's do some exploratory analysis of the original, unprocessed Ames housing dataset. When you worked with this data in previous chapters, we preprocessed it for you so you could focus on the core XGBoost concepts. In this chapter, you'll do the preprocessing yourself!\r\n",
        "\r\n",
        "A smaller version of this original, unprocessed dataset has been pre-loaded into a pandas DataFrame called df. Your task is to explore df in the Shell and pick the option that is incorrect. The larger purpose of this exercise is to understand the kinds of transformations you will need to perform in order to be able to use XGBoost.\r\n",
        "\r\n",
        "Possible Answers\r\n",
        "\r\n",
        "1. The DataFrame has 21 columns and 1460 rows.\r\n",
        " - This is a true statement.\r\n",
        "\r\n",
        "2. The mean of the LotArea column is 10516.828082.\r\n",
        " - This is a true statement.\r\n",
        "\r\n",
        "3. The DataFrame has missing values.\r\n",
        " - This is a true statement.\r\n",
        "\r\n",
        "4. The LotFrontage column has no missing values and its entries are of type float64.\r\n",
        " - Well done! The LotFrontage column actually does have missing values: 259, to be precise. Additionally, notice how columns such as MSZoning, PavedDrive, and HouseStyle are categorical. These need to be encoded numerically before you can use XGBoost. This is what you'll do in the coming exercises.\r\n",
        " \r\n",
        "5. The standard deviation of SalePrice is 79442.502883.\r\n",
        " - This is a true statement."
      ]
    },
    {
      "cell_type": "code",
      "metadata": {
        "id": "wUEo2KfAvW5V"
      },
      "source": [
        "'''\r\n",
        "In [2]:\r\n",
        "df.describe().T\r\n",
        "Out[2]:\r\n",
        "               count           mean           std      min       25%       50%        75%       max\r\n",
        "MSSubClass    1460.0      56.897260     42.300571     20.0      20.0      50.0      70.00     190.0\r\n",
        "LotFrontage   1201.0      70.049958     24.284752     21.0      59.0      69.0      80.00     313.0\r\n",
        "LotArea       1460.0   10516.828082   9981.264932   1300.0    7553.5    9478.5   11601.50  215245.0\r\n",
        "OverallQual   1460.0       6.099315      1.382997      1.0       5.0       6.0       7.00      10.0\r\n",
        "OverallCond   1460.0       5.575342      1.112799      1.0       5.0       5.0       6.00       9.0\r\n",
        "YearBuilt     1460.0    1971.267808     30.202904   1872.0    1954.0    1973.0    2000.00    2010.0\r\n",
        "Remodeled     1460.0       0.476712      0.499629      0.0       0.0       0.0       1.00       1.0\r\n",
        "GrLivArea     1460.0    1515.463699    525.480383    334.0    1129.5    1464.0    1776.75    5642.0\r\n",
        "BsmtFullBath  1460.0       0.425342      0.518911      0.0       0.0       0.0       1.00       3.0\r\n",
        "BsmtHalfBath  1460.0       0.057534      0.238753      0.0       0.0       0.0       0.00       2.0\r\n",
        "FullBath      1460.0       1.565068      0.550916      0.0       1.0       2.0       2.00       3.0\r\n",
        "HalfBath      1460.0       0.382877      0.502885      0.0       0.0       0.0       1.00       2.0\r\n",
        "BedroomAbvGr  1460.0       2.866438      0.815778      0.0       2.0       3.0       3.00       8.0\r\n",
        "Fireplaces    1460.0       0.613014      0.644666      0.0       0.0       1.0       1.00       3.0\r\n",
        "GarageArea    1460.0     472.980137    213.804841      0.0     334.5     480.0     576.00    1418.0\r\n",
        "SalePrice     1460.0  180921.195890  79442.502883  34900.0  129975.0  163000.0  214000.00  755000.0\r\n",
        "\r\n",
        "In [3]:\r\n",
        "df.info()\r\n",
        "<class 'pandas.core.frame.DataFrame'>\r\n",
        "RangeIndex: 1460 entries, 0 to 1459\r\n",
        "Data columns (total 21 columns):\r\n",
        "MSSubClass      1460 non-null int64\r\n",
        "LotFrontage     1201 non-null float64\r\n",
        "LotArea         1460 non-null int64\r\n",
        "OverallQual     1460 non-null int64\r\n",
        "OverallCond     1460 non-null int64\r\n",
        "YearBuilt       1460 non-null int64\r\n",
        "Remodeled       1460 non-null int64\r\n",
        "GrLivArea       1460 non-null int64\r\n",
        "BsmtFullBath    1460 non-null int64\r\n",
        "BsmtHalfBath    1460 non-null int64\r\n",
        "FullBath        1460 non-null int64\r\n",
        "HalfBath        1460 non-null int64\r\n",
        "BedroomAbvGr    1460 non-null int64\r\n",
        "Fireplaces      1460 non-null int64\r\n",
        "GarageArea      1460 non-null int64\r\n",
        "MSZoning        1460 non-null object\r\n",
        "PavedDrive      1460 non-null object\r\n",
        "Neighborhood    1460 non-null object\r\n",
        "BldgType        1460 non-null object\r\n",
        "HouseStyle      1460 non-null object\r\n",
        "SalePrice       1460 non-null int64\r\n",
        "dtypes: float64(1), int64(15), object(5)\r\n",
        "memory usage: 239.6+ KB\r\n",
        "'''"
      ],
      "execution_count": null,
      "outputs": []
    },
    {
      "cell_type": "markdown",
      "metadata": {
        "id": "WaLZPbpr0GTW"
      },
      "source": [
        "# Encoding categorical columns I: LabelEncoder\r\n",
        "\r\n",
        "Now that you've seen what will need to be done to get the housing data ready for XGBoost, let's go through the process step-by-step.\r\n",
        "\r\n",
        "First, you will need to fill in missing values - as you saw previously, the column LotFrontage has many missing values. Then, you will need to encode any categorical columns in the dataset using one-hot encoding so that they are encoded numerically. You can watch this video from Supervised Learning with scikit-learn for a refresher on the idea.\r\n",
        "\r\n",
        "The data has five categorical columns: MSZoning, PavedDrive, Neighborhood, BldgType, and HouseStyle. Scikit-learn has a LabelEncoder function that converts the values in each categorical column into integers. You'll practice using this here.\r\n",
        "\r\n",
        "Instructions\r\n",
        "\r\n",
        "1. Import LabelEncoder from sklearn.preprocessing.\r\n",
        "\r\n",
        "2. Fill in missing values in the LotFrontage column with 0 using .fillna().\r\n",
        "\r\n",
        "3. Create a boolean mask for categorical columns. You can do this by checking for whether df.dtypes equals object.\r\n",
        "\r\n",
        "4. Create a LabelEncoder object. You can do this in the same way you instantiate any scikit-learn estimator.\r\n",
        "\r\n",
        "5. Encode all of the categorical columns into integers using LabelEncoder(). To do this, use the .fit_transform() method of le in the provided lambda function."
      ]
    },
    {
      "cell_type": "code",
      "metadata": {
        "id": "ClS00HRX04wL"
      },
      "source": [
        "# Import LabelEncoder\r\n",
        "from sklearn.preprocessing import LabelEncoder\r\n",
        "\r\n",
        "# Fill missing values with 0\r\n",
        "df.LotFrontage = df.LotFrontage.fillna(0)\r\n",
        "\r\n",
        "# Create a boolean mask for categorical columns\r\n",
        "categorical_mask = (df.dtypes == object)\r\n",
        "\r\n",
        "# Get list of categorical column names\r\n",
        "categorical_columns = df.columns[categorical_mask].tolist()\r\n",
        "\r\n",
        "# Print the head of the categorical columns\r\n",
        "print(df[categorical_columns].head())\r\n",
        "\r\n",
        "# Create LabelEncoder object: le\r\n",
        "le = LabelEncoder()\r\n",
        "\r\n",
        "# Apply LabelEncoder to categorical columns\r\n",
        "df[categorical_columns] = df[categorical_columns].apply(lambda x: le.fit_transform(x))\r\n",
        "\r\n",
        "# Print the head of the LabelEncoded categorical columns\r\n",
        "print(df[categorical_columns].head())\r\n",
        "\r\n",
        "'''\r\n",
        "<script.py> output:\r\n",
        "      MSZoning PavedDrive Neighborhood BldgType HouseStyle\r\n",
        "    0       RL          Y      CollgCr     1Fam     2Story\r\n",
        "    1       RL          Y      Veenker     1Fam     1Story\r\n",
        "    2       RL          Y      CollgCr     1Fam     2Story\r\n",
        "    3       RL          Y      Crawfor     1Fam     2Story\r\n",
        "    4       RL          Y      NoRidge     1Fam     2Story\r\n",
        "       MSZoning  PavedDrive  Neighborhood  BldgType  HouseStyle\r\n",
        "    0         3           2             5         0           5\r\n",
        "    1         3           2            24         0           2\r\n",
        "    2         3           2             5         0           5\r\n",
        "    3         3           2             6         0           5\r\n",
        "    4         3           2            15         0           5\r\n",
        "'''"
      ],
      "execution_count": null,
      "outputs": []
    },
    {
      "cell_type": "markdown",
      "metadata": {
        "id": "2FdM4KPP1M8_"
      },
      "source": [
        "Conclusion\r\n",
        "\r\n",
        "Well done! Notice how the entries in each categorical column are now encoded numerically. A BldgTpe of 1Fam is encoded as 0, while a HouseStyle of 2Story is encoded as 5."
      ]
    },
    {
      "cell_type": "markdown",
      "metadata": {
        "id": "-V3GX3Ja1po7"
      },
      "source": [
        "# Encoding categorical columns II: OneHotEncoder\r\n",
        "\r\n",
        "Okay - so you have your categorical columns encoded numerically. Can you now move onto using pipelines and XGBoost? Not yet! In the categorical columns of this dataset, there is no natural ordering between the entries. As an example: Using LabelEncoder, the CollgCr Neighborhood was encoded as 5, while the Veenker Neighborhood was encoded as 24, and Crawfor as 6. Is Veenker \"greater\" than Crawfor and CollgCr? No - and allowing the model to assume this natural ordering may result in poor performance.\r\n",
        "\r\n",
        "As a result, there is another step needed: You have to apply a one-hot encoding to create binary, or \"dummy\" variables. You can do this using scikit-learn's OneHotEncoder.\r\n",
        "\r\n",
        "Instructions\r\n",
        "\r\n",
        "1. Import OneHotEncoder from sklearn.preprocessing.\r\n",
        "\r\n",
        "2. Instantiate a OneHotEncoder object called ohe. Specify the keyword arguments categorical_features=categorical_mask and sparse=False.\r\n",
        "\r\n",
        "3. Using its .fit_transform() method, apply the OneHotEncoder to df and save the result as df_encoded. The output will be a NumPy array.\r\n",
        "\r\n",
        "4. Print the first 5 rows of df_encoded, and then the shape of df as well as df_encoded to compare the difference."
      ]
    },
    {
      "cell_type": "code",
      "metadata": {
        "id": "hftKri3Q2Y9y"
      },
      "source": [
        "# Import OneHotEncoder\r\n",
        "from sklearn.preprocessing import OneHotEncoder\r\n",
        "\r\n",
        "# Create OneHotEncoder: ohe\r\n",
        "ohe = OneHotEncoder(categorical_features=categorical_mask, sparse=False)\r\n",
        "\r\n",
        "# Apply OneHotEncoder to categorical columns - output is no longer a dataframe: df_encoded\r\n",
        "df_encoded = ohe.fit_transform(df)\r\n",
        "\r\n",
        "# Print first 5 rows of the resulting dataset - again, this will no longer be a pandas dataframe\r\n",
        "print(df_encoded[:5, :])\r\n",
        "\r\n",
        "# Print the shape of the original DataFrame\r\n",
        "print(df.shape)\r\n",
        "\r\n",
        "# Print the shape of the transformed array\r\n",
        "print(df_encoded.shape)\r\n",
        "\r\n",
        "'''\r\n",
        "<script.py> output:\r\n",
        "    [[0.000e+00 0.000e+00 0.000e+00 1.000e+00 0.000e+00 0.000e+00 0.000e+00\r\n",
        "      1.000e+00 0.000e+00 0.000e+00 0.000e+00 0.000e+00 0.000e+00 1.000e+00\r\n",
        "      0.000e+00 0.000e+00 0.000e+00 0.000e+00 0.000e+00 0.000e+00 0.000e+00\r\n",
        "      0.000e+00 0.000e+00 0.000e+00 0.000e+00 0.000e+00 0.000e+00 0.000e+00\r\n",
        "      0.000e+00 0.000e+00 0.000e+00 0.000e+00 0.000e+00 1.000e+00 0.000e+00\r\n",
        "      0.000e+00 0.000e+00 0.000e+00 0.000e+00 0.000e+00 0.000e+00 0.000e+00\r\n",
        "      0.000e+00 1.000e+00 0.000e+00 0.000e+00 6.000e+01 6.500e+01 8.450e+03\r\n",
        "      7.000e+00 5.000e+00 2.003e+03 0.000e+00 1.710e+03 1.000e+00 0.000e+00\r\n",
        "      2.000e+00 1.000e+00 3.000e+00 0.000e+00 5.480e+02 2.085e+05]\r\n",
        "     [0.000e+00 0.000e+00 0.000e+00 1.000e+00 0.000e+00 0.000e+00 0.000e+00\r\n",
        "      1.000e+00 0.000e+00 0.000e+00 0.000e+00 0.000e+00 0.000e+00 0.000e+00\r\n",
        "      0.000e+00 0.000e+00 0.000e+00 0.000e+00 0.000e+00 0.000e+00 0.000e+00\r\n",
        "      0.000e+00 0.000e+00 0.000e+00 0.000e+00 0.000e+00 0.000e+00 0.000e+00\r\n",
        "      0.000e+00 0.000e+00 0.000e+00 0.000e+00 1.000e+00 1.000e+00 0.000e+00\r\n",
        "      0.000e+00 0.000e+00 0.000e+00 0.000e+00 0.000e+00 1.000e+00 0.000e+00\r\n",
        "      0.000e+00 0.000e+00 0.000e+00 0.000e+00 2.000e+01 8.000e+01 9.600e+03\r\n",
        "      6.000e+00 8.000e+00 1.976e+03 0.000e+00 1.262e+03 0.000e+00 1.000e+00\r\n",
        "      2.000e+00 0.000e+00 3.000e+00 1.000e+00 4.600e+02 1.815e+05]\r\n",
        "     [0.000e+00 0.000e+00 0.000e+00 1.000e+00 0.000e+00 0.000e+00 0.000e+00\r\n",
        "      1.000e+00 0.000e+00 0.000e+00 0.000e+00 0.000e+00 0.000e+00 1.000e+00\r\n",
        "      0.000e+00 0.000e+00 0.000e+00 0.000e+00 0.000e+00 0.000e+00 0.000e+00\r\n",
        "      0.000e+00 0.000e+00 0.000e+00 0.000e+00 0.000e+00 0.000e+00 0.000e+00\r\n",
        "      0.000e+00 0.000e+00 0.000e+00 0.000e+00 0.000e+00 1.000e+00 0.000e+00\r\n",
        "      0.000e+00 0.000e+00 0.000e+00 0.000e+00 0.000e+00 0.000e+00 0.000e+00\r\n",
        "      0.000e+00 1.000e+00 0.000e+00 0.000e+00 6.000e+01 6.800e+01 1.125e+04\r\n",
        "      7.000e+00 5.000e+00 2.001e+03 1.000e+00 1.786e+03 1.000e+00 0.000e+00\r\n",
        "      2.000e+00 1.000e+00 3.000e+00 1.000e+00 6.080e+02 2.235e+05]\r\n",
        "     [0.000e+00 0.000e+00 0.000e+00 1.000e+00 0.000e+00 0.000e+00 0.000e+00\r\n",
        "      1.000e+00 0.000e+00 0.000e+00 0.000e+00 0.000e+00 0.000e+00 0.000e+00\r\n",
        "      1.000e+00 0.000e+00 0.000e+00 0.000e+00 0.000e+00 0.000e+00 0.000e+00\r\n",
        "      0.000e+00 0.000e+00 0.000e+00 0.000e+00 0.000e+00 0.000e+00 0.000e+00\r\n",
        "      0.000e+00 0.000e+00 0.000e+00 0.000e+00 0.000e+00 1.000e+00 0.000e+00\r\n",
        "      0.000e+00 0.000e+00 0.000e+00 0.000e+00 0.000e+00 0.000e+00 0.000e+00\r\n",
        "      0.000e+00 1.000e+00 0.000e+00 0.000e+00 7.000e+01 6.000e+01 9.550e+03\r\n",
        "      7.000e+00 5.000e+00 1.915e+03 1.000e+00 1.717e+03 1.000e+00 0.000e+00\r\n",
        "      1.000e+00 0.000e+00 3.000e+00 1.000e+00 6.420e+02 1.400e+05]\r\n",
        "     [0.000e+00 0.000e+00 0.000e+00 1.000e+00 0.000e+00 0.000e+00 0.000e+00\r\n",
        "      1.000e+00 0.000e+00 0.000e+00 0.000e+00 0.000e+00 0.000e+00 0.000e+00\r\n",
        "      0.000e+00 0.000e+00 0.000e+00 0.000e+00 0.000e+00 0.000e+00 0.000e+00\r\n",
        "      0.000e+00 0.000e+00 1.000e+00 0.000e+00 0.000e+00 0.000e+00 0.000e+00\r\n",
        "      0.000e+00 0.000e+00 0.000e+00 0.000e+00 0.000e+00 1.000e+00 0.000e+00\r\n",
        "      0.000e+00 0.000e+00 0.000e+00 0.000e+00 0.000e+00 0.000e+00 0.000e+00\r\n",
        "      0.000e+00 1.000e+00 0.000e+00 0.000e+00 6.000e+01 8.400e+01 1.426e+04\r\n",
        "      8.000e+00 5.000e+00 2.000e+03 0.000e+00 2.198e+03 1.000e+00 0.000e+00\r\n",
        "      2.000e+00 1.000e+00 4.000e+00 1.000e+00 8.360e+02 2.500e+05]]\r\n",
        "    (1460, 21)\r\n",
        "    (1460, 62)\r\n",
        "'''"
      ],
      "execution_count": null,
      "outputs": []
    },
    {
      "cell_type": "markdown",
      "metadata": {
        "id": "cDvXdluk2gLY"
      },
      "source": [
        "Superb! As you can see, after one hot encoding, which creates binary variables out of the categorical variables, there are now 62 columns."
      ]
    },
    {
      "cell_type": "markdown",
      "metadata": {
        "id": "Og95QAXr2mji"
      },
      "source": [
        "# Encoding categorical columns III: DictVectorizer\r\n",
        "\r\n",
        "Alright, one final trick before you dive into pipelines. The two step process you just went through - LabelEncoder followed by OneHotEncoder - can be simplified by using a DictVectorizer.\r\n",
        "\r\n",
        "Using a DictVectorizer on a DataFrame that has been converted to a dictionary allows you to get label encoding as well as one-hot encoding in one go.\r\n",
        "\r\n",
        "Your task is to work through this strategy in this exercise!\r\n",
        "\r\n",
        "Instructions\r\n",
        "\r\n",
        "1. Import DictVectorizer from sklearn.feature_extraction.\r\n",
        "\r\n",
        "2. Convert df into a dictionary called df_dict using its .to_dict() method with \"records\" as the argument.\r\n",
        "\r\n",
        "3. Instantiate a DictVectorizer object called dv with the keyword argument sparse=False.\r\n",
        "\r\n",
        "4. Apply the DictVectorizer on df_dict by using its .fit_transform() method.\r\n",
        "\r\n",
        "5. Hit 'Submit Answer' to print the resulting first five rows and the vocabulary."
      ]
    },
    {
      "cell_type": "code",
      "metadata": {
        "id": "4NFVz-BO4rYp"
      },
      "source": [
        "# Import DictVectorizer\r\n",
        "from sklearn.feature_extraction import DictVectorizer\r\n",
        "\r\n",
        "# Convert df into a dictionary: df_dict\r\n",
        "df_dict = df.to_dict(\"records\")\r\n",
        "\r\n",
        "# Create the DictVectorizer object: dv\r\n",
        "dv = DictVectorizer(sparse=False)\r\n",
        "\r\n",
        "# Apply dv on df: df_encoded\r\n",
        "df_encoded = dv.fit_transform(df_dict)\r\n",
        "\r\n",
        "# Print the resulting first five rows\r\n",
        "print(df_encoded[:5,:])\r\n",
        "\r\n",
        "# Print the vocabulary\r\n",
        "print(dv.vocabulary_)\r\n",
        "\r\n",
        "'''\r\n",
        "<script.py> output:\r\n",
        "    [[3.000e+00 1.000e+00 0.000e+00 0.000e+00 0.000e+00 0.000e+00 1.000e+00\r\n",
        "      0.000e+00 0.000e+00 2.000e+00 5.480e+02 1.710e+03 1.000e+00 0.000e+00\r\n",
        "      0.000e+00 0.000e+00 0.000e+00 0.000e+00 1.000e+00 0.000e+00 0.000e+00\r\n",
        "      8.450e+03 6.500e+01 6.000e+01 0.000e+00 0.000e+00 0.000e+00 1.000e+00\r\n",
        "      0.000e+00 0.000e+00 0.000e+00 0.000e+00 0.000e+00 0.000e+00 1.000e+00\r\n",
        "      0.000e+00 0.000e+00 0.000e+00 0.000e+00 0.000e+00 0.000e+00 0.000e+00\r\n",
        "      0.000e+00 0.000e+00 0.000e+00 0.000e+00 0.000e+00 0.000e+00 0.000e+00\r\n",
        "      0.000e+00 0.000e+00 0.000e+00 0.000e+00 0.000e+00 5.000e+00 7.000e+00\r\n",
        "      0.000e+00 0.000e+00 1.000e+00 0.000e+00 2.085e+05 2.003e+03]\r\n",
        "     [3.000e+00 1.000e+00 0.000e+00 0.000e+00 0.000e+00 0.000e+00 0.000e+00\r\n",
        "      1.000e+00 1.000e+00 2.000e+00 4.600e+02 1.262e+03 0.000e+00 0.000e+00\r\n",
        "      0.000e+00 1.000e+00 0.000e+00 0.000e+00 0.000e+00 0.000e+00 0.000e+00\r\n",
        "      9.600e+03 8.000e+01 2.000e+01 0.000e+00 0.000e+00 0.000e+00 1.000e+00\r\n",
        "      0.000e+00 0.000e+00 0.000e+00 0.000e+00 0.000e+00 0.000e+00 0.000e+00\r\n",
        "      0.000e+00 0.000e+00 0.000e+00 0.000e+00 0.000e+00 0.000e+00 0.000e+00\r\n",
        "      0.000e+00 0.000e+00 0.000e+00 0.000e+00 0.000e+00 0.000e+00 0.000e+00\r\n",
        "      0.000e+00 0.000e+00 0.000e+00 0.000e+00 1.000e+00 8.000e+00 6.000e+00\r\n",
        "      0.000e+00 0.000e+00 1.000e+00 0.000e+00 1.815e+05 1.976e+03]\r\n",
        "     [3.000e+00 1.000e+00 0.000e+00 0.000e+00 0.000e+00 0.000e+00 1.000e+00\r\n",
        "      0.000e+00 1.000e+00 2.000e+00 6.080e+02 1.786e+03 1.000e+00 0.000e+00\r\n",
        "      0.000e+00 0.000e+00 0.000e+00 0.000e+00 1.000e+00 0.000e+00 0.000e+00\r\n",
        "      1.125e+04 6.800e+01 6.000e+01 0.000e+00 0.000e+00 0.000e+00 1.000e+00\r\n",
        "      0.000e+00 0.000e+00 0.000e+00 0.000e+00 0.000e+00 0.000e+00 1.000e+00\r\n",
        "      0.000e+00 0.000e+00 0.000e+00 0.000e+00 0.000e+00 0.000e+00 0.000e+00\r\n",
        "      0.000e+00 0.000e+00 0.000e+00 0.000e+00 0.000e+00 0.000e+00 0.000e+00\r\n",
        "      0.000e+00 0.000e+00 0.000e+00 0.000e+00 0.000e+00 5.000e+00 7.000e+00\r\n",
        "      0.000e+00 0.000e+00 1.000e+00 1.000e+00 2.235e+05 2.001e+03]\r\n",
        "     [3.000e+00 1.000e+00 0.000e+00 0.000e+00 0.000e+00 0.000e+00 1.000e+00\r\n",
        "      0.000e+00 1.000e+00 1.000e+00 6.420e+02 1.717e+03 0.000e+00 0.000e+00\r\n",
        "      0.000e+00 0.000e+00 0.000e+00 0.000e+00 1.000e+00 0.000e+00 0.000e+00\r\n",
        "      9.550e+03 6.000e+01 7.000e+01 0.000e+00 0.000e+00 0.000e+00 1.000e+00\r\n",
        "      0.000e+00 0.000e+00 0.000e+00 0.000e+00 0.000e+00 0.000e+00 0.000e+00\r\n",
        "      1.000e+00 0.000e+00 0.000e+00 0.000e+00 0.000e+00 0.000e+00 0.000e+00\r\n",
        "      0.000e+00 0.000e+00 0.000e+00 0.000e+00 0.000e+00 0.000e+00 0.000e+00\r\n",
        "      0.000e+00 0.000e+00 0.000e+00 0.000e+00 0.000e+00 5.000e+00 7.000e+00\r\n",
        "      0.000e+00 0.000e+00 1.000e+00 1.000e+00 1.400e+05 1.915e+03]\r\n",
        "     [4.000e+00 1.000e+00 0.000e+00 0.000e+00 0.000e+00 0.000e+00 1.000e+00\r\n",
        "      0.000e+00 1.000e+00 2.000e+00 8.360e+02 2.198e+03 1.000e+00 0.000e+00\r\n",
        "      0.000e+00 0.000e+00 0.000e+00 0.000e+00 1.000e+00 0.000e+00 0.000e+00\r\n",
        "      1.426e+04 8.400e+01 6.000e+01 0.000e+00 0.000e+00 0.000e+00 1.000e+00\r\n",
        "      0.000e+00 0.000e+00 0.000e+00 0.000e+00 0.000e+00 0.000e+00 0.000e+00\r\n",
        "      0.000e+00 0.000e+00 0.000e+00 0.000e+00 0.000e+00 0.000e+00 0.000e+00\r\n",
        "      0.000e+00 0.000e+00 1.000e+00 0.000e+00 0.000e+00 0.000e+00 0.000e+00\r\n",
        "      0.000e+00 0.000e+00 0.000e+00 0.000e+00 0.000e+00 5.000e+00 8.000e+00\r\n",
        "      0.000e+00 0.000e+00 1.000e+00 0.000e+00 2.500e+05 2.000e+03]]\r\n",
        "    {'MSSubClass': 23, 'LotFrontage': 22, 'LotArea': 21, 'OverallQual': 55, 'OverallCond': 54, \r\n",
        "    'YearBuilt': 61, 'Remodeled': 59, 'GrLivArea': 11, 'BsmtFullBath': 6, 'BsmtHalfBath': 7, \r\n",
        "    'FullBath': 9, 'HalfBath': 12, 'BedroomAbvGr': 0, 'Fireplaces': 8, 'GarageArea': 10, \r\n",
        "    'MSZoning=RL': 27, 'PavedDrive=Y': 58, 'Neighborhood=CollgCr': 34, 'BldgType=1Fam': 1, \r\n",
        "    'HouseStyle=2Story': 18, 'SalePrice': 60, 'Neighborhood=Veenker': 53, 'HouseStyle=1Story': 15, \r\n",
        "    'Neighborhood=Crawfor': 35, 'Neighborhood=NoRidge': 44, 'Neighborhood=Mitchel': 40, \r\n",
        "    'HouseStyle=1.5Fin': 13, 'Neighborhood=Somerst': 50, 'Neighborhood=NWAmes': 43, 'MSZoning=RM': 28, 'Neighborhood=OldTown': 46, 'Neighborhood=BrkSide': 32, 'BldgType=2fmCon': 2, 'HouseStyle=1.5Unf': 14, 'Neighborhood=Sawyer': 48, 'Neighborhood=NridgHt': 45, 'Neighborhood=NAmes': 41, 'BldgType=Duplex': 3, 'Neighborhood=SawyerW': 49, 'PavedDrive=N': 56, 'Neighborhood=IDOTRR': 38, 'Neighborhood=MeadowV': 39, 'BldgType=TwnhsE': 5, 'MSZoning=C (all)': 24, 'Neighborhood=Edwards': 36, 'PavedDrive=P': 57, 'Neighborhood=Timber': 52, 'HouseStyle=SFoyer': 19, 'MSZoning=FV': 25, 'Neighborhood=Gilbert': 37, 'HouseStyle=SLvl': 20, 'BldgType=Twnhs': 4, 'Neighborhood=StoneBr': 51, 'HouseStyle=2.5Unf': 17, 'Neighborhood=ClearCr': 33, 'Neighborhood=NPkVill': 42, 'HouseStyle=2.5Fin': 16, 'Neighborhood=Blmngtn': 29, 'Neighborhood=BrDale': 31, 'Neighborhood=SWISU': 47, 'MSZoning=RH': 26, 'Neighborhood=Blueste': 30}\r\n",
        "'''"
      ],
      "execution_count": null,
      "outputs": []
    },
    {
      "cell_type": "markdown",
      "metadata": {
        "id": "7Dgi-kBQ46qI"
      },
      "source": [
        "Conclusion\r\n",
        "\r\n",
        "Fantastic! Besides simplifying the process into one step, DictVectorizer has useful attributes such as vocabulary_ which maps the names of the features to their indices. With the data preprocessed, it's time to move onto pipelines!"
      ]
    },
    {
      "cell_type": "markdown",
      "metadata": {
        "id": "52ZKb6pn5COG"
      },
      "source": [
        "# Preprocessing within a pipeline\r\n",
        "\r\n",
        "Now that you've seen what steps need to be taken individually to properly process the Ames housing data, let's use the much cleaner and more succinct DictVectorizer approach and put it alongside an XGBoostRegressor inside of a scikit-learn pipeline.\r\n",
        "\r\n",
        "Instructions\r\n",
        "\r\n",
        "1. Import DictVectorizer from sklearn.feature_extraction and Pipeline from sklearn.pipeline.\r\n",
        "\r\n",
        "2. Fill in any missing values in the LotFrontage column of X with 0.\r\n",
        "\r\n",
        "3. Complete the steps of the pipeline with DictVectorizer(sparse=False) for \"ohe_onestep\" and xgb.XGBRegressor() for \"xgb_model\".\r\n",
        "\r\n",
        "4. Create the pipeline using Pipeline() and steps.\r\n",
        "\r\n",
        "5. Fit the Pipeline. Don't forget to convert X into a format that DictVectorizer understands by calling the to_dict(\"records\") method on X."
      ]
    },
    {
      "cell_type": "code",
      "metadata": {
        "id": "8efLnObl6FGg"
      },
      "source": [
        "# Import necessary modules\r\n",
        "from sklearn.feature_extraction import DictVectorizer\r\n",
        "from sklearn.pipeline import Pipeline\r\n",
        "\r\n",
        "# Fill LotFrontage missing values with 0\r\n",
        "X.LotFrontage = X.LotFrontage.fillna(0)\r\n",
        "\r\n",
        "# Setup the pipeline steps: steps\r\n",
        "steps = [(\"ohe_onestep\", DictVectorizer(sparse=False)),\r\n",
        "         (\"xgb_model\", xgb.XGBRegressor())]\r\n",
        "\r\n",
        "# Create the pipeline: xgb_pipeline\r\n",
        "xgb_pipeline = Pipeline(steps)\r\n",
        "\r\n",
        "# Fit the pipeline\r\n",
        "xgb_pipeline.fit(X.to_dict(\"records\"), y)"
      ],
      "execution_count": null,
      "outputs": []
    },
    {
      "cell_type": "markdown",
      "metadata": {
        "id": "PRHZgf0g6GDv"
      },
      "source": [
        "Conclusion\r\n",
        "\r\n",
        "Well done! It's now time to see what it takes to use XGBoost within pipelines."
      ]
    },
    {
      "cell_type": "markdown",
      "metadata": {
        "id": "LqQ99fAFOCID"
      },
      "source": [
        "# Incorporating XGBoost into pipelines\r\n",
        "\r\n",
        "1. Incorporating xgboost into pipelines\r\n",
        "Now that you've had some practice using pipelines in scikit-learn, let's see what it takes to use xgboost within pipelines.\r\n",
        "\r\n",
        "2. Scikit-learn pipeline example with XGBoost\r\n",
        "This example is very similar to what was shown in the pipeline review that began this chapter. To get XGBoost to work within a pipeline, all that's really required is that you use XGBoost's scikit-learn API within a pipeline object. Let's see what that looks like in practice. As always, we first import everything we need for our purposes. We then proceed to load in the dataset and parse it into the matrix of features X and target vector y. At this point lies the only difference between using a scikit-learn native machine learning model and XGBoost. Specifically, we simply pass in an instance of the XGBoost XGBRegressor object into the pipeline where a normal scikit-learn estimator would be. The rest of the script is exactly what you've seen in the past. You compute the cross-validated negative mse using 10-fold cross-validation and then convert the 10-fold negative MSE into an average RMSE across all 10 folds. As you can see, without any hyperparameter tuning, the XGBoost model had a lower RMSE, of ~4-point-03 units, than the randomforest model we started the chapter with, which had an RMSE around 4-point-5.\r\n",
        "\r\n",
        "3. Additional components introduced for pipelines\r\n",
        "We wanted you to see how a simple case of pipelining with XGBoost works, however, in the final end-to-end example, we will take a dataset that involves significantly more wrangling before it can be used with XGBoost and put it through a pipeline as well. As a result, we will have to work with a library that is not part of the standard suite of scikit-learn tools, as well as work with parts of pipelines that you may not be familiar with. Sklearn_pandas is a separate library that attempts to bridge the gap between working with pandas and working with scikit-learn, as they don't always work seamlessly together. Specifically, sklearn_pandas has a generic class called DataFrameMapper, that allows for easy conversion between scikit-learn aware objects, or pure numpy arrays, and the DataFrames that are the bread and butter of the pandas library. Additionally, we will use a class called CategoricalImputer that will allow us to impute missing categorical values directly, without having to first convert them to integers, as is the requirement in scikit-learn. We will also use some uncommon aspects of scikit-learn to accomplish our goals. Specifically, we will use the Imputer class from scikit-learn's preprocessing submodule, that allows us to fill in missing numerical values, and the FeatureUnion class found in scikit-learn's pipeline submodule. The FeatureUnion class allows us to combine separate pipeline outputs into a single pipeline output, as for example, we would need to do if we had one set of preprocessing steps we needed to perform on the categorical features of a dataset and a distinct set of preprocessing steps on the numeric features found in a dataset. The point is, we will introduce these topics at once, but don't want you to feel overwhelmed about what they are doing and how they can be used properly.\r\n",
        "\r\n",
        "4. Let's practice!\r\n",
        "Hopefully, you just saw that its not particularly difficult to incorporate XGBoost into pipelines. Now, its your turn to practice what you just learned!"
      ]
    },
    {
      "cell_type": "markdown",
      "metadata": {
        "id": "7vuxo6QzOjLp"
      },
      "source": [
        "# Cross-validating your XGBoost model\r\n",
        "\r\n",
        "In this exercise, you'll go one step further by using the pipeline you've created to preprocess and cross-validate your model.\r\n",
        "\r\n",
        "Instructions\r\n",
        "\r\n",
        "1. Create a pipeline called xgb_pipeline using steps.\r\n",
        "\r\n",
        "2. Perform 10-fold cross-validation using cross_val_score(). You'll have to pass in the pipeline, X (as a dictionary, using .to_dict(\"records\")), y, the number of folds you want to use, and scoring (\"neg_mean_squared_error\").\r\n",
        "\r\n",
        "3. Print the 10-fold RMSE."
      ]
    },
    {
      "cell_type": "code",
      "metadata": {
        "id": "xB6eudmqSOCy"
      },
      "source": [
        "# Import necessary modules\r\n",
        "from sklearn.feature_extraction import DictVectorizer\r\n",
        "from sklearn.pipeline import Pipeline\r\n",
        "from sklearn.model_selection import cross_val_score\r\n",
        "\r\n",
        "# Fill LotFrontage missing values with 0\r\n",
        "X.LotFrontage = X.LotFrontage.fillna(0)\r\n",
        "\r\n",
        "# Setup the pipeline steps: steps\r\n",
        "steps = [(\"ohe_onestep\", DictVectorizer(sparse=False)),\r\n",
        "         (\"xgb_model\", xgb.XGBRegressor(max_depth=2, objective=\"reg:linear\"))]\r\n",
        "\r\n",
        "# Create the pipeline: xgb_pipeline\r\n",
        "xgb_pipeline = Pipeline(steps)\r\n",
        "\r\n",
        "# Cross-validate the model\r\n",
        "cross_val_scores = cross_val_score(xgb_pipeline, X.to_dict(\"records\"), y, cv=10, scoring=\"neg_mean_squared_error\")\r\n",
        "\r\n",
        "# Print the 10-fold RMSE\r\n",
        "print(\"10-fold RMSE: \", np.mean(np.sqrt(np.abs(cross_val_scores))))\r\n",
        "\r\n",
        "'''\r\n",
        "<script.py> output:\r\n",
        "    [18:35:05] WARNING: /workspace/src/objective/regression_obj.cu:152: reg:linear is now deprecated in favor of reg:squarederror.\r\n",
        "    [18:35:05] WARNING: /workspace/src/objective/regression_obj.cu:152: reg:linear is now deprecated in favor of reg:squarederror.\r\n",
        "    [18:35:06] WARNING: /workspace/src/objective/regression_obj.cu:152: reg:linear is now deprecated in favor of reg:squarederror.\r\n",
        "    [18:35:06] WARNING: /workspace/src/objective/regression_obj.cu:152: reg:linear is now deprecated in favor of reg:squarederror.\r\n",
        "    [18:35:06] WARNING: /workspace/src/objective/regression_obj.cu:152: reg:linear is now deprecated in favor of reg:squarederror.\r\n",
        "    [18:35:07] WARNING: /workspace/src/objective/regression_obj.cu:152: reg:linear is now deprecated in favor of reg:squarederror.\r\n",
        "    [18:35:07] WARNING: /workspace/src/objective/regression_obj.cu:152: reg:linear is now deprecated in favor of reg:squarederror.\r\n",
        "    [18:35:08] WARNING: /workspace/src/objective/regression_obj.cu:152: reg:linear is now deprecated in favor of reg:squarederror.\r\n",
        "    [18:35:08] WARNING: /workspace/src/objective/regression_obj.cu:152: reg:linear is now deprecated in favor of reg:squarederror.\r\n",
        "    [18:35:08] WARNING: /workspace/src/objective/regression_obj.cu:152: reg:linear is now deprecated in favor of reg:squarederror.\r\n",
        "    10-fold RMSE:  29867.603720688923\r\n",
        "'''"
      ],
      "execution_count": null,
      "outputs": []
    },
    {
      "cell_type": "markdown",
      "metadata": {
        "id": "1OcTeIgsSmeQ"
      },
      "source": [
        "# Kidney disease case study I: Categorical Imputer\r\n",
        "\r\n",
        "You'll now continue your exploration of using pipelines with a dataset that requires significantly more wrangling. The [chronic kidney disease dataset](https://archive.ics.uci.edu/ml/datasets/chronic_kidney_disease) contains both categorical and numeric features, but contains lots of missing values. The goal here is to predict who has chronic kidney disease given various blood indicators as features.\r\n",
        "\r\n",
        "As Sergey mentioned in the video, you'll be introduced to a new library, sklearn_pandas, that allows you to chain many more processing steps inside of a pipeline than are currently supported in scikit-learn. Specifically, you'll be able to impute missing categorical values directly using the Categorical_Imputer() class in sklearn_pandas, and the DataFrameMapper() class to apply any arbitrary sklearn-compatible transformer on DataFrame columns, where the resulting output can be either a NumPy array or DataFrame.\r\n",
        "\r\n",
        "We've also created a transformer called a Dictifier that encapsulates converting a DataFrame using .to_dict(\"records\") without you having to do it explicitly (and so that it works in a pipeline). Finally, we've also provided the list of feature names in kidney_feature_names, the target name in kidney_target_name, the features in X, and the target in y.\r\n",
        "\r\n",
        "In this exercise, your task is to apply the CategoricalImputer to impute all of the categorical columns in the dataset. You can refer to how the numeric imputation mapper was created as a template. Notice the keyword arguments input_df=True and df_out=True? This is so that you can work with DataFrames instead of arrays. By default, the transformers are passed a numpy array of the selected columns as input, and as a result, the output of the DataFrame mapper is also an array. Scikit-learn transformers have historically been designed to work with numpy arrays, not pandas DataFrames, even though their basic indexing interfaces are similar.\r\n",
        "\r\n",
        "Instructions\r\n",
        "\r\n",
        "1. Apply the categorical imputer using DataFrameMapper() and CategoricalImputer(). CategoricalImputer() does not need any arguments to be passed in. The columns are contained in categorical_columns. Be sure to specify input_df=True and df_out=True, and use category_feature as your iterator variable in the list comprehension."
      ]
    },
    {
      "cell_type": "code",
      "metadata": {
        "id": "GVLDq7ueULFe"
      },
      "source": [
        "# Import necessary modules\r\n",
        "from sklearn_pandas import DataFrameMapper\r\n",
        "from sklearn_pandas import CategoricalImputer\r\n",
        "\r\n",
        "# Check number of nulls in each feature column\r\n",
        "nulls_per_column = X.isnull().sum()\r\n",
        "print(nulls_per_column)\r\n",
        "\r\n",
        "# Create a boolean mask for categorical columns\r\n",
        "categorical_feature_mask = X.dtypes == object\r\n",
        "\r\n",
        "# Get list of categorical column names\r\n",
        "categorical_columns = X.columns[categorical_feature_mask].tolist()\r\n",
        "\r\n",
        "# Get list of non-categorical column names\r\n",
        "non_categorical_columns = X.columns[~categorical_feature_mask].tolist()\r\n",
        "\r\n",
        "# Apply numeric imputer\r\n",
        "numeric_imputation_mapper = DataFrameMapper(\r\n",
        "                                            [([numeric_feature], Imputer(strategy=\"median\")) for numeric_feature in non_categorical_columns],\r\n",
        "                                            input_df=True,\r\n",
        "                                            df_out=True\r\n",
        "                                           )\r\n",
        "\r\n",
        "# Apply categorical imputer\r\n",
        "categorical_imputation_mapper = DataFrameMapper(\r\n",
        "                                                [(category_feature, CategoricalImputer()) for category_feature in categorical_columns],\r\n",
        "                                                input_df=True,\r\n",
        "                                                df_out=True\r\n",
        "                                               )\r\n",
        "\r\n",
        "'''\r\n",
        "<script.py> output:\r\n",
        "    age        9\r\n",
        "    bp        12\r\n",
        "    sg        47\r\n",
        "    al        46\r\n",
        "    su        49\r\n",
        "    bgr       44\r\n",
        "    bu        19\r\n",
        "    sc        17\r\n",
        "    sod       87\r\n",
        "    pot       88\r\n",
        "    hemo      52\r\n",
        "    pcv       71\r\n",
        "    wc       106\r\n",
        "    rc       131\r\n",
        "    rbc      152\r\n",
        "    pc        65\r\n",
        "    pcc        4\r\n",
        "    ba         4\r\n",
        "    htn        2\r\n",
        "    dm         2\r\n",
        "    cad        2\r\n",
        "    appet      1\r\n",
        "    pe         1\r\n",
        "    ane        1\r\n",
        "    dtype: int64\r\n",
        "'''"
      ],
      "execution_count": null,
      "outputs": []
    },
    {
      "cell_type": "markdown",
      "metadata": {
        "id": "d-V-2bvbUhH6"
      },
      "source": [
        "# Kidney disease case study II: Feature Union\r\n",
        "\r\n",
        "Having separately imputed numeric as well as categorical columns, your task is now to use scikit-learn's [FeatureUnion](https://scikit-learn.org/stable/modules/generated/sklearn.pipeline.FeatureUnion.html) to concatenate their results, which are contained in two separate transformer objects - numeric_imputation_mapper, and categorical_imputation_mapper, respectively.\r\n",
        "\r\n",
        "You may have already encountered FeatureUnion in[ Machine Learning with the Experts: School Budgets](https://campus.datacamp.com/courses/case-study-school-budgeting-with-machine-learning-in-python/improving-your-model?ex=7). Just like with pipelines, you have to pass it a list of (string, transformer) tuples, where the first half of each tuple is the name of the transformer.\r\n",
        "\r\n",
        "Instructions\r\n",
        "\r\n",
        "1. Import FeatureUnion from sklearn.pipeline.\r\n",
        "\r\n",
        "2. Combine the results of numeric_imputation_mapper and categorical_imputation_mapper using FeatureUnion(), with the names \"num_mapper\" and \"cat_mapper\" respectively."
      ]
    },
    {
      "cell_type": "code",
      "metadata": {
        "id": "vcTyiFXUXUNr"
      },
      "source": [
        "# Import FeatureUnion\r\n",
        "from sklearn.pipeline import FeatureUnion\r\n",
        "\r\n",
        "# Combine the numeric and categorical transformations\r\n",
        "numeric_categorical_union = FeatureUnion([\r\n",
        "                                          (\"num_mapper\", numeric_imputation_mapper),\r\n",
        "                                          (\"cat_mapper\", categorical_imputation_mapper)\r\n",
        "                                         ])"
      ],
      "execution_count": null,
      "outputs": []
    },
    {
      "cell_type": "markdown",
      "metadata": {
        "id": "bclGNqs3XWxC"
      },
      "source": [
        "# Kidney disease case study III: Full pipeline\r\n",
        "\r\n",
        "It's time to piece together all of the transforms along with an XGBClassifier to build the full pipeline!\r\n",
        "\r\n",
        "Besides the numeric_categorical_union that you created in the previous exercise, there are two other transforms needed: the Dictifier() transform which we created for you, and the DictVectorizer().\r\n",
        "\r\n",
        "After creating the pipeline, your task is to cross-validate it to see how well it performs.\r\n",
        "\r\n",
        "Instructions\r\n",
        "\r\n",
        "1. Create the pipeline using the numeric_categorical_union, Dictifier(), and DictVectorizer(sort=False) transforms, and xgb.XGBClassifier() estimator with max_depth=3. Name the transforms \"featureunion\", \"dictifier\" \"vectorizer\", and the estimator \"clf\".\r\n",
        "\r\n",
        "2. Perform 3-fold cross-validation on the pipeline using cross_val_score(). Pass it the pipeline, pipeline, the features, kidney_data, the outcomes, y. Also set scoring to \"roc_auc\" and cv to 3."
      ]
    },
    {
      "cell_type": "code",
      "metadata": {
        "id": "gy1P-3dNY5Fn"
      },
      "source": [
        "# Create full pipeline\r\n",
        "pipeline = Pipeline([\r\n",
        "                     (\"featureunion\", numeric_categorical_union),\r\n",
        "                     (\"dictifier\", Dictifier()),\r\n",
        "                     (\"vectorizer\", DictVectorizer(sort=False)),\r\n",
        "                     (\"clf\", xgb.XGBClassifier(max_depth=3))\r\n",
        "                    ])\r\n",
        "\r\n",
        "# Perform cross-validation\r\n",
        "cross_val_scores = cross_val_score(pipeline, kidney_data, y, scoring=\"roc_auc\", cv=3)\r\n",
        "\r\n",
        "# Print avg. AUC\r\n",
        "print(\"3-fold AUC: \", np.mean(cross_val_scores))\r\n",
        "\r\n",
        "'''\r\n",
        "<script.py> output:\r\n",
        "    3-fold AUC:  0.998637406769937\r\n",
        "'''"
      ],
      "execution_count": null,
      "outputs": []
    },
    {
      "cell_type": "markdown",
      "metadata": {
        "id": "ddoOF3OqaBNd"
      },
      "source": [
        "# Tuning XGBoost hyperparameters\r\n",
        "\r\n",
        "1. Tuning xgboost hyperparameters in a pipeline\r\n",
        "We are going to finish off this chapter, and the course, by seeing how automated hyperparameter tuning for an XGBoost model works within a scikit-learn pipeline. Once you have this down, you'll be able to make some of the most powerful well-tuned machine learning models today in an automated, reproducible manner.\r\n",
        "\r\n",
        "2. Tuning XGBoost hyperparameters in a pipeline\r\n",
        "We will again use the Boston housing dataset to motivate our use of pipelines and hyperparameter tuning. As always, we first import what we will be using. The only difference is now we also import RandomizedSearchCV from the scikit-learn modelselection submodule. We then load in our data and create our feature matrix X and target vector y and also create our pipeline that includes both the standard scaling step and a base xgboostregressor object with all default parameters. At this point, you need to create the grid of parameters over which you will search. In order for the hyperparameters to be passed to the appropriate step, you have to name the parameters in the dictionary with the name of the step being referenced followed by 2 underscore signs and then the name of the hyperparameter you want to iterate over. Since the xgboost step is called xgb_model, all of our hyperparameter keys will start with xgboost_model__. In the example, we will tune subsample, max_depth, and colsample_bytree, and give each parameter a range of possible values. We then pass the pipeline in as an estimator to RandomizedSearchCV and the parameter grid to param_distributions. Everything else is as you've seen before, with appropriate scoring and cross-validation parameters passed in as well. Once that's done all you need to do is fit the randomizedsearch object and pass in the X and y objects we created earlier.\r\n",
        "\r\n",
        "3. Tuning XGBoost hyperparameters in a pipeline II\r\n",
        "Finally, once you've fit the randomizedsearchcv object, you can inspect what the best score it found was, and convert it to an RMSE. You can also inspect what the best model found was and print it to screen.\r\n",
        "\r\n",
        "4. Let's finish this up!\r\n",
        "Ok, last coding exercise of the course, let's finish this up!"
      ]
    },
    {
      "cell_type": "markdown",
      "metadata": {
        "id": "RpB3RiAKb3-k"
      },
      "source": [
        "Bringing it all together\r\n",
        "\r\n",
        "Alright, it's time to bring together everything you've learned so far! In this final exercise of the course, you will combine your work from the previous exercises into one end-to-end XGBoost pipeline to really cement your understanding of preprocessing and pipelines in XGBoost.\r\n",
        "\r\n",
        "Your work from the previous 3 exercises, where you preprocessed the data and set up your pipeline, has been pre-loaded. Your job is to perform a randomized search and identify the best hyperparameters.\r\n",
        "\r\n",
        "Instructions\r\n",
        "\r\n",
        "1. Set up the parameter grid to tune 'clf__learning_rate' (from 0.05 to 1 in increments of 0.05), 'clf__max_depth' (from 3 to 10 in increments of 1), and 'clf__n_estimators' (from 50 to 200 in increments of 50).\r\n",
        "\r\n",
        "2. Using your pipeline as the estimator, perform 2-fold RandomizedSearchCV with an n_iter of 2. Use \"roc_auc\" as the metric, and set verbose to 1 so the output is more detailed. Store the result in randomized_roc_auc.\r\n",
        "\r\n",
        "3. Fit randomized_roc_auc to X and y.\r\n",
        "\r\n",
        "4. Compute the best score and best estimator of randomized_roc_auc."
      ]
    },
    {
      "cell_type": "code",
      "metadata": {
        "id": "_VE5UDPldspx"
      },
      "source": [
        "# Create the parameter grid\r\n",
        "gbm_param_grid = {\r\n",
        "    'clf__learning_rate': np.arange(0.05, 1, 0.05),\r\n",
        "    'clf__max_depth': np.arange(3, 10, 1),\r\n",
        "    'clf__n_estimators': np.arange(50, 200, 50)\r\n",
        "}\r\n",
        "\r\n",
        "# Perform RandomizedSearchCV\r\n",
        "randomized_roc_auc = RandomizedSearchCV(estimator=pipeline, param_distributions=gbm_param_grid, n_iter=2, scoring=\"roc_auc\", verbose=1, cv=2)\r\n",
        "\r\n",
        "# Fit the estimator\r\n",
        "randomized_roc_auc.fit(X, y)\r\n",
        "\r\n",
        "# Compute metrics\r\n",
        "print(\"Best Score: \", randomized_roc_auc.best_score_)\r\n",
        "print(\"Best Model: \", randomized_roc_auc.best_estimator_)\r\n",
        "\r\n",
        "'''\r\n",
        "<script.py> output:\r\n",
        "    Fitting 2 folds for each of 2 candidates, totalling 4 fits\r\n",
        "    Best Score:  0.9965333333333334\r\n",
        "    Best Model:  Pipeline(memory=None,\r\n",
        "             steps=[('featureunion',\r\n",
        "                     FeatureUnion(n_jobs=None,\r\n",
        "                                  transformer_list=[('num_mapper',\r\n",
        "                                                     DataFrameMapper(default=False,\r\n",
        "                                                                     df_out=True,\r\n",
        "                                                                     features=[(['age'],\r\n",
        "                                                                                Imputer(axis=0,\r\n",
        "                                                                                        copy=True,\r\n",
        "                                                                                        missing_values='NaN',\r\n",
        "                                                                                        strategy='median',\r\n",
        "                                                                                        verbose=0)),\r\n",
        "                                                                               (['bp'],\r\n",
        "                                                                                Imputer(axis=0,\r\n",
        "                                                                                        copy=True,\r\n",
        "                                                                                        missing_values='NaN',\r\n",
        "                                                                                        strategy='median',\r\n",
        "                                                                                        verbose=0)),\r\n",
        "                                                                               (['sg'],\r\n",
        "                                                                                Imputer(axis=0,\r\n",
        "                                                                                        copy=...\r\n",
        "                     XGBClassifier(base_score=0.5, booster='gbtree',\r\n",
        "                                   colsample_bylevel=1, colsample_bynode=1,\r\n",
        "                                   colsample_bytree=1, gamma=0,\r\n",
        "                                   learning_rate=0.9500000000000001,\r\n",
        "                                   max_delta_step=0, max_depth=4,\r\n",
        "                                   min_child_weight=1, missing=None,\r\n",
        "                                   n_estimators=100, n_jobs=1, nthread=None,\r\n",
        "                                   objective='binary:logistic', random_state=0,\r\n",
        "                                   reg_alpha=0, reg_lambda=1, scale_pos_weight=1,\r\n",
        "                                   seed=None, silent=None, subsample=1,\r\n",
        "                                   verbosity=1))],\r\n",
        "             verbose=False)\r\n",
        "'''"
      ],
      "execution_count": null,
      "outputs": []
    },
    {
      "cell_type": "markdown",
      "metadata": {
        "id": "yZtdzqyreACB"
      },
      "source": [
        "Conclusion\r\n",
        "\r\n",
        "Amazing work! This type of pipelining is very common in real-world data science and you're well on your way towards mastering it."
      ]
    },
    {
      "cell_type": "markdown",
      "metadata": {
        "id": "SiIlBbtbfEMI"
      },
      "source": [
        "# Final Thoughts\r\n",
        "\r\n",
        "1. Final Thoughts\r\n",
        "Congratulations on completing this course. Let's go over everything we've covered in this course, as well as where you can go from here with learning other topics related to XGBoost that we didn't have a chance to cover.\r\n",
        "\r\n",
        "2. What We Have Covered And You Have Learned\r\n",
        "So, what have we been able to cover in this course? Well, we've learned how to use XGBoost for both classification and regression tasks. We've also covered all the most important hyperparameters that you should tune when creating XGBoost models, so that they are as performant as possible. And we just finished up how to incorporate XGBoost into pipelines, and used some more advanced functions that allow us to seamlessly work with Pandas DataFrames and scikit-learn. That's quite a lot of ground we've covered and you should be proud of what you've been able to accomplish.\r\n",
        "\r\n",
        "3. What We Have Not Covered (And How You Can Proceed)\r\n",
        "However, although we've covered quite a lot, we didn't cover some other topics that would advance your mastery of XGBoost. Specifically, we never looked into how to use XGBoost for ranking or recommendation problems, which can be done by modifying the loss function you use when constructing your model. We also didn't look into more advanced hyperparameter selection strategies. The most powerful strategy, called Bayesian optimization, has been used with lots of success, and entire companies have been created just for specifically using this method in tuning models (for example, the company sigopt does exactly this). It's a powerful method, but would take an entire other DataCamp course to teach properly! Finally, we haven't talked about ensembling XGBoost with other models. Although XGBoost is itself an ensemble method, nothing stops you from combining the predictions you get from an XGBoost model with other models, as this is usually a very powerful additional way to squeeze the last bit of juice from your data. Learning about all of these additional topics will help you become an even more powerful user of XGBoost. Now that you know your way around the package, there's no reason for you to stop learning how to get even more benefits out of it.\r\n",
        "\r\n",
        "4. Congratulations!\r\n",
        "I hope you've enjoyed taking this course on XGBoost as I have teaching it. Please let us know if you've enjoyed the course and definitely let me know how I can improve it. It's been a pleasure, and I hope you continue your data science journey from here!"
      ]
    }
  ]
}