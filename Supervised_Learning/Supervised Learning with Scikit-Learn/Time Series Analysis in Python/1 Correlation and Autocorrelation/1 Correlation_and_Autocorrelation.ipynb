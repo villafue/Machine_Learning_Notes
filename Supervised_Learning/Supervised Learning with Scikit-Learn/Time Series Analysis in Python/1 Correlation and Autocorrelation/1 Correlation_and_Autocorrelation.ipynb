{
  "nbformat": 4,
  "nbformat_minor": 0,
  "metadata": {
    "colab": {
      "name": "Correlation and Autocorrelation.ipynb",
      "provenance": [],
      "authorship_tag": "ABX9TyO0FpMKyNIMg3+oqRbpCetB",
      "include_colab_link": true
    },
    "kernelspec": {
      "name": "python3",
      "display_name": "Python 3"
    }
  },
  "cells": [
    {
      "cell_type": "markdown",
      "metadata": {
        "id": "view-in-github",
        "colab_type": "text"
      },
      "source": [
        "<a href=\"https://colab.research.google.com/github/villafue/Machine_Learning_Notes/blob/master/Supervised_Learning/Supervised%20Learning%20with%20Scikit-Learn/Time%20Series%20Analysis%20in%20Python/1%20Correlation%20and%20Autocorrelation/1%20Correlation_and_Autocorrelation.ipynb\" target=\"_parent\"><img src=\"https://colab.research.google.com/assets/colab-badge.svg\" alt=\"Open In Colab\"/></a>"
      ]
    },
    {
      "cell_type": "markdown",
      "metadata": {
        "id": "S8IEWYDjyhy0"
      },
      "source": [
        "# A \"Thin\" Application of Time Series\n",
        "Google Trends allows users to see how often a term is searched for. We downloaded a file from Google Trends containing the frequency over time for the search word \"diet\", which is pre-loaded in a DataFrame called diet. A first step when analyzing a time series is to visualize the data with a plot. You should be able to clearly see a gradual decrease in searches for \"diet\" throughout the calendar year, hitting a low around the December holidays, followed by a spike in searches around the new year as people make New Year's resolutions to lose weight.\n",
        "\n",
        "Like many time series datasets you will be working with, the index of dates are strings and should be converted to a datetime index before plotting.\n",
        "\n",
        "This course touches on a lot of concepts you may have forgotten, so if you ever need a quick refresher, download the pandas basics Cheat Sheet and keep it handy!\n",
        "\n",
        "**Instructions**\n",
        "\n",
        "1. Convert the date index to datetime using pandas's to_datetime().\n",
        "\n",
        "2. Plot the time series and set the argument grid to True to better see the year-ends.\n",
        "\n",
        "3. Slice the diet dataset to keep only values from 2012, assigning to diet2012.\n",
        "Plot the diet2012, again creating gridlines with the grid argument.\n",
        "\n",
        "**Conclusion**\n",
        "\n",
        "Notice how searches for 'diet' spiked up after the holidays every year."
      ]
    },
    {
      "cell_type": "code",
      "metadata": {
        "id": "PzvWEn8Ovnf4"
      },
      "source": [
        "# Import pandas and plotting modules\n",
        "import pandas as pd\n",
        "import matplotlib.pyplot as plt\n",
        "\n",
        "# Convert the date index to datetime\n",
        "diet.index = pd.to_datetime(diet.index)\n",
        "\n",
        "# Plot the entire time series diet and show gridlines\n",
        "diet.plot(grid=True)\n",
        "plt.show()\n",
        "\n",
        "# Slice the dataset to keep only 2012\n",
        "diet2012 = diet['2012']\n",
        "\n",
        "# Plot 2012 data\n",
        "diet2012.plot(grid=True)\n",
        "plt.show()"
      ],
      "execution_count": null,
      "outputs": []
    },
    {
      "cell_type": "markdown",
      "metadata": {
        "id": "CF5x3h-ywUei"
      },
      "source": [
        "# Merging Time Series With Different Dates\n",
        "\n",
        "Stock and bond markets in the U.S. are closed on different days. For example, although the bond market is closed on Columbus Day (around Oct 12) and Veterans Day (around Nov 11), the stock market is open on those days. One way to see the dates that the stock market is open and the bond market is closed is to convert both indexes of dates into sets and take the difference in sets.\n",
        "\n",
        "The pandas .join() method is a convenient tool to merge the stock and bond DataFrames on dates when both markets are open.\n",
        "\n",
        "Stock prices and 10-year US Government bond yields, which were downloaded from FRED, are pre-loaded in DataFrames stocks and bonds.\n",
        "\n",
        "Instructions\n",
        "\n",
        "1. Convert the dates in the stocks.index and bonds.index into sets.\n",
        "\n",
        "2. Take the difference of the stock set minus the bond set to get those dates where the stock market has data but the bond market does not.\n",
        "\n",
        "3. Merge the two DataFrames into a new DataFrame, stocks_and_bonds using the .join() method, which has the syntax df1.join(df2).\n",
        "\n",
        "4. To get the intersection of dates, use the argument how='inner'.\n",
        "\n",
        "Conclusions\n",
        "\n",
        "Pandas helps make many time series tasks quick and efficient."
      ]
    },
    {
      "cell_type": "code",
      "metadata": {
        "id": "5N24N1zQztDu"
      },
      "source": [
        "# Import pandas\n",
        "import pandas as pd\n",
        "\n",
        "# Convert the stock index and bond index into sets\n",
        "set_stock_dates = set(stocks.index)\n",
        "set_bond_dates = set(bonds.index)\n",
        "\n",
        "# Take the difference between the sets and print\n",
        "print(set_stock_dates - set_bond_dates)\n",
        "\n",
        "# Merge stocks and bonds DataFrames using join()\n",
        "stocks_and_bonds = stocks.join(bonds, how = 'inner')\n",
        "\n",
        "'''\n",
        "<script.py> output:\n",
        "    {'2015-10-12', '2009-10-12', '2017-06-09', '2009-11-11', '2012-10-08', '2012-11-12', '2008-11-11', '2007-11-12', '2016-11-11', '2011-10-10', '2014-10-13', '2007-10-08', '2010-11-11', '2008-10-13', '2014-11-11', '2013-11-11', '2010-10-11', '2016-10-10', '2011-11-11', '2013-10-14', '2015-11-11'}\n",
        "\n",
        "<script.py> output:\n",
        "    {'2015-10-12', '2009-10-12', '2017-06-09', '2009-11-11', '2012-10-08', '2012-11-12', '2008-11-11', '2007-11-12', '2016-11-11', '2011-10-10', '2014-10-13', '2007-10-08', '2010-11-11', '2008-10-13', '2014-11-11', '2013-11-11', '2010-10-11', '2016-10-10', '2011-11-11', '2013-10-14', '2015-11-11'}\n",
        "'''"
      ],
      "execution_count": null,
      "outputs": []
    },
    {
      "cell_type": "markdown",
      "metadata": {
        "id": "c5NbDx2y2LDO"
      },
      "source": [
        "# Correlation of Stocks and Bonds\n",
        "\n",
        "Investors are often interested in the correlation between the returns of two different assets for asset allocation and hedging purposes. In this exercise, you'll try to answer the question of whether stocks are positively or negatively correlated with bonds. Scatter plots are also useful for visualizing the correlation between the two variables.\n",
        "\n",
        "Keep in mind that you should compute the correlations on the percentage changes rather than the levels.\n",
        "\n",
        "Stock prices and 10-year bond yields are combined in a DataFrame called stocks_and_bonds under columns SP500 and US10Y\n",
        "\n",
        "The pandas and plotting modules have already been imported for you. For the remainder of the course, pandas is imported as pd and matplotlib.pyplot is imported as plt.\n",
        "\n",
        "Instructions\n",
        "\n",
        "1. Compute percent changes on the stocks_and_bonds DataFrame using the .pct_change() method and call the new DataFrame returns.\n",
        "\n",
        "2. Compute the correlation of the columns SP500 and US10Y in the returns DataFrame using the .corr() method for Series which has the syntax series1.corr(series2).\n",
        "\n",
        "3. Show a scatter plot of the percentage change in stock and bond yields.\n",
        "\n",
        "Conclusion\n",
        "\n",
        "The positive correlation means that when interest rates go down, stock prices go down. For example, during crises like 9/11, investors sold stocks and moved their money to less risky bonds (this is sometimes referred to as a 'flight to quality'). During these periods, stocks drop and interest rates drop as well. Of course, there are times when the opposite relationship holds too."
      ]
    },
    {
      "cell_type": "code",
      "metadata": {
        "id": "hDHjAQAw4AJB"
      },
      "source": [
        "# Compute percent change using pct_change()\n",
        "returns = stocks_and_bonds.pct_change()\n",
        "\n",
        "# Compute correlation using corr()\n",
        "correlation = returns['SP500'].corr(returns['US10Y'])\n",
        "print(\"Correlation of stocks and interest rates: \", correlation)\n",
        "\n",
        "# Make scatter plot\n",
        "plt.scatter(returns['SP500'],(returns['US10Y']))\n",
        "plt.show()\n",
        "\n",
        "'''\n",
        "<script.py> output:\n",
        "    Correlation of stocks and interest rates:  0.4119448886249272\n",
        "'''"
      ],
      "execution_count": null,
      "outputs": []
    },
    {
      "cell_type": "markdown",
      "metadata": {
        "id": "A7I-Byx44UIa"
      },
      "source": [
        "# Flying Saucers Aren't Correlated to Flying Markets\n",
        "\n",
        "Two trending series may show a strong correlation even if they are completely unrelated. This is referred to as \"spurious correlation\". That's why when you look at the correlation of say, two stocks, you should look at the correlation of their returns and not their levels.\n",
        "\n",
        "To illustrate this point, calculate the correlation between the levels of the stock market and the annual sightings of UFOs. Both of those time series have trended up over the last several decades, and the correlation of their levels is very high. Then calculate the correlation of their percent changes. This will be close to zero, since there is no relationship between those two series.\n",
        "\n",
        "The DataFrame levels contains the levels of DJI and UFO. UFO data was downloaded from www.nuforc.org.\n",
        "\n",
        "Instructions\n",
        "\n",
        "1. Calculate the correlation of the columns DJI and UFO.\n",
        "\n",
        "2. Create a new DataFrame of changes using the .pct_change() method.\n",
        "\n",
        "3. Re-calculate the correlation of the columns DJI and UFO on the changes.\n",
        "\n",
        "Conclusion\n",
        "\n",
        "Great work! Notice that the correlation on levels is high but the correlation on changes is close to zero."
      ]
    },
    {
      "cell_type": "code",
      "metadata": {
        "id": "qZ0E8I9e5BcG"
      },
      "source": [
        "# Compute correlation of levels\n",
        "correlation1 = levels.DJI.corr(levels.UFO)\n",
        "print(\"Correlation of levels: \", correlation1)\n",
        "\n",
        "# Compute correlation of percent changes\n",
        "changes = levels.pct_change()\n",
        "correlation2 = changes.DJI.corr(changes.UFO)\n",
        "print(\"Correlation of changes: \", correlation2)\n",
        "\n",
        "'''\n",
        "<script.py> output:\n",
        "    Correlation of levels:  0.9399762210726432\n",
        "    Correlation of changes:  0.06026935462405376\n",
        "'''"
      ],
      "execution_count": null,
      "outputs": []
    },
    {
      "cell_type": "markdown",
      "metadata": {
        "id": "h1p2gmc67RQy"
      },
      "source": [
        "# Looking at a Regression's R-Squared\n",
        "\n",
        "R-squared measures how closely the data fit the regression line, so the R-squared in a simple regression is related to the correlation between the two variables. In particular, the magnitude of the correlation is the square root of the R-squared and the sign of the correlation is the sign of the regression coefficient.\n",
        "\n",
        "In this exercise, you will start using the statistical package statsmodels, which performs much of the statistical modeling and testing that is found in R and software packages like SAS and MATLAB.\n",
        "\n",
        "You will take two series, x and y, compute their correlation, and then regress y on x using the function OLS(y,x) in the statsmodels.api library (note that the dependent, or right-hand side variable y is the first argument). Most linear regressions contain a constant term which is the intercept (the  in the regression \n",
        "). To include a constant using the function OLS(), you need to add a column of 1's to the right hand side of the regression.\n",
        "\n",
        "The module statsmodels.api has been imported for you as sm.\n",
        "\n",
        "Instructions\n",
        "\n",
        "1. Compute the correlation between x and y using the .corr() method.\n",
        "\n",
        "2. Run a regression:\n",
        "\n",
        " - First convert the Series x to a DataFrame dfx.\n",
        " - Add a constant using sm.add_constant(), assigning it to dfx1\n",
        " - Regress y on dfx1 using sm.OLS().fit().\n",
        "\n",
        "3. Print out the results of the regression and compare the R-squared with the correlation.\n",
        "\n",
        "Conclusion\n",
        "\n",
        "Notice that the two different methods of computing correlation give the same result. The correlation is about -0.9 and the R-squared is about 0.81"
      ]
    },
    {
      "cell_type": "code",
      "metadata": {
        "id": "Mz4lP61BGjYD"
      },
      "source": [
        "# Import the statsmodels module\n",
        "import statsmodels.api as sm\n",
        "\n",
        "# Compute correlation of x and y\n",
        "correlation = x.corr(y)\n",
        "print(\"The correlation between x and y is %4.2f\" %(correlation))\n",
        "\n",
        "# Convert the Series x to a DataFrame and name the column x\n",
        "dfx = pd.DataFrame(x, columns=['x'])\n",
        "\n",
        "# Add a constant to the DataFrame dfx\n",
        "dfx1 = sm.add_constant(dfx)\n",
        "\n",
        "# Regress y on dfx1\n",
        "result = sm.OLS(y, dfx1).fit()\n",
        "\n",
        "# Print out the results and look at the relationship between R-squared and the correlation above\n",
        "print(result.summary())\n",
        "\n",
        "'''\n",
        "<script.py> output:\n",
        "    The correlation between x and y is -0.90\n",
        "                                OLS Regression Results                            \n",
        "    ==============================================================================\n",
        "    Dep. Variable:                      y   R-squared:                       0.818\n",
        "    Model:                            OLS   Adj. R-squared:                  0.817\n",
        "    Method:                 Least Squares   F-statistic:                     4471.\n",
        "    Date:                Sun, 29 Nov 2020   Prob (F-statistic):               0.00\n",
        "    Time:                        03:42:35   Log-Likelihood:                -560.10\n",
        "    No. Observations:                1000   AIC:                             1124.\n",
        "    Df Residuals:                     998   BIC:                             1134.\n",
        "    Df Model:                           1                                         \n",
        "    Covariance Type:            nonrobust                                         \n",
        "    ==============================================================================\n",
        "                     coef    std err          t      P>|t|      [0.025      0.975]\n",
        "    ------------------------------------------------------------------------------\n",
        "    const         -0.0052      0.013     -0.391      0.696      -0.032       0.021\n",
        "    x             -0.9080      0.014    -66.869      0.000      -0.935      -0.881\n",
        "    ==============================================================================\n",
        "    Omnibus:                        0.048   Durbin-Watson:                   2.066\n",
        "    Prob(Omnibus):                  0.976   Jarque-Bera (JB):                0.103\n",
        "    Skew:                          -0.003   Prob(JB):                        0.950\n",
        "    Kurtosis:                       2.951   Cond. No.                         1.03\n",
        "    ==============================================================================\n",
        "    \n",
        "    Warnings:\n",
        "    [1] Standard Errors assume that the covariance matrix of the errors is correctly specified.\n",
        "'''"
      ],
      "execution_count": null,
      "outputs": []
    },
    {
      "cell_type": "markdown",
      "metadata": {
        "id": "lNxahnupG0UH"
      },
      "source": [
        "# Match Correlation with Regression Output\n",
        "Here are four scatter plots, each showing a linear regression line and an R-squared:\n",
        "\n",
        "![image.png](data:image/png;base64,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)\n",
        "\n",
        "Which correlation is correct?\n",
        "\n",
        "Wrong Answer\n",
        "\n",
        "Fig 1: correlation = -0.6\n",
        "- Notice that there is no intercept in the regression. Therefore, the R-squared here isn't the squared correlation.\n",
        "\n",
        "Fig 2: correlation = -0.9\n",
        " - The slope of the red regression line is positive, so the correlation must be positive, not negative (i.e., the correlation is not -0.9 but +0.9).\n",
        "\n",
        "Fig 4: correlation = -0.32\n",
        " - The correlation is the square root of the R-squared, not the R-squared.\n",
        "\n",
        "Correct Answer\n",
        "\n",
        "Fig 3: correlation = -0.9\n"
      ]
    },
    {
      "cell_type": "markdown",
      "metadata": {
        "id": "w6jlDFYqKWh2"
      },
      "source": [
        "# A Popular Strategy Using Autocorrelation\n",
        "\n",
        "One puzzling anomaly with stocks is that investors tend to overreact to news. Following large jumps, either up or down, stock prices tend to reverse. This is described as mean reversion in stock prices: prices tend to bounce back, or revert, towards previous levels after large moves, which are observed over time horizons of about a week. A more mathematical way to describe mean reversion is to say that stock returns are negatively autocorrelated.\n",
        "\n",
        "This simple idea is actually the basis for a popular hedge fund strategy. If you're curious to learn more about this hedge fund strategy (although it's not necessary reading for anything else later in the course), see here.\n",
        "\n",
        "You'll look at the autocorrelation of weekly returns of MSFT stock from 2012 to 2017. You'll start with a DataFrame MSFT of daily prices. You should use the .resample() method to get weekly prices and then compute returns from prices. Use the pandas method .autocorr() to get the autocorrelation and show that the autocorrelation is negative. Note that the .autocorr() method only works on Series, not DataFrames (even DataFrames with one column), so you will have to select the column in the DataFrame.\n",
        "\n",
        "Instructions\n",
        "\n",
        "1. Use the .resample() method with rule='W' and how='last'to convert daily data to weekly data.\n",
        " - The argument how in .resample() has been deprecated.\n",
        " - The new syntax .resample().last() also works.\n",
        "\n",
        "2. Create a new DataFrame, returns, of percent changes in weekly prices using the .pct_change() method.\n",
        "\n",
        "3. Compute the autocorrelation using the .autocorr() method on the series of closing stock prices, which is the column 'Adj Close' in the DataFrame returns.\n",
        "\n",
        "Conclusion\n",
        "\n",
        "Notice how the autocorrelation of returns for MSFT is negative, so the stock is 'mean reverting'"
      ]
    },
    {
      "cell_type": "code",
      "metadata": {
        "id": "QtR5iYn6MVle"
      },
      "source": [
        "# Convert the daily data to weekly data\n",
        "MSFT = MSFT.resample(rule='W', how='last')\n",
        "\n",
        "# Compute the percentage change of prices\n",
        "returns = MSFT.pct_change()\n",
        "\n",
        "# Compute and print the autocorrelation of returns\n",
        "autocorrelation = returns['Adj Close'].autocorr()\n",
        "print(\"The autocorrelation of weekly returns is %4.2f\" %(autocorrelation))\n",
        "\n",
        "'''\n",
        "<script.py> output:\n",
        "    The autocorrelation of weekly returns is -0.16\n",
        "'''"
      ],
      "execution_count": null,
      "outputs": []
    },
    {
      "cell_type": "markdown",
      "metadata": {
        "id": "qBsuCuS4Ms9I"
      },
      "source": [
        "# Are Interest Rates Autocorrelated?\n",
        "\n",
        "When you look at daily changes in interest rates, the autocorrelation is close to zero. However, if you resample the data and look at annual changes, the autocorrelation is negative. This implies that while short term changes in interest rates may be uncorrelated, long term changes in interest rates are negatively autocorrelated. A daily move up or down in interest rates is unlikely to tell you anything about interest rates tomorrow, but a move in interest rates over a year can tell you something about where interest rates are going over the next year. And this makes some economic sense: over long horizons, when interest rates go up, the economy tends to slow down, which consequently causes interest rates to fall, and vice versa.\n",
        "\n",
        "The DataFrame daily_rates contains daily data of 10-year interest rates from 1962 to 2017.\n",
        "\n",
        "Instructions\n",
        "\n",
        "1. Create a new DataFrame, daily_diff, of changes in daily rates using the .diff() method.\n",
        "\n",
        "2. Compute the autocorrelation of the column 'US10Y' in daily_diff using the .autocorr() method.\n",
        "\n",
        "3. Use the .resample() method with arguments rule='A' to convert to annual frequency and how='last'.\n",
        "\n",
        " - The argument how in .resample() has been deprecated.\n",
        " - The new syntax .resample().last() also works.\n",
        "\n",
        "4. Create a new DataFrame, yearly_diff of changes in annual rates and compute the autocorrelation, as above.\n",
        "\n",
        "Conclusion\n",
        "\n",
        "Notice how the daily autocorrelation is small but the annual autocorrelation is large and negative\n",
        "\n"
      ]
    },
    {
      "cell_type": "code",
      "metadata": {
        "id": "hyUNU3ZuTZgC"
      },
      "source": [
        "# Compute the daily change in interest rates \n",
        "daily_diff = daily_rates.diff()\n",
        "\n",
        "# Compute and print the autocorrelation of daily changes\n",
        "autocorrelation_daily = daily_diff['US10Y'].autocorr()\n",
        "print(\"The autocorrelation of daily interest rate changes is %4.2f\" %(autocorrelation_daily))\n",
        "\n",
        "# Convert the daily data to annual data\n",
        "yearly_rates = daily_rates.resample(rule='A').last()\n",
        "\n",
        "# Repeat above for annual data\n",
        "yearly_diff = yearly_rates.diff()\n",
        "autocorrelation_yearly = yearly_diff['US10Y'].autocorr()\n",
        "print(\"The autocorrelation of annual interest rate changes is %4.2f\" %(autocorrelation_yearly))\n",
        "\n",
        "'''\n",
        "<script.py> output:\n",
        "    The autocorrelation of daily interest rate changes is 0.07\n",
        "    The autocorrelation of annual interest rate changes is -0.22\n",
        "'''"
      ],
      "execution_count": null,
      "outputs": []
    }
  ]
}