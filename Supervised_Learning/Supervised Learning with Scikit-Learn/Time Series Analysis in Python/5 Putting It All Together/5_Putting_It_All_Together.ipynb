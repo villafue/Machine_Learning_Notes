{
  "nbformat": 4,
  "nbformat_minor": 0,
  "metadata": {
    "colab": {
      "name": "5 Putting It All Together.ipynb",
      "provenance": [],
      "authorship_tag": "ABX9TyOoG1i7dIZ8JNZkBrDz1v2U",
      "include_colab_link": true
    },
    "kernelspec": {
      "name": "python3",
      "display_name": "Python 3"
    }
  },
  "cells": [
    {
      "cell_type": "markdown",
      "metadata": {
        "id": "view-in-github",
        "colab_type": "text"
      },
      "source": [
        "<a href=\"https://colab.research.google.com/github/villafue/Machine_Learning_Notes/blob/master/Supervised_Learning/Supervised%20Learning%20with%20Scikit-Learn/Time%20Series%20Analysis%20in%20Python/5%20Putting%20It%20All%20Together/5_Putting_It_All_Together.ipynb\" target=\"_parent\"><img src=\"https://colab.research.google.com/assets/colab-badge.svg\" alt=\"Open In Colab\"/></a>"
      ]
    },
    {
      "cell_type": "markdown",
      "metadata": {
        "id": "kLezu63lQGkH"
      },
      "source": [
        "# Putting It All Together\r\n",
        "\r\n",
        "This chapter will show you how to model two series jointly using cointegration models. Then you'll wrap up with a case study where you look at a time series of temperature data from New York City"
      ]
    },
    {
      "cell_type": "markdown",
      "metadata": {
        "id": "fNLkrc_NQXMh"
      },
      "source": [
        "# Cointegration Models\r\n",
        "\r\n",
        "1. Cointegration Models\r\n",
        "The idea behind cointegration is\r\n",
        "\r\n",
        "2. What is Cointegration?\r\n",
        "that even if the prices of two different assets both follow random walks, it is still possible that a linear combination of them is not a random walk. If that's true, then even though P and Q are not forecastable because they're random walks, the linear combination is forecastable, and we say that P and Q are cointegrated.\r\n",
        "\r\n",
        "3. Analogy: Dog on a Leash\r\n",
        "The best analogy I've heard is of a dog owner walking his dog with a retractable leash. If you look at the position of the dog owner, it may follow a random walk, and if you look at the position of the dog separately, it also may follow a random walk, but the distance between them, the difference of their positions, may very well be mean reverting: if the dog is behind the owner, he may run to catch up and if the dog is ahead, the length of the leash may prevent him from getting too far ahead. The dog and its owner are linked together and their distance is a mean reverting process.\r\n",
        "\r\n",
        "4. Example: Heating Oil and Natural Gas\r\n",
        "Both Heating Oil prices and Natural Gas prices look like they're random walks. But when you look at the spread,\r\n",
        "\r\n",
        "5. Example: Heating Oil and Natural Gas\r\n",
        "or difference between them, the series looks like it's mean reverting. For example, when heating oil spiked down relative to natural gas in 2001, the spread reverted back.\r\n",
        "\r\n",
        "6. What Types of Series are Cointegrated?\r\n",
        "With commodities, there may be economic forces that link the two prices. Consider heating oil and natural gas. Some power plants have the ability to use either one, depending on which has become cheaper. So when heating oil has dipped below natural gas, increased demand for heating oil will push it back up. Platinum and Palladium are substitutes in some types of catalytic converters used for emission control. Corn and wheat are substitutes for animal feed. Corn and sugar are substitutes as sweeteners, etc. How about bitcoin and ethereum? In one of the exercises, you'll look at whether they are cointegrated. For stocks, a natural starting point for identifying cointegrated pairs are stocks in the same industry. However, competitors are not necessarily economic substitutes. Think of Apple and Blackberry. It's not necessarily the case that when one of those company's stock price jumps up, the other catches up. In this case, it's more like the dog broke the leash and ran way from the owner.\r\n",
        "\r\n",
        "7. Two Steps to Test for Cointegration\r\n",
        "You can break down the process for testing whether two series are cointegrated into two steps. First, you regress the level of one series on the level of the other series, to get the slope coefficient c. Then, you run the Augmented Dickey-Fuller test, the test for a random walk that you learned about in the second chapter, on the linear combination of the two series. Alternatively, statsmodels has a function coint that combines both steps.\r\n",
        "\r\n",
        "8. Let's practice!\r\n",
        "Now let's try some examples."
      ]
    },
    {
      "cell_type": "markdown",
      "metadata": {
        "id": "-0Hn4zt5UcKW"
      },
      "source": [
        "# A Dog on a Leash? (Part 1)\r\n",
        "\r\n",
        "The Heating Oil and Natural Gas prices are pre-loaded in DataFrames HO and NG. First, plot both price series, which look like random walks. Then plot the difference between the two series, which should look more like a mean reverting series (to put the two series in the same units, we multiply the heating oil prices, in \\$/gallon, by 7.25, which converts it to \\$/millionBTU, which is the same units as Natural Gas).\r\n",
        "\r\n",
        "The data for continuous futures (each contract has to be spliced together in a continuous series as contracts expire) was obtained from [Quandl](https://blog.quandl.com/api-for-futures-data).\r\n",
        "\r\n",
        "Instructions\r\n",
        "\r\n",
        "1. Plot Heating Oil, HO, and Natural Gas, NG, on the same subplot\r\n",
        "\r\n",
        "2. Make sure you multiply the HO price by 7.25 to match the units of NG\r\n",
        "\r\n",
        "3. Plot the spread on a second subplot\r\n",
        "\r\n",
        "4. The spread will be 7.25*HO - NG"
      ]
    },
    {
      "cell_type": "code",
      "metadata": {
        "id": "TT_mp-BNClUH"
      },
      "source": [
        ""
      ],
      "execution_count": null,
      "outputs": []
    },
    {
      "cell_type": "markdown",
      "metadata": {
        "id": "TCcJS61Y7BS4"
      },
      "source": [
        "# A Dog on a Leash? (Part 2)\r\n",
        "\r\n",
        "To verify that Heating Oil and Natural Gas prices are cointegrated, First apply the Dickey-Fuller test separately to show they are random walks. Then apply the test to the difference, which should strongly reject the random walk hypothesis. The Heating Oil and Natural Gas prices are pre-loaded in DataFrames HO and NG.\r\n",
        "\r\n",
        "Instructions\r\n",
        "\r\n",
        "1. Perform the adfuller test on HO and on NG separately, and save the results (results are a list)\r\n",
        "\r\n",
        " - The argument for adfuller must be a series, so you need to include the column 'Close'\r\n",
        "\r\n",
        " - Print just the p-value (item [1] in the list)\r\n",
        "\r\n",
        "2. Do the same thing for the spread, again converting the units of HO, and using the column 'Close' of each DataFrame"
      ]
    },
    {
      "cell_type": "markdown",
      "metadata": {
        "id": "VNzFY1cr7L1r"
      },
      "source": [
        "# Are Bitcoin and Ethereum Cointegrated?\r\n",
        "\r\n",
        "Cointegration involves two steps: regressing one time series on the other to get the cointegration vector, and then perform an ADF test on the residuals of the regression. In the last example, there was no need to perform the first step since we implicitly assumed the cointegration vector was <math xmlns=\"http://www.w3.org/1998/Math/MathML\">\r\n",
        "  <mstyle mathsize=\"0.85em\">\r\n",
        "    <mo stretchy=\"false\">(</mo>\r\n",
        "    <mn>1</mn>\r\n",
        "    <mo>,</mo>\r\n",
        "    <mo>&#x2212;</mo>\r\n",
        "    <mn>1</mn>\r\n",
        "    <mo stretchy=\"false\">)</mo>\r\n",
        "  </mstyle>\r\n",
        "</math>. In other words, we took the difference between the two series (after doing a units conversion). Here, you will do both steps.\r\n",
        "\r\n",
        "You will regress the value of one cryptocurrency, bitcoin (BTC), on another cryptocurrency, ethereum (ETH). If we call the regression coefficient <math xmlns=\"http://www.w3.org/1998/Math/MathML\">\r\n",
        "  <mstyle mathsize=\"0.85em\">\r\n",
        "    <mi>b</mi>\r\n",
        "  </mstyle>\r\n",
        "</math>, then the cointegration vector is simply <math xmlns=\"http://www.w3.org/1998/Math/MathML\">\r\n",
        "  <mstyle mathsize=\"0.85em\">\r\n",
        "    <mo stretchy=\"false\">(</mo>\r\n",
        "    <mn>1</mn>\r\n",
        "    <mo>,</mo>\r\n",
        "    <mo>&#x2212;</mo>\r\n",
        "    <mi>b</mi>\r\n",
        "    <mo stretchy=\"false\">)</mo>\r\n",
        "  </mstyle>\r\n",
        "</math>. Then perform the ADF test on BTC <math xmlns=\"http://www.w3.org/1998/Math/MathML\">\r\n",
        "  <mstyle mathsize=\"0.85em\">\r\n",
        "    <mi>b</mi>\r\n",
        "  </mstyle>\r\n",
        "</math> ETH. Bitcoin and Ethereum prices are pre-loaded in DataFrames BTC and ETH.\r\n",
        "\r\n",
        "Instructions\r\n",
        "\r\n",
        "1. Import the statsmodels module for regression and the adfuller function\r\n",
        "\r\n",
        "2. Add a constant to the ETH DataFrame using sm.add_constant()\r\n",
        "\r\n",
        "3. Regress BTC on ETH using sm.OLS(y,x).fit(), where y is the dependent variable and x is the independent variable, and save the results in result.\r\n",
        " \r\n",
        " - The intercept is in result.params[0] and the slope in result.params[1]\r\n",
        "\r\n",
        "4. Run ADF test on BTC <math xmlns=\"http://www.w3.org/1998/Math/MathML\">\r\n",
        "  <mstyle mathsize=\"0.85em\">\r\n",
        "    <mo>&#x2212;</mo>\r\n",
        "    <mi>b</mi>\r\n",
        "  </mstyle>\r\n",
        "</math> ETH"
      ]
    },
    {
      "cell_type": "code",
      "metadata": {
        "id": "VBn0Cjpa7s6d"
      },
      "source": [
        ""
      ],
      "execution_count": null,
      "outputs": []
    },
    {
      "cell_type": "markdown",
      "metadata": {
        "id": "FBX7dnH27tPE"
      },
      "source": [
        "# Case Study: Climate Change\r\n",
        "\r\n",
        "Got It!\r\n",
        "1. Case Study: Climate Change\r\n",
        "As a final exercise that will pull together many of the concepts throughout this course, you'll\r\n",
        "\r\n",
        "2. Analyzing Temperature Data\r\n",
        "analyze some temperature data taken over almost 150 years. The data was downloaded from the NOAA website. First, you'll practice some pandas methods by converting the index to datetime and plotting the data. Then, you'll run the Augmented\r\n",
        "\r\n",
        "3. Analyzing Temperature Data\r\n",
        "Dickey-Fuller test to see whether the data is a Random Walk. Then, you'll take first differences of the data to transform it into a stationary series, and compute the Autocorrelation Function and the Partial Autocorrelation Function of the data. Using that as a guide, you'll fit a few AR, MA, and ARMA models to the data. Then you'll use the Information Criterion to choose the best model among the ones you looked at. Finally, with the best model, you'll forecast temperatures over the next 30 years.\r\n",
        "\r\n",
        "4. Let's practice!\r\n",
        "Time to put this into practice."
      ]
    },
    {
      "cell_type": "markdown",
      "metadata": {
        "id": "MYcn_8PN72Bz"
      },
      "source": [
        "# Is Temperature a Random Walk (with Drift)?\r\n",
        "\r\n",
        "An ARMA model is a simplistic approach to forecasting climate changes, but it illustrates many of the topics covered in this class.\r\n",
        "\r\n",
        "The DataFrame temp_NY contains the average annual temperature in Central Park, NY from 1870-2016 (the data was downloaded from the NOAA here). Plot the data and test whether it follows a random walk (with drift).\r\n",
        "\r\n",
        "Instructions\r\n",
        "\r\n",
        "1. Convert the index of years into a datetime object using pd.to_datetime(), and since the data is annual, pass the argument format='%Y'.\r\n",
        "\r\n",
        "2. Plot the data using .plot()\r\n",
        "\r\n",
        "3. Compute the p-value the Augmented Dickey Fuller test using the adfuller function.\r\n",
        "\r\n",
        "4. Save the results of the ADF test in result, and print out the p-value in result[1]."
      ]
    },
    {
      "cell_type": "markdown",
      "metadata": {
        "id": "qigs_3yn8A24"
      },
      "source": [
        "# Getting \"Warmed\" Up: Look at Autocorrelations\r\n",
        "\r\n",
        "Since the temperature series, temp_NY, is a random walk with drift, take first differences to make it stationary. Then compute the sample ACF and PACF. This will provide some guidance on the order of the model.\r\n",
        "\r\n",
        "Instructions\r\n",
        "\r\n",
        "1. Import the modules for plotting the sample ACF and PACF\r\n",
        "\r\n",
        "2. Take first differences of the DataFrame temp_NY using the pandas method .diff()\r\n",
        "\r\n",
        "3. Create two subplots for plotting the ACF and PACF\r\n",
        "\r\n",
        " - Plot the sample ACF of the differenced series\r\n",
        "\r\n",
        " - Plot the sample PACF of the differenced series"
      ]
    },
    {
      "cell_type": "markdown",
      "metadata": {
        "id": "V6KaLId28L0g"
      },
      "source": [
        "# Which ARMA Model is Best?\r\n",
        "\r\n",
        "Recall from Chapter 3 that the Akaike Information Criterion (AIC) can be used to compare models with different numbers of parameters. It measures goodness-of-fit, but places a penalty on models with more parameters to discourage overfitting. Lower AIC scores are better.\r\n",
        "\r\n",
        "Fit the temperature data to an AR(1), AR(2), and ARMA(1,1) and see which model is the best fit, using the AIC criterion. The AR(2) and ARMA(1,1) models have one more parameter than the AR(1) has.\r\n",
        "\r\n",
        "The annual change in temperature is in a DataFrame chg_temp.\r\n",
        "\r\n",
        "Instructions\r\n",
        "\r\n",
        "1. For each ARMA model, create an instance of the ARMA class, passing the data and the order=(p,q). p is the autoregressive order; q is the moving average order.\r\n",
        "\r\n",
        "2. Fit the model using the method .fit().\r\n",
        "\r\n",
        "3. Print the AIC value, found in the .aic element of the results."
      ]
    },
    {
      "cell_type": "markdown",
      "metadata": {
        "id": "h9OXsKpZ9LU7"
      },
      "source": [
        "# Don't Throw Out That Winter Coat Yet\r\n",
        "\r\n",
        "Finally, you will forecast the temperature over the next 30 years using an ARMA(1,1) model, including confidence bands around that estimate. Keep in mind that the estimate of the drift will have a much bigger impact on long range forecasts than the ARMA parameters.\r\n",
        "\r\n",
        "Earlier, you determined that the temperature data follows a random walk and you looked at first differencing the data. In this exercise, you will use the ARIMA module on the temperature data (before differencing), which is identical to using the ARMA module on changes in temperature, followed by taking cumulative sums of these changes to get the temperature forecast.\r\n",
        "\r\n",
        "The data is preloaded in a DataFrame called temp_NY.\r\n",
        "\r\n",
        "Instructions\r\n",
        "\r\n",
        "1. Create an instance of the ARIMA class called mod for an integrated ARMA(1,1) model\r\n",
        "\r\n",
        " - The d in order(p,d,q) is one, since we first differenced once\r\n",
        "\r\n",
        " - Fit mod using the .fit() method and call the results res\r\n",
        "\r\n",
        "2. Forecast the series using the plot_predict() method on res\r\n",
        "\r\n",
        " - Choose the start date as 1872-01-01 and the end date as 2046-01-01"
      ]
    },
    {
      "cell_type": "markdown",
      "metadata": {
        "id": "XF-Id23R9ePa"
      },
      "source": [
        "# Congratulations\r\n",
        "\r\n",
        "1. Congratulations\r\n",
        "Congratulations on mastering the time series introductory material. This course will hopefully have given you the foundation to learn about more advanced time series concepts.\r\n",
        "\r\n",
        "2. Advanced Topics\r\n",
        "Some more advanced topics are GARCH Models, Nonlinear Models, Multivariate Time Series Models, Regime Switching Models, State Space Models and Kalman Filtering.\r\n",
        "\r\n",
        "3. Keep practicing!\r\n",
        "I hope you can make more time for time series!"
      ]
    }
  ]
}