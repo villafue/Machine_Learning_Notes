{
  "nbformat": 4,
  "nbformat_minor": 0,
  "metadata": {
    "colab": {
      "name": "2 Grid search.ipynb",
      "provenance": [],
      "authorship_tag": "ABX9TyNFb/A8BOsbsi/qAbaCTPFL",
      "include_colab_link": true
    },
    "kernelspec": {
      "name": "python3",
      "display_name": "Python 3"
    }
  },
  "cells": [
    {
      "cell_type": "markdown",
      "metadata": {
        "id": "view-in-github",
        "colab_type": "text"
      },
      "source": [
        "<a href=\"https://colab.research.google.com/github/villafue/Machine_Learning_Notes/blob/master/Supervised_Learning/Hyperparameter%20Tuning%20in%20Python/2%20Grid%20search/2%20Grid%20search.ipynb\" target=\"_parent\"><img src=\"https://colab.research.google.com/assets/colab-badge.svg\" alt=\"Open In Colab\"/></a>"
      ]
    },
    {
      "cell_type": "markdown",
      "metadata": {
        "id": "4dLuDJBxZauf"
      },
      "source": [
        "# Grid search\r\n",
        "\r\n",
        "This chapter introduces you to a popular automated hyperparameter tuning methodology called Grid Search. You will learn what it is, how it works and practice undertaking a Grid Search using Scikit Learn. You will then learn how to analyze the output of a Grid Search & gain practical experience doing this."
      ]
    },
    {
      "cell_type": "markdown",
      "metadata": {
        "id": "5mKd022NZaaX"
      },
      "source": [
        "# Introducing Grid Search\r\n",
        "\r\n",
        "1. Introducing Grid Search\r\n",
        "In this section we will look at extending our work on automatic hyperparameter tuning and learn what a Grid Search is. Let's get started!\r\n",
        "\r\n",
        "2. Automating 2 Hyperparameters\r\n",
        "Let's remind ourselves of your previous work using a for loop to test different values of the number of neighbors in a KNN algorithm. We then collated those into a DataFrame to analyze. For this section we are working with a reduced dataset so you may see slightly different results.\r\n",
        "\r\n",
        "3. Automating 2 Hyperparameters\r\n",
        "But what if we want to test different values of 2 hyperparameters? Let us take the example of a GBM algorithm, which has a few more hyperparameters to tune than KNN or Random Forest algorithms. Let's' say we want to tune the two hyperparameters and values as follows. How would you do that? One suggestion could be a nested loop.\r\n",
        "\r\n",
        "4. Automating 2 Hyperparameters\r\n",
        "We can first write nicer code by having the model creation component as a function. We feed in the two hyperparameter values as arguments and use these to create a model Then we fit to our data and generate predictions. Finally we return the hyperparameter values used and the score in a list for analysis.\r\n",
        "\r\n",
        "5. Automating 2 Hyperparameters\r\n",
        "Now we can loop through and call our function, appending our results to a list as we go. We have a nested loop so we test all values of our first hyperparameter for all values of our second hyperparameter.\r\n",
        "\r\n",
        "6. Automating 2 Hyperparameters\r\n",
        "We can save these results into a DataFrame as well And then print it out to view.\r\n",
        "\r\n",
        "7. How many models?\r\n",
        "You will notice that many more models are built when adding more hyperparameters and values to test. Importantly, this relationship between models created and hyperparameters or values to test is not a linear relationship. For each of the values tested for the first hyperparameter, you test every value of the second hyperparameter. This means to test 5 values for the first hyperparameter and 10 values for the second hyperparameter, we have 50 models to run. And what if we k-fold cross-validated each model 10 times? That would be 500 models to run!\r\n",
        "\r\n",
        "8. From 2 to N hyperparameters\r\n",
        "That was just for 2 hyperparameters. What if we wanted to test a third or fourth hyperparameter? We could nest again (and again) We first list the extra things to test.\r\n",
        "\r\n",
        "9. From 2 to N hyperparameters\r\n",
        "Then we adjust our function to take in more inputs. Notice how our function has a more complex model build but is very similar to what we did before?\r\n",
        "\r\n",
        "10. From 2 to N hyperparameters\r\n",
        "Finally, we can adjust our for loop to add the extra level of nesting. This code will also look familiar, we are just adding more levels of nesting but still saving out our results for analysis.\r\n",
        "\r\n",
        "11. From 2 to N hyperparameters\r\n",
        "So how many models did we just create? Testing 7 values for our first hyperparameter, and the listed number for the other hyperparameters, we can see this number has greatly increased. Safe to say we cannot keep nesting forever as our code becomes complex and inefficient. Plus, what if we also wanted some extra information on training and testing times and scores. Our code will get quite complex.\r\n",
        "\r\n",
        "12. Introducing Grid Search\r\n",
        "Let's review our work in an alternate way. If we created a grid with each value of max_depth that we want to test down the left and each value of learning_rate across the top. The intersection square of each of these is a model that we need to run.\r\n",
        "\r\n",
        "13. Introducing Grid Search\r\n",
        "Running a model for every cell in the grid with the hyperparameters specified is known as a Grid Search. For example, the mentioned cell here is equivalent to creating a gradient boosting estimator with these inputs.\r\n",
        "\r\n",
        "14. Grid Search Pros & Cons\r\n",
        "Grid search has a number of advantages. It's programmatic, and saves many lines of code. It is guaranteed to find the best model within the grid you specify. But if you specify a poor grid with silly or conflicting values you won't get a good score! Finally, it is an easy methodology to explain compared to some of the more complex ones we will cover later in the course.\r\n",
        "\r\n",
        "15. Grid Search Pros & Cons\r\n",
        "However there are some disadvantages to this approach. It is computationally expensive. It is also 'uninformed' because it doesn't learn as it creates models the next model it creates could be better or worse. There are 'informed' methods that get better as they build more and more models and we will see those later in the course.\r\n",
        "\r\n",
        "16. Let's practice!\r\n",
        "Let's now practice undertaking a grid search!"
      ]
    },
    {
      "cell_type": "markdown",
      "metadata": {
        "id": "qWQMJPCdcJrR"
      },
      "source": [
        "# Build Grid Search functions\r\n",
        "\r\n",
        "In data science it is a great idea to try building algorithms, models and processes 'from scratch' so you can really understand what is happening at a deeper level. Of course there are great packages and libraries for this work (and we will get to that very soon!) but building from scratch will give you a great edge in your data science work.\r\n",
        "\r\n",
        "In this exercise, you will create a function to take in 2 hyperparameters, build models and return results. You will use this function in a future exercise.\r\n",
        "\r\n",
        "You will have available the X_train, X_test, y_train and y_test datasets available.\r\n",
        "\r\n",
        "Instructions\r\n",
        "\r\n",
        "1. Build a function that takes two parameters called learn_rate and max_depth for the learning rate and maximum depth.\r\n",
        "\r\n",
        "2. Add capability in the function to build a GBM model and fit it to the data with the input hyperparameters.\r\n",
        "\r\n",
        "3. Have the function return the results of that model and the chosen hyperparameters (learn_rate and max_depth)."
      ]
    },
    {
      "cell_type": "code",
      "metadata": {
        "id": "SjUtF4faYSl0"
      },
      "source": [
        "# Create the function\r\n",
        "def gbm_grid_search(learn_rate, max_depth):\r\n",
        "\r\n",
        "\t# Create the model\r\n",
        "    model = GradientBoostingClassifier(learning_rate=learn_rate, max_depth=max_depth)\r\n",
        "    \r\n",
        "    # Use the model to make predictions\r\n",
        "    predictions = model.fit(X_train, y_train).predict(X_test)\r\n",
        "    \r\n",
        "    # Return the hyperparameters and score\r\n",
        "    return([learn_rate, max_depth, accuracy_score(y_test, predictions)])"
      ],
      "execution_count": null,
      "outputs": []
    },
    {
      "cell_type": "markdown",
      "metadata": {
        "id": "g9LSkNjNdAoL"
      },
      "source": [
        "Conclusion\r\n",
        "\r\n",
        "Nice! You now have a function you can call to test different combinations of two hyperparameters for the GBM algorithm. In the next exercise we will use it to test some values and analyze the results."
      ]
    },
    {
      "cell_type": "markdown",
      "metadata": {
        "id": "hfor0CPeeYk9"
      },
      "source": [
        "# Iteratively tune multiple hyperparameters\r\n",
        "\r\n",
        "In this exercise, you will build on the function you previously created to take in 2 hyperparameters, build a model and return the results. You will now use that to loop through some values and then extend this function and loop with another hyperparameter.\r\n",
        "\r\n",
        "The function gbm_grid_search(learn_rate, max_depth) is available in this exercise.\r\n",
        "\r\n",
        "If you need to remind yourself of the function you can run the function `print_func()` that has been created for you\r\n",
        "\r\n",
        "Instructions\r\n",
        "\r\n",
        "1. Write a for-loop to test the values (0.01, 0.1, 0.5) for the learning_rate and (2, 4, 6) for the max_depth using the function you created gbm_grid_search and print the results."
      ]
    },
    {
      "cell_type": "code",
      "metadata": {
        "id": "Z6aOmM94fyf_"
      },
      "source": [
        "'''\r\n",
        "In [1]:\r\n",
        "print_func()\r\n",
        "def gbm_grid_search(learn_rate, max_depth):\r\n",
        "\r\n",
        "\t# Create the model\r\n",
        "    model = GradientBoostingClassifier(learning_rate=learn_rate, max_depth=max_depth)\r\n",
        "    \r\n",
        "    # Use the model to make predictions\r\n",
        "    predictions = model.fit(X_train, y_train).predict(X_test)\r\n",
        "    \r\n",
        "    # Return the hyperparamters and score\r\n",
        "    return([learn_rate, max_depth, accuracy_score(y_test, predictions)])\r\n",
        "'''\r\n",
        "# Create the relevant lists\r\n",
        "results_list = []\r\n",
        "learn_rate_list = [0.01, 0.1, 0.5]\r\n",
        "max_depth_list = [2, 4, 6]\r\n",
        "\r\n",
        "# Create the for loop\r\n",
        "for learn_rate in learn_rate_list:\r\n",
        "    for max_depth in max_depth_list:\r\n",
        "        results_list.append(gbm_grid_search(learn_rate,max_depth))\r\n",
        "\r\n",
        "# Print the results\r\n",
        "print(results_list) \r\n",
        "\r\n",
        "'''\r\n",
        "<script.py> output:\r\n",
        "    [[0.01, 2, 0.78], [0.01, 4, 0.78], [0.01, 6, 0.76], [0.1, 2, 0.74], [0.1, 4, 0.76], [0.1, 6, 0.75], [0.5, 2, 0.73], [0.5, 4, 0.74], [0.5, 6, 0.74]]\r\n",
        "'''\r\n"
      ],
      "execution_count": null,
      "outputs": []
    },
    {
      "cell_type": "markdown",
      "metadata": {
        "id": "_6UF4RusgQw5"
      },
      "source": [
        "2. Extend the gbm_grid_search function to include the hyperparameter subsample. Name this new function gbm_grid_search_extended."
      ]
    },
    {
      "cell_type": "code",
      "metadata": {
        "id": "TfK7tC8FgY2H"
      },
      "source": [
        "results_list = []\r\n",
        "learn_rate_list = [0.01, 0.1, 0.5]\r\n",
        "max_depth_list = [2,4,6]\r\n",
        "\r\n",
        "# Extend the function input\r\n",
        "def gbm_grid_search_extended(learn_rate, max_depth, subsample):\r\n",
        "\r\n",
        "\t# Extend the model creation section\r\n",
        "    model = GradientBoostingClassifier(learning_rate=learn_rate, max_depth=max_depth, subsample=subsample)\r\n",
        "    \r\n",
        "    predictions = model.fit(X_train, y_train).predict(X_test)\r\n",
        "    \r\n",
        "    # Extend the return part\r\n",
        "    return([learn_rate, max_depth, subsample, accuracy_score(y_test, predictions)])       "
      ],
      "execution_count": null,
      "outputs": []
    },
    {
      "cell_type": "markdown",
      "metadata": {
        "id": "TU9nmTAxgpPz"
      },
      "source": [
        "3. Extend your loop to call gbm_grid_search (available in your console), then test the values [0.4 , 0.6] for the subsample hyperparameter and print the results. max_depth_list & learn_rate_list are available in your environment."
      ]
    },
    {
      "cell_type": "code",
      "metadata": {
        "id": "7OvlPkDWgxrh"
      },
      "source": [
        "results_list = []\r\n",
        "\r\n",
        "# Create the new list to test\r\n",
        "subsample_list = [0.4, 0.6]\r\n",
        "\r\n",
        "for learn_rate in learn_rate_list:\r\n",
        "    for max_depth in max_depth_list:\r\n",
        "    \r\n",
        "    \t# Extend the for loop\r\n",
        "        for subsample in subsample_list:\r\n",
        "        \t\r\n",
        "            # Extend the results to include the new hyperparameter\r\n",
        "            results_list.append(gbm_grid_search_extended(learn_rate, max_depth, subsample))\r\n",
        "            \r\n",
        "# Print results\r\n",
        "print(results_list)            "
      ],
      "execution_count": null,
      "outputs": []
    },
    {
      "cell_type": "markdown",
      "metadata": {
        "id": "-KBmbM3fhMFw"
      },
      "source": [
        "Conclusion\r\n",
        "\r\n",
        "Congratulations. You have effectively built your own grid search! You went from 2 to 3 hyperparameters and can see how you could extend that to even more values and hyperparameters. That was a lot of effort though. Be warned - we are now entering a world that can get very computationally expensive very fast!"
      ]
    },
    {
      "cell_type": "markdown",
      "metadata": {
        "id": "6E9l3yLhhSMt"
      },
      "source": [
        "# How Many Models?\r\n",
        "\r\n",
        "Adding more hyperparameters or values, you increase the amount of models created but the increases is not linear it is proportional to how many values and hyperparameters you already have.\r\n",
        "\r\n",
        "How many models would be created when running a grid search over the following hyperparameters and values for a GBM algorithm?\r\n",
        "\r\n",
        "learning_rate = [0.001, 0.01, 0.05, 0.1, 0.2, 0.3, 0.5, 1, 2]\r\n",
        "max_depth = [4,6,8,10,12,14,16,18, 20]\r\n",
        "subsample = [0.4, 0.6, 0.7, 0.8, 0.9]\r\n",
        "max_features = ['auto', 'sqrt', 'log2']\r\n",
        "These lists are in your console so you can utilize properties of them to help you!\r\n",
        "\r\n",
        "Possible Answers\r\n",
        "\r\n",
        "1. 26\r\n",
        "- Incorrect Submission: Close! Though we don't just run one model for each value of each hyperparameter.\r\n",
        "\r\n",
        "2. 9 of one model, 9 of another\r\n",
        " - Incorrect Submission: Not quite, there are two hyperparameters missing and the calculation is incorrect.\r\n",
        "\r\n",
        "3. 1 large model\r\n",
        " - Incorrect Submission: In a grid search we make many (many!) models, not just one big one.\r\n",
        "\r\n",
        "4. 1215\r\n",
        " - Excellent! For every value of one hyperparameter, we test EVERY value of EVERY other hyperparameter. So you correctly multiplied the number of values (the lengths of the lists)."
      ]
    },
    {
      "cell_type": "markdown",
      "metadata": {
        "id": "zt1_YlHgi937"
      },
      "source": [
        "# Grid Search with Scikit Learn\r\n",
        "\r\n",
        "1. Grid Search with Scikit Learn\r\n",
        "In this lesson we will move beyond our manual code and leverage Scikit Learn to assist our grid search.\r\n",
        "\r\n",
        "2. GridSearchCV Object\r\n",
        "In this lesson we will be introduced to Scikit Learn's GridSearchCV. It will help us create a grid search more efficiently and get some performance analytics. This is an example of a GridSearchCV object. Don't worry, we will break it down!\r\n",
        "\r\n",
        "3. Steps in a Grid Search\r\n",
        "Firstly, let us conceptualize the steps needed to do a proper grid search. Some of these will be familiar from our manual work before. One. Select an algorithm (or 'estimator') to tune Two. Define which hyperparameters we will tune Three. Define a range of values for each hyperparameter Four. Decide a cross-validation scheme Five. Define a scoring function to determine which model was the best Six. Include extra useful information or functions The only one of these we did not do much work with previously is step (4), but we will cover each now.\r\n",
        "\r\n",
        "4. GridSearchCV Object Inputs\r\n",
        "A GridSearchCV object takes several important arguments. estimator param_grid cv scoring refit n_jobs return_train_score\r\n",
        "\r\n",
        "5. GridSearchCV 'estimator'\r\n",
        "The estimator is our algorithm. Examples include KNN, Random Forest, GBM or Logistic Regression. We only pick one algorithm for each grid search.\r\n",
        "\r\n",
        "6. GridSearchCV 'param_grid'\r\n",
        "param_grid is how we tell GridSearchCV which hyperparameters and which values to test. We were previously using lists, but param_grid needs a dictionary. The dictionary keys must be the hyperparameter names, the values a list of values to test.\r\n",
        "\r\n",
        "7. GridSearchCV 'param_grid'\r\n",
        "The keys in the param_grid dictionary must be valid hyperparameters else the Grid Search will fail. See the example here, 'best_choice' is not a hyperparameter of Scikit Learn's Logistic Regression estimator and so this will fail.\r\n",
        "\r\n",
        "8. GridSearchCV 'cv'\r\n",
        "The cv input allows you to undertake cross-validation. You could specify different cross-validation types here. But simply providing an integer will create a k-fold. You are likely familiar with standard 5 and 10 k-fold cross validation.\r\n",
        "\r\n",
        "9. GridSearchCV 'scoring'\r\n",
        "`scoring` is a scoring function used to evaluate your model's performance. You did this manually previously using accuracy. You can use your own custom metric, or one from the available metrics from Scikit Learn's metrics module. You can check all available metrics using this command.\r\n",
        "\r\n",
        "10. GridSearchCV 'refit'\r\n",
        "refit set to true means the best hyperparameter combinations are used to undertake a fitting to the training data. The GridSearchCV object can be used as an estimator directly This is very handy as you don't need to save our the best hyperparameters and train another model.\r\n",
        "\r\n",
        "11. GridSearchCV 'n_jobs'\r\n",
        "n_jobs assists with parallel execution. You can effectively 'split up' your work and have many models being created at the same time. This is possible because the results of one model do not affect the next one. You can check how many cores you have available, which determines how many models you can run in parallel using this handy code. Be careful using all cores for a task though as this may mean you can't do other work on your computer while your models run.\r\n",
        "\r\n",
        "12. GridSearchCV 'return_train_score'\r\n",
        "Finally `return_train_score` logs statistics about the training runs that were undertaken. This can be useful for plotting and understanding test vs training set performance (and hence bias-variance tradeoff). While informative, this is computationally expensive and will not assist in finding the best model.\r\n",
        "\r\n",
        "13. Building a GridSearchCV object\r\n",
        "Now we have all the components to build a grid search object. Firstly we create our parameter grid for the hyperparameters and values we want to input. Then we create the base classifier, setting some default values at the time of creation.\r\n",
        "\r\n",
        "14. Building a GridSearchCv Object\r\n",
        "We can now put the pieces together to create the GridSearchCV object. You can see all the elements you learned about previously including the estimator and parameter grid we just created. If this seems like a lot of code, review the couple of previous slides to see what each element means.\r\n",
        "\r\n",
        "15. Using a GridSearchCV Object\r\n",
        "With 'refit' set to True, we can directly use the GridSearchCV object as an estimator. That means we can fit onto our data and make predictions, just like any other Scikit Learn estimator!\r\n",
        "\r\n",
        "16. Let's practice!\r\n",
        "Let's undertake our own Grid Search with Scikit Learn's GridSearchCV module!"
      ]
    },
    {
      "cell_type": "markdown",
      "metadata": {
        "id": "xppj3kpslz0m"
      },
      "source": [
        "# GridSearchCV inputs\r\n",
        "Let's test your knowledge of GridSeachCV inputs by answering the question below.\r\n",
        "\r\n",
        "Three GridSearchCV objects are available in the console, named model_1, model_2, model_3. Note that there is no data available to fit these models. Instead, you must answer by looking at their construct.\r\n",
        "\r\n",
        "Which of these GridSearchCV objects would not work when we try to fit it?"
      ]
    },
    {
      "cell_type": "code",
      "metadata": {
        "id": "s5_7eeXkl5Ze"
      },
      "source": [
        "'''\r\n",
        "Model #1:\r\n",
        " GridSearchCV(\r\n",
        "    estimator = RandomForestClassifier(),\r\n",
        "    param_grid = {'max_depth': [2, 4, 8, 15], 'max_features': ['auto', 'sqrt']},\r\n",
        "    scoring='roc_auc',\r\n",
        "    n_jobs=4,\r\n",
        "    cv=5,\r\n",
        "    refit=True, return_train_score=True) \r\n",
        "\r\n",
        "\r\n",
        "Model #2:\r\n",
        " GridSearchCV(\r\n",
        "    estimator = KNeighborsClassifier(),\r\n",
        "    param_grid = {'n_neighbors': [5, 10, 20], 'algorithm': ['ball_tree', 'brute']},\r\n",
        "    scoring='accuracy',\r\n",
        "    n_jobs=8,\r\n",
        "    cv=10,\r\n",
        "    refit=False) \r\n",
        "\r\n",
        "\r\n",
        "Model #3:\r\n",
        " GridSearchCV(\r\n",
        "    estimator = GradientBoostingClassifier(),\r\n",
        "    param_grid = {'number_attempts': [2, 4, 6], 'max_depth': [3, 6, 9, 12]},\r\n",
        "    scoring='accuracy',\r\n",
        "    n_jobs=2,\r\n",
        "    cv=7,\r\n",
        "    refit=True) \r\n",
        "'''"
      ],
      "execution_count": null,
      "outputs": []
    },
    {
      "cell_type": "markdown",
      "metadata": {
        "id": "hs8_xDwymChM"
      },
      "source": [
        "Possible Answers\r\n",
        "\r\n",
        "1. model_1 would not work when we try to fit it.\r\n",
        " - Incorrect Submission: Not quite, there are two hyperparameters missing and the calculation is incorrect.\r\n",
        "\r\n",
        "2. model_2 would not work when we try to fit it.\r\n",
        " - Incorrect Submission: Not quite, these hyperparameters and options are all valid for this algorithm.\r\n",
        "\r\n",
        "3. model_3 would not work when we try to fit it.\r\n",
        " - Correct! By looking at the Scikit Learn documentation (or your excellent memory!) you know that number_attempts is not a valid hyperparameter. This GridSearchCV will not fit to our data.\r\n",
        " \r\n",
        "4. None - they will all work when we try to fit them.\r\n",
        " - Incorrect Submission: There is definitely one model that has incorrect hyperparameters specified in the `param_grid`."
      ]
    },
    {
      "cell_type": "markdown",
      "metadata": {
        "id": "x6qwrLZBw-pk"
      },
      "source": [
        "# GridSearchCV with Scikit Learn\r\n",
        "\r\n",
        "The GridSearchCV module from Scikit Learn provides many useful features to assist with efficiently undertaking a grid search. You will now put your learning into practice by creating a GridSearchCV object with certain parameters.\r\n",
        "\r\n",
        "The desired options are:\r\n",
        "\r\n",
        " - A Random Forest Estimator, with the split criterion as 'entropy'\r\n",
        " - 5-fold cross validation\r\n",
        " - The hyperparameters max_depth (2, 4, 8, 15) and max_features ('auto' vs 'sqrt')\r\n",
        " - Use roc_auc to score the models\r\n",
        " - Use 4 cores for processing in parallel\r\n",
        " - Ensure you refit the best model and return training scores\r\n",
        "\r\n",
        "You will have available X_train, X_test, y_train & y_test datasets.\r\n",
        "\r\n",
        "Instructions\r\n",
        "\r\n",
        "1. Create a Random Forest estimator as specified in the context above.\r\n",
        "\r\n",
        "2. Create a parameter grid as specified in the context above.\r\n",
        "\r\n",
        "3. Create a GridSearchCV object as outlined in the context above, using the two elements created in the previous two instructions."
      ]
    },
    {
      "cell_type": "code",
      "metadata": {
        "id": "-fIJ9d16ybXk"
      },
      "source": [
        "# Create a Random Forest Classifier with specified criterion\r\n",
        "rf_class = RandomForestClassifier(criterion='entropy')\r\n",
        "\r\n",
        "# Create the parameter grid\r\n",
        "param_grid = {\"max_depth\": [2,4,8,15], \"max_features\": ['auto', 'sqrt']} \r\n",
        "\r\n",
        "# Create a GridSearchCV object\r\n",
        "grid_rf_class = GridSearchCV(\r\n",
        "    estimator=rf_class,\r\n",
        "    param_grid=param_grid,\r\n",
        "    scoring='roc_auc',\r\n",
        "    n_jobs=4,\r\n",
        "    cv=5,\r\n",
        "    refit=True, return_train_score=True)\r\n",
        "print(grid_rf_class)\r\n",
        "\r\n",
        "'''\r\n",
        "<script.py> output:\r\n",
        "    GridSearchCV(cv=5, error_score='raise-deprecating',\r\n",
        "           estimator=RandomForestClassifier(bootstrap=True, class_weight=None, criterion='entropy',\r\n",
        "                max_depth=None, max_features='auto', max_leaf_nodes=None,\r\n",
        "                min_impurity_decrease=0.0, min_impurity_split=None,\r\n",
        "                min_samples_leaf=1, min_samples_split=2,\r\n",
        "                min_weight_fraction_leaf=0.0, n_estimators='warn', n_jobs=None,\r\n",
        "                oob_score=False, random_state=None, verbose=0,\r\n",
        "                warm_start=False),\r\n",
        "           fit_params=None, iid='warn', n_jobs=4,\r\n",
        "           param_grid={'max_depth': [2, 4, 8, 15], 'max_features': ['auto', 'sqrt']},\r\n",
        "           pre_dispatch='2*n_jobs', refit=True, return_train_score=True,\r\n",
        "           scoring='roc_auc', verbose=0)\r\n",
        "'''"
      ],
      "execution_count": null,
      "outputs": []
    },
    {
      "cell_type": "markdown",
      "metadata": {
        "id": "jWdLmzjEygA4"
      },
      "source": [
        "Conclusion\r\n",
        "\r\n",
        "Excellent work! You now understand all the inputs to a GridSearchCV object and can tune many different hyperparameters and many different values for each on a chosen algorithm!"
      ]
    },
    {
      "cell_type": "markdown",
      "metadata": {
        "id": "p9MkZ_dpyu6Z"
      },
      "source": [
        "# Understanding a grid search output\r\n",
        "\r\n",
        "1. Understanding a grid search output\r\n",
        "Now that you know how to run a grid search, let's focus on its output.\r\n",
        "\r\n",
        "2. Analyzing the output\r\n",
        "Let us now analyze each of the properties of the GridSearchCV output and learn how to access and use them. The properties of the object can be categorized into three different groups a results log the best results and 'Extra information'.\r\n",
        "\r\n",
        "3. Accessing object properties\r\n",
        "Properties are accessed using the dot notation, that is grid_search_object-dot-property. Where property is the actual property you want to retrieve Let's review each of the key properties now.\r\n",
        "\r\n",
        "4. The `.cv_results_` property\r\n",
        "Firstly there is the cv_results_ property. This is a dictionary that we can read into a pandas DataFrame to explore. Notice there are 12 rows because there are 12 squares in our grid. Each row tells you about what happened when testing that square.\r\n",
        "\r\n",
        "5. The `.cv_results_` 'time' columns\r\n",
        "The 'time' columns refer to the time it took to fit and score the model. We did a cross-validation so this ran 5 times and stored the average and standard deviation of the times it took in seconds.\r\n",
        "\r\n",
        "6. The .cv_results_ 'param_' columns\r\n",
        "The param_ columns contain information on the different parameters that were used in the model. Remember, each row in this DataFrame is about one model. So we can see row 3 for example tested the hyperparameter combination of max_depth 10 and min_samples_leaf 2 and n_estimators 100 for our random forest estimator.\r\n",
        "\r\n",
        "7. The `.cv_results_` 'param' column\r\n",
        "The params column is a dictionary of all the parameters from the previous 'param' columns. We need to use pd.set_option here to ensure we don't truncate the results we are printing.\r\n",
        "\r\n",
        "8. The `.cv_results_` 'test_score' columns\r\n",
        "The next 5 columns are the testing scores for each of the 5 cross-folds, or splits, we made, followed by the the mean and standard deviation for those cross-folds.\r\n",
        "\r\n",
        "9. The `.cv_results_` 'rank_test_score' column\r\n",
        "The rank column conveniently ranks the rows by the mean_test_score. We can see that the model in our third row had the best mean_test_score.\r\n",
        "\r\n",
        "10. Extracting the best row\r\n",
        "Using the rank_test_score column we can easily select the grid search square for analysis. This table is the row from the cv_results object that was the best model created.\r\n",
        "\r\n",
        "11. The .cv_results_ 'train_score' columns\r\n",
        "The test_score columns are then repeated for the training scores. Note that if we had not set return_train_score to True this would not include the training scores. There is also no ranking column for the training scores, as we only care about performance on the test set in each fold.\r\n",
        "\r\n",
        "12. The best grid square\r\n",
        "Information on the best grid square is found in three different properties best_params_ which is the dictionary of the parameters that gave the best score. best_score_, the actual best score and best_index, the row in our cv_results_ that was the best. This is same as the index of the row with rank 1 in cv_results_ that we extracted just before.\r\n",
        "\r\n",
        "13. The `best_estimator_` property\r\n",
        "GridSearchCV stores an estimator built with the best hyperparameters in the best_estimator property. Since it is an estimator, we can use this to predict on our test set. We can demonstrate this by using python's type function and see it is a Random Forest Classification estimator. We can also use the GridSearchCV object itself directly as an estimator.\r\n",
        "\r\n",
        "14. The `best_estimator_` property\r\n",
        "We can print out and see the estimator itself. This is why we set refit=True when creating the grid search, otherwise we would need to refit using the best parameters ourself before using the best estimator.\r\n",
        "\r\n",
        "15. Extra information\r\n",
        "Some extra information can be obtained with the following properties. These are not very useful properties but may be important if you construct you grid search differently. These include the scorer function that was used and the number of cross validation splits (both of which we set ourselves), and the refit_time which is the number of seconds used for refitting the best model on the whole dataset. This may be of interest in analyzing efficiencies in your work, but not for our use case here.\r\n",
        "\r\n",
        "16. Let's practice!\r\n",
        "Let's practice analyzing the output of a Scikit Learn GridSearchCV object!"
      ]
    },
    {
      "cell_type": "markdown",
      "metadata": {
        "id": "d9T-aHJZ7mqr"
      },
      "source": [
        "# Using the best outputs\r\n",
        "\r\n",
        "Which of the following parameters must be set in order to be able to directly use the `best_estimator_` property for predictions?\r\n",
        "\r\n",
        "Possible Answers\r\n",
        "\r\n",
        "1. return_train_score = True\r\n",
        " - Incorrect: This parameter controls if we want the `cv_results_` to contain columns for our training scores.\r\n",
        "\r\n",
        "2. refit = True\r\n",
        " - Correct! When we set this to true, the creation of the grid search object automatically refits the best parameters on the whole training set and creates the `best_estimator_` property.\r\n",
        "\r\n",
        "3. refit = False\r\n",
        " - Incorrect: Close! This does control whether the best parameters will be refit on the whole training set, but by setting to false we are instructing this to not occur.\r\n",
        "\r\n",
        "4. verbose = 1\r\n",
        " - Incorrect: This parameter controls whether to output information during the fitting process.\r\n"
      ]
    },
    {
      "cell_type": "markdown",
      "metadata": {
        "id": "f-YuRNvp8jeg"
      },
      "source": [
        "# Exploring the grid search results\r\n",
        "\r\n",
        "You will now explore the `cv_results_` property of the GridSearchCV object defined in the video. This is a dictionary that we can read into a pandas DataFrame and contains a lot of useful information about the grid search we just undertook.\r\n",
        "\r\n",
        "A reminder of the different column types in this property:\r\n",
        "\r\n",
        " - `time_` columns\r\n",
        " - `param_` columns (one for each hyperparameter) and the singular `params` column (with all hyperparameter settings)\r\n",
        " - a `train_score` column for each cv fold including the `mean_train_score` and `std_train_score` columns\r\n",
        " - `a test_score` column for each cv fold including the `mean_test_score` and `std_test_score` columns\r\n",
        " - a `rank_test_score` column with a number from 1 to n (number of iterations) ranking the rows based on their `mean_test_score`\r\n",
        "\r\n",
        "Instructions\r\n",
        "\r\n",
        "1. Read the `cv_results_` property of the `grid_rf_class` GridSearchCV object into a data frame & print the whole thing out to inspect.\r\n",
        "\r\n",
        "2. Extract & print the singular column containing a dictionary of all hyperparameters used in each iteration of the grid search.\r\n",
        "\r\n",
        "3. Extract & print the row that had the best mean test score by indexing using the `rank_test_score` column."
      ]
    },
    {
      "cell_type": "code",
      "metadata": {
        "id": "noxRs51k91W0"
      },
      "source": [
        "# Read the cv_results property into a dataframe & print it out\r\n",
        "cv_results_df = pd.DataFrame(grid_rf_class.cv_results_)\r\n",
        "print(cv_results_df)\r\n",
        "\r\n",
        "# Extract and print the column with a dictionary of hyperparameters used\r\n",
        "column = cv_results_df.loc[:, ['params']]\r\n",
        "print(column)\r\n",
        "\r\n",
        "# Extract and print the row that had the best mean test score\r\n",
        "best_row = cv_results_df[cv_results_df['rank_test_score'] == 1 ]\r\n",
        "print(best_row)\r\n",
        "\r\n",
        "'''\r\n",
        "<script.py> output:\r\n",
        "        mean_fit_time  std_fit_time  mean_score_time  std_score_time param_max_depth param_min_samples_leaf param_n_estimators                                             params  split0_test_score       ...         std_test_score  rank_test_score  split0_train_score  split1_train_score  split2_train_score  split3_train_score  split4_train_score  mean_train_score  std_train_score\r\n",
        "    0        0.324582      0.004639         0.020115        0.003147              10                      1                100  {'max_depth': 10, 'min_samples_leaf': 1, 'n_es...           0.728204       ...               0.029951                9            0.994760            0.995460            0.995433            0.998330            0.996505          0.996098     1.248173e-03\r\n",
        "    1        0.671539      0.018667         0.039659        0.006038              10                      1                200  {'max_depth': 10, 'min_samples_leaf': 1, 'n_es...           0.735397       ...               0.027214                4            0.996087            0.995598            0.996509            0.999351            0.997369          0.996983     1.319340e-03\r\n",
        "    2        0.977654      0.011564         0.054303        0.003766              10                      1                300  {'max_depth': 10, 'min_samples_leaf': 1, 'n_es...           0.729294       ...               0.027756                1            0.996046            0.996136            0.996882            0.999655            0.997122          0.997168     1.311001e-03\r\n",
        "    3        0.313844      0.008520         0.017680        0.002485              10                      2                100  {'max_depth': 10, 'min_samples_leaf': 2, 'n_es...           0.728204       ...               0.027946                3            0.988662            0.984090            0.991403            0.994205            0.990968          0.989866     3.382634e-03\r\n",
        "    4        0.645001      0.003995         0.034633        0.004523              10                      2                200  {'max_depth': 10, 'min_samples_leaf': 2, 'n_es...           0.728858       ...               0.032881                2            0.988980            0.990355            0.993321            0.994922            0.992832          0.992082     2.134008e-03\r\n",
        "    5        0.967691      0.010192         0.057124        0.003817              10                      2                300  {'max_depth': 10, 'min_samples_leaf': 2, 'n_es...           0.721665       ...               0.033275                6            0.988717            0.990755            0.992756            0.995088            0.992531          0.991969     2.131063e-03\r\n",
        "    6        0.342355      0.002576         0.020001        0.002485              20                      1                100  {'max_depth': 20, 'min_samples_leaf': 1, 'n_es...           0.720684       ...               0.022226               11            1.000000            1.000000            1.000000            1.000000            1.000000          1.000000     4.965068e-17\r\n",
        "    7        0.724901      0.003929         0.034221        0.002700              20                      1                200  {'max_depth': 20, 'min_samples_leaf': 1, 'n_es...           0.725262       ...               0.030262               10            1.000000            1.000000            1.000000            1.000000            1.000000          1.000000     4.965068e-17\r\n",
        "    8        1.078176      0.013817         0.056005        0.002604              20                      1                300  {'max_depth': 20, 'min_samples_leaf': 1, 'n_es...           0.732672       ...               0.024880                5            1.000000            1.000000            1.000000            1.000000            1.000000          1.000000     0.000000e+00\r\n",
        "    9        0.351497      0.010176         0.020151        0.004323              20                      2                100  {'max_depth': 20, 'min_samples_leaf': 2, 'n_es...           0.718178       ...               0.025444               12            0.997567            0.999379            0.998289            0.999724            0.998383          0.998668     7.821910e-04\r\n",
        "    10       0.695131      0.018459         0.040476        0.001271              20                      2                200  {'max_depth': 20, 'min_samples_leaf': 2, 'n_es...           0.726896       ...               0.021853                8            0.998728            0.999089            0.998579            0.999710            0.998904          0.999002     3.932301e-04\r\n",
        "    11       0.792999      0.021011         0.030246        0.003575              20                      2                300  {'max_depth': 20, 'min_samples_leaf': 2, 'n_es...           0.730384       ...               0.020686                7            0.997539            0.998979            0.998938            0.999862            0.998904          0.998844     7.443455e-04\r\n",
        "    \r\n",
        "    [12 rows x 23 columns]\r\n",
        "\r\n",
        "                                                   params\r\n",
        "    0   {'max_depth': 10, 'min_samples_leaf': 1, 'n_es...\r\n",
        "    1   {'max_depth': 10, 'min_samples_leaf': 1, 'n_es...\r\n",
        "    2   {'max_depth': 10, 'min_samples_leaf': 1, 'n_es...\r\n",
        "    3   {'max_depth': 10, 'min_samples_leaf': 2, 'n_es...\r\n",
        "    4   {'max_depth': 10, 'min_samples_leaf': 2, 'n_es...\r\n",
        "    5   {'max_depth': 10, 'min_samples_leaf': 2, 'n_es...\r\n",
        "    6   {'max_depth': 20, 'min_samples_leaf': 1, 'n_es...\r\n",
        "    7   {'max_depth': 20, 'min_samples_leaf': 1, 'n_es...\r\n",
        "    8   {'max_depth': 20, 'min_samples_leaf': 1, 'n_es...\r\n",
        "    9   {'max_depth': 20, 'min_samples_leaf': 2, 'n_es...\r\n",
        "    10  {'max_depth': 20, 'min_samples_leaf': 2, 'n_es...\r\n",
        "    11  {'max_depth': 20, 'min_samples_leaf': 2, 'n_es...\r\n",
        "  \r\n",
        "       mean_fit_time  std_fit_time  mean_score_time  std_score_time param_max_depth param_min_samples_leaf param_n_estimators                                             params  split0_test_score       ...         std_test_score  rank_test_score  split0_train_score  split1_train_score  split2_train_score  split3_train_score  split4_train_score  mean_train_score  std_train_score\r\n",
        "    2       0.977654      0.011564         0.054303        0.003766              10                      1                300  {'max_depth': 10, 'min_samples_leaf': 1, 'n_es...           0.729294       ...               0.027756                1            0.996046            0.996136            0.996882            0.999655            0.997122          0.997168         0.001311\r\n",
        "    \r\n",
        "    [1 rows x 23 columns]\r\n",
        "'''"
      ],
      "execution_count": null,
      "outputs": []
    },
    {
      "cell_type": "markdown",
      "metadata": {
        "id": "IQcXCy5U-ckX"
      },
      "source": [
        "Conclusion\r\n",
        "\r\n",
        "Great work! You have built invaluable skills in looking 'under the hood' at what your grid search is doing by extracting and analysing the cv_results_ property."
      ]
    },
    {
      "cell_type": "markdown",
      "metadata": {
        "id": "2W42qcCr-nmz"
      },
      "source": [
        "# Analyzing the best results\r\n",
        "\r\n",
        "At the end of the day, we primarily care about the best performing 'square' in a grid search. Luckily Scikit Learn's gridSearchCv objects have a number of parameters that provide key information on just the best square (or row in cv_results_).\r\n",
        "\r\n",
        "Three properties you will explore are:\r\n",
        "\r\n",
        " - `best_score_` – The score (here ROC_AUC) from the best-performing square.\r\n",
        " - `best_index_` – The index of the row in cv_results_ containing information on the best-performing square.\r\n",
        " - `best_params_` – A dictionary of the parameters that gave the best score, for example 'max_depth': 10\r\n",
        "\r\n",
        "The grid search object grid_rf_class is available.\r\n",
        "\r\n",
        "A dataframe (`cv_results_df`) has been created from the cv_results_ for you on line 6. This will help you index into the results.\r\n",
        "\r\n",
        "Instructions\r\n",
        "\r\n",
        "1. Extract and print out the ROC_AUC score from the best performing square in grid_rf_class.\r\n",
        "\r\n",
        "2. Create a variable from the best-performing row by indexing into cv_results_df.\r\n",
        "\r\n",
        "3. Create a variable, best_n_estimators by extracting the n_estimators parameter from the best-performing square in grid_rf_class and print it out."
      ]
    },
    {
      "cell_type": "code",
      "metadata": {
        "id": "df54po1VAQTf"
      },
      "source": [
        "# Print out the ROC_AUC score from the best-performing square\r\n",
        "best_score = grid_rf_class.best_score_\r\n",
        "print(best_score)\r\n",
        "\r\n",
        "# Create a variable from the row related to the best-performing square\r\n",
        "cv_results_df = pd.DataFrame(grid_rf_class.cv_results_)\r\n",
        "best_row = cv_results_df.loc[[grid_rf_class.best_index_]]\r\n",
        "print(best_row)\r\n",
        "\r\n",
        "# Get the n_estimators parameter from the best-performing square and print\r\n",
        "best_n_estimators = grid_rf_class.best_params_[\"n_estimators\"]\r\n",
        "print(best_n_estimators)\r\n",
        "\r\n",
        "'''\r\n",
        "<script.py> output:\r\n",
        "    0.7718143027468853\r\n",
        "       mean_fit_time  std_fit_time  mean_score_time  std_score_time param_max_depth param_min_samples_leaf param_n_estimators                                             params  split0_test_score       ...         std_test_score  rank_test_score  split0_train_score  split1_train_score  split2_train_score  split3_train_score  split4_train_score  mean_train_score  std_train_score\r\n",
        "    2       0.977654      0.011564         0.054303        0.003766              10                      1                300  {'max_depth': 10, 'min_samples_leaf': 1, 'n_es...           0.729294       ...               0.027756                1            0.996046            0.996136            0.996882            0.999655            0.997122          0.997168         0.001311\r\n",
        "    \r\n",
        "    [1 rows x 23 columns]\r\n",
        "    300\r\n",
        "'''"
      ],
      "execution_count": null,
      "outputs": []
    },
    {
      "cell_type": "markdown",
      "metadata": {
        "id": "NQNdZt7OAV9_"
      },
      "source": [
        "Conclusion\r\n",
        "\r\n",
        "Nice stuff! Being able to quickly find and prioritize the huge volume of information given back from machine learning modeling output is a great skill. Here you had great practice doing that with cv_results_ by quickly isolating the key information on the best performing square. This will be very important when your grids grow from 12 squares to many more!"
      ]
    },
    {
      "cell_type": "markdown",
      "metadata": {
        "id": "GBHtKj49Agha"
      },
      "source": [
        "# Using the best results\r\n",
        "\r\n",
        "While it is interesting to analyze the results of our grid search, our final goal is practical in nature; we want to make predictions on our test set using our estimator object.\r\n",
        "\r\n",
        "We can access this object through the best_estimator_ property of our grid search object.\r\n",
        "\r\n",
        "Let's take a look inside the best_estimator_ property, make predictions, and generate evaluation scores. We will firstly use the default predict (giving class predictions), but then we will need to use predict_proba rather than predict to generate the roc-auc score as roc-auc needs probability scores for its calculation. We use a slice [:,1] to get probabilities of the positive class.\r\n",
        "\r\n",
        "You have available the X_test and y_test datasets to use and the grid_rf_class object from previous exercises.\r\n",
        "\r\n",
        "Instructions\r\n",
        "\r\n",
        "1. Check the type of the best_estimator_ property.\r\n",
        "\r\n",
        "2. Use the best_estimator_ property to make predictions on our test set.\r\n",
        "\r\n",
        "3. Generate a confusion matrix and ROC_AUC score from our predictions."
      ]
    },
    {
      "cell_type": "code",
      "metadata": {
        "id": "tTp5h3MPB9Uz"
      },
      "source": [
        "# See what type of object the best_estimator_ property is\r\n",
        "print(type(grid_rf_class.best_estimator_))\r\n",
        "\r\n",
        "# Create an array of predictions directly using the best_estimator_ property\r\n",
        "predictions = grid_rf_class.best_estimator_.predict(X_test)\r\n",
        "\r\n",
        "# Take a look to confirm it worked, this should be an array of 1's and 0's\r\n",
        "print(predictions[0:5])\r\n",
        "\r\n",
        "# Now create a confusion matrix \r\n",
        "print(\"Confusion Matrix \\n\", confusion_matrix(y_test, predictions))\r\n",
        "\r\n",
        "# Get the ROC-AUC score\r\n",
        "predictions_proba = grid_rf_class.best_estimator_.predict_proba(X_test)[:,1]\r\n",
        "print(\"ROC-AUC Score \\n\", roc_auc_score(y_test, predictions_proba))\r\n",
        "\r\n",
        "'''\r\n",
        "<script.py> output:\r\n",
        "\r\n",
        "    <class 'sklearn.ensemble.forest.RandomForestClassifier'>\r\n",
        "    \r\n",
        "    [0 0 0 0 1]\r\n",
        "    \r\n",
        "    Confusion Matrix \r\n",
        "     [[140   8]\r\n",
        "     [ 36  16]]\r\n",
        "    \r\n",
        "    ROC-AUC Score \r\n",
        "     0.7436330561330562\r\n",
        "'''"
      ],
      "execution_count": null,
      "outputs": []
    },
    {
      "cell_type": "markdown",
      "metadata": {
        "id": "L41eUf-YCDt7"
      },
      "source": [
        "Conclusion\r\n",
        "\r\n",
        "Nice stuff! The .best_estimator_ property is a really powerful property to understand for streamlining your machine learning model building process. You now can run a grid search and seamlessly use the best model from that search to make predictions. Piece of cake!"
      ]
    }
  ]
}