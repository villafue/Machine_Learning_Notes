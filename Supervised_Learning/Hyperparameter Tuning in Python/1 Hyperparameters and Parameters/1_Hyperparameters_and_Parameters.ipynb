{
  "nbformat": 4,
  "nbformat_minor": 0,
  "metadata": {
    "colab": {
      "name": "1 Hyperparameters and Parameters.ipynb",
      "provenance": [],
      "authorship_tag": "ABX9TyPPUn0LAT4EJ3sk537nsHZo",
      "include_colab_link": true
    },
    "kernelspec": {
      "name": "python3",
      "display_name": "Python 3"
    }
  },
  "cells": [
    {
      "cell_type": "markdown",
      "metadata": {
        "id": "view-in-github",
        "colab_type": "text"
      },
      "source": [
        "<a href=\"https://colab.research.google.com/github/villafue/Machine_Learning_Notes/blob/master/Supervised_Learning/Hyperparameter%20Tuning%20in%20Python/1%20Hyperparameters%20and%20Parameters/1_Hyperparameters_and_Parameters.ipynb\" target=\"_parent\"><img src=\"https://colab.research.google.com/assets/colab-badge.svg\" alt=\"Open In Colab\"/></a>"
      ]
    },
    {
      "cell_type": "code",
      "metadata": {
        "id": "Gx0uduhMswDF"
      },
      "source": [
        ""
      ],
      "execution_count": null,
      "outputs": []
    }
  ]
}