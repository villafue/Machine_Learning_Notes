{
  "nbformat": 4,
  "nbformat_minor": 0,
  "metadata": {
    "anaconda-cloud": {},
    "colab": {
      "name": "Cosine_Similarity_Case_Study.ipynb",
      "provenance": [],
      "include_colab_link": true
    },
    "kernelspec": {
      "display_name": "Python 3",
      "language": "python",
      "name": "python3"
    },
    "language_info": {
      "codemirror_mode": {
        "name": "ipython",
        "version": 3
      },
      "file_extension": ".py",
      "mimetype": "text/x-python",
      "name": "python",
      "nbconvert_exporter": "python",
      "pygments_lexer": "ipython3",
      "version": "3.7.3"
    }
  },
  "cells": [
    {
      "cell_type": "markdown",
      "metadata": {
        "id": "view-in-github",
        "colab_type": "text"
      },
      "source": [
        "<a href=\"https://colab.research.google.com/github/villafue/Machine_Learning_Notes/blob/master/Unsupervised%20Learning/Cosine%20Similarity/Cosine_Similarity_Case_Study.ipynb\" target=\"_parent\"><img src=\"https://colab.research.google.com/assets/colab-badge.svg\" alt=\"Open In Colab\"/></a>"
      ]
    },
    {
      "cell_type": "markdown",
      "metadata": {
        "id": "eNSkSfKvSXEE"
      },
      "source": [
        "## Cosine Similarity Calculations\n",
        "Cosine similarity is a measure of similarity between two non-zero vectors of an inner product space that measures the cosine of the angle between them. Similarity measures have a multiude of uses in machine learning projects; they come in handy when matching strings, measuring distance, and extracting features. This similarity measurement is particularly concerned with orientation, rather than magnitude. \n",
        "In this case study, you'll use the cosine similarity to compare both a numeric data within a plane and a text dataset for string matching."
      ]
    },
    {
      "cell_type": "markdown",
      "metadata": {
        "id": "USGZdZYoVu7A"
      },
      "source": [
        "Load the Python modules, including cosine_similarity, from sklearn.metrics.pairwise"
      ]
    },
    {
      "cell_type": "code",
      "metadata": {
        "id": "_T-FTjWuSXEF"
      },
      "source": [
        "import numpy as np\n",
        "import pandas as pd\n",
        "import matplotlib.pyplot as plt\n",
        "import matplotlib.cm as cm\n",
        "%matplotlib inline\n",
        "plt.style.use('ggplot')\n",
        "from scipy import spatial\n",
        "from sklearn.metrics.pairwise import cosine_similarity"
      ],
      "execution_count": null,
      "outputs": []
    },
    {
      "cell_type": "markdown",
      "metadata": {
        "id": "woBv3-cmV1R6"
      },
      "source": [
        "**<font color='teal'> Load the distance dataset into a dataframe. </font>**"
      ]
    },
    {
      "cell_type": "code",
      "metadata": {
        "id": "irpsaCuGSXEK"
      },
      "source": [
        ""
      ],
      "execution_count": null,
      "outputs": []
    },
    {
      "cell_type": "markdown",
      "metadata": {
        "id": "WWd4xbk1SXEO"
      },
      "source": [
        "### Cosine Similarity with clusters and numeric matrices\n",
        "\n",
        "All points in our dataset can be thought of as feature vectors. We illustrate it here as we display the __Cosine Similarity__ between each feature vector in the YZ plane and the [5, 5] vector we chose as reference. The sklearn.metrics.pairwise module provides an efficient way to compute the __cosine_similarity__ for large arrays from which we can compute the similarity."
      ]
    },
    {
      "cell_type": "markdown",
      "metadata": {
        "id": "NeRvhNjLWaau"
      },
      "source": [
        " **<font color='teal'> First, create a 2D and a 3D matrix from the dataframe. The 2D matrix should contain the 'Y' and 'Z' columns and the 3D matrix should contain the 'X','Y', and 'Z' columns.</font>**"
      ]
    },
    {
      "cell_type": "code",
      "metadata": {
        "id": "aWkrVP8dWqZ-"
      },
      "source": [
        ""
      ],
      "execution_count": null,
      "outputs": []
    },
    {
      "cell_type": "markdown",
      "metadata": {
        "id": "HlRZpDfzXJR9"
      },
      "source": [
        "Calculate the cosine similarity for those matrices with reference planes of 5,5 and 5,5,5. Then subtract those measures from 1 in new features."
      ]
    },
    {
      "cell_type": "code",
      "metadata": {
        "id": "QmKPcdIjSXEP"
      },
      "source": [
        "simCosine3D = 1. - cosine_similarity(mat, [[5,5,5]], 'cosine')\n",
        "simCosine = 1. - cosine_similarity(matYZ, [[5,5]], 'cosine')"
      ],
      "execution_count": null,
      "outputs": []
    },
    {
      "cell_type": "markdown",
      "metadata": {
        "id": "EieVXBAcX0OU"
      },
      "source": [
        "Using the 2D matrix and the reference plane of (5,5) we can use a scatter plot to view the way the similarity is calculated using the Cosine angle."
      ]
    },
    {
      "cell_type": "code",
      "metadata": {
        "id": "Oga4-0A6SXEY"
      },
      "source": [
        "figCosine = plt.figure(figsize=[10,8])\n",
        "\n",
        "plt.scatter(df.Y, df.Z, c=simCosine[:,0], s=20)\n",
        "plt.plot([0,5],[0,5], '--', color='dimgray')\n",
        "plt.plot([0,3],[0,7.2], '--', color='dimgray')\n",
        "plt.text(0.7,2.6,r'$\\theta$ = 22.4 deg.', rotation=47, size=14)\n",
        "plt.ylim([0,10])\n",
        "plt.xlim([0,10])\n",
        "plt.xlabel('Y', size=14)\n",
        "plt.ylabel('Z', size=14)\n",
        "plt.title('Cosine Similarity')\n",
        "cb = plt.colorbar()\n",
        "cb.set_label('Similarity with (5,5)', size=14)\n",
        "\n",
        "#figCosine.savefig('similarity-cosine.png')"
      ],
      "execution_count": null,
      "outputs": []
    },
    {
      "cell_type": "markdown",
      "metadata": {
        "id": "h5EERbkYXioh"
      },
      "source": [
        "Now, plot the 3D matrix with the similarity and the reference plane, (5,5,5)."
      ]
    },
    {
      "cell_type": "code",
      "metadata": {
        "id": "-f3ZhgoQSXEV"
      },
      "source": [
        "from mpl_toolkits.mplot3d import Axes3D\n",
        "figCosine3D = plt.figure(figsize=(10, 8))\n",
        "ax = figCosine3D.add_subplot(111, projection='3d')\n",
        "\n",
        "p = ax.scatter(mat[:,0], mat[:,1], mat[:,2], c=simCosine3D[:,0])\n",
        "ax.set_xlabel('X')\n",
        "ax.set_ylabel('Y')\n",
        "ax.set_zlabel('Z')\n",
        "cb = figCosine3D.colorbar(p)\n",
        "cb.set_label('Similarity with (5,5,5)', size=14)\n",
        "                                   \n",
        "figCosine3D.tight_layout()\n",
        "#figCosine3D.savefig('cosine-3D.png', dpi=300, transparent=True)"
      ],
      "execution_count": null,
      "outputs": []
    },
    {
      "cell_type": "markdown",
      "metadata": {
        "id": "_ysZ1wFMSXEt"
      },
      "source": [
        "----"
      ]
    },
    {
      "cell_type": "markdown",
      "metadata": {
        "id": "jGJ2vr60SXEu"
      },
      "source": [
        "### Cosine Similarity with text data\n",
        "This is a quick example of how you can use Cosine Similarity to compare different text values or names for record matching or other natural language proecessing needs. \n",
        "First, we use count vectorizer to create a vector for each unique word in our Document 0 and Document 1. "
      ]
    },
    {
      "cell_type": "code",
      "metadata": {
        "id": "7oSm7linSXEv"
      },
      "source": [
        "from sklearn.feature_extraction.text import CountVectorizer\n",
        "count_vect = CountVectorizer()\n",
        "Document1 = \"Starbucks Coffee\"\n",
        "Document2 = \"Essence of Coffee\"\n",
        "\n",
        "corpus = [Document1,Document2]\n",
        "\n",
        "X_train_counts = count_vect.fit_transform(corpus)\n",
        "\n",
        "pd.DataFrame(X_train_counts.toarray(),columns=count_vect.get_feature_names(),index=['Document 0','Document 1'])"
      ],
      "execution_count": null,
      "outputs": []
    },
    {
      "cell_type": "markdown",
      "metadata": {
        "id": "W99LBHobSXE1"
      },
      "source": [
        "Now, we use a common frequency tool called TF-IDF to convert the vectors to unique measures."
      ]
    },
    {
      "cell_type": "code",
      "metadata": {
        "id": "mA52-mj9SXE1"
      },
      "source": [
        "from sklearn.feature_extraction.text import TfidfVectorizer\n",
        "vectorizer = TfidfVectorizer()\n",
        "trsfm=vectorizer.fit_transform(corpus)\n",
        "pd.DataFrame(trsfm.toarray(),columns=vectorizer.get_feature_names(),index=['Document 0','Document 1'])"
      ],
      "execution_count": null,
      "outputs": []
    },
    {
      "cell_type": "markdown",
      "metadata": {
        "id": "8T8ZOVnLSXE4"
      },
      "source": [
        "Here, we finally apply the __Cosine Similarity__ measure to calculate how similar Document 0 is compared to any other document in the corpus. Therefore, the first value of 1 is showing that the Document 0 is 100% similar to Document 0 and 0.26055576 is the similarity measure between Document 0 and Document 1."
      ]
    },
    {
      "cell_type": "code",
      "metadata": {
        "id": "ZLbYTQfnSXE4"
      },
      "source": [
        "cosine_similarity(trsfm[0:1], trsfm)"
      ],
      "execution_count": null,
      "outputs": []
    },
    {
      "cell_type": "markdown",
      "metadata": {
        "id": "uSDf5EgJatlw"
      },
      "source": [
        "Replace the current values for `Document 0` and `Document 1` with your own sentence or paragraph and apply the same steps as we did in the above example."
      ]
    },
    {
      "cell_type": "markdown",
      "metadata": {
        "id": "S9FESS0IbF9I"
      },
      "source": [
        " **<font color='teal'> Combine the documents into a corpus.</font>**"
      ]
    },
    {
      "cell_type": "code",
      "metadata": {
        "id": "7aVkjj-xczS-"
      },
      "source": [
        ""
      ],
      "execution_count": null,
      "outputs": []
    },
    {
      "cell_type": "markdown",
      "metadata": {
        "id": "Bng2fLV_bR-V"
      },
      "source": [
        " **<font color='teal'> Apply the count vectorizer to the corpus to transform it into vectors.</font>**"
      ]
    },
    {
      "cell_type": "code",
      "metadata": {
        "id": "FtW2_TcJczuh"
      },
      "source": [
        ""
      ],
      "execution_count": null,
      "outputs": []
    },
    {
      "cell_type": "markdown",
      "metadata": {
        "id": "55i9xWTYbc-r"
      },
      "source": [
        " **<font color='teal'> Convert the vector counts to a dataframe with Pandas.</font>**"
      ]
    },
    {
      "cell_type": "code",
      "metadata": {
        "id": "OaXsheskc0Ql"
      },
      "source": [
        ""
      ],
      "execution_count": null,
      "outputs": []
    },
    {
      "cell_type": "markdown",
      "metadata": {
        "id": "dONg4uupcJAK"
      },
      "source": [
        " **<font color='teal'> Apply TF-IDF to convert the vectors to unique frequency measures.</font>**"
      ]
    },
    {
      "cell_type": "code",
      "metadata": {
        "id": "o2z2p_kMc1mF"
      },
      "source": [
        ""
      ],
      "execution_count": null,
      "outputs": []
    },
    {
      "cell_type": "markdown",
      "metadata": {
        "id": "wd1JHVSxcl1D"
      },
      "source": [
        " **<font color='teal'> Use the cosine similarity function to get measures of similarity for the sentences or paragraphs in your original document.</font>**"
      ]
    },
    {
      "cell_type": "code",
      "metadata": {
        "id": "sJdk5sX5bcPO"
      },
      "source": [
        ""
      ],
      "execution_count": null,
      "outputs": []
    }
  ]
}