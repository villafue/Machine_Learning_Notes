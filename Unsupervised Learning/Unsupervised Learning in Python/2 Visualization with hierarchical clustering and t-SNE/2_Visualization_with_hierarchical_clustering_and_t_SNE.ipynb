{
  "nbformat": 4,
  "nbformat_minor": 0,
  "metadata": {
    "colab": {
      "name": "2 Visualization with hierarchical clustering and t-SNE.ipynb",
      "provenance": [],
      "authorship_tag": "ABX9TyO9eds2rz7T0kRwlPZGmZaj",
      "include_colab_link": true
    },
    "kernelspec": {
      "name": "python3",
      "display_name": "Python 3"
    }
  },
  "cells": [
    {
      "cell_type": "markdown",
      "metadata": {
        "id": "view-in-github",
        "colab_type": "text"
      },
      "source": [
        "<a href=\"https://colab.research.google.com/github/villafue/Machine_Learning_Notes/blob/master/Unsupervised%20Learning/Unsupervised%20Learning%20in%20Python/2%20Visualization%20with%20hierarchical%20clustering%20and%20t-SNE/2_Visualization_with_hierarchical_clustering_and_t_SNE.ipynb\" target=\"_parent\"><img src=\"https://colab.research.google.com/assets/colab-badge.svg\" alt=\"Open In Colab\"/></a>"
      ]
    },
    {
      "cell_type": "markdown",
      "metadata": {
        "id": "Z5cgFP-dh5xL"
      },
      "source": [
        "# Visualization with hierarchical clustering and t-SNE\r\n",
        "\r\n",
        "In this chapter, you'll learn about two unsupervised learning techniques for data visualization, hierarchical clustering and t-SNE. Hierarchical clustering merges the data samples into ever-coarser clusters, yielding a tree visualization of the resulting cluster hierarchy. t-SNE maps the data samples into 2d space so that the proximity of the samples to one another can be visualized."
      ]
    },
    {
      "cell_type": "markdown",
      "metadata": {
        "id": "qG2_lw4iiiYR"
      },
      "source": [
        "# 1. Visualizing hierarchies\r\n",
        "A huge part of your work as a data scientist will be the communication of your insights to other people.\r\n",
        "\r\n",
        "2. Visualizations communicate insight\r\n",
        "Visualizations are an excellent way to share your findings, particularly with a non-technical audience. In this chapter, you'll learn about two unsupervised learning techniques for visualization: t-SNE and hierarchical clustering. t-SNE, which we'll consider later, creates a 2d map of any dataset, and conveys useful information about the proximity of the samples to one another. First up, however, let's learn about hierarchical clustering.\r\n",
        "\r\n",
        "3. A hierarchy of groups\r\n",
        "You've already seen many hierarchical clusterings in the real world. For example, living things can be organized into small narrow groups, like humans, apes, snakes and lizards, or into larger, broader groups like mammals and reptiles, or even broader groups like animals and plants. These groups are contained in one another, and form a hierarchy. Analogously, hierarchical clustering arranges samples into a hierarchy of clusters.\r\n",
        "\r\n",
        "4. Eurovision scoring dataset\r\n",
        "Hierarchical clustering can organize any sort of data into a hierarchy, not just samples of plants and animals. Let's consider a new type of dataset, describing how countries scored performances at the Eurovision 2016 song contest. The data is arranged in a rectangular array, where the rows of the array show how many points a country gave to each song. The \"samples\" in this case are the countries.\r\n",
        "\r\n",
        "1 http://www.eurovision.tv/page/results\r\n",
        "5. Hierarchical clustering of voting countries\r\n",
        "The result of applying hierarchical clustering to the Eurovision scores can be visualized as a tree-like diagram called a \"dendrogram\". This single picture reveals a great deal of information about the voting behavior of countries at the Eurovision. The dendrogram groups the countries into larger and larger clusters, and many of these clusters are immediately recognizable as containing countries that are close to one another geographically, or that have close cultural or political ties, or that belong to single language group. So hierarchical clustering can produce great visualizations. But how does it work?\r\n",
        "\r\n",
        "6. Hierarchical clustering\r\n",
        "Hierarchical clustering proceeds in steps. In the beginning, every country is its own cluster - so there are as many clusters as there are countries! At each step, the two closest clusters are merged. This decreases the number of clusters, and eventually, there is only one cluster left, and it contains all the countries. This process is actually a particular type of hierarchical clustering called \"agglomerative clustering\" - there is also \"divisive clustering\", which works the other way around. We haven't defined yet what it means for two clusters to be close, but we'll revisit that later on.\r\n",
        "\r\n",
        "7. The dendrogram of a hierarchical clustering\r\n",
        "The entire process of the hierarchical clustering is encoded in the dendrogram. At the bottom, each country is in a cluster of its own. The clustering then proceeds from the bottom up. Clusters are represented as vertical lines, and a joining of vertical lines indicates a merging of clusters. To understand better, let's zoom in\r\n",
        "\r\n",
        "8. The dendrogram of a hierarchical clustering\r\n",
        "and look at just one part of this dendrogram.\r\n",
        "\r\n",
        "9. Dendrograms, step-by-step\r\n",
        "In the beginning, there are six clusters, each containing only one country.\r\n",
        "\r\n",
        "10. Dendrograms, step-by-step\r\n",
        "The first merging is here, where the clusters containing Cyprus and Greece are merged together in a single cluster.\r\n",
        "\r\n",
        "11. Dendrograms, step-by-step\r\n",
        "Later on, this new cluster is merged with the cluster containing Bulgaria.\r\n",
        "\r\n",
        "12. Dendrograms, step-by-step\r\n",
        "Shortly after that, the clusters containing Moldova and Russia are merged,\r\n",
        "\r\n",
        "13. Dendrograms, step-by-step\r\n",
        "which later is in turn merged with the cluster containing Armenia.\r\n",
        "\r\n",
        "14. Dendrograms, step-by-step\r\n",
        "Later still, the two big composite clusters are merged together. This process continues\r\n",
        "\r\n",
        "15. Dendrograms, step-by-step\r\n",
        "until there is only one cluster left, and it contains all the countries.\r\n",
        "\r\n",
        "16. Hierarchical clustering with SciPy\r\n",
        "We'll use functions from scipy to perform a hierarchical clustering on the array of scores. For the dendrogram, we'll also need a list of country names. Firstly, import the linkage and dendrogram functions. Then, apply the linkage function to the sample array. Its the linkage function that performs the hierarchical clustering. Notice there is an extra method parameter - we'll cover that in the next video. Now pass the output of linkage to the dendrogram function, specifying the list of country names as the labels parameter. In the next video, you'll learn how to extract information from a hierarchical clustering,\r\n",
        "\r\n",
        "17. Let's practice!\r\n",
        "But for now, let's see what hierarchical clustering can do with some real-world datasets."
      ]
    },
    {
      "cell_type": "markdown",
      "metadata": {
        "id": "eD-_ULh2im_T"
      },
      "source": [
        ""
      ]
    },
    {
      "cell_type": "code",
      "metadata": {
        "id": "6HqwgvkfhuoD"
      },
      "source": [
        ""
      ],
      "execution_count": null,
      "outputs": []
    }
  ]
}