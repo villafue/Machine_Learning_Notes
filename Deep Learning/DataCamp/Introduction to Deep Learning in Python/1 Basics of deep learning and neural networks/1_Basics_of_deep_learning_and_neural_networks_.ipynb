{
  "nbformat": 4,
  "nbformat_minor": 0,
  "metadata": {
    "colab": {
      "name": " 1 Basics of deep learning and neural networks .ipynb",
      "provenance": [],
      "authorship_tag": "ABX9TyO6lzyMGyzCadHO4hcwwOGj",
      "include_colab_link": true
    },
    "kernelspec": {
      "name": "python3",
      "display_name": "Python 3"
    }
  },
  "cells": [
    {
      "cell_type": "markdown",
      "metadata": {
        "id": "view-in-github",
        "colab_type": "text"
      },
      "source": [
        "<a href=\"https://colab.research.google.com/github/villafue/Machine_Learning_Notes/blob/master/Deep%20Learning/DataCamp/Introduction%20to%20Deep%20Learning%20in%20Python/1%20Basics%20of%20deep%20learning%20and%20neural%20networks/1_Basics_of_deep_learning_and_neural_networks_.ipynb\" target=\"_parent\"><img src=\"https://colab.research.google.com/assets/colab-badge.svg\" alt=\"Open In Colab\"/></a>"
      ]
    },
    {
      "cell_type": "markdown",
      "metadata": {
        "id": "Ht4ljSLFFcNW"
      },
      "source": [
        "# Basics of deep learning and neural networks \r\n",
        "\r\n",
        "In this chapter, you'll become familiar with the fundamental concepts and terminology used in deep learning, and understand why deep learning techniques are so powerful today. You'll build simple neural networks and generate predictions with them. "
      ]
    },
    {
      "cell_type": "code",
      "metadata": {
        "id": "OrTIAmiQFStb"
      },
      "source": [
        ""
      ],
      "execution_count": null,
      "outputs": []
    }
  ]
}