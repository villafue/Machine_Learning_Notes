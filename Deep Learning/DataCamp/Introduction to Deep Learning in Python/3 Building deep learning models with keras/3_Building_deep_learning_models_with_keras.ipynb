{
  "nbformat": 4,
  "nbformat_minor": 0,
  "metadata": {
    "colab": {
      "name": "3 Building deep learning models with keras.ipynb",
      "provenance": [],
      "authorship_tag": "ABX9TyPKNiq+h/eIaFYSkb0YIiUR",
      "include_colab_link": true
    },
    "kernelspec": {
      "name": "python3",
      "display_name": "Python 3"
    }
  },
  "cells": [
    {
      "cell_type": "markdown",
      "metadata": {
        "id": "view-in-github",
        "colab_type": "text"
      },
      "source": [
        "<a href=\"https://colab.research.google.com/github/villafue/Machine_Learning_Notes/blob/master/Deep%20Learning/DataCamp/Introduction%20to%20Deep%20Learning%20in%20Python/3%20Building%20deep%20learning%20models%20with%20keras/3_Building_deep_learning_models_with_keras.ipynb\" target=\"_parent\"><img src=\"https://colab.research.google.com/assets/colab-badge.svg\" alt=\"Open In Colab\"/></a>"
      ]
    },
    {
      "cell_type": "markdown",
      "metadata": {
        "id": "PGgLHY1jyxKO"
      },
      "source": [
        "# Building deep learning models with keras\r\n",
        "\r\n",
        "In this chapter, you'll use the Keras library to build deep learning models for both regression and classification. You'll learn about the Specify-Compile-Fit workflow that you can use to make predictions, and by the end of the chapter, you'll have all the tools necessary to build deep neural networks."
      ]
    },
    {
      "cell_type": "code",
      "metadata": {
        "id": "XRf7WODbyeYI"
      },
      "source": [
        ""
      ],
      "execution_count": null,
      "outputs": []
    }
  ]
}