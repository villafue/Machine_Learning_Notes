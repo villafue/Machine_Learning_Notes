{
  "nbformat": 4,
  "nbformat_minor": 0,
  "metadata": {
    "kernelspec": {
      "display_name": "Python 3",
      "language": "python",
      "name": "python3"
    },
    "language_info": {
      "codemirror_mode": {
        "name": "ipython",
        "version": 3
      },
      "file_extension": ".py",
      "mimetype": "text/x-python",
      "name": "python",
      "nbconvert_exporter": "python",
      "pygments_lexer": "ipython3",
      "version": "3.7.3"
    },
    "colab": {
      "name": "Cowboy Cigarettes Case Study - Tier 1.ipynb",
      "provenance": [],
      "include_colab_link": true
    }
  },
  "cells": [
    {
      "cell_type": "markdown",
      "metadata": {
        "id": "view-in-github",
        "colab_type": "text"
      },
      "source": [
        "<a href=\"https://colab.research.google.com/github/villafue/Machine_Learning_Notes/blob/master/21%20Time%20Series%20Analysis%20in%20Python/2%20Cowboy%20Cigarettes%3A%20A%20Time%20Series%20Investigation/Cowboys_CigrettesCaseStudy/Cowboys%26CigrettesCaseStudy/Cowboy%20Cigarettes%20Case%20Study%20-%20Tier%201.ipynb\" target=\"_parent\"><img src=\"https://colab.research.google.com/assets/colab-badge.svg\" alt=\"Open In Colab\"/></a>"
      ]
    },
    {
      "cell_type": "markdown",
      "metadata": {
        "id": "BVoyyJqhi_tv"
      },
      "source": [
        "# Springboard Time Series - 'Cowboy Cigarettes' Case Study - Tier 1"
      ]
    },
    {
      "cell_type": "markdown",
      "metadata": {
        "id": "Nr7MxMsei_t1"
      },
      "source": [
        "## Brief\n",
        "\n",
        "You're working in the US federal government as a data scientist in the Health and Environment department. You've been tasked with determining whether sales for the oldest and most powerful producers of cigarettes in the country are increasing or declining. \n",
        "\n",
        "**Cowboy Cigarettes (TM, *est.* 1890)** is the US's longest-running cigarette manufacturer. Like many cigarette companies, however, they haven't always been that public about their sales and marketing data. The available post-war historical data runs for only 11 years after they resumed production in 1949; stopping in 1960 before resuming again in 1970. Your job is to use the 1949-1960 data to predict whether the manufacturer's cigarette sales actually increased, decreased, or stayed the same. You need to make a probable reconstruction of the sales record of the manufacturer - predicting the future, from the perspective of the past - to contribute to a full report on US public health in relation to major cigarette companies. \n",
        "\n",
        "The results of your analysis will be used as part of a major report relating public health and local economics, and will be combined with other studies executed by your colleagues to provide important government advice.  \n",
        "\n",
        "-------------------------------\n",
        "As ever, this notebook is **tiered**, meaning you can elect that tier that is right for your confidence and skill level. There are 3 tiers, with tier 1 being the easiest and tier 3 being the hardest.  \n",
        "\n",
        "**1. Sourcing and loading** \n",
        "- Load relevant libraries \n",
        "- Load the data\n",
        "- Explore the data\n",
        "\n",
        " \n",
        "**2. Cleaning, transforming and visualizing**\n",
        "- Dropping unwanted columns\n",
        "- Nomenclature\n",
        "- Type conversions\n",
        "- Making a predictor variable `y` \n",
        "- Getting summary statistics for `y`\n",
        "- Plotting `y`\n",
        "  \n",
        "  \n",
        "**3. Modelling** \n",
        "- Decomposition\n",
        "    - Trend\n",
        "    - Seasonality\n",
        "    - Noise\n",
        "- Testing for stationarity with KPSS\n",
        "- Making the data stationary\n",
        "- The ARIMA Model\n",
        "    - Make a function to find the MSE of a single ARIMA model\n",
        "    - Make a function to evaluate the different ARIMA models with different p, d, and q values\n",
        "- Visualize the results\n",
        "- Application: Forecasting\n",
        "\n",
        "**4. Evaluating and concluding** \n",
        "- What is our conclusion?\n",
        "- Next steps\n",
        "    "
      ]
    },
    {
      "cell_type": "markdown",
      "metadata": {
        "id": "jfBdLcBli_t2"
      },
      "source": [
        "## 0. Preliminaries \n",
        "\n",
        "Time series data is just any data displaying how a single variable changes over time. It comes as a collection of metrics typically taken at regular intervals. Common examples of time series data include weekly sales data and daily stock prices. You can also easily acquire time series data from [Google Trends](https://trends.google.com/trends/?geo=US), which shows you how popular certain search terms are, measured in number of Google searches. "
      ]
    },
    {
      "cell_type": "markdown",
      "metadata": {
        "id": "tBSGu2jai_t2"
      },
      "source": [
        "## 1. Sourcing and Loading\n",
        "\n",
        "### 1a. Load relevant libraries "
      ]
    },
    {
      "cell_type": "code",
      "metadata": {
        "id": "EGDykF0_i_t2"
      },
      "source": [
        "import _ _ _ as pd\n",
        "import numpy as _ _ _\n",
        "import _ _ _.pylab as plt\n",
        "%matplotlib inline"
      ],
      "execution_count": null,
      "outputs": []
    },
    {
      "cell_type": "markdown",
      "metadata": {
        "id": "fr0HNp05i_t3"
      },
      "source": [
        "### 1b. Load the data\n",
        "Call the variable `cigData`. "
      ]
    },
    {
      "cell_type": "code",
      "metadata": {
        "id": "JHhbsVwRi_t3"
      },
      "source": [
        "_ _ _"
      ],
      "execution_count": null,
      "outputs": []
    },
    {
      "cell_type": "markdown",
      "metadata": {
        "id": "IJSx-eX9i_t3"
      },
      "source": [
        "### 1c. Explore the data\n",
        "We now need to check whether the data conduces to a time series style analysis."
      ]
    },
    {
      "cell_type": "code",
      "metadata": {
        "scrolled": true,
        "id": "fqqofO-si_t4"
      },
      "source": [
        "_ _ _"
      ],
      "execution_count": null,
      "outputs": []
    },
    {
      "cell_type": "markdown",
      "metadata": {
        "id": "38AFzVgui_t4"
      },
      "source": [
        "Over a million cigarettes sold in the month of January 1949. This certainly is a popular cigarette brand. "
      ]
    },
    {
      "cell_type": "markdown",
      "metadata": {
        "id": "aViQFp1Ji_t5"
      },
      "source": [
        "Check out the columns feature of the data. How many columns are there? "
      ]
    },
    {
      "cell_type": "code",
      "metadata": {
        "id": "SNTLPrRIi_t5"
      },
      "source": [
        "_ _ _"
      ],
      "execution_count": null,
      "outputs": []
    },
    {
      "cell_type": "markdown",
      "metadata": {
        "id": "5ekpRS8Si_t5"
      },
      "source": [
        "Let's check out the data types of our columns."
      ]
    },
    {
      "cell_type": "code",
      "metadata": {
        "scrolled": false,
        "id": "_rl1a4ROi_t5"
      },
      "source": [
        "_ _ _.dtypes"
      ],
      "execution_count": null,
      "outputs": []
    },
    {
      "cell_type": "markdown",
      "metadata": {
        "id": "_i-tTCMui_t6"
      },
      "source": [
        "Check whether there are any null values. "
      ]
    },
    {
      "cell_type": "code",
      "metadata": {
        "id": "cuZR9U-ni_t6"
      },
      "source": [
        "_ _ _.isnull().values.any()"
      ],
      "execution_count": null,
      "outputs": []
    },
    {
      "cell_type": "markdown",
      "metadata": {
        "id": "zSHTcAFzi_t6"
      },
      "source": [
        "## 2. Cleaning, transforming and visualizing"
      ]
    },
    {
      "cell_type": "markdown",
      "metadata": {
        "id": "hzXvYANti_t6"
      },
      "source": [
        "### 2a. Dropping unwanted columns\n",
        "We need to cut that `Unnamed: 0` column. Delete it here."
      ]
    },
    {
      "cell_type": "code",
      "metadata": {
        "id": "DmUFgNGzi_t6"
      },
      "source": [
        "_ _ _"
      ],
      "execution_count": null,
      "outputs": []
    },
    {
      "cell_type": "markdown",
      "metadata": {
        "id": "CEiDHweXi_t7"
      },
      "source": [
        "### 2b. Nomenclature"
      ]
    },
    {
      "cell_type": "markdown",
      "metadata": {
        "id": "9wqN5P40i_t7"
      },
      "source": [
        "We can see that the `Time` column actually has the granularity of months. Change the name of that column to `Month`."
      ]
    },
    {
      "cell_type": "code",
      "metadata": {
        "id": "wQwNv9x_i_t7"
      },
      "source": [
        "_ _ _"
      ],
      "execution_count": null,
      "outputs": []
    },
    {
      "cell_type": "markdown",
      "metadata": {
        "id": "WawMmyqhi_t8"
      },
      "source": [
        "Call a head() to check this has worked. "
      ]
    },
    {
      "cell_type": "code",
      "metadata": {
        "id": "Qnb89srli_t8"
      },
      "source": [
        "_ _ _"
      ],
      "execution_count": null,
      "outputs": []
    },
    {
      "cell_type": "code",
      "metadata": {
        "id": "GMR5Vk94i_t8"
      },
      "source": [
        "_ _ _"
      ],
      "execution_count": null,
      "outputs": []
    },
    {
      "cell_type": "markdown",
      "metadata": {
        "id": "PNMJAWhai_t8"
      },
      "source": [
        "### 2c. Type conversions "
      ]
    },
    {
      "cell_type": "markdown",
      "metadata": {
        "id": "nkqYh89Fi_t8"
      },
      "source": [
        "Now, do time series analysis on a Pandas dataframe is overkill, and is actually counter-productive. It's much more easy to carry out this type of analysis if we convert our data to a series first.\n",
        "\n",
        "Notice that the `Month` field was an object. Let's type convert the `Month` column to a Python `datetime`, before making that the index."
      ]
    },
    {
      "cell_type": "code",
      "metadata": {
        "id": "sU6yj4bMi_t9"
      },
      "source": [
        "_ _ _['Month'] = pd.to_datetime(cigData['Month'])\n",
        "cigData._ _ _('Month', inplace = True)"
      ],
      "execution_count": null,
      "outputs": []
    },
    {
      "cell_type": "markdown",
      "metadata": {
        "id": "tmCqbX2Ni_t9"
      },
      "source": [
        "Perfect! "
      ]
    },
    {
      "cell_type": "markdown",
      "metadata": {
        "id": "eTIZdpqIi_t9"
      },
      "source": [
        "### 2d. Making a predictor variable `y`"
      ]
    },
    {
      "cell_type": "markdown",
      "metadata": {
        "id": "n5zxr_YTi_t9"
      },
      "source": [
        "The data is now indexed by date, as time series data ought to be.\n",
        "\n",
        "Since we want to predict the number of cigarette sales at Cowboy cigarettes, and `y` is typically used to signify a predictor variable, let's create a new variable called `y` and assign the indexed #Passenger column. "
      ]
    },
    {
      "cell_type": "code",
      "metadata": {
        "id": "aNzaBR_qi_t9"
      },
      "source": [
        "y = _ _ _['#CigSales']"
      ],
      "execution_count": null,
      "outputs": []
    },
    {
      "cell_type": "markdown",
      "metadata": {
        "id": "Qfes0MmPi_t-"
      },
      "source": [
        "Check the type of our new variable. "
      ]
    },
    {
      "cell_type": "code",
      "metadata": {
        "scrolled": true,
        "id": "qmVYRzj7i_t-"
      },
      "source": [
        "type(_ _ _)"
      ],
      "execution_count": null,
      "outputs": []
    },
    {
      "cell_type": "markdown",
      "metadata": {
        "id": "Mf3YW8v5i_t-"
      },
      "source": [
        "### 2e. Getting summary statistics for `y`"
      ]
    },
    {
      "cell_type": "markdown",
      "metadata": {
        "id": "LzZzUAsCi_t-"
      },
      "source": [
        "Get the summary statistics of our data here. "
      ]
    },
    {
      "cell_type": "code",
      "metadata": {
        "scrolled": true,
        "id": "LIfkQm3hi_t-"
      },
      "source": [
        "_ _ _.describe()"
      ],
      "execution_count": null,
      "outputs": []
    },
    {
      "cell_type": "markdown",
      "metadata": {
        "id": "Gz9UNDsBi_t-"
      },
      "source": [
        "Try visualizing the data. A simple `matplotlib` plot should do the trick.  "
      ]
    },
    {
      "cell_type": "markdown",
      "metadata": {
        "id": "kujN1jOhi_t_"
      },
      "source": [
        "### 2f. Plotting `y`"
      ]
    },
    {
      "cell_type": "code",
      "metadata": {
        "id": "mCbZHJ3di_t_"
      },
      "source": [
        "y._ _ _()"
      ],
      "execution_count": null,
      "outputs": []
    },
    {
      "cell_type": "markdown",
      "metadata": {
        "id": "afdWZLWXi_t_"
      },
      "source": [
        "## 3. Modelling \n",
        "### 3a. Decomposition\n",
        "What do you notice from the plot? Take at least `2` minutes to examine the plot, and write down everything you observe.  \n",
        "\n",
        "All done?\n",
        "\n",
        "We can see that, generally, there is a trend upwards in cigarette sales from at Cowboy Cigarettes. But there are also some striking - and perhaps unexpected - seasonal fluctuations. These seasonal fluctations come in a repeated pattern. Work out when these seasonal fluctuations are happening, and take 2 minutes to hypothesize on their cause here.\n",
        "\n",
        "What does it mean to *decompose* time series data? It means breaking that data into 3 components: \n",
        "\n",
        "1. **Trend**: The overall direction that the data is travelling in (like upwards or downwards)\n",
        "2. **Seasonality**: Cyclical patterns in the data \n",
        "3. **Noise**: The random variation in the data\n",
        "\n",
        "We can treat these components differently, depending on the question and what's appropriate in the context. They can either be added together in an *additive* model, or multiplied together in a *multiplicative* model. \n",
        "\n",
        "Make a coffee, take `5` minutes and read [this article](https://medium.com/@sigmundojr/seasonality-in-python-additive-or-multiplicative-model-d4b9cf1f48a7) and think about whether our data would conduce to an additive or multiplicative model here. Write your conclusion down just here: \n",
        "\n",
        "-------------------------------"
      ]
    },
    {
      "cell_type": "markdown",
      "metadata": {
        "id": "qZGn3nPhi_t_"
      },
      "source": [
        "All done? Well, just on the basis of the plot above, it seems our Cowboy Cigarettes data is actually multiplicative. \n",
        "\n",
        "That's because, as time progresses, the general trend seems to be increasing *at a rate that's also increasing*. We also see that the seasonal fluctuations (the peaks and troughs) get bigger and bigger as time progresses.\n",
        "\n",
        "Now on the other hand, if the data were simply additive, we could expect the general trend to increase at a *steadily*, and a constant speed; and also for seasonal ups and downs not to increase or decrease in extent over time.\n",
        "\n",
        "Happily, we can use the `decompose()` function to quantify the component parts described above in our data."
      ]
    },
    {
      "cell_type": "code",
      "metadata": {
        "scrolled": true,
        "id": "0rCADJGni_uA"
      },
      "source": [
        "# Import seasonal_decompose \n",
        "from statsmodels.tsa.seasonal import _ _ _\n",
        "\n",
        "# Make a variable called decomposition, and assign it y passed to seasonal_decompose() \n",
        "_ _ _ = seasonal_decompose(y)\n",
        "\n",
        "# Make three variables for trend, seasonal and residual components respectively. \n",
        "# Assign them the relevant features of decomposition \n",
        "trend = decomposition.trend\n",
        "seasonal = _ _ _.seasonal\n",
        "_ _ _ = decomposition.resid\n",
        "\n",
        "# Plot the original data, the trend, the seasonality, and the residuals \n",
        "plt.subplot(411)\n",
        "plt.plot(y, label = '_ _ _')\n",
        "plt.legend(loc = 'best')\n",
        "plt.subplot(412)\n",
        "plt.plot(trend, label = 'Trend')\n",
        "plt.legend(loc = 'best')\n",
        "plt._ _ _(413)\n",
        "plt.plot(seasonal, label = '_ _ _')\n",
        "plt.legend(loc = 'best')\n",
        "plt.subplot(414)\n",
        "plt._ _ _(residual, label = 'Residuals')\n",
        "plt.legend(loc = 'best')\n",
        "plt.tight_layout()"
      ],
      "execution_count": null,
      "outputs": []
    },
    {
      "cell_type": "markdown",
      "metadata": {
        "id": "G5bqSQ7Ri_uA"
      },
      "source": [
        "### 3b. Testing for stationarity with KPSS\n",
        "As you know, when doing time series analysis we always have to check for stationarity. Imprecisely, a time series dataset is stationary just if its statistical features don't change over time. A little more precisely, a stationary time series dataset will have constant mean, variance, and covariance.\n",
        "\n",
        "There are many ways to test for stationarity, but one of the most common is the KPSS test. The Null hypothesis of this test is that the time series data in question is stationary; hence, if the *p*-value is less than the significance level (typically 0.05, but we decide) then we reject the Null and infer that the data is not stationary."
      ]
    },
    {
      "cell_type": "code",
      "metadata": {
        "scrolled": true,
        "id": "jNa2FU1Bi_uA"
      },
      "source": [
        "from statsmodels.tsa.stattools import kpss\n",
        "\n",
        "# Use kpss()\n",
        "_ _ _(y)"
      ],
      "execution_count": null,
      "outputs": []
    },
    {
      "cell_type": "markdown",
      "metadata": {
        "id": "EaUmFufki_uA"
      },
      "source": [
        "Since our p-value is less than 0.05, we should reject the Null hypothesis and deduce the non-stationarity of our data. \n",
        "\n",
        "But our data need to be stationary! So we need to do some transforming."
      ]
    },
    {
      "cell_type": "markdown",
      "metadata": {
        "id": "YByKPLB6i_uB"
      },
      "source": [
        "### 3c. Making the data stationary \n",
        "Let's recall what it looks like. "
      ]
    },
    {
      "cell_type": "code",
      "metadata": {
        "id": "XQKrb4n2i_uB"
      },
      "source": [
        "y._ _ _()"
      ],
      "execution_count": null,
      "outputs": []
    },
    {
      "cell_type": "markdown",
      "metadata": {
        "id": "Ll6LxSNwi_uB"
      },
      "source": [
        "In our plot, we can see that both the mean and the variance *increase as time progresses*. At the moment, our data has neither a constant mean, nor a constant variance (the covariance, however, seems constant). \n",
        "\n",
        "One ofte  used way of getting rid of changing variance is to take the natural log of all the values in our dataset. Let's do this now. "
      ]
    },
    {
      "cell_type": "code",
      "metadata": {
        "id": "N__9XWfFi_uB"
      },
      "source": [
        "# Declare a variable called y_log\n",
        "_ _ _ = np.log(y)"
      ],
      "execution_count": null,
      "outputs": []
    },
    {
      "cell_type": "markdown",
      "metadata": {
        "id": "uf7M2dY0i_uB"
      },
      "source": [
        "\n",
        "When you plot this, you can see how the variance in our data now remains contant over time."
      ]
    },
    {
      "cell_type": "code",
      "metadata": {
        "scrolled": true,
        "id": "FgHaaxmXi_uB"
      },
      "source": [
        "y_log._ _ _()"
      ],
      "execution_count": null,
      "outputs": []
    },
    {
      "cell_type": "markdown",
      "metadata": {
        "id": "Jb3FEcbAi_uC"
      },
      "source": [
        "We now have a constant variance, but we also need a constant mean.\n",
        "\n",
        "We can do this by *differencing* our data. We difference a time series dataset when we create a new time series comprising the difference between the values of our existing dataset.\n",
        "\n",
        "Python is powerful, and we can use the `diff()` function to do this. You'll notice there's one less value than our existing dataset (since we're taking the difference between the existing values)."
      ]
    },
    {
      "cell_type": "code",
      "metadata": {
        "scrolled": true,
        "id": "APtih0Pbi_uC"
      },
      "source": [
        "kpss(y_log._ _ _().dropna())"
      ],
      "execution_count": null,
      "outputs": []
    },
    {
      "cell_type": "markdown",
      "metadata": {
        "id": "_LvAndTwi_uC"
      },
      "source": [
        "Our p-value is now greater than 0.05, so we can accept the null hypothesis that our data is stationary."
      ]
    },
    {
      "cell_type": "markdown",
      "metadata": {
        "id": "x_iW5dCei_uD"
      },
      "source": [
        "### 3d. The ARIMA model\n",
        "\n",
        "Recall that ARIMA models are based around the idea that it's possible to predict the next value in a time series by using information about the most recent data points. It also assumes there will be some randomness in our data that can't ever be predicted.\n",
        "\n",
        "We can find some good parameters for our model using the `sklearn` and `statsmodels` libraries, and in particular `mean_squared_error` and `ARIMA`. "
      ]
    },
    {
      "cell_type": "code",
      "metadata": {
        "id": "pk5C98Sdi_uD"
      },
      "source": [
        "# Import mean_squared_error and ARIMA\n",
        "from sklearn.metrics import _ _ _\n",
        "from statsmodels.tsa.arima_model import _ _ _"
      ],
      "execution_count": null,
      "outputs": []
    },
    {
      "cell_type": "markdown",
      "metadata": {
        "id": "vQpvZ0M_i_uD"
      },
      "source": [
        "#### 3di. Make a function to find the MSE of a single ARIMA model"
      ]
    },
    {
      "cell_type": "code",
      "metadata": {
        "id": "SOYZVRgri_uD"
      },
      "source": [
        "# Make a function called evaluate_arima_model to find the MSE of a single ARIMA model \n",
        "def _ _ _(data, arima_order):\n",
        "    # Needs to be an integer because it is later used as an index.\n",
        "    # Use int()\n",
        "    split=_ _ _(len(data) * 0.8) \n",
        "    # Make train and test variables, with 'train, test'\n",
        "    _ _ _, _ _ _ = data[0:split], data[split:len(data)]\n",
        "    past=[x for x in train]\n",
        "    # make predictions\n",
        "    predictions = list()\n",
        "    for i in range(len(test)):#timestep-wise comparison between test data and one-step prediction ARIMA model. \n",
        "        model = ARIMA(past, order=arima_order)\n",
        "        model_fit = model.fit(disp=0)\n",
        "        future = model_fit.forecast()[0]\n",
        "        predictions.append(future)\n",
        "        past.append(test[i])\n",
        "    # calculate out of sample error\n",
        "    error = mean_squared_error(test, predictions)\n",
        "    # Return the error\n",
        "    return _ _ _"
      ],
      "execution_count": null,
      "outputs": []
    },
    {
      "cell_type": "markdown",
      "metadata": {
        "id": "PmCWr8I-i_uE"
      },
      "source": [
        "#### 3dii. Make a function to evaluate the different ARIMA models with different p, d, and q values"
      ]
    },
    {
      "cell_type": "code",
      "metadata": {
        "id": "Jv9llESii_uE"
      },
      "source": [
        "# Make a function called evaluate_models to evaluate different ARIMA models with several different p, d, and q values.\n",
        "def _ _ _(dataset, p_values, d_values, q_values):\n",
        "    best_score, best_cfg = float(\"inf\"), None\n",
        "    # Iterate through p_values\n",
        "    for p in _ _ _:\n",
        "        # Iterate through d_values\n",
        "        for d in _ _ _:\n",
        "            # Iterate through q_values\n",
        "            for q in _ _ _:\n",
        "                # p, d, q iterator variables in that order\n",
        "                order = (_ _ _,_ _ _,_ _ _)\n",
        "                try:\n",
        "                    # Make a variable called mse for the Mean squared error\n",
        "                    _ _ _ = evaluate_arima_model(dataset, order)\n",
        "                    if mse < best_score:\n",
        "                        best_score, best_cfg = mse, order\n",
        "                    print('ARIMA%s MSE=%.3f' % (order,mse))\n",
        "                except:\n",
        "                    continue\n",
        "    return print('Best ARIMA%s MSE=%.3f' % (best_cfg, best_score))"
      ],
      "execution_count": null,
      "outputs": []
    },
    {
      "cell_type": "code",
      "metadata": {
        "id": "rPs0DomEi_uE"
      },
      "source": [
        "# Now, we choose a couple of values to try for each parameter: p_values, d_values and q_values\n",
        "# Fill in the blanks as appropriate\n",
        "_ _ _ = [x for x in range(0, 3)]\n",
        "_ _ _ = [x for x in _ _ _(0, 3)]\n",
        "_ _ _ = [_ _ _ for x in range(0, 3)]"
      ],
      "execution_count": null,
      "outputs": []
    },
    {
      "cell_type": "code",
      "metadata": {
        "scrolled": false,
        "id": "YucrIORzi_uF"
      },
      "source": [
        "# Finally, we can find the optimum ARIMA model for our data.\n",
        "# Nb. this can take a while...!\n",
        "import warnings\n",
        "warnings.filterwarnings(\"ignore\")\n",
        "evaluate_models(y_log, p_values, d_values, q_values)"
      ],
      "execution_count": null,
      "outputs": []
    },
    {
      "cell_type": "markdown",
      "metadata": {
        "id": "IU258oIhi_uF"
      },
      "source": [
        "So the best p,d, q, parameters for our ARIMA model are 2, 1, 1 respectively. Now we know this, we can build the model."
      ]
    },
    {
      "cell_type": "code",
      "metadata": {
        "id": "MZkJY9xci_uF"
      },
      "source": [
        "p=_ _ _\n",
        "_ _ _=_ _ _\n",
        "q=_ _ _\n",
        "model = ARIMA(y_log, order=(p,d,q))\n",
        "model_fit = model.fit()\n",
        "forecast = model_fit.forecast(24)"
      ],
      "execution_count": null,
      "outputs": []
    },
    {
      "cell_type": "markdown",
      "metadata": {
        "id": "5QOfLliFi_uF"
      },
      "source": [
        "We can take a look at a summary of the model this library has built around our data."
      ]
    },
    {
      "cell_type": "code",
      "metadata": {
        "scrolled": false,
        "id": "YKFwnUVli_uF"
      },
      "source": [
        "# Call summary() on model_fit\n",
        "model_fit._ _ _"
      ],
      "execution_count": null,
      "outputs": []
    },
    {
      "cell_type": "markdown",
      "metadata": {
        "id": "Gpq0Z2Mki_uF"
      },
      "source": [
        "### 3e. Visualize the results \n",
        "\n",
        "Visualize the original dataset plotted against our model. "
      ]
    },
    {
      "cell_type": "code",
      "metadata": {
        "id": "STXSYLgii_uG"
      },
      "source": [
        "# Call figure() and plot() on the plt\n",
        "plt._ _ _(figsize=(15,10))\n",
        "plt._ _ _(y_log.diff())\n",
        "plt.plot(model_fit.predict(), color = 'red')"
      ],
      "execution_count": null,
      "outputs": []
    },
    {
      "cell_type": "markdown",
      "metadata": {
        "id": "LuRMdrcwi_uG"
      },
      "source": [
        "### 3f. Application: Forecasting\n",
        "\n",
        "We've done well: our model fits pretty closely to our existing data. Let's now use it to forecast what's likely to occur in future."
      ]
    },
    {
      "cell_type": "code",
      "metadata": {
        "scrolled": false,
        "id": "1d365gQ_i_uG"
      },
      "source": [
        "# Declare a variable called forecast_period with the amount of months to forecast, and\n",
        "# create a range of future dates that is the length of the periods you've chosen to forecast\n",
        "_ _ _ = _ _ _\n",
        "date_range = pd.date_range(y_log.index[-1], periods = forecast_period, \n",
        "              freq='MS').strftime(\"%Y-%m-%d\").tolist()\n",
        "\n",
        "# Convert that range into a dataframe that includes your predictions\n",
        "# First, call DataFrame on pd\n",
        "future_months = pd._ _ _(date_range, columns = ['Month']\n",
        "# Let's now convert the 'Month' column to a datetime object with to_datetime \n",
        "future_months['Month'] = pd._ _ _(future_months['Month'])\n",
        "future_months.set_index('Month', inplace = True)\n",
        "future_months['Prediction'] = forecast[0]\n",
        "\n",
        "# Plot your future predictions\n",
        "# Call figure() on plt\n",
        "plt._ _ _(figsize=(15,10))\n",
        "plt.plot(y_log)\n",
        "plt.plot(y_log['Nov 1960'].append(future_months['Prediction']))\n",
        "plt.show()"
      ],
      "execution_count": null,
      "outputs": []
    },
    {
      "cell_type": "code",
      "metadata": {
        "id": "A4qoiZ7li_uG"
      },
      "source": [
        "# Now plot the original variable y \n",
        "# Use the same functions as before\n",
        "plt._ _ _(figsize=(15,10))\n",
        "plt._ _ _(y)\n",
        "plt._ _ _(np.exp(y_log['Nov 1960'].append(future_months['Prediction'])))\n",
        "plt._ _ _()"
      ],
      "execution_count": null,
      "outputs": []
    },
    {
      "cell_type": "markdown",
      "metadata": {
        "id": "FBXvC0L5i_uG"
      },
      "source": [
        "## 4. Evaluating and Concluding\n",
        "\n",
        "Our model captures the centre of a line that's increasing at a remarkable rate. Cowboy Cigarettes sell more cigarettes in the summer, perhaps due to the good weather, disposable income and time off that people enjoy, and the least in the winter, when people might be spending less and enjoying less free time outdoors. \n",
        "\n",
        "Remarkably, our ARIMA model made predictions using just one variable. We can only speculate, however, on the causes of the behaviour predicted by our model. We should also take heed that spikes in data, due to sudden unusual circumstances like wars, are not handled well by ARIMA; and the outbreak of the Vietnam War in the 1960s would likely cause our model some distress.  \n",
        "\n",
        "We could suggest to our employers that, if they are interested in discovering the causes of the cigarette sales trajectory, they execute a regression analysis in addition to the time series one. "
      ]
    }
  ]
}