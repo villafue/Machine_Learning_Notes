{
  "nbformat": 4,
  "nbformat_minor": 0,
  "metadata": {
    "kernelspec": {
      "display_name": "Python 3",
      "language": "python",
      "name": "python3"
    },
    "language_info": {
      "codemirror_mode": {
        "name": "ipython",
        "version": 3
      },
      "file_extension": ".py",
      "mimetype": "text/x-python",
      "name": "python",
      "nbconvert_exporter": "python",
      "pygments_lexer": "ipython3",
      "version": "3.7.3"
    },
    "colab": {
      "name": "Cowboy Cigarettes Case Study - Tier 1.ipynb",
      "provenance": [],
      "toc_visible": true,
      "include_colab_link": true
    }
  },
  "cells": [
    {
      "cell_type": "markdown",
      "metadata": {
        "id": "view-in-github",
        "colab_type": "text"
      },
      "source": [
        "<a href=\"https://colab.research.google.com/github/villafue/Machine_Learning_Notes/blob/master/21%20Time%20Series%20Analysis%20in%20Python/2%20Cowboy%20Cigarettes%3A%20A%20Time%20Series%20Investigation/Cowboys_CigrettesCaseStudy/Cowboys%26CigrettesCaseStudy/Cowboy%20Cigarettes%20Case%20Study%20-%20Tier%201.ipynb\" target=\"_parent\"><img src=\"https://colab.research.google.com/assets/colab-badge.svg\" alt=\"Open In Colab\"/></a>"
      ]
    },
    {
      "cell_type": "markdown",
      "metadata": {
        "id": "fkNHyzgZjF3G"
      },
      "source": [
        "# Springboard Time Series - 'Cowboy Cigarettes' Case Study - Tier 1"
      ]
    },
    {
      "cell_type": "markdown",
      "metadata": {
        "id": "xW_X3f9EjF3L"
      },
      "source": [
        "## Brief\n",
        "\n",
        "You're working in the US federal government as a data scientist in the Health and Environment department. You've been tasked with determining whether sales for the oldest and most powerful producers of cigarettes in the country are increasing or declining. \n",
        "\n",
        "**Cowboy Cigarettes (TM, *est.* 1890)** is the US's longest-running cigarette manufacturer. Like many cigarette companies, however, they haven't always been that public about their sales and marketing data. The available post-war historical data runs for only 11 years after they resumed production in 1949; stopping in 1960 before resuming again in 1970. Your job is to use the 1949-1960 data to predict whether the manufacturer's cigarette sales actually increased, decreased, or stayed the same. You need to make a probable reconstruction of the sales record of the manufacturer - predicting the future, from the perspective of the past - to contribute to a full report on US public health in relation to major cigarette companies. \n",
        "\n",
        "The results of your analysis will be used as part of a major report relating public health and local economics, and will be combined with other studies executed by your colleagues to provide important government advice.  \n",
        "\n",
        "-------------------------------\n",
        "As ever, this notebook is **tiered**, meaning you can elect that tier that is right for your confidence and skill level. There are 3 tiers, with tier 1 being the easiest and tier 3 being the hardest.  \n",
        "\n",
        "**1. Sourcing and loading** \n",
        "- Load relevant libraries \n",
        "- Load the data\n",
        "- Explore the data\n",
        "\n",
        " \n",
        "**2. Cleaning, transforming and visualizing**\n",
        "- Dropping unwanted columns\n",
        "- Nomenclature\n",
        "- Type conversions\n",
        "- Making a predictor variable `y` \n",
        "- Getting summary statistics for `y`\n",
        "- Plotting `y`\n",
        "  \n",
        "  \n",
        "**3. Modelling** \n",
        "- Decomposition\n",
        "    - Trend\n",
        "    - Seasonality\n",
        "    - Noise\n",
        "- Testing for stationarity with KPSS\n",
        "- Making the data stationary\n",
        "- The ARIMA Model\n",
        "    - Make a function to find the MSE of a single ARIMA model\n",
        "    - Make a function to evaluate the different ARIMA models with different p, d, and q values\n",
        "- Visualize the results\n",
        "- Application: Forecasting\n",
        "\n",
        "**4. Evaluating and concluding** \n",
        "- What is our conclusion?\n",
        "- Next steps\n",
        "    "
      ]
    },
    {
      "cell_type": "markdown",
      "metadata": {
        "id": "qKEilxUAjF3M"
      },
      "source": [
        "## 0. Preliminaries \n",
        "\n",
        "Time series data is just any data displaying how a single variable changes over time. It comes as a collection of metrics typically taken at regular intervals. Common examples of time series data include weekly sales data and daily stock prices. You can also easily acquire time series data from [Google Trends](https://trends.google.com/trends/?geo=US), which shows you how popular certain search terms are, measured in number of Google searches. "
      ]
    },
    {
      "cell_type": "markdown",
      "metadata": {
        "id": "HT-hW9HRjF3N"
      },
      "source": [
        "## 1. Sourcing and Loading\n",
        "\n",
        "### 1a. Load relevant libraries "
      ]
    },
    {
      "cell_type": "code",
      "metadata": {
        "id": "zhfRuX_MjF3N"
      },
      "source": [
        "import pandas as pd\n",
        "import numpy as np\n",
        "import matplotlib.pylab as plt\n",
        "%matplotlib inline"
      ],
      "execution_count": 1,
      "outputs": []
    },
    {
      "cell_type": "code",
      "metadata": {
        "id": "VSbLfqaCXq3o"
      },
      "source": [
        "plt.rcParams.update(plt.rcParamsDefault)\n",
        "%matplotlib inline\n",
        "plt.style.use(['seaborn-whitegrid'])"
      ],
      "execution_count": 3,
      "outputs": []
    },
    {
      "cell_type": "markdown",
      "metadata": {
        "id": "9UfOiZlKjF3O"
      },
      "source": [
        "### 1b. Load the data\n",
        "Call the variable `cigData`. "
      ]
    },
    {
      "cell_type": "code",
      "metadata": {
        "id": "XGJujPukjF3O"
      },
      "source": [
        "cigData = pd.read_csv('https://raw.githubusercontent.com/villafue/Machine_Learning_Notes/master/21%20Time%20Series%20Analysis%20in%20Python/2%20Cowboy%20Cigarettes%3A%20A%20Time%20Series%20Investigation/Cowboys_CigrettesCaseStudy/Cowboys%26CigrettesCaseStudy/CowboyCigsData.csv')"
      ],
      "execution_count": 6,
      "outputs": []
    },
    {
      "cell_type": "code",
      "metadata": {
        "id": "eru4TfoQoCsx",
        "outputId": "3e4efd54-08aa-4acc-fa31-36b5877d1bb5",
        "colab": {
          "base_uri": "https://localhost:8080/",
          "height": 195
        }
      },
      "source": [
        "cigData.head()"
      ],
      "execution_count": 7,
      "outputs": [
        {
          "output_type": "execute_result",
          "data": {
            "text/html": [
              "<div>\n",
              "<style scoped>\n",
              "    .dataframe tbody tr th:only-of-type {\n",
              "        vertical-align: middle;\n",
              "    }\n",
              "\n",
              "    .dataframe tbody tr th {\n",
              "        vertical-align: top;\n",
              "    }\n",
              "\n",
              "    .dataframe thead th {\n",
              "        text-align: right;\n",
              "    }\n",
              "</style>\n",
              "<table border=\"1\" class=\"dataframe\">\n",
              "  <thead>\n",
              "    <tr style=\"text-align: right;\">\n",
              "      <th></th>\n",
              "      <th>Unnamed: 0</th>\n",
              "      <th>Time</th>\n",
              "      <th>#CigSales</th>\n",
              "    </tr>\n",
              "  </thead>\n",
              "  <tbody>\n",
              "    <tr>\n",
              "      <th>0</th>\n",
              "      <td>0</td>\n",
              "      <td>1949-01</td>\n",
              "      <td>1000112</td>\n",
              "    </tr>\n",
              "    <tr>\n",
              "      <th>1</th>\n",
              "      <td>1</td>\n",
              "      <td>1949-02</td>\n",
              "      <td>1000118</td>\n",
              "    </tr>\n",
              "    <tr>\n",
              "      <th>2</th>\n",
              "      <td>2</td>\n",
              "      <td>1949-03</td>\n",
              "      <td>1000132</td>\n",
              "    </tr>\n",
              "    <tr>\n",
              "      <th>3</th>\n",
              "      <td>3</td>\n",
              "      <td>1949-04</td>\n",
              "      <td>1000129</td>\n",
              "    </tr>\n",
              "    <tr>\n",
              "      <th>4</th>\n",
              "      <td>4</td>\n",
              "      <td>1949-05</td>\n",
              "      <td>1000121</td>\n",
              "    </tr>\n",
              "  </tbody>\n",
              "</table>\n",
              "</div>"
            ],
            "text/plain": [
              "   Unnamed: 0     Time  #CigSales\n",
              "0           0  1949-01    1000112\n",
              "1           1  1949-02    1000118\n",
              "2           2  1949-03    1000132\n",
              "3           3  1949-04    1000129\n",
              "4           4  1949-05    1000121"
            ]
          },
          "metadata": {
            "tags": []
          },
          "execution_count": 7
        }
      ]
    },
    {
      "cell_type": "markdown",
      "metadata": {
        "id": "kpMq27TwjF3O"
      },
      "source": [
        "### 1c. Explore the data\n",
        "We now need to check whether the data conduces to a time series style analysis."
      ]
    },
    {
      "cell_type": "code",
      "metadata": {
        "id": "FiMLkY74p4jJ",
        "outputId": "40be27ed-1713-4019-bc4b-105ed14af11c",
        "colab": {
          "base_uri": "https://localhost:8080/"
        }
      },
      "source": [
        "cigData.shape"
      ],
      "execution_count": 15,
      "outputs": [
        {
          "output_type": "execute_result",
          "data": {
            "text/plain": [
              "(144, 3)"
            ]
          },
          "metadata": {
            "tags": []
          },
          "execution_count": 15
        }
      ]
    },
    {
      "cell_type": "code",
      "metadata": {
        "id": "_6DdqFNOp7w_",
        "outputId": "2267fc0c-ed6c-4857-9b3b-d9672b6a5468",
        "colab": {
          "base_uri": "https://localhost:8080/",
          "height": 106
        }
      },
      "source": [
        "cigData.describe().T"
      ],
      "execution_count": 17,
      "outputs": [
        {
          "output_type": "execute_result",
          "data": {
            "text/html": [
              "<div>\n",
              "<style scoped>\n",
              "    .dataframe tbody tr th:only-of-type {\n",
              "        vertical-align: middle;\n",
              "    }\n",
              "\n",
              "    .dataframe tbody tr th {\n",
              "        vertical-align: top;\n",
              "    }\n",
              "\n",
              "    .dataframe thead th {\n",
              "        text-align: right;\n",
              "    }\n",
              "</style>\n",
              "<table border=\"1\" class=\"dataframe\">\n",
              "  <thead>\n",
              "    <tr style=\"text-align: right;\">\n",
              "      <th></th>\n",
              "      <th>count</th>\n",
              "      <th>mean</th>\n",
              "      <th>std</th>\n",
              "      <th>min</th>\n",
              "      <th>25%</th>\n",
              "      <th>50%</th>\n",
              "      <th>75%</th>\n",
              "      <th>max</th>\n",
              "    </tr>\n",
              "  </thead>\n",
              "  <tbody>\n",
              "    <tr>\n",
              "      <th>Unnamed: 0</th>\n",
              "      <td>144.0</td>\n",
              "      <td>7.150000e+01</td>\n",
              "      <td>41.713307</td>\n",
              "      <td>0.0</td>\n",
              "      <td>35.75</td>\n",
              "      <td>71.5</td>\n",
              "      <td>107.25</td>\n",
              "      <td>143.0</td>\n",
              "    </tr>\n",
              "    <tr>\n",
              "      <th>#CigSales</th>\n",
              "      <td>144.0</td>\n",
              "      <td>1.000280e+06</td>\n",
              "      <td>119.966317</td>\n",
              "      <td>1000104.0</td>\n",
              "      <td>1000180.00</td>\n",
              "      <td>1000265.5</td>\n",
              "      <td>1000360.50</td>\n",
              "      <td>1000622.0</td>\n",
              "    </tr>\n",
              "  </tbody>\n",
              "</table>\n",
              "</div>"
            ],
            "text/plain": [
              "            count          mean         std  ...        50%         75%        max\n",
              "Unnamed: 0  144.0  7.150000e+01   41.713307  ...       71.5      107.25      143.0\n",
              "#CigSales   144.0  1.000280e+06  119.966317  ...  1000265.5  1000360.50  1000622.0\n",
              "\n",
              "[2 rows x 8 columns]"
            ]
          },
          "metadata": {
            "tags": []
          },
          "execution_count": 17
        }
      ]
    },
    {
      "cell_type": "code",
      "metadata": {
        "scrolled": true,
        "id": "V8SqCk7qjF3O",
        "outputId": "51b92054-129b-40b6-cfc0-eaa71a36b699",
        "colab": {
          "base_uri": "https://localhost:8080/",
          "height": 35
        }
      },
      "source": [
        "'_ _ _'"
      ],
      "execution_count": 13,
      "outputs": [
        {
          "output_type": "execute_result",
          "data": {
            "application/vnd.google.colaboratory.intrinsic+json": {
              "type": "string"
            },
            "text/plain": [
              "'_ _ _'"
            ]
          },
          "metadata": {
            "tags": []
          },
          "execution_count": 13
        }
      ]
    },
    {
      "cell_type": "markdown",
      "metadata": {
        "id": "His8j3rxjF3P"
      },
      "source": [
        "Over a million cigarettes sold in the month of January 1949. This certainly is a popular cigarette brand. "
      ]
    },
    {
      "cell_type": "markdown",
      "metadata": {
        "id": "M6yfrp2YjF3P"
      },
      "source": [
        "Check out the columns feature of the data. How many columns are there? "
      ]
    },
    {
      "cell_type": "code",
      "metadata": {
        "id": "lfc0nR0VjF3P",
        "outputId": "49954325-29f1-4dff-a8d9-1fcabb68ed17",
        "colab": {
          "base_uri": "https://localhost:8080/"
        }
      },
      "source": [
        "cigData.columns"
      ],
      "execution_count": 8,
      "outputs": [
        {
          "output_type": "execute_result",
          "data": {
            "text/plain": [
              "Index(['Unnamed: 0', 'Time', '#CigSales'], dtype='object')"
            ]
          },
          "metadata": {
            "tags": []
          },
          "execution_count": 8
        }
      ]
    },
    {
      "cell_type": "markdown",
      "metadata": {
        "id": "JKbcn61jjF3P"
      },
      "source": [
        "Let's check out the data types of our columns."
      ]
    },
    {
      "cell_type": "code",
      "metadata": {
        "scrolled": false,
        "id": "_FEC4L8WjF3Q",
        "outputId": "e8d54112-9908-4e75-baac-b2a48653ac81",
        "colab": {
          "base_uri": "https://localhost:8080/"
        }
      },
      "source": [
        "cigData.dtypes"
      ],
      "execution_count": 9,
      "outputs": [
        {
          "output_type": "execute_result",
          "data": {
            "text/plain": [
              "Unnamed: 0     int64\n",
              "Time          object\n",
              "#CigSales      int64\n",
              "dtype: object"
            ]
          },
          "metadata": {
            "tags": []
          },
          "execution_count": 9
        }
      ]
    },
    {
      "cell_type": "markdown",
      "metadata": {
        "id": "kQ_Zi3yHjF3Q"
      },
      "source": [
        "Check whether there are any null values. "
      ]
    },
    {
      "cell_type": "code",
      "metadata": {
        "id": "7HV8M27QjF3Q",
        "outputId": "692cc6bd-342f-4136-927b-5a0448da963e",
        "colab": {
          "base_uri": "https://localhost:8080/"
        }
      },
      "source": [
        "cigData.isnull().values.any()"
      ],
      "execution_count": 11,
      "outputs": [
        {
          "output_type": "execute_result",
          "data": {
            "text/plain": [
              "False"
            ]
          },
          "metadata": {
            "tags": []
          },
          "execution_count": 11
        }
      ]
    },
    {
      "cell_type": "markdown",
      "metadata": {
        "id": "Pl0ldWxKjF3Q"
      },
      "source": [
        "## 2. Cleaning, transforming and visualizing"
      ]
    },
    {
      "cell_type": "markdown",
      "metadata": {
        "id": "smeQGaQIjF3Q"
      },
      "source": [
        "### 2a. Dropping unwanted columns\n",
        "We need to cut that `Unnamed: 0` column. Delete it here."
      ]
    },
    {
      "cell_type": "code",
      "metadata": {
        "id": "thz1urpWjF3R"
      },
      "source": [
        "cigData.drop(columns='Unnamed: 0', inplace=True)"
      ],
      "execution_count": 18,
      "outputs": []
    },
    {
      "cell_type": "code",
      "metadata": {
        "id": "4kuQnqXYqOJE",
        "outputId": "2cf1b93b-762d-4131-e385-aeb3218d0f30",
        "colab": {
          "base_uri": "https://localhost:8080/",
          "height": 195
        }
      },
      "source": [
        "cigData.head()"
      ],
      "execution_count": 19,
      "outputs": [
        {
          "output_type": "execute_result",
          "data": {
            "text/html": [
              "<div>\n",
              "<style scoped>\n",
              "    .dataframe tbody tr th:only-of-type {\n",
              "        vertical-align: middle;\n",
              "    }\n",
              "\n",
              "    .dataframe tbody tr th {\n",
              "        vertical-align: top;\n",
              "    }\n",
              "\n",
              "    .dataframe thead th {\n",
              "        text-align: right;\n",
              "    }\n",
              "</style>\n",
              "<table border=\"1\" class=\"dataframe\">\n",
              "  <thead>\n",
              "    <tr style=\"text-align: right;\">\n",
              "      <th></th>\n",
              "      <th>Time</th>\n",
              "      <th>#CigSales</th>\n",
              "    </tr>\n",
              "  </thead>\n",
              "  <tbody>\n",
              "    <tr>\n",
              "      <th>0</th>\n",
              "      <td>1949-01</td>\n",
              "      <td>1000112</td>\n",
              "    </tr>\n",
              "    <tr>\n",
              "      <th>1</th>\n",
              "      <td>1949-02</td>\n",
              "      <td>1000118</td>\n",
              "    </tr>\n",
              "    <tr>\n",
              "      <th>2</th>\n",
              "      <td>1949-03</td>\n",
              "      <td>1000132</td>\n",
              "    </tr>\n",
              "    <tr>\n",
              "      <th>3</th>\n",
              "      <td>1949-04</td>\n",
              "      <td>1000129</td>\n",
              "    </tr>\n",
              "    <tr>\n",
              "      <th>4</th>\n",
              "      <td>1949-05</td>\n",
              "      <td>1000121</td>\n",
              "    </tr>\n",
              "  </tbody>\n",
              "</table>\n",
              "</div>"
            ],
            "text/plain": [
              "      Time  #CigSales\n",
              "0  1949-01    1000112\n",
              "1  1949-02    1000118\n",
              "2  1949-03    1000132\n",
              "3  1949-04    1000129\n",
              "4  1949-05    1000121"
            ]
          },
          "metadata": {
            "tags": []
          },
          "execution_count": 19
        }
      ]
    },
    {
      "cell_type": "markdown",
      "metadata": {
        "id": "CHTLT28VjF3R"
      },
      "source": [
        "### 2b. Nomenclature"
      ]
    },
    {
      "cell_type": "markdown",
      "metadata": {
        "id": "zid6Vcg_jF3R"
      },
      "source": [
        "We can see that the `Time` column actually has the granularity of months. Change the name of that column to `Month`."
      ]
    },
    {
      "cell_type": "code",
      "metadata": {
        "id": "d6sSNd4BjF3R"
      },
      "source": [
        "cigData.rename(columns={'Time': 'Month'}, inplace=True)"
      ],
      "execution_count": 20,
      "outputs": []
    },
    {
      "cell_type": "markdown",
      "metadata": {
        "id": "2N4wkd3VjF3S"
      },
      "source": [
        "Call a head() to check this has worked. "
      ]
    },
    {
      "cell_type": "code",
      "metadata": {
        "id": "ePW0bH8Iq_bC",
        "outputId": "15191245-4adb-45b3-9fe8-dd9b5236e6b7",
        "colab": {
          "base_uri": "https://localhost:8080/",
          "height": 195
        }
      },
      "source": [
        "cigData.head()"
      ],
      "execution_count": 21,
      "outputs": [
        {
          "output_type": "execute_result",
          "data": {
            "text/html": [
              "<div>\n",
              "<style scoped>\n",
              "    .dataframe tbody tr th:only-of-type {\n",
              "        vertical-align: middle;\n",
              "    }\n",
              "\n",
              "    .dataframe tbody tr th {\n",
              "        vertical-align: top;\n",
              "    }\n",
              "\n",
              "    .dataframe thead th {\n",
              "        text-align: right;\n",
              "    }\n",
              "</style>\n",
              "<table border=\"1\" class=\"dataframe\">\n",
              "  <thead>\n",
              "    <tr style=\"text-align: right;\">\n",
              "      <th></th>\n",
              "      <th>Month</th>\n",
              "      <th>#CigSales</th>\n",
              "    </tr>\n",
              "  </thead>\n",
              "  <tbody>\n",
              "    <tr>\n",
              "      <th>0</th>\n",
              "      <td>1949-01</td>\n",
              "      <td>1000112</td>\n",
              "    </tr>\n",
              "    <tr>\n",
              "      <th>1</th>\n",
              "      <td>1949-02</td>\n",
              "      <td>1000118</td>\n",
              "    </tr>\n",
              "    <tr>\n",
              "      <th>2</th>\n",
              "      <td>1949-03</td>\n",
              "      <td>1000132</td>\n",
              "    </tr>\n",
              "    <tr>\n",
              "      <th>3</th>\n",
              "      <td>1949-04</td>\n",
              "      <td>1000129</td>\n",
              "    </tr>\n",
              "    <tr>\n",
              "      <th>4</th>\n",
              "      <td>1949-05</td>\n",
              "      <td>1000121</td>\n",
              "    </tr>\n",
              "  </tbody>\n",
              "</table>\n",
              "</div>"
            ],
            "text/plain": [
              "     Month  #CigSales\n",
              "0  1949-01    1000112\n",
              "1  1949-02    1000118\n",
              "2  1949-03    1000132\n",
              "3  1949-04    1000129\n",
              "4  1949-05    1000121"
            ]
          },
          "metadata": {
            "tags": []
          },
          "execution_count": 21
        }
      ]
    },
    {
      "cell_type": "markdown",
      "metadata": {
        "id": "V2Qw55Y5jF3U"
      },
      "source": [
        "### 2c. Type conversions "
      ]
    },
    {
      "cell_type": "markdown",
      "metadata": {
        "id": "JZr34m-4jF3V"
      },
      "source": [
        "Now, do time series analysis on a Pandas dataframe is overkill, and is actually counter-productive. It's much more easy to carry out this type of analysis if we convert our data to a series first.\n",
        "\n",
        "Notice that the `Month` field was an object. Let's type convert the `Month` column to a Python `datetime`, before making that the index."
      ]
    },
    {
      "cell_type": "code",
      "metadata": {
        "id": "uayG6AnXjF3V"
      },
      "source": [
        "cigData['Month'] = pd.to_datetime(cigData['Month'])\n",
        "cigData.set_index('Month', inplace = True)"
      ],
      "execution_count": 22,
      "outputs": []
    },
    {
      "cell_type": "markdown",
      "metadata": {
        "id": "eJu6o3A5jF3V"
      },
      "source": [
        "Perfect! "
      ]
    },
    {
      "cell_type": "code",
      "metadata": {
        "id": "Ti-WSyNNrRBp",
        "outputId": "dc390b07-5f41-4e7e-c17d-fdf405e89aae",
        "colab": {
          "base_uri": "https://localhost:8080/",
          "height": 225
        }
      },
      "source": [
        "cigData.head()"
      ],
      "execution_count": 23,
      "outputs": [
        {
          "output_type": "execute_result",
          "data": {
            "text/html": [
              "<div>\n",
              "<style scoped>\n",
              "    .dataframe tbody tr th:only-of-type {\n",
              "        vertical-align: middle;\n",
              "    }\n",
              "\n",
              "    .dataframe tbody tr th {\n",
              "        vertical-align: top;\n",
              "    }\n",
              "\n",
              "    .dataframe thead th {\n",
              "        text-align: right;\n",
              "    }\n",
              "</style>\n",
              "<table border=\"1\" class=\"dataframe\">\n",
              "  <thead>\n",
              "    <tr style=\"text-align: right;\">\n",
              "      <th></th>\n",
              "      <th>#CigSales</th>\n",
              "    </tr>\n",
              "    <tr>\n",
              "      <th>Month</th>\n",
              "      <th></th>\n",
              "    </tr>\n",
              "  </thead>\n",
              "  <tbody>\n",
              "    <tr>\n",
              "      <th>1949-01-01</th>\n",
              "      <td>1000112</td>\n",
              "    </tr>\n",
              "    <tr>\n",
              "      <th>1949-02-01</th>\n",
              "      <td>1000118</td>\n",
              "    </tr>\n",
              "    <tr>\n",
              "      <th>1949-03-01</th>\n",
              "      <td>1000132</td>\n",
              "    </tr>\n",
              "    <tr>\n",
              "      <th>1949-04-01</th>\n",
              "      <td>1000129</td>\n",
              "    </tr>\n",
              "    <tr>\n",
              "      <th>1949-05-01</th>\n",
              "      <td>1000121</td>\n",
              "    </tr>\n",
              "  </tbody>\n",
              "</table>\n",
              "</div>"
            ],
            "text/plain": [
              "            #CigSales\n",
              "Month                \n",
              "1949-01-01    1000112\n",
              "1949-02-01    1000118\n",
              "1949-03-01    1000132\n",
              "1949-04-01    1000129\n",
              "1949-05-01    1000121"
            ]
          },
          "metadata": {
            "tags": []
          },
          "execution_count": 23
        }
      ]
    },
    {
      "cell_type": "markdown",
      "metadata": {
        "id": "iM1hlr0hjF3V"
      },
      "source": [
        "### 2d. Making a predictor variable `y`"
      ]
    },
    {
      "cell_type": "markdown",
      "metadata": {
        "id": "eqngyyVmjF3V"
      },
      "source": [
        "The data is now indexed by date, as time series data ought to be.\n",
        "\n",
        "Since we want to predict the number of cigarette sales at Cowboy cigarettes, and `y` is typically used to signify a predictor variable, let's create a new variable called `y` and assign the indexed #Passenger column. "
      ]
    },
    {
      "cell_type": "code",
      "metadata": {
        "id": "jIUk__PGjF3V"
      },
      "source": [
        "y = _ _ _['#CigSales']"
      ],
      "execution_count": null,
      "outputs": []
    },
    {
      "cell_type": "markdown",
      "metadata": {
        "id": "qXlugg34jF3W"
      },
      "source": [
        "Check the type of our new variable. "
      ]
    },
    {
      "cell_type": "code",
      "metadata": {
        "scrolled": true,
        "id": "t0LcbxtdjF3W"
      },
      "source": [
        "type(_ _ _)"
      ],
      "execution_count": null,
      "outputs": []
    },
    {
      "cell_type": "markdown",
      "metadata": {
        "id": "EGufTvDQjF3W"
      },
      "source": [
        "### 2e. Getting summary statistics for `y`"
      ]
    },
    {
      "cell_type": "markdown",
      "metadata": {
        "id": "yqxtv7wZjF3W"
      },
      "source": [
        "Get the summary statistics of our data here. "
      ]
    },
    {
      "cell_type": "code",
      "metadata": {
        "scrolled": true,
        "id": "aeh3LoGbjF3W"
      },
      "source": [
        "_ _ _.describe()"
      ],
      "execution_count": null,
      "outputs": []
    },
    {
      "cell_type": "markdown",
      "metadata": {
        "id": "UjexcINajF3X"
      },
      "source": [
        "Try visualizing the data. A simple `matplotlib` plot should do the trick.  "
      ]
    },
    {
      "cell_type": "markdown",
      "metadata": {
        "id": "Hm6Wt9jLjF3X"
      },
      "source": [
        "### 2f. Plotting `y`"
      ]
    },
    {
      "cell_type": "code",
      "metadata": {
        "id": "VgzFKJPgjF3X"
      },
      "source": [
        "y._ _ _()"
      ],
      "execution_count": null,
      "outputs": []
    },
    {
      "cell_type": "markdown",
      "metadata": {
        "id": "iVKVsM3UjF3X"
      },
      "source": [
        "## 3. Modelling \n",
        "### 3a. Decomposition\n",
        "What do you notice from the plot? Take at least `2` minutes to examine the plot, and write down everything you observe.  \n",
        "\n",
        "All done?\n",
        "\n",
        "We can see that, generally, there is a trend upwards in cigarette sales from at Cowboy Cigarettes. But there are also some striking - and perhaps unexpected - seasonal fluctuations. These seasonal fluctations come in a repeated pattern. Work out when these seasonal fluctuations are happening, and take 2 minutes to hypothesize on their cause here.\n",
        "\n",
        "What does it mean to *decompose* time series data? It means breaking that data into 3 components: \n",
        "\n",
        "1. **Trend**: The overall direction that the data is travelling in (like upwards or downwards)\n",
        "2. **Seasonality**: Cyclical patterns in the data \n",
        "3. **Noise**: The random variation in the data\n",
        "\n",
        "We can treat these components differently, depending on the question and what's appropriate in the context. They can either be added together in an *additive* model, or multiplied together in a *multiplicative* model. \n",
        "\n",
        "Make a coffee, take `5` minutes and read [this article](https://medium.com/@sigmundojr/seasonality-in-python-additive-or-multiplicative-model-d4b9cf1f48a7) and think about whether our data would conduce to an additive or multiplicative model here. Write your conclusion down just here: \n",
        "\n",
        "-------------------------------"
      ]
    },
    {
      "cell_type": "markdown",
      "metadata": {
        "id": "T3fTmDk-jF3Y"
      },
      "source": [
        "All done? Well, just on the basis of the plot above, it seems our Cowboy Cigarettes data is actually multiplicative. \n",
        "\n",
        "That's because, as time progresses, the general trend seems to be increasing *at a rate that's also increasing*. We also see that the seasonal fluctuations (the peaks and troughs) get bigger and bigger as time progresses.\n",
        "\n",
        "Now on the other hand, if the data were simply additive, we could expect the general trend to increase at a *steadily*, and a constant speed; and also for seasonal ups and downs not to increase or decrease in extent over time.\n",
        "\n",
        "Happily, we can use the `decompose()` function to quantify the component parts described above in our data."
      ]
    },
    {
      "cell_type": "code",
      "metadata": {
        "scrolled": true,
        "id": "Ovx2bPXWjF3Y"
      },
      "source": [
        "# Import seasonal_decompose \n",
        "from statsmodels.tsa.seasonal import _ _ _\n",
        "\n",
        "# Make a variable called decomposition, and assign it y passed to seasonal_decompose() \n",
        "_ _ _ = seasonal_decompose(y)\n",
        "\n",
        "# Make three variables for trend, seasonal and residual components respectively. \n",
        "# Assign them the relevant features of decomposition \n",
        "trend = decomposition.trend\n",
        "seasonal = _ _ _.seasonal\n",
        "_ _ _ = decomposition.resid\n",
        "\n",
        "# Plot the original data, the trend, the seasonality, and the residuals \n",
        "plt.subplot(411)\n",
        "plt.plot(y, label = '_ _ _')\n",
        "plt.legend(loc = 'best')\n",
        "plt.subplot(412)\n",
        "plt.plot(trend, label = 'Trend')\n",
        "plt.legend(loc = 'best')\n",
        "plt._ _ _(413)\n",
        "plt.plot(seasonal, label = '_ _ _')\n",
        "plt.legend(loc = 'best')\n",
        "plt.subplot(414)\n",
        "plt._ _ _(residual, label = 'Residuals')\n",
        "plt.legend(loc = 'best')\n",
        "plt.tight_layout()"
      ],
      "execution_count": null,
      "outputs": []
    },
    {
      "cell_type": "markdown",
      "metadata": {
        "id": "H2of7AY6jF3Y"
      },
      "source": [
        "### 3b. Testing for stationarity with KPSS\n",
        "As you know, when doing time series analysis we always have to check for stationarity. Imprecisely, a time series dataset is stationary just if its statistical features don't change over time. A little more precisely, a stationary time series dataset will have constant mean, variance, and covariance.\n",
        "\n",
        "There are many ways to test for stationarity, but one of the most common is the KPSS test. The Null hypothesis of this test is that the time series data in question is stationary; hence, if the *p*-value is less than the significance level (typically 0.05, but we decide) then we reject the Null and infer that the data is not stationary."
      ]
    },
    {
      "cell_type": "code",
      "metadata": {
        "scrolled": true,
        "id": "IqP9BmCfjF3Y"
      },
      "source": [
        "from statsmodels.tsa.stattools import kpss\n",
        "\n",
        "# Use kpss()\n",
        "_ _ _(y)"
      ],
      "execution_count": null,
      "outputs": []
    },
    {
      "cell_type": "markdown",
      "metadata": {
        "id": "1DNV7hODjF3Z"
      },
      "source": [
        "Since our p-value is less than 0.05, we should reject the Null hypothesis and deduce the non-stationarity of our data. \n",
        "\n",
        "But our data need to be stationary! So we need to do some transforming."
      ]
    },
    {
      "cell_type": "markdown",
      "metadata": {
        "id": "sBzC78HHjF3Z"
      },
      "source": [
        "### 3c. Making the data stationary \n",
        "Let's recall what it looks like. "
      ]
    },
    {
      "cell_type": "code",
      "metadata": {
        "id": "0kJYIMpDjF3Z"
      },
      "source": [
        "y._ _ _()"
      ],
      "execution_count": null,
      "outputs": []
    },
    {
      "cell_type": "markdown",
      "metadata": {
        "id": "PvNb4NUOjF3Z"
      },
      "source": [
        "In our plot, we can see that both the mean and the variance *increase as time progresses*. At the moment, our data has neither a constant mean, nor a constant variance (the covariance, however, seems constant). \n",
        "\n",
        "One ofte  used way of getting rid of changing variance is to take the natural log of all the values in our dataset. Let's do this now. "
      ]
    },
    {
      "cell_type": "code",
      "metadata": {
        "id": "sbh2cPZEjF3Z"
      },
      "source": [
        "# Declare a variable called y_log\n",
        "_ _ _ = np.log(y)"
      ],
      "execution_count": null,
      "outputs": []
    },
    {
      "cell_type": "markdown",
      "metadata": {
        "id": "MpdDI8-4jF3Z"
      },
      "source": [
        "\n",
        "When you plot this, you can see how the variance in our data now remains contant over time."
      ]
    },
    {
      "cell_type": "code",
      "metadata": {
        "scrolled": true,
        "id": "MA9MidWPjF3a"
      },
      "source": [
        "y_log._ _ _()"
      ],
      "execution_count": null,
      "outputs": []
    },
    {
      "cell_type": "markdown",
      "metadata": {
        "id": "pEjUvh4ljF3a"
      },
      "source": [
        "We now have a constant variance, but we also need a constant mean.\n",
        "\n",
        "We can do this by *differencing* our data. We difference a time series dataset when we create a new time series comprising the difference between the values of our existing dataset.\n",
        "\n",
        "Python is powerful, and we can use the `diff()` function to do this. You'll notice there's one less value than our existing dataset (since we're taking the difference between the existing values)."
      ]
    },
    {
      "cell_type": "code",
      "metadata": {
        "scrolled": true,
        "id": "ezpk1m3AjF3a"
      },
      "source": [
        "kpss(y_log._ _ _().dropna())"
      ],
      "execution_count": null,
      "outputs": []
    },
    {
      "cell_type": "markdown",
      "metadata": {
        "id": "usVCB8U7jF3b"
      },
      "source": [
        "Our p-value is now greater than 0.05, so we can accept the null hypothesis that our data is stationary."
      ]
    },
    {
      "cell_type": "markdown",
      "metadata": {
        "id": "BeWdMFkejF3b"
      },
      "source": [
        "### 3d. The ARIMA model\n",
        "\n",
        "Recall that ARIMA models are based around the idea that it's possible to predict the next value in a time series by using information about the most recent data points. It also assumes there will be some randomness in our data that can't ever be predicted.\n",
        "\n",
        "We can find some good parameters for our model using the `sklearn` and `statsmodels` libraries, and in particular `mean_squared_error` and `ARIMA`. "
      ]
    },
    {
      "cell_type": "code",
      "metadata": {
        "id": "0XELPo8YjF3b"
      },
      "source": [
        "# Import mean_squared_error and ARIMA\n",
        "from sklearn.metrics import _ _ _\n",
        "from statsmodels.tsa.arima_model import _ _ _"
      ],
      "execution_count": null,
      "outputs": []
    },
    {
      "cell_type": "markdown",
      "metadata": {
        "id": "S0LtVoI1jF3b"
      },
      "source": [
        "#### 3di. Make a function to find the MSE of a single ARIMA model"
      ]
    },
    {
      "cell_type": "code",
      "metadata": {
        "id": "BYWFFJLyjF3b"
      },
      "source": [
        "# Make a function called evaluate_arima_model to find the MSE of a single ARIMA model \n",
        "def _ _ _(data, arima_order):\n",
        "    # Needs to be an integer because it is later used as an index.\n",
        "    # Use int()\n",
        "    split=_ _ _(len(data) * 0.8) \n",
        "    # Make train and test variables, with 'train, test'\n",
        "    _ _ _, _ _ _ = data[0:split], data[split:len(data)]\n",
        "    past=[x for x in train]\n",
        "    # make predictions\n",
        "    predictions = list()\n",
        "    for i in range(len(test)):#timestep-wise comparison between test data and one-step prediction ARIMA model. \n",
        "        model = ARIMA(past, order=arima_order)\n",
        "        model_fit = model.fit(disp=0)\n",
        "        future = model_fit.forecast()[0]\n",
        "        predictions.append(future)\n",
        "        past.append(test[i])\n",
        "    # calculate out of sample error\n",
        "    error = mean_squared_error(test, predictions)\n",
        "    # Return the error\n",
        "    return _ _ _"
      ],
      "execution_count": null,
      "outputs": []
    },
    {
      "cell_type": "markdown",
      "metadata": {
        "id": "yBAvIG4vjF3c"
      },
      "source": [
        "#### 3dii. Make a function to evaluate the different ARIMA models with different p, d, and q values"
      ]
    },
    {
      "cell_type": "code",
      "metadata": {
        "id": "4murOGDzjF3c"
      },
      "source": [
        "# Make a function called evaluate_models to evaluate different ARIMA models with several different p, d, and q values.\n",
        "def _ _ _(dataset, p_values, d_values, q_values):\n",
        "    best_score, best_cfg = float(\"inf\"), None\n",
        "    # Iterate through p_values\n",
        "    for p in _ _ _:\n",
        "        # Iterate through d_values\n",
        "        for d in _ _ _:\n",
        "            # Iterate through q_values\n",
        "            for q in _ _ _:\n",
        "                # p, d, q iterator variables in that order\n",
        "                order = (_ _ _,_ _ _,_ _ _)\n",
        "                try:\n",
        "                    # Make a variable called mse for the Mean squared error\n",
        "                    _ _ _ = evaluate_arima_model(dataset, order)\n",
        "                    if mse < best_score:\n",
        "                        best_score, best_cfg = mse, order\n",
        "                    print('ARIMA%s MSE=%.3f' % (order,mse))\n",
        "                except:\n",
        "                    continue\n",
        "    return print('Best ARIMA%s MSE=%.3f' % (best_cfg, best_score))"
      ],
      "execution_count": null,
      "outputs": []
    },
    {
      "cell_type": "code",
      "metadata": {
        "id": "RUFYL2W-jF3c"
      },
      "source": [
        "# Now, we choose a couple of values to try for each parameter: p_values, d_values and q_values\n",
        "# Fill in the blanks as appropriate\n",
        "_ _ _ = [x for x in range(0, 3)]\n",
        "_ _ _ = [x for x in _ _ _(0, 3)]\n",
        "_ _ _ = [_ _ _ for x in range(0, 3)]"
      ],
      "execution_count": null,
      "outputs": []
    },
    {
      "cell_type": "code",
      "metadata": {
        "scrolled": false,
        "id": "MrIyrfYKjF3c"
      },
      "source": [
        "# Finally, we can find the optimum ARIMA model for our data.\n",
        "# Nb. this can take a while...!\n",
        "import warnings\n",
        "warnings.filterwarnings(\"ignore\")\n",
        "evaluate_models(y_log, p_values, d_values, q_values)"
      ],
      "execution_count": null,
      "outputs": []
    },
    {
      "cell_type": "markdown",
      "metadata": {
        "id": "LZE-QQ3vjF3d"
      },
      "source": [
        "So the best p,d, q, parameters for our ARIMA model are 2, 1, 1 respectively. Now we know this, we can build the model."
      ]
    },
    {
      "cell_type": "code",
      "metadata": {
        "id": "n9suvDDejF3d"
      },
      "source": [
        "p=_ _ _\n",
        "_ _ _=_ _ _\n",
        "q=_ _ _\n",
        "model = ARIMA(y_log, order=(p,d,q))\n",
        "model_fit = model.fit()\n",
        "forecast = model_fit.forecast(24)"
      ],
      "execution_count": null,
      "outputs": []
    },
    {
      "cell_type": "markdown",
      "metadata": {
        "id": "xMfb9QWUjF3d"
      },
      "source": [
        "We can take a look at a summary of the model this library has built around our data."
      ]
    },
    {
      "cell_type": "code",
      "metadata": {
        "scrolled": false,
        "id": "1tQvRbL5jF3d"
      },
      "source": [
        "# Call summary() on model_fit\n",
        "model_fit._ _ _"
      ],
      "execution_count": null,
      "outputs": []
    },
    {
      "cell_type": "markdown",
      "metadata": {
        "id": "JtzSv5yejF3d"
      },
      "source": [
        "### 3e. Visualize the results \n",
        "\n",
        "Visualize the original dataset plotted against our model. "
      ]
    },
    {
      "cell_type": "code",
      "metadata": {
        "id": "AFR2NtTIjF3d"
      },
      "source": [
        "# Call figure() and plot() on the plt\n",
        "plt._ _ _(figsize=(15,10))\n",
        "plt._ _ _(y_log.diff())\n",
        "plt.plot(model_fit.predict(), color = 'red')"
      ],
      "execution_count": null,
      "outputs": []
    },
    {
      "cell_type": "markdown",
      "metadata": {
        "id": "mlYUK4RYjF3e"
      },
      "source": [
        "### 3f. Application: Forecasting\n",
        "\n",
        "We've done well: our model fits pretty closely to our existing data. Let's now use it to forecast what's likely to occur in future."
      ]
    },
    {
      "cell_type": "code",
      "metadata": {
        "scrolled": false,
        "id": "4EVMbFo0jF3e"
      },
      "source": [
        "# Declare a variable called forecast_period with the amount of months to forecast, and\n",
        "# create a range of future dates that is the length of the periods you've chosen to forecast\n",
        "_ _ _ = _ _ _\n",
        "date_range = pd.date_range(y_log.index[-1], periods = forecast_period, \n",
        "              freq='MS').strftime(\"%Y-%m-%d\").tolist()\n",
        "\n",
        "# Convert that range into a dataframe that includes your predictions\n",
        "# First, call DataFrame on pd\n",
        "future_months = pd._ _ _(date_range, columns = ['Month']\n",
        "# Let's now convert the 'Month' column to a datetime object with to_datetime \n",
        "future_months['Month'] = pd._ _ _(future_months['Month'])\n",
        "future_months.set_index('Month', inplace = True)\n",
        "future_months['Prediction'] = forecast[0]\n",
        "\n",
        "# Plot your future predictions\n",
        "# Call figure() on plt\n",
        "plt._ _ _(figsize=(15,10))\n",
        "plt.plot(y_log)\n",
        "plt.plot(y_log['Nov 1960'].append(future_months['Prediction']))\n",
        "plt.show()"
      ],
      "execution_count": null,
      "outputs": []
    },
    {
      "cell_type": "code",
      "metadata": {
        "id": "yz2hyXfOjF3e"
      },
      "source": [
        "# Now plot the original variable y \n",
        "# Use the same functions as before\n",
        "plt._ _ _(figsize=(15,10))\n",
        "plt._ _ _(y)\n",
        "plt._ _ _(np.exp(y_log['Nov 1960'].append(future_months['Prediction'])))\n",
        "plt._ _ _()"
      ],
      "execution_count": null,
      "outputs": []
    },
    {
      "cell_type": "markdown",
      "metadata": {
        "id": "QHVXTHi9jF3e"
      },
      "source": [
        "## 4. Evaluating and Concluding\n",
        "\n",
        "Our model captures the centre of a line that's increasing at a remarkable rate. Cowboy Cigarettes sell more cigarettes in the summer, perhaps due to the good weather, disposable income and time off that people enjoy, and the least in the winter, when people might be spending less and enjoying less free time outdoors. \n",
        "\n",
        "Remarkably, our ARIMA model made predictions using just one variable. We can only speculate, however, on the causes of the behaviour predicted by our model. We should also take heed that spikes in data, due to sudden unusual circumstances like wars, are not handled well by ARIMA; and the outbreak of the Vietnam War in the 1960s would likely cause our model some distress.  \n",
        "\n",
        "We could suggest to our employers that, if they are interested in discovering the causes of the cigarette sales trajectory, they execute a regression analysis in addition to the time series one. "
      ]
    }
  ]
}