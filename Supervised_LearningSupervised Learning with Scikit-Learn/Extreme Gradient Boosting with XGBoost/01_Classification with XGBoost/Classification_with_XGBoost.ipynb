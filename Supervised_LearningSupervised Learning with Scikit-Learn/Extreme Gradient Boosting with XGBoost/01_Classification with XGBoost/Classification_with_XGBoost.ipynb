{
  "nbformat": 4,
  "nbformat_minor": 0,
  "metadata": {
    "colab": {
      "name": "Classification with XGBoost.ipynb",
      "provenance": [],
      "authorship_tag": "ABX9TyO8SrbUzsRXbEFKlMZ1BPhP",
      "include_colab_link": true
    },
    "kernelspec": {
      "name": "python3",
      "display_name": "Python 3"
    }
  },
  "cells": [
    {
      "cell_type": "markdown",
      "metadata": {
        "id": "view-in-github",
        "colab_type": "text"
      },
      "source": [
        "<a href=\"https://colab.research.google.com/github/villafue/Machine_Learning_Notes/blob/master/Supervised_LearningSupervised%20Learning%20with%20Scikit-Learn/Extreme%20Gradient%20Boosting%20with%20XGBoost/01_Classification%20with%20XGBoost/Classification_with_XGBoost.ipynb\" target=\"_parent\"><img src=\"https://colab.research.google.com/assets/colab-badge.svg\" alt=\"Open In Colab\"/></a>"
      ]
    },
    {
      "cell_type": "markdown",
      "metadata": {
        "id": "sPBVFUxcWzpw"
      },
      "source": [
        "# Classification with XGBoost\n",
        "\n",
        "This chapter will introduce you to the fundamental idea behind XGBoost—boosted learners. Once you understand how XGBoost works, you'll apply it to solve a common classification problem found in industry: predicting whether a customer will stop being a customer at some point in the future."
      ]
    },
    {
      "cell_type": "markdown",
      "metadata": {
        "id": "R9AjTAHqXfTB"
      },
      "source": [
        "# Which of these is a classification problem?\n",
        "Given below are 4 potential machine learning problems you might encounter in the wild. Pick the one that is a classification problem.\n",
        "\n",
        "Incorrect Answers:\n",
        "\n",
        "- Given past performance of stocks and various other financial data, predicting the exact price of a given stock (Google) tomorrow.\n",
        " - Not quite. This is an example of a regression problem, because we are predicting a continuous quantity.\n",
        "\n",
        "- Given a large dataset of user behaviors on a website, generating an informative segmentation of the users based on their behaviors.\n",
        " - There's nothing to predict here, this is an unsupervised (clustering) problem. Try again.\n",
        "\n",
        "- Given a user's past behavior on a video platform, presenting him/her with a series of recommended videos to watch next.\n",
        " - Incorrect. This problem involves ranking entities and returning the highest ranked ones (in order) to the user.\n",
        "\n",
        "Correct Answer:\n",
        "\n",
        "- Predicting whether a given user will click on an ad given the ad content and metadata associated with the user.\n",
        " - Well done! This is indeed a classification problem."
      ]
    },
    {
      "cell_type": "markdown",
      "metadata": {
        "id": "f_mmd_wMgY84"
      },
      "source": [
        "# Which of these is a binary classification problem?\n",
        "\n",
        "Great! A classification problem involves predicting the category a given data point belongs to out of a finite se- t of possible categories. Depending on how many possible categories there are to predict, a classification problem can be either binary or multi-class. Let's do another quick refresher here. Your job is to pick the binary classification problem out of the following list of supervised learning problems.\n",
        "\n",
        "Incorrect Answers:\n",
        "\n",
        "- Predicting the emotional valence of a sentence (Valence can be positive, negative, or neutral).\n",
        " - There are 3 categories to choose from here. Try again.\n",
        "\n",
        "- Recommending the most tax-efficient strategy for tax filing in an automated accounting system.\n",
        " - This smells like a recommendation problem, not a classification problem.\n",
        "\n",
        "- Given a list of symptoms, generating a rank-ordered list of most likely diseases.\n",
        " - Incorrect. This is a recommendation problem.\n",
        "\n",
        "Correct Answer:\n",
        "\n",
        "- Predicting whether a given image contains a cat.\n",
        "press\n",
        " - Correct! A binary classification problem involves picking between 2 choices.\n"
      ]
    },
    {
      "cell_type": "markdown",
      "metadata": {
        "id": "hsusXTMpJQ0B"
      },
      "source": [
        "# XGBoost: Fit/Predict\n",
        "It's time to create your first XGBoost model! As Sergey showed you in the video, you can use the scikit-learn .fit() / .predict() paradigm that you are already familiar to build your XGBoost models, as the xgboost library has a scikit-learn compatible API!\n",
        "\n",
        "Here, you'll be working with churn data. This dataset contains imaginary data from a ride-sharing app with user behaviors over their first month of app usage in a set of imaginary cities as well as whether they used the service 5 months after sign-up. It has been pre-loaded for you into a DataFrame called churn_data - explore it in the Shell!\n",
        "\n",
        "Your goal is to use the first month's worth of data to predict whether the app's users will remain users of the service at the 5 month mark. This is a typical setup for a churn prediction problem. To do this, you'll split the data into training and test sets, fit a small xgboost model on the training set, and evaluate its performance on the test set by computing its accuracy.\n",
        "\n",
        "pandas and numpy have been imported as pd and np, and train_test_split has been imported from sklearn.model_selection. Additionally, the arrays for the features and the target have been created as X and y.\n",
        "\n",
        "Instructions:\n",
        "\n",
        "- Import xgboost as xgb.\n",
        "- Create training and test sets such that 20% of the data is used for testing. Use a random_state of 123.\n",
        "- Instantiate an XGBoostClassifier as xg_cl using xgb.XGBClassifier(). Specify n_estimators to be 10 estimators and an objective of 'binary:logistic'. Do not worry about what this means just yet, you will learn about these parameters later in this course.\n",
        "- Fit xg_cl to the training set (X_train, y_train) using the .fit() method.\n",
        "- Predict the labels of the test set (X_test) using the .predict() method and hit 'Submit Answer' to print the accuracy.\n",
        "\n",
        "Conclusion:\n",
        "\n",
        "Well done! Your model has an accuracy of around 74%. In Chapter 3, you'll learn about ways to fine tune your XGBoost models. For now, let's refresh our memories on how decision trees work. See you in the next video!"
      ]
    },
    {
      "cell_type": "code",
      "metadata": {
        "id": "nyTjF5gqWUpt"
      },
      "source": [
        "# Import xgboost\n",
        "import xgboost as xgb\n",
        "\n",
        "# Create arrays for the features and the target: X, y\n",
        "X, y = churn_data.iloc[:,:-1], churn_data.iloc[:,-1]\n",
        "\n",
        "# Create the training and test sets\n",
        "X_train, X_test, y_train, y_test= train_test_split(X, y, test_size=0.20, random_state=123)\n",
        "\n",
        "# Instantiate the XGBClassifier: xg_cl\n",
        "xg_cl = xgb.XGBClassifier(objective='binary:logistic', n_estimators=10, seed=123)\n",
        "\n",
        "# Fit the classifier to the training set\n",
        "xg_cl.fit(X_train, y_train)\n",
        "\n",
        "# Predict the labels of the test set: preds\n",
        "preds = xg_cl.predict(X_test)\n",
        "\n",
        "# Compute the accuracy: accuracy\n",
        "accuracy = float(np.sum(preds==y_test))/y_test.shape[0]\n",
        "print(\"accuracy: %f\" % (accuracy))\n",
        "\n",
        "'''\n",
        "<script.py> output:\n",
        "    accuracy: 0.743300\n",
        "'''"
      ],
      "execution_count": null,
      "outputs": []
    },
    {
      "cell_type": "markdown",
      "metadata": {
        "id": "3smJ0cxgRTOp"
      },
      "source": [
        "# Decision trees\n",
        "Your task in this exercise is to make a simple decision tree using scikit-learn's DecisionTreeClassifier on the breast cancer dataset that comes pre-loaded with scikit-learn.\n",
        "\n",
        "This dataset contains numeric measurements of various dimensions of individual tumors (such as perimeter and texture) from breast biopsies and a single outcome value (the tumor is either malignant, or benign).\n",
        "\n",
        "We've preloaded the dataset of samples (measurements) into X and the target values per tumor into y. Now, you have to split the complete dataset into training and testing sets, and then train a DecisionTreeClassifier. You'll specify a parameter called max_depth. Many other parameters can be modified within this model, and you can check all of them out here.\n",
        "\n",
        "Instructions\n",
        "\n",
        "- Import:\n",
        " - train_test_split from sklearn.model_selection.\n",
        " - DecisionTreeClassifier from sklearn.tree.\n",
        "- Create training and test sets such that 20% of the data is used for testing. Use a random_state of 123.\n",
        "- Instantiate a DecisionTreeClassifier called dt_clf_4 with a max_depth of 4. This parameter specifies the maximum number of successive split points you can have before reaching a leaf node.\n",
        "- Fit the classifier to the training set and predict the labels of the test set.\n",
        "\n",
        "Conclusion:\n",
        "\n",
        "Great work! It's now time to learn about what gives XGBoost its state-of-the-art performance: Boosting."
      ]
    },
    {
      "cell_type": "code",
      "metadata": {
        "id": "JdbwUcWL7smi"
      },
      "source": [
        "# Import the necessary modules\n",
        "from sklearn.model_selection import train_test_split\n",
        "from sklearn.tree import DecisionTreeClassifier\n",
        "\n",
        "# Create the training and test sets\n",
        "X_train, X_test, y_train, y_test = train_test_split(X, y, test_size=0.20, random_state=123)\n",
        "\n",
        "# Instantiate the classifier: dt_clf_4\n",
        "dt_clf_4 = DecisionTreeClassifier(max_depth=4)\n",
        "\n",
        "# Fit the classifier to the training set\n",
        "dt_clf_4.fit(X_train, y_train)\n",
        "\n",
        "# Predict the labels of the test set: y_pred_4\n",
        "y_pred_4 = dt_clf_4.predict(X_test)\n",
        "\n",
        "# Compute the accuracy of the predictions: accuracy\n",
        "accuracy = float(np.sum(y_pred_4==y_test))/y_test.shape[0]\n",
        "print(\"accuracy:\", accuracy)\n",
        "\n",
        "'''\n",
        "<script.py> output:\n",
        "    accuracy: 0.9649122807017544\n",
        "'''"
      ],
      "execution_count": null,
      "outputs": []
    },
    {
      "cell_type": "markdown",
      "metadata": {
        "id": "M_YfKynr-dpA"
      },
      "source": [
        "# Measuring accuracy\n",
        "You'll now practice using XGBoost's learning API through its baked in cross-validation capabilities. As Sergey discussed in the previous video, XGBoost gets its lauded performance and efficiency gains by utilizing its own optimized data structure for datasets called a DMatrix.\n",
        "\n",
        "In the previous exercise, the input datasets were converted into DMatrix data on the fly, but when you use the xgboost cv object, you have to first explicitly convert your data into a DMatrix. So, that's what you will do here before running cross-validation on churn_data.\n",
        "\n",
        "Instructions\n",
        "\n",
        "- Create a DMatrix called churn_dmatrix from churn_data using xgb.DMatrix(). The features are available in X and the labels in y.\n",
        "- Perform 3-fold cross-validation by calling xgb.cv(). dtrain is your churn_dmatrix, params is your parameter dictionary, nfold is the number of cross-validation folds (3), num_boost_round is the number of trees we want to build (5), metrics is the metric you want to compute (this will be \"error\", which we will convert to an accuracy)\n",
        "\n",
        "Conclusion\n",
        "\n",
        "Nice work. cv_results stores the training and test mean and standard deviation of the error per boosting round (tree built) as a DataFrame. From cv_results, the final round 'test-error-mean' is extracted and converted into an accuracy, where accuracy is 1-error. The final accuracy of around 75% is an improvement from earlier!"
      ]
    },
    {
      "cell_type": "code",
      "metadata": {
        "id": "m3DftFW9DlmQ"
      },
      "source": [
        "# Create arrays for the features and the target: X, y\n",
        "X, y = churn_data.iloc[:,:-1], churn_data.iloc[:,-1]\n",
        "\n",
        "# Create the DMatrix from X and y: churn_dmatrix\n",
        "churn_dmatrix = xgb.DMatrix(data=X, label=y)\n",
        "\n",
        "# Create the parameter dictionary: params\n",
        "params = {\"objective\":\"reg:logistic\", \"max_depth\":3}\n",
        "\n",
        "# Perform cross-validation: cv_results\n",
        "cv_results = xgb.cv(dtrain=churn_dmatrix, params=params, \n",
        "                  nfold=3, num_boost_round=5, \n",
        "                  metrics=\"error\", as_pandas=True, seed=123)\n",
        "\n",
        "# Print cv_results\n",
        "print(cv_results)\n",
        "\n",
        "# Print the accuracy\n",
        "print(((1-cv_results[\"test-error-mean\"]).iloc[-1]))\n",
        "\n",
        "'''\n",
        "<script.py> output:\n",
        "       train-error-mean  train-error-std  test-error-mean  test-error-std\n",
        "    0           0.28232         0.002366          0.28378        0.001932\n",
        "    1           0.26951         0.001855          0.27190        0.001932\n",
        "    2           0.25605         0.003213          0.25798        0.003963\n",
        "    3           0.25090         0.001845          0.25434        0.003827\n",
        "    4           0.24654         0.001981          0.24852        0.000934\n",
        "    0.75148\n",
        "'''"
      ],
      "execution_count": null,
      "outputs": []
    },
    {
      "cell_type": "markdown",
      "metadata": {
        "id": "brf6QnYPDu7r"
      },
      "source": [
        "# Measuring AUC\n",
        "Now that you've used cross-validation to compute average out-of-sample accuracy (after converting from an error), it's very easy to compute any other metric you might be interested in. All you have to do is pass it (or a list of metrics) in as an argument to the metrics parameter of xgb.cv().\n",
        "\n",
        "Your job in this exercise is to compute another common metric used in binary classification - the area under the curve (\"auc\"). As before, churn_data is available in your workspace, along with the DMatrix churn_dmatrix and parameter dictionary params.\n",
        "\n",
        "Instructions\n",
        "\n",
        "- Perform 3-fold cross-validation with 5 boosting rounds and \"auc\" as your metric.\n",
        "- Print the \"test-auc-mean\" column of cv_results.\n",
        "\n",
        "Conclusion:\n",
        "\n",
        "Fantastic! An AUC of 0.84 is quite strong. As you have seen, XGBoost's learning API makes it very easy to compute any metric you may be interested in. In Chapter 3, you'll learn about techniques to fine-tune your XGBoost models to improve their performance even further. For now, it's time to learn a little about exactly when to use XGBoost."
      ]
    },
    {
      "cell_type": "code",
      "metadata": {
        "id": "jQ0d-mb7EFXD"
      },
      "source": [
        "# Perform cross_validation: cv_results\n",
        "cv_results = xgb.cv(dtrain=churn_dmatrix, params=params, \n",
        "                  nfold=3, num_boost_round=5, \n",
        "                  metrics=\"auc\", as_pandas=True, seed=123)\n",
        "\n",
        "# Print cv_results\n",
        "print(cv_results)\n",
        "\n",
        "# Print the AUC\n",
        "print((cv_results[\"test-auc-mean\"]).iloc[-1])\n",
        "\n",
        "'''\n",
        "<script.py> output:\n",
        "       train-auc-mean  train-auc-std  test-auc-mean  test-auc-std\n",
        "    0        0.768893       0.001544       0.767863      0.002820\n",
        "    1        0.790864       0.006758       0.789157      0.006846\n",
        "    2        0.815872       0.003900       0.814476      0.005997\n",
        "    3        0.822959       0.002018       0.821682      0.003912\n",
        "    4        0.827528       0.000769       0.826191      0.001937\n",
        "    0.826191\n",
        "'''"
      ],
      "execution_count": null,
      "outputs": []
    },
    {
      "cell_type": "markdown",
      "metadata": {
        "id": "kp4uU3muFzPi"
      },
      "source": [
        "# Using XGBoost\n",
        "XGBoost is a powerful library that scales very well to many samples and works for a variety of supervised learning problems. That said, as Sergey described in the video, you shouldn't always pick it as your default machine learning library when starting a new project, since there are some situations in which it is not the best option. In this exercise, your job is to consider the below examples and select the one which would be the best use of XGBoost.\n",
        "\n",
        "**Incorrect Answers**\n",
        "\n",
        "1. Visualizing the similarity between stocks by comparing the time series of their historical prices relative to each other.\n",
        "\n",
        " - This is an example of a clustering problem - there are no labels to learn from here.\n",
        "\n",
        "2. Predicting whether a person will develop cancer using genetic data with millions of genes, 23 examples of genomes of people that didn't develop cancer, 3 genomes of people who wound up getting cancer.\n",
        " - This would not be an ideal use of XGBoost as there are many more features than there are examples.\n",
        "\n",
        "3. Clustering documents into topics based on the terms used in them.\n",
        " - This is an example of a clustering problem. There are no targets and so you cannot use supervised learning.\n",
        "\n",
        "**Correct Answer**\n",
        "\n",
        "Predicting the likelihood that a given user will click an ad from a very large clickstream log with millions of users and their web interactions.\n",
        "\n",
        "**Conclusion**\n",
        "\n",
        "Correct! Way to end the chapter. Time to apply XGBoost to solve regression problems!"
      ]
    }
  ]
}