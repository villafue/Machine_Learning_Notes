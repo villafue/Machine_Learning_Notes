{
  "nbformat": 4,
  "nbformat_minor": 0,
  "metadata": {
    "kernelspec": {
      "display_name": "Python 3",
      "language": "python",
      "name": "python3"
    },
    "language_info": {
      "codemirror_mode": {
        "name": "ipython",
        "version": 3
      },
      "file_extension": ".py",
      "mimetype": "text/x-python",
      "name": "python",
      "nbconvert_exporter": "python",
      "pygments_lexer": "ipython3",
      "version": "3.7.4"
    },
    "colab": {
      "name": "GridSearchKNN_Case_Study.ipynb",
      "provenance": [],
      "include_colab_link": true
    }
  },
  "cells": [
    {
      "cell_type": "markdown",
      "metadata": {
        "id": "view-in-github",
        "colab_type": "text"
      },
      "source": [
        "<a href=\"https://colab.research.google.com/github/villafue/Machine_Learning_Notes/blob/master/18%20Machine%20Learning%20Applications/2%20Model%20Optimization/4%20Grid%20Search%20in%20KNN/GridSearchKNN_Case_Study.ipynb\" target=\"_parent\"><img src=\"https://colab.research.google.com/assets/colab-badge.svg\" alt=\"Open In Colab\"/></a>"
      ]
    },
    {
      "cell_type": "markdown",
      "metadata": {
        "id": "Jw1oeeLIGQhQ"
      },
      "source": [
        "## Grid Search Hyperparameter optimization"
      ]
    },
    {
      "cell_type": "markdown",
      "metadata": {
        "id": "Gh962M88GQhT"
      },
      "source": [
        "This case study is all about using grid searches to identify the optimal parameters for a machine learning algorithm. To complere this case study, you'll use the Pima Indian diabetes dataset from Kaggle and KNN. Follow along with the preprocessing steps of this case study."
      ]
    },
    {
      "cell_type": "markdown",
      "metadata": {
        "tags": [],
        "id": "vzv5-UKMGQhU"
      },
      "source": [
        "Load the necessary packages"
      ]
    },
    {
      "cell_type": "code",
      "metadata": {
        "id": "_NPPu3ZFGQhV"
      },
      "source": [
        "import numpy as np\n",
        "import pandas as pd\n",
        "import matplotlib.pyplot as plt\n",
        "import seaborn as sns\n",
        "from sklearn import preprocessing\n",
        "sns.set()\n",
        "\n",
        "# set random seed to try make this exercise and solutions reproducible (NB: this is just for teaching purpose and not something you would do in real life)\n",
        "random_seed_number = 42\n",
        "np.random.seed(random_seed_number)"
      ],
      "execution_count": 1,
      "outputs": []
    },
    {
      "cell_type": "code",
      "metadata": {
        "id": "O1iScOTzGXvZ"
      },
      "source": [
        "plt.rcParams.update(plt.rcParamsDefault)\r\n",
        "%matplotlib inline\r\n",
        "plt.style.use(['seaborn-whitegrid'])"
      ],
      "execution_count": 2,
      "outputs": []
    },
    {
      "cell_type": "markdown",
      "metadata": {
        "tags": [],
        "id": "WdoxN6d1GQhV"
      },
      "source": [
        "#### Load the diabetes data"
      ]
    },
    {
      "cell_type": "code",
      "metadata": {
        "id": "FaKGJAWPGQhV",
        "outputId": "6c0db52a-247e-4c51-c079-ed1389750e6b",
        "colab": {
          "base_uri": "https://localhost:8080/",
          "height": 195
        }
      },
      "source": [
        "diabetes_data = pd.read_csv('https://raw.githubusercontent.com/villafue/Machine_Learning_Notes/master/18%20Machine%20Learning%20Applications/2%20Model%20Optimization/4%20Grid%20Search%20in%20KNN/data/diabetes.csv')\n",
        "diabetes_data.head()"
      ],
      "execution_count": 3,
      "outputs": [
        {
          "output_type": "execute_result",
          "data": {
            "text/html": [
              "<div>\n",
              "<style scoped>\n",
              "    .dataframe tbody tr th:only-of-type {\n",
              "        vertical-align: middle;\n",
              "    }\n",
              "\n",
              "    .dataframe tbody tr th {\n",
              "        vertical-align: top;\n",
              "    }\n",
              "\n",
              "    .dataframe thead th {\n",
              "        text-align: right;\n",
              "    }\n",
              "</style>\n",
              "<table border=\"1\" class=\"dataframe\">\n",
              "  <thead>\n",
              "    <tr style=\"text-align: right;\">\n",
              "      <th></th>\n",
              "      <th>Pregnancies</th>\n",
              "      <th>Glucose</th>\n",
              "      <th>BloodPressure</th>\n",
              "      <th>SkinThickness</th>\n",
              "      <th>Insulin</th>\n",
              "      <th>BMI</th>\n",
              "      <th>DiabetesPedigreeFunction</th>\n",
              "      <th>Age</th>\n",
              "      <th>Outcome</th>\n",
              "    </tr>\n",
              "  </thead>\n",
              "  <tbody>\n",
              "    <tr>\n",
              "      <th>0</th>\n",
              "      <td>6</td>\n",
              "      <td>148</td>\n",
              "      <td>72</td>\n",
              "      <td>35</td>\n",
              "      <td>0</td>\n",
              "      <td>33.6</td>\n",
              "      <td>0.627</td>\n",
              "      <td>50</td>\n",
              "      <td>1</td>\n",
              "    </tr>\n",
              "    <tr>\n",
              "      <th>1</th>\n",
              "      <td>1</td>\n",
              "      <td>85</td>\n",
              "      <td>66</td>\n",
              "      <td>29</td>\n",
              "      <td>0</td>\n",
              "      <td>26.6</td>\n",
              "      <td>0.351</td>\n",
              "      <td>31</td>\n",
              "      <td>0</td>\n",
              "    </tr>\n",
              "    <tr>\n",
              "      <th>2</th>\n",
              "      <td>8</td>\n",
              "      <td>183</td>\n",
              "      <td>64</td>\n",
              "      <td>0</td>\n",
              "      <td>0</td>\n",
              "      <td>23.3</td>\n",
              "      <td>0.672</td>\n",
              "      <td>32</td>\n",
              "      <td>1</td>\n",
              "    </tr>\n",
              "    <tr>\n",
              "      <th>3</th>\n",
              "      <td>1</td>\n",
              "      <td>89</td>\n",
              "      <td>66</td>\n",
              "      <td>23</td>\n",
              "      <td>94</td>\n",
              "      <td>28.1</td>\n",
              "      <td>0.167</td>\n",
              "      <td>21</td>\n",
              "      <td>0</td>\n",
              "    </tr>\n",
              "    <tr>\n",
              "      <th>4</th>\n",
              "      <td>0</td>\n",
              "      <td>137</td>\n",
              "      <td>40</td>\n",
              "      <td>35</td>\n",
              "      <td>168</td>\n",
              "      <td>43.1</td>\n",
              "      <td>2.288</td>\n",
              "      <td>33</td>\n",
              "      <td>1</td>\n",
              "    </tr>\n",
              "  </tbody>\n",
              "</table>\n",
              "</div>"
            ],
            "text/plain": [
              "   Pregnancies  Glucose  BloodPressure  ...  DiabetesPedigreeFunction  Age  Outcome\n",
              "0            6      148             72  ...                     0.627   50        1\n",
              "1            1       85             66  ...                     0.351   31        0\n",
              "2            8      183             64  ...                     0.672   32        1\n",
              "3            1       89             66  ...                     0.167   21        0\n",
              "4            0      137             40  ...                     2.288   33        1\n",
              "\n",
              "[5 rows x 9 columns]"
            ]
          },
          "metadata": {
            "tags": []
          },
          "execution_count": 3
        }
      ]
    },
    {
      "cell_type": "markdown",
      "metadata": {
        "tags": [],
        "id": "C_JCWP1qGQhX"
      },
      "source": [
        "**<font color='teal'> Start by reviewing the data info.</font>**"
      ]
    },
    {
      "cell_type": "code",
      "metadata": {
        "id": "1fS7RKLEGQhX",
        "outputId": "85c064cc-8abc-4bef-972f-2a0dc1939afc",
        "colab": {
          "base_uri": "https://localhost:8080/"
        }
      },
      "source": [
        "diabetes_data.info()"
      ],
      "execution_count": 4,
      "outputs": [
        {
          "output_type": "stream",
          "text": [
            "<class 'pandas.core.frame.DataFrame'>\n",
            "RangeIndex: 768 entries, 0 to 767\n",
            "Data columns (total 9 columns):\n",
            " #   Column                    Non-Null Count  Dtype  \n",
            "---  ------                    --------------  -----  \n",
            " 0   Pregnancies               768 non-null    int64  \n",
            " 1   Glucose                   768 non-null    int64  \n",
            " 2   BloodPressure             768 non-null    int64  \n",
            " 3   SkinThickness             768 non-null    int64  \n",
            " 4   Insulin                   768 non-null    int64  \n",
            " 5   BMI                       768 non-null    float64\n",
            " 6   DiabetesPedigreeFunction  768 non-null    float64\n",
            " 7   Age                       768 non-null    int64  \n",
            " 8   Outcome                   768 non-null    int64  \n",
            "dtypes: float64(2), int64(7)\n",
            "memory usage: 54.1 KB\n"
          ],
          "name": "stdout"
        }
      ]
    },
    {
      "cell_type": "markdown",
      "metadata": {
        "tags": [],
        "id": "QYWrRciZGQhX"
      },
      "source": [
        "**<font color='teal'> Apply the describe function to the data.</font>**"
      ]
    },
    {
      "cell_type": "code",
      "metadata": {
        "id": "sQTfUaRuGQhY",
        "outputId": "3ea9daff-e8b0-45ba-b85b-79798e0aa92c",
        "colab": {
          "base_uri": "https://localhost:8080/",
          "height": 314
        }
      },
      "source": [
        "diabetes_data.describe().T"
      ],
      "execution_count": 5,
      "outputs": [
        {
          "output_type": "execute_result",
          "data": {
            "text/html": [
              "<div>\n",
              "<style scoped>\n",
              "    .dataframe tbody tr th:only-of-type {\n",
              "        vertical-align: middle;\n",
              "    }\n",
              "\n",
              "    .dataframe tbody tr th {\n",
              "        vertical-align: top;\n",
              "    }\n",
              "\n",
              "    .dataframe thead th {\n",
              "        text-align: right;\n",
              "    }\n",
              "</style>\n",
              "<table border=\"1\" class=\"dataframe\">\n",
              "  <thead>\n",
              "    <tr style=\"text-align: right;\">\n",
              "      <th></th>\n",
              "      <th>count</th>\n",
              "      <th>mean</th>\n",
              "      <th>std</th>\n",
              "      <th>min</th>\n",
              "      <th>25%</th>\n",
              "      <th>50%</th>\n",
              "      <th>75%</th>\n",
              "      <th>max</th>\n",
              "    </tr>\n",
              "  </thead>\n",
              "  <tbody>\n",
              "    <tr>\n",
              "      <th>Pregnancies</th>\n",
              "      <td>768.0</td>\n",
              "      <td>3.845052</td>\n",
              "      <td>3.369578</td>\n",
              "      <td>0.000</td>\n",
              "      <td>1.00000</td>\n",
              "      <td>3.0000</td>\n",
              "      <td>6.00000</td>\n",
              "      <td>17.00</td>\n",
              "    </tr>\n",
              "    <tr>\n",
              "      <th>Glucose</th>\n",
              "      <td>768.0</td>\n",
              "      <td>120.894531</td>\n",
              "      <td>31.972618</td>\n",
              "      <td>0.000</td>\n",
              "      <td>99.00000</td>\n",
              "      <td>117.0000</td>\n",
              "      <td>140.25000</td>\n",
              "      <td>199.00</td>\n",
              "    </tr>\n",
              "    <tr>\n",
              "      <th>BloodPressure</th>\n",
              "      <td>768.0</td>\n",
              "      <td>69.105469</td>\n",
              "      <td>19.355807</td>\n",
              "      <td>0.000</td>\n",
              "      <td>62.00000</td>\n",
              "      <td>72.0000</td>\n",
              "      <td>80.00000</td>\n",
              "      <td>122.00</td>\n",
              "    </tr>\n",
              "    <tr>\n",
              "      <th>SkinThickness</th>\n",
              "      <td>768.0</td>\n",
              "      <td>20.536458</td>\n",
              "      <td>15.952218</td>\n",
              "      <td>0.000</td>\n",
              "      <td>0.00000</td>\n",
              "      <td>23.0000</td>\n",
              "      <td>32.00000</td>\n",
              "      <td>99.00</td>\n",
              "    </tr>\n",
              "    <tr>\n",
              "      <th>Insulin</th>\n",
              "      <td>768.0</td>\n",
              "      <td>79.799479</td>\n",
              "      <td>115.244002</td>\n",
              "      <td>0.000</td>\n",
              "      <td>0.00000</td>\n",
              "      <td>30.5000</td>\n",
              "      <td>127.25000</td>\n",
              "      <td>846.00</td>\n",
              "    </tr>\n",
              "    <tr>\n",
              "      <th>BMI</th>\n",
              "      <td>768.0</td>\n",
              "      <td>31.992578</td>\n",
              "      <td>7.884160</td>\n",
              "      <td>0.000</td>\n",
              "      <td>27.30000</td>\n",
              "      <td>32.0000</td>\n",
              "      <td>36.60000</td>\n",
              "      <td>67.10</td>\n",
              "    </tr>\n",
              "    <tr>\n",
              "      <th>DiabetesPedigreeFunction</th>\n",
              "      <td>768.0</td>\n",
              "      <td>0.471876</td>\n",
              "      <td>0.331329</td>\n",
              "      <td>0.078</td>\n",
              "      <td>0.24375</td>\n",
              "      <td>0.3725</td>\n",
              "      <td>0.62625</td>\n",
              "      <td>2.42</td>\n",
              "    </tr>\n",
              "    <tr>\n",
              "      <th>Age</th>\n",
              "      <td>768.0</td>\n",
              "      <td>33.240885</td>\n",
              "      <td>11.760232</td>\n",
              "      <td>21.000</td>\n",
              "      <td>24.00000</td>\n",
              "      <td>29.0000</td>\n",
              "      <td>41.00000</td>\n",
              "      <td>81.00</td>\n",
              "    </tr>\n",
              "    <tr>\n",
              "      <th>Outcome</th>\n",
              "      <td>768.0</td>\n",
              "      <td>0.348958</td>\n",
              "      <td>0.476951</td>\n",
              "      <td>0.000</td>\n",
              "      <td>0.00000</td>\n",
              "      <td>0.0000</td>\n",
              "      <td>1.00000</td>\n",
              "      <td>1.00</td>\n",
              "    </tr>\n",
              "  </tbody>\n",
              "</table>\n",
              "</div>"
            ],
            "text/plain": [
              "                          count        mean  ...        75%     max\n",
              "Pregnancies               768.0    3.845052  ...    6.00000   17.00\n",
              "Glucose                   768.0  120.894531  ...  140.25000  199.00\n",
              "BloodPressure             768.0   69.105469  ...   80.00000  122.00\n",
              "SkinThickness             768.0   20.536458  ...   32.00000   99.00\n",
              "Insulin                   768.0   79.799479  ...  127.25000  846.00\n",
              "BMI                       768.0   31.992578  ...   36.60000   67.10\n",
              "DiabetesPedigreeFunction  768.0    0.471876  ...    0.62625    2.42\n",
              "Age                       768.0   33.240885  ...   41.00000   81.00\n",
              "Outcome                   768.0    0.348958  ...    1.00000    1.00\n",
              "\n",
              "[9 rows x 8 columns]"
            ]
          },
          "metadata": {
            "tags": []
          },
          "execution_count": 5
        }
      ]
    },
    {
      "cell_type": "markdown",
      "metadata": {
        "tags": [],
        "id": "VTdQXB8mGQhY"
      },
      "source": [
        "**<font color='teal'> Currently, the missing values in the dataset are represented as zeros. Replace the zero values in the following columns ['Glucose','BloodPressure','SkinThickness','Insulin','BMI'] with nan .</font>**"
      ]
    },
    {
      "cell_type": "code",
      "metadata": {
        "id": "-Xr823KuGQhY"
      },
      "source": [
        "\r\n",
        "\r\n",
        "#cols = ['Glucose', 'BloodPressure', 'SkinThickness', 'Insulin', 'BMI']\r\n",
        "#df2[cols] = df2[cols].replace({'0':np.nan, 0:np.nan})\r\n",
        "for cols in ('Glucose', 'BloodPressure', 'SkinThickness', 'Insulin', 'BMI'):\r\n",
        "    diabetes_data[cols] = diabetes_data[cols].replace(0, np.nan)\r\n"
      ],
      "execution_count": 6,
      "outputs": []
    },
    {
      "cell_type": "code",
      "metadata": {
        "id": "F1a0kynPKSmx",
        "outputId": "2c9aae33-f117-4df7-d4f9-2ea70117b699",
        "colab": {
          "base_uri": "https://localhost:8080/"
        }
      },
      "source": [
        "diabetes_data.info()"
      ],
      "execution_count": 7,
      "outputs": [
        {
          "output_type": "stream",
          "text": [
            "<class 'pandas.core.frame.DataFrame'>\n",
            "RangeIndex: 768 entries, 0 to 767\n",
            "Data columns (total 9 columns):\n",
            " #   Column                    Non-Null Count  Dtype  \n",
            "---  ------                    --------------  -----  \n",
            " 0   Pregnancies               768 non-null    int64  \n",
            " 1   Glucose                   763 non-null    float64\n",
            " 2   BloodPressure             733 non-null    float64\n",
            " 3   SkinThickness             541 non-null    float64\n",
            " 4   Insulin                   394 non-null    float64\n",
            " 5   BMI                       757 non-null    float64\n",
            " 6   DiabetesPedigreeFunction  768 non-null    float64\n",
            " 7   Age                       768 non-null    int64  \n",
            " 8   Outcome                   768 non-null    int64  \n",
            "dtypes: float64(6), int64(3)\n",
            "memory usage: 54.1 KB\n"
          ],
          "name": "stdout"
        }
      ]
    },
    {
      "cell_type": "code",
      "metadata": {
        "id": "hmiiOwdRKfdZ",
        "outputId": "c7c03559-46d9-4f63-9f51-f2e460a010d5",
        "colab": {
          "base_uri": "https://localhost:8080/",
          "height": 314
        }
      },
      "source": [
        "diabetes_data.describe().T"
      ],
      "execution_count": 8,
      "outputs": [
        {
          "output_type": "execute_result",
          "data": {
            "text/html": [
              "<div>\n",
              "<style scoped>\n",
              "    .dataframe tbody tr th:only-of-type {\n",
              "        vertical-align: middle;\n",
              "    }\n",
              "\n",
              "    .dataframe tbody tr th {\n",
              "        vertical-align: top;\n",
              "    }\n",
              "\n",
              "    .dataframe thead th {\n",
              "        text-align: right;\n",
              "    }\n",
              "</style>\n",
              "<table border=\"1\" class=\"dataframe\">\n",
              "  <thead>\n",
              "    <tr style=\"text-align: right;\">\n",
              "      <th></th>\n",
              "      <th>count</th>\n",
              "      <th>mean</th>\n",
              "      <th>std</th>\n",
              "      <th>min</th>\n",
              "      <th>25%</th>\n",
              "      <th>50%</th>\n",
              "      <th>75%</th>\n",
              "      <th>max</th>\n",
              "    </tr>\n",
              "  </thead>\n",
              "  <tbody>\n",
              "    <tr>\n",
              "      <th>Pregnancies</th>\n",
              "      <td>768.0</td>\n",
              "      <td>3.845052</td>\n",
              "      <td>3.369578</td>\n",
              "      <td>0.000</td>\n",
              "      <td>1.00000</td>\n",
              "      <td>3.0000</td>\n",
              "      <td>6.00000</td>\n",
              "      <td>17.00</td>\n",
              "    </tr>\n",
              "    <tr>\n",
              "      <th>Glucose</th>\n",
              "      <td>763.0</td>\n",
              "      <td>121.686763</td>\n",
              "      <td>30.535641</td>\n",
              "      <td>44.000</td>\n",
              "      <td>99.00000</td>\n",
              "      <td>117.0000</td>\n",
              "      <td>141.00000</td>\n",
              "      <td>199.00</td>\n",
              "    </tr>\n",
              "    <tr>\n",
              "      <th>BloodPressure</th>\n",
              "      <td>733.0</td>\n",
              "      <td>72.405184</td>\n",
              "      <td>12.382158</td>\n",
              "      <td>24.000</td>\n",
              "      <td>64.00000</td>\n",
              "      <td>72.0000</td>\n",
              "      <td>80.00000</td>\n",
              "      <td>122.00</td>\n",
              "    </tr>\n",
              "    <tr>\n",
              "      <th>SkinThickness</th>\n",
              "      <td>541.0</td>\n",
              "      <td>29.153420</td>\n",
              "      <td>10.476982</td>\n",
              "      <td>7.000</td>\n",
              "      <td>22.00000</td>\n",
              "      <td>29.0000</td>\n",
              "      <td>36.00000</td>\n",
              "      <td>99.00</td>\n",
              "    </tr>\n",
              "    <tr>\n",
              "      <th>Insulin</th>\n",
              "      <td>394.0</td>\n",
              "      <td>155.548223</td>\n",
              "      <td>118.775855</td>\n",
              "      <td>14.000</td>\n",
              "      <td>76.25000</td>\n",
              "      <td>125.0000</td>\n",
              "      <td>190.00000</td>\n",
              "      <td>846.00</td>\n",
              "    </tr>\n",
              "    <tr>\n",
              "      <th>BMI</th>\n",
              "      <td>757.0</td>\n",
              "      <td>32.457464</td>\n",
              "      <td>6.924988</td>\n",
              "      <td>18.200</td>\n",
              "      <td>27.50000</td>\n",
              "      <td>32.3000</td>\n",
              "      <td>36.60000</td>\n",
              "      <td>67.10</td>\n",
              "    </tr>\n",
              "    <tr>\n",
              "      <th>DiabetesPedigreeFunction</th>\n",
              "      <td>768.0</td>\n",
              "      <td>0.471876</td>\n",
              "      <td>0.331329</td>\n",
              "      <td>0.078</td>\n",
              "      <td>0.24375</td>\n",
              "      <td>0.3725</td>\n",
              "      <td>0.62625</td>\n",
              "      <td>2.42</td>\n",
              "    </tr>\n",
              "    <tr>\n",
              "      <th>Age</th>\n",
              "      <td>768.0</td>\n",
              "      <td>33.240885</td>\n",
              "      <td>11.760232</td>\n",
              "      <td>21.000</td>\n",
              "      <td>24.00000</td>\n",
              "      <td>29.0000</td>\n",
              "      <td>41.00000</td>\n",
              "      <td>81.00</td>\n",
              "    </tr>\n",
              "    <tr>\n",
              "      <th>Outcome</th>\n",
              "      <td>768.0</td>\n",
              "      <td>0.348958</td>\n",
              "      <td>0.476951</td>\n",
              "      <td>0.000</td>\n",
              "      <td>0.00000</td>\n",
              "      <td>0.0000</td>\n",
              "      <td>1.00000</td>\n",
              "      <td>1.00</td>\n",
              "    </tr>\n",
              "  </tbody>\n",
              "</table>\n",
              "</div>"
            ],
            "text/plain": [
              "                          count        mean  ...        75%     max\n",
              "Pregnancies               768.0    3.845052  ...    6.00000   17.00\n",
              "Glucose                   763.0  121.686763  ...  141.00000  199.00\n",
              "BloodPressure             733.0   72.405184  ...   80.00000  122.00\n",
              "SkinThickness             541.0   29.153420  ...   36.00000   99.00\n",
              "Insulin                   394.0  155.548223  ...  190.00000  846.00\n",
              "BMI                       757.0   32.457464  ...   36.60000   67.10\n",
              "DiabetesPedigreeFunction  768.0    0.471876  ...    0.62625    2.42\n",
              "Age                       768.0   33.240885  ...   41.00000   81.00\n",
              "Outcome                   768.0    0.348958  ...    1.00000    1.00\n",
              "\n",
              "[9 rows x 8 columns]"
            ]
          },
          "metadata": {
            "tags": []
          },
          "execution_count": 8
        }
      ]
    },
    {
      "cell_type": "markdown",
      "metadata": {
        "tags": [],
        "id": "IS0Fxag1GQhY"
      },
      "source": [
        "**<font color='teal'> Plot histograms of each column. </font>**"
      ]
    },
    {
      "cell_type": "markdown",
      "metadata": {
        "id": "vi27ndVbOp9C"
      },
      "source": [
        "[Loop Histogram](https://stackoverflow.com/questions/55172362/what-is-the-best-way-to-loop-over-pandas-columns-for-generating-histograms)\r\n",
        "\r\n",
        "This website is useless as Pandas has it's own hist method that does it easily. I'm pissed."
      ]
    },
    {
      "cell_type": "code",
      "metadata": {
        "id": "YuZTywEsjsM5",
        "outputId": "e69fa75a-8890-42d2-c538-223f72c0d339",
        "colab": {
          "base_uri": "https://localhost:8080/",
          "height": 1000
        }
      },
      "source": [
        "p = diabetes_data.hist(figsize = (20,20))"
      ],
      "execution_count": 9,
      "outputs": [
        {
          "output_type": "display_data",
          "data": {
            "image/png": "[encoded data removed]",
            "text/plain": [
              "<Figure size 1440x1440 with 9 Axes>"
            ]
          },
          "metadata": {
            "tags": []
          }
        }
      ]
    },
    {
      "cell_type": "code",
      "metadata": {
        "id": "IcIDIhmsGQhY",
        "outputId": "8f0b8434-db24-4682-f37f-766a3732fe5e",
        "colab": {
          "base_uri": "https://localhost:8080/",
          "height": 35
        }
      },
      "source": [
        "#Useless code but I'll save it for reference\r\n",
        "'''fig, axs = plt.subplots(len(diabetes_data.columns), figsize=(10, 25))\r\n",
        "for n, col in enumerate(diabetes_data.columns):\r\n",
        "    diabetes_data[col].hist(ax=axs[n])'''"
      ],
      "execution_count": 10,
      "outputs": [
        {
          "output_type": "execute_result",
          "data": {
            "application/vnd.google.colaboratory.intrinsic+json": {
              "type": "string"
            },
            "text/plain": [
              "'fig, axs = plt.subplots(len(diabetes_data.columns), figsize=(10, 25))\\nfor n, col in enumerate(diabetes_data.columns):\\n    diabetes_data[col].hist(ax=axs[n])'"
            ]
          },
          "metadata": {
            "tags": []
          },
          "execution_count": 10
        }
      ]
    },
    {
      "cell_type": "markdown",
      "metadata": {
        "tags": [],
        "id": "uq-Btl7xGQhZ"
      },
      "source": [
        "#### Replace the zeros with mean and median values."
      ]
    },
    {
      "cell_type": "code",
      "metadata": {
        "id": "Ejtsh-NyGQhZ"
      },
      "source": [
        "diabetes_data['Glucose'].fillna(diabetes_data['Glucose'].mean(), inplace = True)\n",
        "diabetes_data['BloodPressure'].fillna(diabetes_data['BloodPressure'].mean(), inplace = True)\n",
        "diabetes_data['SkinThickness'].fillna(diabetes_data['SkinThickness'].median(), inplace = True)\n",
        "diabetes_data['Insulin'].fillna(diabetes_data['Insulin'].median(), inplace = True)\n",
        "diabetes_data['BMI'].fillna(diabetes_data['BMI'].median(), inplace = True)"
      ],
      "execution_count": 11,
      "outputs": []
    },
    {
      "cell_type": "markdown",
      "metadata": {
        "tags": [],
        "id": "_JrT2l-hGQhZ"
      },
      "source": [
        "**<font color='teal'> Plot histograms of each column after replacing nan. </font>**"
      ]
    },
    {
      "cell_type": "code",
      "metadata": {
        "id": "s3Pd-GV7GQhZ",
        "outputId": "d76b027e-2ff8-4ee7-ffaa-1988fb289fe4",
        "colab": {
          "base_uri": "https://localhost:8080/",
          "height": 1000
        }
      },
      "source": [
        "px = diabetes_data.hist(figsize = (20,20))"
      ],
      "execution_count": 12,
      "outputs": [
        {
          "output_type": "display_data",
          "data": {
            "image/png": "[encoded data removed]",
            "text/plain": [
              "<Figure size 1440x1440 with 9 Axes>"
            ]
          },
          "metadata": {
            "tags": []
          }
        }
      ]
    },
    {
      "cell_type": "markdown",
      "metadata": {
        "tags": [],
        "id": "mtpzsEkXGQha"
      },
      "source": [
        "#### Plot the correlation matrix heatmap"
      ]
    },
    {
      "cell_type": "code",
      "metadata": {
        "id": "NTocvnaPGQha",
        "outputId": "2607157f-a49b-48b8-8533-0764fe861468",
        "colab": {
          "base_uri": "https://localhost:8080/",
          "height": 717
        }
      },
      "source": [
        "plt.figure(figsize=(12,10))\n",
        "print('Correlation between various features')\n",
        "p=sns.heatmap(diabetes_data.corr(), annot=True,cmap ='Blues')"
      ],
      "execution_count": 13,
      "outputs": [
        {
          "output_type": "stream",
          "text": [
            "Correlation between various features\n"
          ],
          "name": "stdout"
        },
        {
          "output_type": "display_data",
          "data": {
            "image/png": "[encoded data removed]",
            "text/plain": [
              "<Figure size 864x720 with 2 Axes>"
            ]
          },
          "metadata": {
            "tags": []
          }
        }
      ]
    },
    {
      "cell_type": "markdown",
      "metadata": {
        "tags": [],
        "id": "ZRoM2tGTGQha"
      },
      "source": [
        "**<font color='teal'> Define the `y` variable as the `Outcome` column.</font>**"
      ]
    },
    {
      "cell_type": "code",
      "metadata": {
        "id": "bmDeHTzAzRkC"
      },
      "source": [
        "# first we import the preprocessing package from the sklearn library\r\n",
        "df = diabetes_data\r\n",
        "from sklearn import preprocessing\r\n",
        "\r\n",
        "# Declare an explanatory variable, called X,and assign it the result of dropping 'Name' and 'AdultWeekend' from the df\r\n",
        "X = df.drop(['Outcome'], axis=1)\r\n",
        "\r\n",
        "# Declare a response variable, called y, and assign it the AdultWeekend column of the df \r\n",
        "y = df.Outcome\r\n",
        "\r\n",
        "# Here we use the StandardScaler() method of the preprocessing package, and then call the fit() method with parameter X \r\n",
        "scaler = preprocessing.StandardScaler().fit(X)\r\n",
        "\r\n",
        "# Declare a variable called X_scaled, and assign it the result of calling the transform() method with parameter X \r\n",
        "X_scaled=scaler.transform(X)"
      ],
      "execution_count": 18,
      "outputs": []
    },
    {
      "cell_type": "markdown",
      "metadata": {
        "tags": [],
        "id": "FWKBOAB_GQhb"
      },
      "source": [
        "**<font color='teal'> Create a 70/30 train and test split. </font>**"
      ]
    },
    {
      "cell_type": "code",
      "metadata": {
        "id": "MCZd-EsWGQhb"
      },
      "source": [
        "# Import the train_test_split function from the sklearn.model_selection utility.  \r\n",
        "from sklearn.model_selection import train_test_split\r\n",
        "\r\n",
        "# Get the 1-dimensional flattened array of our response variable y by calling the ravel() function on y\r\n",
        "y = y.ravel()\r\n",
        "\r\n",
        "# Call the train_test_split() function with the first two parameters set to X_scaled and y \r\n",
        "# Declare four variables, X_train, X_test, y_train and y_test separated by commas \r\n",
        "X_train, X_test, y_train, y_test = train_test_split(X_scaled, y, test_size=0.30, random_state=42)"
      ],
      "execution_count": 19,
      "outputs": []
    },
    {
      "cell_type": "markdown",
      "metadata": {
        "tags": [],
        "id": "2dGrt0g4GQhb"
      },
      "source": [
        "**<font color='teal'> Using Sklearn, standarize the magnitude of the features by scaling the values. </font>**"
      ]
    },
    {
      "cell_type": "markdown",
      "metadata": {
        "id": "Us5ieSauGQhb"
      },
      "source": [
        "Note: Don't forget to fit() your scaler on X_train and then use that fitted scaler to transform() X_test. This is to avoid data leakage while you standardize your data."
      ]
    },
    {
      "cell_type": "code",
      "metadata": {
        "id": "YuZC-caaGQhb"
      },
      "source": [
        ""
      ],
      "execution_count": 16,
      "outputs": []
    },
    {
      "cell_type": "markdown",
      "metadata": {
        "tags": [],
        "id": "BP8KxSjvGQhb"
      },
      "source": [
        "#### Using a range of neighbor values of 1-10, apply the KNearestNeighbor classifier to classify the the data."
      ]
    },
    {
      "cell_type": "code",
      "metadata": {
        "id": "4zsne6ReGQhc"
      },
      "source": [
        "from sklearn.neighbors import KNeighborsClassifier\n",
        "\n",
        "\n",
        "test_scores = []\n",
        "train_scores = []\n",
        "\n",
        "for i in range(1,10):\n",
        "\n",
        "    knn = KNeighborsClassifier(i)\n",
        "    knn.fit(X_train,y_train)\n",
        "    \n",
        "    train_scores.append(knn.score(X_train,y_train))\n",
        "    test_scores.append(knn.score(X_test,y_test))"
      ],
      "execution_count": 20,
      "outputs": []
    },
    {
      "cell_type": "markdown",
      "metadata": {
        "tags": [],
        "id": "Q5gGWXhPGQhc"
      },
      "source": [
        "**<font color='teal'> Print the train and test scores for each iteration.</font>**"
      ]
    },
    {
      "cell_type": "code",
      "metadata": {
        "id": "Dve7Z2cwGQhc"
      },
      "source": [
        ""
      ],
      "execution_count": null,
      "outputs": []
    },
    {
      "cell_type": "markdown",
      "metadata": {
        "tags": [],
        "id": "KdEPzuiqGQhc"
      },
      "source": [
        "**<font color='teal'> Identify the number of neighbors that resulted in the max score in the training dataset. </font>**"
      ]
    },
    {
      "cell_type": "code",
      "metadata": {
        "id": "KAI8b328GQhd"
      },
      "source": [
        ""
      ],
      "execution_count": null,
      "outputs": []
    },
    {
      "cell_type": "markdown",
      "metadata": {
        "tags": [],
        "id": "8AzBjYmaGQhd"
      },
      "source": [
        "**<font color='teal'> Identify the number of neighbors that resulted in the max score in the testing dataset. </font>**"
      ]
    },
    {
      "cell_type": "code",
      "metadata": {
        "id": "uJkndOpLGQhd"
      },
      "source": [
        ""
      ],
      "execution_count": null,
      "outputs": []
    },
    {
      "cell_type": "markdown",
      "metadata": {
        "tags": [],
        "id": "0zwSacXVGQhe"
      },
      "source": [
        "Plot the train and test model performance by number of neighbors."
      ]
    },
    {
      "cell_type": "code",
      "metadata": {
        "id": "2lsZC_eIGQhe"
      },
      "source": [
        "plt.figure(figsize=(12,5))\n",
        "p = sns.lineplot(range(1,10),train_scores,marker='*',label='Train Score')\n",
        "p = sns.lineplot(range(1,10),test_scores,marker='o',label='Test Score')"
      ],
      "execution_count": null,
      "outputs": []
    },
    {
      "cell_type": "markdown",
      "metadata": {
        "tags": [],
        "id": "zO_MN2ADGQhe"
      },
      "source": [
        "**<font color='teal'> Fit and score the best number of neighbors based on the plot. </font>**"
      ]
    },
    {
      "cell_type": "code",
      "metadata": {
        "id": "gLSnXzEAGQhe"
      },
      "source": [
        ""
      ],
      "execution_count": null,
      "outputs": []
    },
    {
      "cell_type": "code",
      "metadata": {
        "id": "Fn1NO6A_GQhe"
      },
      "source": [
        "from sklearn.metrics import confusion_matrix\n",
        "y_pred = knn.predict(X_test)\n",
        "pl = confusion_matrix(y_test,y_pred)"
      ],
      "execution_count": null,
      "outputs": []
    },
    {
      "cell_type": "markdown",
      "metadata": {
        "tags": [],
        "id": "fKc54YOYGQhe"
      },
      "source": [
        "**<font color='teal'> Plot the confusion matrix for the model fit above. </font>**"
      ]
    },
    {
      "cell_type": "code",
      "metadata": {
        "id": "PX1JbcxtGQhf"
      },
      "source": [
        ""
      ],
      "execution_count": null,
      "outputs": []
    },
    {
      "cell_type": "markdown",
      "metadata": {
        "tags": [],
        "id": "IGQlGtcPGQhf"
      },
      "source": [
        "**<font color='teal'> Print the classification report </font>**"
      ]
    },
    {
      "cell_type": "code",
      "metadata": {
        "id": "35Z2PNtbGQhf"
      },
      "source": [
        ""
      ],
      "execution_count": null,
      "outputs": []
    },
    {
      "cell_type": "markdown",
      "metadata": {
        "tags": [],
        "id": "oYsUyui6GQhf"
      },
      "source": [
        "#### In the case of the K nearest neighbors algorithm, the K parameter is one of the most important parameters affecting the model performance.  The model performance isn't horrible, but what if we didn't consider a wide enough range of values in our neighbors for the KNN? An alternative to fitting a loop of models is to use a grid search to identify the proper number. It is common practice to use a grid search method for all adjustable parameters in any type of machine learning algorithm. First, you define the grid — aka the range of values — to test in the parameter being optimized, and then compare the model outcome performance based on the different values in the grid."
      ]
    },
    {
      "cell_type": "markdown",
      "metadata": {
        "tags": [],
        "id": "TFRU9ZOzGQhf"
      },
      "source": [
        "#### Run the code in the next cell to see how to implement the grid search method for identifying the best parameter value for the n_neighbors parameter. Notice the param_grid is the range value to test and we apply cross validation with five folds to score each possible value of n_neighbors."
      ]
    },
    {
      "cell_type": "code",
      "metadata": {
        "id": "wExJeBskGQhg"
      },
      "source": [
        "from sklearn.model_selection import GridSearchCV\n",
        "param_grid = {'n_neighbors':np.arange(1,50)}\n",
        "knn = KNeighborsClassifier()\n",
        "knn_cv= GridSearchCV(knn,param_grid,cv=5)\n",
        "knn_cv.fit(X,y)"
      ],
      "execution_count": null,
      "outputs": []
    },
    {
      "cell_type": "markdown",
      "metadata": {
        "tags": [],
        "id": "eA1A7olgGQhg"
      },
      "source": [
        "#### Print the best score and best parameter for n_neighbors."
      ]
    },
    {
      "cell_type": "code",
      "metadata": {
        "id": "uqrZbmjFGQhg"
      },
      "source": [
        "print(\"Best Score:\" + str(knn_cv.best_score_))\n",
        "print(\"Best Parameters: \" + str(knn_cv.best_params_))"
      ],
      "execution_count": null,
      "outputs": []
    },
    {
      "cell_type": "markdown",
      "metadata": {
        "id": "-4O0pRg_GQhg"
      },
      "source": [
        "Here you can see that the ideal number of n_neighbors for this model is 14 based on the grid search performed. "
      ]
    },
    {
      "cell_type": "markdown",
      "metadata": {
        "tags": [],
        "id": "GVd2Y17IGQhh"
      },
      "source": [
        "**<font color='teal'> Now, following the KNN example, apply this grid search method to find the optimal number of estimators in a Randon Forest model.\n",
        "</font>**"
      ]
    },
    {
      "cell_type": "code",
      "metadata": {
        "id": "KSkmmUtYGQhh"
      },
      "source": [
        ""
      ],
      "execution_count": null,
      "outputs": []
    },
    {
      "cell_type": "code",
      "metadata": {
        "tags": [],
        "id": "E9gS2nVIGQhh"
      },
      "source": [
        ""
      ],
      "execution_count": null,
      "outputs": []
    }
  ]
}